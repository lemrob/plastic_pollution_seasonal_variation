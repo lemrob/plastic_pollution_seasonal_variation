{
 "cells": [
  {
   "cell_type": "markdown",
   "metadata": {},
   "source": [
    "### ***EDA***\n",
    "- Exploring the data to gain a better understanding of it, before model building"
   ]
  },
  {
   "cell_type": "markdown",
   "metadata": {},
   "source": [
    "#### ***Exploration Ideas***\n",
    "- Summary stats\n",
    "- Basic time series graph to see variation in precipitation over time\n",
    "- Visualisation of seasonality\n",
    "- Monthly / Seasonal Averages between decades -> is there a change in precip seasonality and overall levels over long periods of time?\n",
    "- Correlations between last year overall precipitation and plastic pollution recorded"
   ]
  },
  {
   "cell_type": "markdown",
   "metadata": {},
   "source": [
    "#### ***Packages***\n"
   ]
  },
  {
   "cell_type": "code",
   "execution_count": 40,
   "metadata": {},
   "outputs": [],
   "source": [
    "import pickle as pickle\n",
    "import pandas as pd\n",
    "import numpy as np\n",
    "import matplotlib.pyplot as plt\n",
    "from plotly.subplots import make_subplots\n",
    "import plotly.express as px\n",
    "import seaborn as sns\n",
    "from scipy.stats import spearmanr\n",
    "from scipy.stats import pearsonr\n",
    "import sklearn\n",
    "from sklearn.preprocessing import MinMaxScaler\n",
    "from sklearn.linear_model import LinearRegression"
   ]
  },
  {
   "cell_type": "markdown",
   "metadata": {},
   "source": [
    "##### ***Grabbing Dataframes***"
   ]
  },
  {
   "cell_type": "code",
   "execution_count": 41,
   "metadata": {},
   "outputs": [],
   "source": [
    "ts_df = pd.read_pickle(r'C:\\\\Users\\\\liamr\\\\OneDrive\\\\Documents\\\\Playground\\\\river_plastic_data\\\\data\\\\ts_df.pkl')\n",
    "plastic_pollution = pd.read_pickle(r'C:\\\\Users\\\\liamr\\\\OneDrive\\\\Documents\\\\Playground\\\\river_plastic_data\\\\data\\\\SE_top_10_pts.pkl')"
   ]
  },
  {
   "cell_type": "code",
   "execution_count": 42,
   "metadata": {},
   "outputs": [
    {
     "data": {
      "text/html": [
       "<div>\n",
       "<style scoped>\n",
       "    .dataframe tbody tr th:only-of-type {\n",
       "        vertical-align: middle;\n",
       "    }\n",
       "\n",
       "    .dataframe tbody tr th {\n",
       "        vertical-align: top;\n",
       "    }\n",
       "\n",
       "    .dataframe thead th {\n",
       "        text-align: right;\n",
       "    }\n",
       "</style>\n",
       "<table border=\"1\" class=\"dataframe\">\n",
       "  <thead>\n",
       "    <tr style=\"text-align: right;\">\n",
       "      <th></th>\n",
       "      <th>river_ID</th>\n",
       "      <th>country</th>\n",
       "      <th>lon</th>\n",
       "      <th>lat</th>\n",
       "      <th>year</th>\n",
       "      <th>month</th>\n",
       "      <th>avg_precipitation</th>\n",
       "    </tr>\n",
       "  </thead>\n",
       "  <tbody>\n",
       "    <tr>\n",
       "      <th>0</th>\n",
       "      <td>1</td>\n",
       "      <td>Malaysia</td>\n",
       "      <td>101.38875</td>\n",
       "      <td>3.00292</td>\n",
       "      <td>1960</td>\n",
       "      <td>1</td>\n",
       "      <td>263.625</td>\n",
       "    </tr>\n",
       "    <tr>\n",
       "      <th>1</th>\n",
       "      <td>2</td>\n",
       "      <td>Vietnam</td>\n",
       "      <td>106.74708</td>\n",
       "      <td>10.49875</td>\n",
       "      <td>1960</td>\n",
       "      <td>1</td>\n",
       "      <td>4.725</td>\n",
       "    </tr>\n",
       "    <tr>\n",
       "      <th>2</th>\n",
       "      <td>3</td>\n",
       "      <td>Thailand</td>\n",
       "      <td>100.55795</td>\n",
       "      <td>13.61573</td>\n",
       "      <td>1960</td>\n",
       "      <td>1</td>\n",
       "      <td>4.750</td>\n",
       "    </tr>\n",
       "    <tr>\n",
       "      <th>3</th>\n",
       "      <td>4</td>\n",
       "      <td>Myanmar</td>\n",
       "      <td>96.19083</td>\n",
       "      <td>16.77458</td>\n",
       "      <td>1960</td>\n",
       "      <td>1</td>\n",
       "      <td>7.125</td>\n",
       "    </tr>\n",
       "    <tr>\n",
       "      <th>4</th>\n",
       "      <td>5</td>\n",
       "      <td>Malaysia</td>\n",
       "      <td>110.39875</td>\n",
       "      <td>1.55542</td>\n",
       "      <td>1960</td>\n",
       "      <td>1</td>\n",
       "      <td>717.250</td>\n",
       "    </tr>\n",
       "    <tr>\n",
       "      <th>...</th>\n",
       "      <td>...</td>\n",
       "      <td>...</td>\n",
       "      <td>...</td>\n",
       "      <td>...</td>\n",
       "      <td>...</td>\n",
       "      <td>...</td>\n",
       "      <td>...</td>\n",
       "    </tr>\n",
       "    <tr>\n",
       "      <th>7195</th>\n",
       "      <td>6</td>\n",
       "      <td>Malaysia</td>\n",
       "      <td>101.41125</td>\n",
       "      <td>2.80458</td>\n",
       "      <td>2019</td>\n",
       "      <td>12</td>\n",
       "      <td>30.000</td>\n",
       "    </tr>\n",
       "    <tr>\n",
       "      <th>7196</th>\n",
       "      <td>7</td>\n",
       "      <td>Myanmar</td>\n",
       "      <td>96.10625</td>\n",
       "      <td>16.84125</td>\n",
       "      <td>2019</td>\n",
       "      <td>12</td>\n",
       "      <td>32.000</td>\n",
       "    </tr>\n",
       "    <tr>\n",
       "      <th>7197</th>\n",
       "      <td>8</td>\n",
       "      <td>Malaysia</td>\n",
       "      <td>102.24458</td>\n",
       "      <td>6.18208</td>\n",
       "      <td>2019</td>\n",
       "      <td>12</td>\n",
       "      <td>29.500</td>\n",
       "    </tr>\n",
       "    <tr>\n",
       "      <th>7198</th>\n",
       "      <td>9</td>\n",
       "      <td>Malaysia</td>\n",
       "      <td>103.34292</td>\n",
       "      <td>3.80625</td>\n",
       "      <td>2019</td>\n",
       "      <td>12</td>\n",
       "      <td>30.000</td>\n",
       "    </tr>\n",
       "    <tr>\n",
       "      <th>7199</th>\n",
       "      <td>10</td>\n",
       "      <td>Malaysia</td>\n",
       "      <td>103.79750</td>\n",
       "      <td>1.49625</td>\n",
       "      <td>2019</td>\n",
       "      <td>12</td>\n",
       "      <td>30.000</td>\n",
       "    </tr>\n",
       "  </tbody>\n",
       "</table>\n",
       "<p>7200 rows × 7 columns</p>\n",
       "</div>"
      ],
      "text/plain": [
       "      river_ID   country        lon       lat  year  month  avg_precipitation\n",
       "0            1  Malaysia  101.38875   3.00292  1960      1            263.625\n",
       "1            2   Vietnam  106.74708  10.49875  1960      1              4.725\n",
       "2            3  Thailand  100.55795  13.61573  1960      1              4.750\n",
       "3            4   Myanmar   96.19083  16.77458  1960      1              7.125\n",
       "4            5  Malaysia  110.39875   1.55542  1960      1            717.250\n",
       "...        ...       ...        ...       ...   ...    ...                ...\n",
       "7195         6  Malaysia  101.41125   2.80458  2019     12             30.000\n",
       "7196         7   Myanmar   96.10625  16.84125  2019     12             32.000\n",
       "7197         8  Malaysia  102.24458   6.18208  2019     12             29.500\n",
       "7198         9  Malaysia  103.34292   3.80625  2019     12             30.000\n",
       "7199        10  Malaysia  103.79750   1.49625  2019     12             30.000\n",
       "\n",
       "[7200 rows x 7 columns]"
      ]
     },
     "execution_count": 42,
     "metadata": {},
     "output_type": "execute_result"
    }
   ],
   "source": [
    "ts_df"
   ]
  },
  {
   "cell_type": "code",
   "execution_count": 43,
   "metadata": {},
   "outputs": [
    {
     "data": {
      "text/html": [
       "<div>\n",
       "<style scoped>\n",
       "    .dataframe tbody tr th:only-of-type {\n",
       "        vertical-align: middle;\n",
       "    }\n",
       "\n",
       "    .dataframe tbody tr th {\n",
       "        vertical-align: top;\n",
       "    }\n",
       "\n",
       "    .dataframe thead th {\n",
       "        text-align: right;\n",
       "    }\n",
       "</style>\n",
       "<table border=\"1\" class=\"dataframe\">\n",
       "  <thead>\n",
       "    <tr style=\"text-align: right;\">\n",
       "      <th></th>\n",
       "      <th>river_ID</th>\n",
       "      <th>pollution_volume</th>\n",
       "      <th>geometry</th>\n",
       "      <th>lat</th>\n",
       "      <th>lon</th>\n",
       "      <th>rank</th>\n",
       "      <th>country</th>\n",
       "    </tr>\n",
       "  </thead>\n",
       "  <tbody>\n",
       "    <tr>\n",
       "      <th>1</th>\n",
       "      <td>1</td>\n",
       "      <td>12816.00</td>\n",
       "      <td>POINT (101.38875 3.00292)</td>\n",
       "      <td>3.00292</td>\n",
       "      <td>101.38875</td>\n",
       "      <td>1</td>\n",
       "      <td>Malaysia</td>\n",
       "    </tr>\n",
       "    <tr>\n",
       "      <th>2</th>\n",
       "      <td>2</td>\n",
       "      <td>4127.44</td>\n",
       "      <td>POINT (106.74708 10.49875)</td>\n",
       "      <td>10.49875</td>\n",
       "      <td>106.74708</td>\n",
       "      <td>2</td>\n",
       "      <td>Vietnam</td>\n",
       "    </tr>\n",
       "    <tr>\n",
       "      <th>3</th>\n",
       "      <td>3</td>\n",
       "      <td>4027.33</td>\n",
       "      <td>POINT (100.55795 13.61573)</td>\n",
       "      <td>13.61573</td>\n",
       "      <td>100.55795</td>\n",
       "      <td>3</td>\n",
       "      <td>Thailand</td>\n",
       "    </tr>\n",
       "    <tr>\n",
       "      <th>4</th>\n",
       "      <td>4</td>\n",
       "      <td>3615.39</td>\n",
       "      <td>POINT (96.19083 16.77458)</td>\n",
       "      <td>16.77458</td>\n",
       "      <td>96.19083</td>\n",
       "      <td>4</td>\n",
       "      <td>Myanmar</td>\n",
       "    </tr>\n",
       "    <tr>\n",
       "      <th>5</th>\n",
       "      <td>5</td>\n",
       "      <td>3274.70</td>\n",
       "      <td>POINT (110.39875 1.55542)</td>\n",
       "      <td>1.55542</td>\n",
       "      <td>110.39875</td>\n",
       "      <td>5</td>\n",
       "      <td>Malaysia</td>\n",
       "    </tr>\n",
       "    <tr>\n",
       "      <th>6</th>\n",
       "      <td>6</td>\n",
       "      <td>2829.21</td>\n",
       "      <td>POINT (101.41125 2.80458)</td>\n",
       "      <td>2.80458</td>\n",
       "      <td>101.41125</td>\n",
       "      <td>6</td>\n",
       "      <td>Malaysia</td>\n",
       "    </tr>\n",
       "    <tr>\n",
       "      <th>7</th>\n",
       "      <td>7</td>\n",
       "      <td>2488.62</td>\n",
       "      <td>POINT (96.10625 16.84125)</td>\n",
       "      <td>16.84125</td>\n",
       "      <td>96.10625</td>\n",
       "      <td>7</td>\n",
       "      <td>Myanmar</td>\n",
       "    </tr>\n",
       "    <tr>\n",
       "      <th>8</th>\n",
       "      <td>8</td>\n",
       "      <td>2466.92</td>\n",
       "      <td>POINT (102.24458 6.18208)</td>\n",
       "      <td>6.18208</td>\n",
       "      <td>102.24458</td>\n",
       "      <td>8</td>\n",
       "      <td>Malaysia</td>\n",
       "    </tr>\n",
       "    <tr>\n",
       "      <th>9</th>\n",
       "      <td>9</td>\n",
       "      <td>2186.88</td>\n",
       "      <td>POINT (103.34292 3.80625)</td>\n",
       "      <td>3.80625</td>\n",
       "      <td>103.34292</td>\n",
       "      <td>9</td>\n",
       "      <td>Malaysia</td>\n",
       "    </tr>\n",
       "    <tr>\n",
       "      <th>10</th>\n",
       "      <td>10</td>\n",
       "      <td>2143.48</td>\n",
       "      <td>POINT (103.7975 1.49625)</td>\n",
       "      <td>1.49625</td>\n",
       "      <td>103.79750</td>\n",
       "      <td>10</td>\n",
       "      <td>Malaysia</td>\n",
       "    </tr>\n",
       "  </tbody>\n",
       "</table>\n",
       "</div>"
      ],
      "text/plain": [
       "    river_ID  pollution_volume                    geometry       lat  \\\n",
       "1          1          12816.00   POINT (101.38875 3.00292)   3.00292   \n",
       "2          2           4127.44  POINT (106.74708 10.49875)  10.49875   \n",
       "3          3           4027.33  POINT (100.55795 13.61573)  13.61573   \n",
       "4          4           3615.39   POINT (96.19083 16.77458)  16.77458   \n",
       "5          5           3274.70   POINT (110.39875 1.55542)   1.55542   \n",
       "6          6           2829.21   POINT (101.41125 2.80458)   2.80458   \n",
       "7          7           2488.62   POINT (96.10625 16.84125)  16.84125   \n",
       "8          8           2466.92   POINT (102.24458 6.18208)   6.18208   \n",
       "9          9           2186.88   POINT (103.34292 3.80625)   3.80625   \n",
       "10        10           2143.48    POINT (103.7975 1.49625)   1.49625   \n",
       "\n",
       "          lon  rank   country  \n",
       "1   101.38875     1  Malaysia  \n",
       "2   106.74708     2   Vietnam  \n",
       "3   100.55795     3  Thailand  \n",
       "4    96.19083     4   Myanmar  \n",
       "5   110.39875     5  Malaysia  \n",
       "6   101.41125     6  Malaysia  \n",
       "7    96.10625     7   Myanmar  \n",
       "8   102.24458     8  Malaysia  \n",
       "9   103.34292     9  Malaysia  \n",
       "10  103.79750    10  Malaysia  "
      ]
     },
     "execution_count": 43,
     "metadata": {},
     "output_type": "execute_result"
    }
   ],
   "source": [
    "plastic_pollution.index = np.arange(1, len(plastic_pollution) + 1)\n",
    "plastic_pollution['river_ID'] = plastic_pollution.index\n",
    "\n",
    "# shift column 'Name' to first position \n",
    "first_column = plastic_pollution.pop('river_ID') \n",
    "  \n",
    "# insert column\n",
    "plastic_pollution.insert(0, 'river_ID', first_column) \n",
    "\n",
    "plastic_pollution"
   ]
  },
  {
   "cell_type": "markdown",
   "metadata": {},
   "source": [
    "##### ***Cleaning***"
   ]
  },
  {
   "cell_type": "markdown",
   "metadata": {},
   "source": [
    "- Removing the first decade due to inconsistency, likely to do with how WorldClim collect / processed the data"
   ]
  },
  {
   "cell_type": "code",
   "execution_count": 44,
   "metadata": {},
   "outputs": [],
   "source": [
    "ts_df = ts_df[ts_df['year'] >= 1970]"
   ]
  },
  {
   "cell_type": "code",
   "execution_count": 45,
   "metadata": {},
   "outputs": [
    {
     "name": "stderr",
     "output_type": "stream",
     "text": [
      "C:\\Users\\liamr\\AppData\\Local\\Temp\\ipykernel_19220\\3090071547.py:2: SettingWithCopyWarning:\n",
      "\n",
      "\n",
      "A value is trying to be set on a copy of a slice from a DataFrame.\n",
      "Try using .loc[row_indexer,col_indexer] = value instead\n",
      "\n",
      "See the caveats in the documentation: https://pandas.pydata.org/pandas-docs/stable/user_guide/indexing.html#returning-a-view-versus-a-copy\n",
      "\n"
     ]
    }
   ],
   "source": [
    "# modify the dataframe by adding a column for month-year\n",
    "ts_df['year_month'] = ts_df['year'].astype(str) + '-' + ts_df['month'].astype(str)"
   ]
  },
  {
   "cell_type": "code",
   "execution_count": 46,
   "metadata": {},
   "outputs": [
    {
     "name": "stdout",
     "output_type": "stream",
     "text": [
      "<class 'pandas.core.frame.DataFrame'>\n",
      "Index: 6000 entries, 1200 to 7199\n",
      "Data columns (total 8 columns):\n",
      " #   Column             Non-Null Count  Dtype  \n",
      "---  ------             --------------  -----  \n",
      " 0   river_ID           6000 non-null   int64  \n",
      " 1   country            6000 non-null   object \n",
      " 2   lon                6000 non-null   float64\n",
      " 3   lat                6000 non-null   float64\n",
      " 4   year               6000 non-null   int64  \n",
      " 5   month              6000 non-null   int64  \n",
      " 6   avg_precipitation  6000 non-null   float32\n",
      " 7   year_month         6000 non-null   object \n",
      "dtypes: float32(1), float64(2), int64(3), object(2)\n",
      "memory usage: 398.4+ KB\n",
      "<class 'pandas.core.frame.DataFrame'>\n",
      "Index: 6000 entries, 1200 to 7199\n",
      "Data columns (total 8 columns):\n",
      " #   Column             Non-Null Count  Dtype  \n",
      "---  ------             --------------  -----  \n",
      " 0   river_ID           6000 non-null   int64  \n",
      " 1   country            6000 non-null   object \n",
      " 2   lon                6000 non-null   float64\n",
      " 3   lat                6000 non-null   float64\n",
      " 4   year               6000 non-null   int64  \n",
      " 5   month              6000 non-null   int64  \n",
      " 6   avg_precipitation  6000 non-null   float32\n",
      " 7   year_month         6000 non-null   object \n",
      "dtypes: float32(1), float64(2), int64(3), object(2)\n",
      "memory usage: 398.4+ KB\n"
     ]
    },
    {
     "name": "stderr",
     "output_type": "stream",
     "text": [
      "C:\\Users\\liamr\\AppData\\Local\\Temp\\ipykernel_19220\\2745951065.py:4: SettingWithCopyWarning:\n",
      "\n",
      "\n",
      "A value is trying to be set on a copy of a slice from a DataFrame.\n",
      "Try using .loc[row_indexer,col_indexer] = value instead\n",
      "\n",
      "See the caveats in the documentation: https://pandas.pydata.org/pandas-docs/stable/user_guide/indexing.html#returning-a-view-versus-a-copy\n",
      "\n"
     ]
    }
   ],
   "source": [
    "ts_df.info()\n",
    "\n",
    "# convert year_month to string format\n",
    "ts_df['year_month'] = ts_df['year_month'].astype(str)\n",
    "\n",
    "\n",
    "ts_df.info()"
   ]
  },
  {
   "cell_type": "code",
   "execution_count": 47,
   "metadata": {},
   "outputs": [
    {
     "data": {
      "text/html": [
       "<div>\n",
       "<style scoped>\n",
       "    .dataframe tbody tr th:only-of-type {\n",
       "        vertical-align: middle;\n",
       "    }\n",
       "\n",
       "    .dataframe tbody tr th {\n",
       "        vertical-align: top;\n",
       "    }\n",
       "\n",
       "    .dataframe thead th {\n",
       "        text-align: right;\n",
       "    }\n",
       "</style>\n",
       "<table border=\"1\" class=\"dataframe\">\n",
       "  <thead>\n",
       "    <tr style=\"text-align: right;\">\n",
       "      <th></th>\n",
       "      <th>river_ID</th>\n",
       "      <th>country</th>\n",
       "      <th>lon</th>\n",
       "      <th>lat</th>\n",
       "      <th>year</th>\n",
       "      <th>month</th>\n",
       "      <th>avg_precipitation</th>\n",
       "      <th>year_month</th>\n",
       "    </tr>\n",
       "  </thead>\n",
       "  <tbody>\n",
       "    <tr>\n",
       "      <th>1200</th>\n",
       "      <td>1</td>\n",
       "      <td>Malaysia</td>\n",
       "      <td>101.38875</td>\n",
       "      <td>3.00292</td>\n",
       "      <td>1970</td>\n",
       "      <td>1</td>\n",
       "      <td>30.50</td>\n",
       "      <td>1970-1</td>\n",
       "    </tr>\n",
       "    <tr>\n",
       "      <th>1201</th>\n",
       "      <td>2</td>\n",
       "      <td>Vietnam</td>\n",
       "      <td>106.74708</td>\n",
       "      <td>10.49875</td>\n",
       "      <td>1970</td>\n",
       "      <td>1</td>\n",
       "      <td>29.25</td>\n",
       "      <td>1970-1</td>\n",
       "    </tr>\n",
       "    <tr>\n",
       "      <th>1202</th>\n",
       "      <td>3</td>\n",
       "      <td>Thailand</td>\n",
       "      <td>100.55795</td>\n",
       "      <td>13.61573</td>\n",
       "      <td>1970</td>\n",
       "      <td>1</td>\n",
       "      <td>32.00</td>\n",
       "      <td>1970-1</td>\n",
       "    </tr>\n",
       "    <tr>\n",
       "      <th>1203</th>\n",
       "      <td>4</td>\n",
       "      <td>Myanmar</td>\n",
       "      <td>96.19083</td>\n",
       "      <td>16.77458</td>\n",
       "      <td>1970</td>\n",
       "      <td>1</td>\n",
       "      <td>32.00</td>\n",
       "      <td>1970-1</td>\n",
       "    </tr>\n",
       "    <tr>\n",
       "      <th>1204</th>\n",
       "      <td>5</td>\n",
       "      <td>Malaysia</td>\n",
       "      <td>110.39875</td>\n",
       "      <td>1.55542</td>\n",
       "      <td>1970</td>\n",
       "      <td>1</td>\n",
       "      <td>29.50</td>\n",
       "      <td>1970-1</td>\n",
       "    </tr>\n",
       "  </tbody>\n",
       "</table>\n",
       "</div>"
      ],
      "text/plain": [
       "      river_ID   country        lon       lat  year  month  avg_precipitation  \\\n",
       "1200         1  Malaysia  101.38875   3.00292  1970      1              30.50   \n",
       "1201         2   Vietnam  106.74708  10.49875  1970      1              29.25   \n",
       "1202         3  Thailand  100.55795  13.61573  1970      1              32.00   \n",
       "1203         4   Myanmar   96.19083  16.77458  1970      1              32.00   \n",
       "1204         5  Malaysia  110.39875   1.55542  1970      1              29.50   \n",
       "\n",
       "     year_month  \n",
       "1200     1970-1  \n",
       "1201     1970-1  \n",
       "1202     1970-1  \n",
       "1203     1970-1  \n",
       "1204     1970-1  "
      ]
     },
     "execution_count": 47,
     "metadata": {},
     "output_type": "execute_result"
    }
   ],
   "source": [
    "ts_df.head()"
   ]
  },
  {
   "cell_type": "code",
   "execution_count": 48,
   "metadata": {},
   "outputs": [
    {
     "data": {
      "text/html": [
       "<div>\n",
       "<style scoped>\n",
       "    .dataframe tbody tr th:only-of-type {\n",
       "        vertical-align: middle;\n",
       "    }\n",
       "\n",
       "    .dataframe tbody tr th {\n",
       "        vertical-align: top;\n",
       "    }\n",
       "\n",
       "    .dataframe thead th {\n",
       "        text-align: right;\n",
       "    }\n",
       "</style>\n",
       "<table border=\"1\" class=\"dataframe\">\n",
       "  <thead>\n",
       "    <tr style=\"text-align: right;\">\n",
       "      <th></th>\n",
       "      <th>river_ID</th>\n",
       "      <th>country</th>\n",
       "      <th>lon</th>\n",
       "      <th>lat</th>\n",
       "      <th>year</th>\n",
       "      <th>month</th>\n",
       "      <th>avg_precipitation</th>\n",
       "      <th>year_month</th>\n",
       "    </tr>\n",
       "  </thead>\n",
       "  <tbody>\n",
       "    <tr>\n",
       "      <th>3610</th>\n",
       "      <td>1</td>\n",
       "      <td>Malaysia</td>\n",
       "      <td>101.38875</td>\n",
       "      <td>3.00292</td>\n",
       "      <td>1990</td>\n",
       "      <td>2</td>\n",
       "      <td>32.00</td>\n",
       "      <td>1990-2</td>\n",
       "    </tr>\n",
       "    <tr>\n",
       "      <th>3611</th>\n",
       "      <td>2</td>\n",
       "      <td>Vietnam</td>\n",
       "      <td>106.74708</td>\n",
       "      <td>10.49875</td>\n",
       "      <td>1990</td>\n",
       "      <td>2</td>\n",
       "      <td>31.25</td>\n",
       "      <td>1990-2</td>\n",
       "    </tr>\n",
       "    <tr>\n",
       "      <th>3612</th>\n",
       "      <td>3</td>\n",
       "      <td>Thailand</td>\n",
       "      <td>100.55795</td>\n",
       "      <td>13.61573</td>\n",
       "      <td>1990</td>\n",
       "      <td>2</td>\n",
       "      <td>33.00</td>\n",
       "      <td>1990-2</td>\n",
       "    </tr>\n",
       "    <tr>\n",
       "      <th>3613</th>\n",
       "      <td>4</td>\n",
       "      <td>Myanmar</td>\n",
       "      <td>96.19083</td>\n",
       "      <td>16.77458</td>\n",
       "      <td>1990</td>\n",
       "      <td>2</td>\n",
       "      <td>34.75</td>\n",
       "      <td>1990-2</td>\n",
       "    </tr>\n",
       "    <tr>\n",
       "      <th>3614</th>\n",
       "      <td>5</td>\n",
       "      <td>Malaysia</td>\n",
       "      <td>110.39875</td>\n",
       "      <td>1.55542</td>\n",
       "      <td>1990</td>\n",
       "      <td>2</td>\n",
       "      <td>30.25</td>\n",
       "      <td>1990-2</td>\n",
       "    </tr>\n",
       "    <tr>\n",
       "      <th>...</th>\n",
       "      <td>...</td>\n",
       "      <td>...</td>\n",
       "      <td>...</td>\n",
       "      <td>...</td>\n",
       "      <td>...</td>\n",
       "      <td>...</td>\n",
       "      <td>...</td>\n",
       "      <td>...</td>\n",
       "    </tr>\n",
       "    <tr>\n",
       "      <th>3715</th>\n",
       "      <td>6</td>\n",
       "      <td>Malaysia</td>\n",
       "      <td>101.41125</td>\n",
       "      <td>2.80458</td>\n",
       "      <td>1990</td>\n",
       "      <td>12</td>\n",
       "      <td>30.00</td>\n",
       "      <td>1990-12</td>\n",
       "    </tr>\n",
       "    <tr>\n",
       "      <th>3716</th>\n",
       "      <td>7</td>\n",
       "      <td>Myanmar</td>\n",
       "      <td>96.10625</td>\n",
       "      <td>16.84125</td>\n",
       "      <td>1990</td>\n",
       "      <td>12</td>\n",
       "      <td>32.50</td>\n",
       "      <td>1990-12</td>\n",
       "    </tr>\n",
       "    <tr>\n",
       "      <th>3717</th>\n",
       "      <td>8</td>\n",
       "      <td>Malaysia</td>\n",
       "      <td>102.24458</td>\n",
       "      <td>6.18208</td>\n",
       "      <td>1990</td>\n",
       "      <td>12</td>\n",
       "      <td>29.00</td>\n",
       "      <td>1990-12</td>\n",
       "    </tr>\n",
       "    <tr>\n",
       "      <th>3718</th>\n",
       "      <td>9</td>\n",
       "      <td>Malaysia</td>\n",
       "      <td>103.34292</td>\n",
       "      <td>3.80625</td>\n",
       "      <td>1990</td>\n",
       "      <td>12</td>\n",
       "      <td>29.00</td>\n",
       "      <td>1990-12</td>\n",
       "    </tr>\n",
       "    <tr>\n",
       "      <th>3719</th>\n",
       "      <td>10</td>\n",
       "      <td>Malaysia</td>\n",
       "      <td>103.79750</td>\n",
       "      <td>1.49625</td>\n",
       "      <td>1990</td>\n",
       "      <td>12</td>\n",
       "      <td>29.75</td>\n",
       "      <td>1990-12</td>\n",
       "    </tr>\n",
       "  </tbody>\n",
       "</table>\n",
       "<p>90 rows × 8 columns</p>\n",
       "</div>"
      ],
      "text/plain": [
       "      river_ID   country        lon       lat  year  month  avg_precipitation  \\\n",
       "3610         1  Malaysia  101.38875   3.00292  1990      2              32.00   \n",
       "3611         2   Vietnam  106.74708  10.49875  1990      2              31.25   \n",
       "3612         3  Thailand  100.55795  13.61573  1990      2              33.00   \n",
       "3613         4   Myanmar   96.19083  16.77458  1990      2              34.75   \n",
       "3614         5  Malaysia  110.39875   1.55542  1990      2              30.25   \n",
       "...        ...       ...        ...       ...   ...    ...                ...   \n",
       "3715         6  Malaysia  101.41125   2.80458  1990     12              30.00   \n",
       "3716         7   Myanmar   96.10625  16.84125  1990     12              32.50   \n",
       "3717         8  Malaysia  102.24458   6.18208  1990     12              29.00   \n",
       "3718         9  Malaysia  103.34292   3.80625  1990     12              29.00   \n",
       "3719        10  Malaysia  103.79750   1.49625  1990     12              29.75   \n",
       "\n",
       "     year_month  \n",
       "3610     1990-2  \n",
       "3611     1990-2  \n",
       "3612     1990-2  \n",
       "3613     1990-2  \n",
       "3614     1990-2  \n",
       "...         ...  \n",
       "3715    1990-12  \n",
       "3716    1990-12  \n",
       "3717    1990-12  \n",
       "3718    1990-12  \n",
       "3719    1990-12  \n",
       "\n",
       "[90 rows x 8 columns]"
      ]
     },
     "execution_count": 48,
     "metadata": {},
     "output_type": "execute_result"
    }
   ],
   "source": [
    "# checking avg_precipitation_all_rivers_per_year is correct\n",
    "ts_df[(ts_df['year_month'] >= '1990-12') & \n",
    "                 (ts_df['year_month'] <= '1991-01')]\n"
   ]
  },
  {
   "cell_type": "code",
   "execution_count": 49,
   "metadata": {},
   "outputs": [
    {
     "name": "stderr",
     "output_type": "stream",
     "text": [
      "C:\\Users\\liamr\\AppData\\Local\\Temp\\ipykernel_19220\\741173273.py:2: SettingWithCopyWarning:\n",
      "\n",
      "\n",
      "A value is trying to be set on a copy of a slice from a DataFrame.\n",
      "Try using .loc[row_indexer,col_indexer] = value instead\n",
      "\n",
      "See the caveats in the documentation: https://pandas.pydata.org/pandas-docs/stable/user_guide/indexing.html#returning-a-view-versus-a-copy\n",
      "\n",
      "C:\\Users\\liamr\\AppData\\Local\\Temp\\ipykernel_19220\\741173273.py:5: SettingWithCopyWarning:\n",
      "\n",
      "\n",
      "A value is trying to be set on a copy of a slice from a DataFrame.\n",
      "Try using .loc[row_indexer,col_indexer] = value instead\n",
      "\n",
      "See the caveats in the documentation: https://pandas.pydata.org/pandas-docs/stable/user_guide/indexing.html#returning-a-view-versus-a-copy\n",
      "\n"
     ]
    }
   ],
   "source": [
    "# modify the dataframe by adding a column which averages the avg_precipitation across months 1-12 for each separate year\n",
    "ts_df['avg_precipitation_all_rivers_per_year'] = ts_df.groupby(['year'])['avg_precipitation'].transform('mean')\n",
    "\n",
    "# modify the dataframe by adding a column which averages the avg_precipitation across rivers 1-10 for each separate month\n",
    "ts_df['avg_precipitation_all_rivers_per_month'] = ts_df.groupby(['year_month'])['avg_precipitation'].transform('mean')\n"
   ]
  },
  {
   "cell_type": "markdown",
   "metadata": {},
   "source": [
    "##### ***Summary Stats***"
   ]
  },
  {
   "cell_type": "code",
   "execution_count": 50,
   "metadata": {},
   "outputs": [
    {
     "name": "stdout",
     "output_type": "stream",
     "text": [
      "          river_ID          lon          lat         year       month  \\\n",
      "count  6000.000000  6000.000000  6000.000000  6000.000000  6000.00000   \n",
      "mean      5.500000   102.218586     7.657781  1994.500000     6.50000   \n",
      "std       2.872521     4.110972     5.903516    14.432072     3.45234   \n",
      "min       1.000000    96.106250     1.496250  1970.000000     1.00000   \n",
      "25%       3.000000   100.557950     2.804580  1982.000000     3.75000   \n",
      "50%       5.500000   101.827915     4.994165  1994.500000     6.50000   \n",
      "75%       8.000000   103.797500    13.615730  2007.000000     9.25000   \n",
      "max      10.000000   110.398750    16.841250  2019.000000    12.00000   \n",
      "\n",
      "       avg_precipitation  avg_precipitation_all_rivers_per_year  \\\n",
      "count        6000.000000                            6000.000000   \n",
      "mean           31.462126                              31.462126   \n",
      "std             1.654789                               0.361322   \n",
      "min            27.000000                              30.727083   \n",
      "25%            30.250000                              31.190277   \n",
      "50%            31.000000                              31.505902   \n",
      "75%            32.000000                              31.677084   \n",
      "max            39.500000                              32.380558   \n",
      "\n",
      "       avg_precipitation_all_rivers_per_month  \n",
      "count                             6000.000000  \n",
      "mean                                31.462126  \n",
      "std                                  1.023045  \n",
      "min                                 28.775000  \n",
      "25%                                 30.825001  \n",
      "50%                                 31.337500  \n",
      "75%                                 32.000000  \n",
      "max                                 34.625000  \n"
     ]
    }
   ],
   "source": [
    "ts_summary_stats = ts_df.describe()\n",
    "print(ts_summary_stats)"
   ]
  },
  {
   "cell_type": "code",
   "execution_count": 51,
   "metadata": {},
   "outputs": [
    {
     "name": "stdout",
     "output_type": "stream",
     "text": [
      "       river_ID  pollution_volume        lat         lon      rank\n",
      "count  10.00000         10.000000  10.000000   10.000000  10.00000\n",
      "mean    5.50000       3997.597000   7.657781  102.218586   5.50000\n",
      "std     3.02765       3182.455284   6.222334    4.332984   3.02765\n",
      "min     1.00000       2143.480000   1.496250   96.106250   1.00000\n",
      "25%     3.25000       2472.345000   2.854165  100.765650   3.25000\n",
      "50%     5.50000       3051.955000   4.994165  101.827915   5.50000\n",
      "75%     7.75000       3924.345000  12.836485  103.683855   7.75000\n",
      "max    10.00000      12816.000000  16.841250  110.398750  10.00000\n"
     ]
    }
   ],
   "source": [
    "pollution_summary_stats = plastic_pollution.describe()\n",
    "print(pollution_summary_stats)"
   ]
  },
  {
   "cell_type": "markdown",
   "metadata": {},
   "source": [
    "#### Precipitation Data\n",
    "- Plot precipitation trends over time\n",
    "    - Is there seasonality?\n",
    "    - Are there long term trends?"
   ]
  },
  {
   "cell_type": "markdown",
   "metadata": {},
   "source": [
    "## ***Trend Analysis***"
   ]
  },
  {
   "cell_type": "markdown",
   "metadata": {},
   "source": [
    "### ***Long-Term Trends | All Rivers | Annual Precipitation***"
   ]
  },
  {
   "cell_type": "code",
   "execution_count": 52,
   "metadata": {},
   "outputs": [
    {
     "data": {
      "image/png": "[encoded data removed]",
      "text/plain": [
       "<Figure size 640x480 with 1 Axes>"
      ]
     },
     "metadata": {},
     "output_type": "display_data"
    }
   ],
   "source": [
    "# using matplotlib\n",
    "plt.plot(ts_df['year'],ts_df['avg_precipitation_all_rivers_per_year'])\n",
    "plt.show()"
   ]
  },
  {
   "cell_type": "code",
   "execution_count": 53,
   "metadata": {},
   "outputs": [
    {
     "data": {
      "application/vnd.plotly.v1+json": {
       "config": {
        "plotlyServerURL": "https://plot.ly"
       },
       "data": [
        {
         "hovertemplate": "year=%{x}<br>avg_precipitation_all_rivers_per_year=%{y}<extra></extra>",
         "legendgroup": "",
         "line": {
          "color": "#636efa",
          "dash": "solid"
         },
         "marker": {
          "symbol": "circle"
         },
         "mode": "lines",
         "name": "",
         "showlegend": false,
         "type": "scattergl",
         "x": {
          "bdata": "sgeyB7IHsgeyB7IHsgeyB7IHsgeyB7IHsgeyB7IHsgeyB7IHsgeyB7IHsgeyB7IHsgeyB7IHsgeyB7IHsgeyB7IHsgeyB7IHsgeyB7IHsgeyB7IHsgeyB7IHsgeyB7IHsgeyB7IHsgeyB7IHsgeyB7IHsgeyB7IHsgeyB7IHsgeyB7IHsgeyB7IHsgeyB7IHsgeyB7IHsgeyB7IHsgeyB7IHsgeyB7IHsgeyB7IHsgeyB7IHsgeyB7IHsgeyB7IHsgeyB7IHsgeyB7IHsgeyB7IHsgeyB7IHsgeyB7IHsgeyB7IHsgeyB7IHsgeyB7IHswezB7MHswezB7MHswezB7MHswezB7MHswezB7MHswezB7MHswezB7MHswezB7MHswezB7MHswezB7MHswezB7MHswezB7MHswezB7MHswezB7MHswezB7MHswezB7MHswezB7MHswezB7MHswezB7MHswezB7MHswezB7MHswezB7MHswezB7MHswezB7MHswezB7MHswezB7MHswezB7MHswezB7MHswezB7MHswezB7MHswezB7MHswezB7MHswezB7MHswezB7MHswezB7MHswezB7MHswezB7MHswezB7MHswezB7MHswezB7MHtAe0B7QHtAe0B7QHtAe0B7QHtAe0B7QHtAe0B7QHtAe0B7QHtAe0B7QHtAe0B7QHtAe0B7QHtAe0B7QHtAe0B7QHtAe0B7QHtAe0B7QHtAe0B7QHtAe0B7QHtAe0B7QHtAe0B7QHtAe0B7QHtAe0B7QHtAe0B7QHtAe0B7QHtAe0B7QHtAe0B7QHtAe0B7QHtAe0B7QHtAe0B7QHtAe0B7QHtAe0B7QHtAe0B7QHtAe0B7QHtAe0B7QHtAe0B7QHtAe0B7QHtAe0B7QHtAe0B7QHtAe0B7QHtAe0B7QHtAe0B7QHtAe0B7QHtAe0B7QHtQe1B7UHtQe1B7UHtQe1B7UHtQe1B7UHtQe1B7UHtQe1B7UHtQe1B7UHtQe1B7UHtQe1B7UHtQe1B7UHtQe1B7UHtQe1B7UHtQe1B7UHtQe1B7UHtQe1B7UHtQe1B7UHtQe1B7UHtQe1B7UHtQe1B7UHtQe1B7UHtQe1B7UHtQe1B7UHtQe1B7UHtQe1B7UHtQe1B7UHtQe1B7UHtQe1B7UHtQe1B7UHtQe1B7UHtQe1B7UHtQe1B7UHtQe1B7UHtQe1B7UHtQe1B7UHtQe1B7UHtQe1B7UHtQe1B7UHtQe1B7UHtQe1B7UHtQe1B7UHtge2B7YHtge2B7YHtge2B7YHtge2B7YHtge2B7YHtge2B7YHtge2B7YHtge2B7YHtge2B7YHtge2B7YHtge2B7YHtge2B7YHtge2B7YHtge2B7YHtge2B7YHtge2B7YHtge2B7YHtge2B7YHtge2B7YHtge2B7YHtge2B7YHtge2B7YHtge2B7YHtge2B7YHtge2B7YHtge2B7YHtge2B7YHtge2B7YHtge2B7YHtge2B7YHtge2B7YHtge2B7YHtge2B7YHtge2B7YHtge2B7YHtge2B7YHtge2B7YHtge2B7YHtge2B7YHtge2B7YHtwe3B7cHtwe3B7cHtwe3B7cHtwe3B7cHtwe3B7cHtwe3B7cHtwe3B7cHtwe3B7cHtwe3B7cHtwe3B7cHtwe3B7cHtwe3B7cHtwe3B7cHtwe3B7cHtwe3B7cHtwe3B7cHtwe3B7cHtwe3B7cHtwe3B7cHtwe3B7cHtwe3B7cHtwe3B7cHtwe3B7cHtwe3B7cHtwe3B7cHtwe3B7cHtwe3B7cHtwe3B7cHtwe3B7cHtwe3B7cHtwe3B7cHtwe3B7cHtwe3B7cHtwe3B7cHtwe3B7cHtwe3B7cHtwe3B7cHtwe3B7cHtwe3B7cHtwe3B7cHuAe4B7gHuAe4B7gHuAe4B7gHuAe4B7gHuAe4B7gHuAe4B7gHuAe4B7gHuAe4B7gHuAe4B7gHuAe4B7gHuAe4B7gHuAe4B7gHuAe4B7gHuAe4B7gHuAe4B7gHuAe4B7gHuAe4B7gHuAe4B7gHuAe4B7gHuAe4B7gHuAe4B7gHuAe4B7gHuAe4B7gHuAe4B7gHuAe4B7gHuAe4B7gHuAe4B7gHuAe4B7gHuAe4B7gHuAe4B7gHuAe4B7gHuAe4B7gHuAe4B7gHuAe4B7gHuAe4B7gHuAe4B7gHuAe4B7gHuAe4B7gHuAe4B7gHuAe4B7gHuQe5B7kHuQe5B7kHuQe5B7kHuQe5B7kHuQe5B7kHuQe5B7kHuQe5B7kHuQe5B7kHuQe5B7kHuQe5B7kHuQe5B7kHuQe5B7kHuQe5B7kHuQe5B7kHuQe5B7kHuQe5B7kHuQe5B7kHuQe5B7kHuQe5B7kHuQe5B7kHuQe5B7kHuQe5B7kHuQe5B7kHuQe5B7kHuQe5B7kHuQe5B7kHuQe5B7kHuQe5B7kHuQe5B7kHuQe5B7kHuQe5B7kHuQe5B7kHuQe5B7kHuQe5B7kHuQe5B7kHuQe5B7kHuQe5B7kHuQe5B7kHuQe5B7kHuQe5B7kHuge6B7oHuge6B7oHuge6B7oHuge6B7oHuge6B7oHuge6B7oHuge6B7oHuge6B7oHuge6B7oHuge6B7oHuge6B7oHuge6B7oHuge6B7oHuge6B7oHuge6B7oHuge6B7oHuge6B7oHuge6B7oHuge6B7oHuge6B7oHuge6B7oHuge6B7oHuge6B7oHuge6B7oHuge6B7oHuge6B7oHuge6B7oHuge6B7oHuge6B7oHuge6B7oHuge6B7oHuge6B7oHuge6B7oHuge6B7oHuge6B7oHuge6B7oHuge6B7oHuge6B7oHuge6B7oHuge6B7oHuwe7B7sHuwe7B7sHuwe7B7sHuwe7B7sHuwe7B7sHuwe7B7sHuwe7B7sHuwe7B7sHuwe7B7sHuwe7B7sHuwe7B7sHuwe7B7sHuwe7B7sHuwe7B7sHuwe7B7sHuwe7B7sHuwe7B7sHuwe7B7sHuwe7B7sHuwe7B7sHuwe7B7sHuwe7B7sHuwe7B7sHuwe7B7sHuwe7B7sHuwe7B7sHuwe7B7sHuwe7B7sHuwe7B7sHuwe7B7sHuwe7B7sHuwe7B7sHuwe7B7sHuwe7B7sHuwe7B7sHuwe7B7sHuwe7B7sHuwe7B7sHuwe7B7sHuwe7B7sHvAe8B7wHvAe8B7wHvAe8B7wHvAe8B7wHvAe8B7wHvAe8B7wHvAe8B7wHvAe8B7wHvAe8B7wHvAe8B7wHvAe8B7wHvAe8B7wHvAe8B7wHvAe8B7wHvAe8B7wHvAe8B7wHvAe8B7wHvAe8B7wHvAe8B7wHvAe8B7wHvAe8B7wHvAe8B7wHvAe8B7wHvAe8B7wHvAe8B7wHvAe8B7wHvAe8B7wHvAe8B7wHvAe8B7wHvAe8B7wHvAe8B7wHvAe8B7wHvAe8B7wHvAe8B7wHvAe8B7wHvAe8B7wHvAe8B7wHvAe8B7wHvAe8B7wHvAe8B7wHvQe9B70HvQe9B70HvQe9B70HvQe9B70HvQe9B70HvQe9B70HvQe9B70HvQe9B70HvQe9B70HvQe9B70HvQe9B70HvQe9B70HvQe9B70HvQe9B70HvQe9B70HvQe9B70HvQe9B70HvQe9B70HvQe9B70HvQe9B70HvQe9B70HvQe9B70HvQe9B70HvQe9B70HvQe9B70HvQe9B70HvQe9B70HvQe9B70HvQe9B70HvQe9B70HvQe9B70HvQe9B70HvQe9B70HvQe9B70HvQe9B70HvQe9B70HvQe9B70HvQe9B70HvQe9B70HvQe9B70Hvge+B74Hvge+B74Hvge+B74Hvge+B74Hvge+B74Hvge+B74Hvge+B74Hvge+B74Hvge+B74Hvge+B74Hvge+B74Hvge+B74Hvge+B74Hvge+B74Hvge+B74Hvge+B74Hvge+B74Hvge+B74Hvge+B74Hvge+B74Hvge+B74Hvge+B74Hvge+B74Hvge+B74Hvge+B74Hvge+B74Hvge+B74Hvge+B74Hvge+B74Hvge+B74Hvge+B74Hvge+B74Hvge+B74Hvge+B74Hvge+B74Hvge+B74Hvge+B74Hvge+B74Hvge+B74Hvge+B74Hvwe/B78Hvwe/B78Hvwe/B78Hvwe/B78Hvwe/B78Hvwe/B78Hvwe/B78Hvwe/B78Hvwe/B78Hvwe/B78Hvwe/B78Hvwe/B78Hvwe/B78Hvwe/B78Hvwe/B78Hvwe/B78Hvwe/B78Hvwe/B78Hvwe/B78Hvwe/B78Hvwe/B78Hvwe/B78Hvwe/B78Hvwe/B78Hvwe/B78Hvwe/B78Hvwe/B78Hvwe/B78Hvwe/B78Hvwe/B78Hvwe/B78Hvwe/B78Hvwe/B78Hvwe/B78Hvwe/B78Hvwe/B78Hvwe/B78Hvwe/B78Hvwe/B78Hvwe/B78HwAfAB8AHwAfAB8AHwAfAB8AHwAfAB8AHwAfAB8AHwAfAB8AHwAfAB8AHwAfAB8AHwAfAB8AHwAfAB8AHwAfAB8AHwAfAB8AHwAfAB8AHwAfAB8AHwAfAB8AHwAfAB8AHwAfAB8AHwAfAB8AHwAfAB8AHwAfAB8AHwAfAB8AHwAfAB8AHwAfAB8AHwAfAB8AHwAfAB8AHwAfAB8AHwAfAB8AHwAfAB8AHwAfAB8AHwAfAB8AHwAfAB8AHwAfAB8AHwAfAB8AHwAfAB8AHwAfAB8AHwAfAB8AHwAfAB8AHwAfAB8AHwAfAB8AHwAfAB8AHwQfBB8EHwQfBB8EHwQfBB8EHwQfBB8EHwQfBB8EHwQfBB8EHwQfBB8EHwQfBB8EHwQfBB8EHwQfBB8EHwQfBB8EHwQfBB8EHwQfBB8EHwQfBB8EHwQfBB8EHwQfBB8EHwQfBB8EHwQfBB8EHwQfBB8EHwQfBB8EHwQfBB8EHwQfBB8EHwQfBB8EHwQfBB8EHwQfBB8EHwQfBB8EHwQfBB8EHwQfBB8EHwQfBB8EHwQfBB8EHwQfBB8EHwQfBB8EHwQfBB8EHwQfBB8EHwQfBB8EHwQfBB8EHwQfBB8EHwQfBB8EHwQfBB8EHwQfBB8EHwgfCB8IHwgfCB8IHwgfCB8IHwgfCB8IHwgfCB8IHwgfCB8IHwgfCB8IHwgfCB8IHwgfCB8IHwgfCB8IHwgfCB8IHwgfCB8IHwgfCB8IHwgfCB8IHwgfCB8IHwgfCB8IHwgfCB8IHwgfCB8IHwgfCB8IHwgfCB8IHwgfCB8IHwgfCB8IHwgfCB8IHwgfCB8IHwgfCB8IHwgfCB8IHwgfCB8IHwgfCB8IHwgfCB8IHwgfCB8IHwgfCB8IHwgfCB8IHwgfCB8IHwgfCB8IHwgfCB8IHwgfCB8IHwgfCB8IHwgfCB8IHwgfCB8IHwgfCB8IHwwfDB8MHwwfDB8MHwwfDB8MHwwfDB8MHwwfDB8MHwwfDB8MHwwfDB8MHwwfDB8MHwwfDB8MHwwfDB8MHwwfDB8MHwwfDB8MHwwfDB8MHwwfDB8MHwwfDB8MHwwfDB8MHwwfDB8MHwwfDB8MHwwfDB8MHwwfDB8MHwwfDB8MHwwfDB8MHwwfDB8MHwwfDB8MHwwfDB8MHwwfDB8MHwwfDB8MHwwfDB8MHwwfDB8MHwwfDB8MHwwfDB8MHwwfDB8MHwwfDB8MHwwfDB8MHwwfDB8MHwwfDB8MHwwfDB8MHwwfDB8MHwwfDB8MHwwfDB8MHxAfEB8QHxAfEB8QHxAfEB8QHxAfEB8QHxAfEB8QHxAfEB8QHxAfEB8QHxAfEB8QHxAfEB8QHxAfEB8QHxAfEB8QHxAfEB8QHxAfEB8QHxAfEB8QHxAfEB8QHxAfEB8QHxAfEB8QHxAfEB8QHxAfEB8QHxAfEB8QHxAfEB8QHxAfEB8QHxAfEB8QHxAfEB8QHxAfEB8QHxAfEB8QHxAfEB8QHxAfEB8QHxAfEB8QHxAfEB8QHxAfEB8QHxAfEB8QHxAfEB8QHxAfEB8QHxAfEB8QHxAfEB8QHxAfEB8QHxAfEB8QHxAfEB8QHxAfEB8QHxQfFB8UHxQfFB8UHxQfFB8UHxQfFB8UHxQfFB8UHxQfFB8UHxQfFB8UHxQfFB8UHxQfFB8UHxQfFB8UHxQfFB8UHxQfFB8UHxQfFB8UHxQfFB8UHxQfFB8UHxQfFB8UHxQfFB8UHxQfFB8UHxQfFB8UHxQfFB8UHxQfFB8UHxQfFB8UHxQfFB8UHxQfFB8UHxQfFB8UHxQfFB8UHxQfFB8UHxQfFB8UHxQfFB8UHxQfFB8UHxQfFB8UHxQfFB8UHxQfFB8UHxQfFB8UHxQfFB8UHxQfFB8UHxQfFB8UHxQfFB8UHxQfFB8UHxQfFB8UHxgfGB8YHxgfGB8YHxgfGB8YHxgfGB8YHxgfGB8YHxgfGB8YHxgfGB8YHxgfGB8YHxgfGB8YHxgfGB8YHxgfGB8YHxgfGB8YHxgfGB8YHxgfGB8YHxgfGB8YHxgfGB8YHxgfGB8YHxgfGB8YHxgfGB8YHxgfGB8YHxgfGB8YHxgfGB8YHxgfGB8YHxgfGB8YHxgfGB8YHxgfGB8YHxgfGB8YHxgfGB8YHxgfGB8YHxgfGB8YHxgfGB8YHxgfGB8YHxgfGB8YHxgfGB8YHxgfGB8YHxgfGB8YHxgfGB8YHxgfGB8YHxgfGB8YHxgfGB8YHxwfHB8cHxwfHB8cHxwfHB8cHxwfHB8cHxwfHB8cHxwfHB8cHxwfHB8cHxwfHB8cHxwfHB8cHxwfHB8cHxwfHB8cHxwfHB8cHxwfHB8cHxwfHB8cHxwfHB8cHxwfHB8cHxwfHB8cHxwfHB8cHxwfHB8cHxwfHB8cHxwfHB8cHxwfHB8cHxwfHB8cHxwfHB8cHxwfHB8cHxwfHB8cHxwfHB8cHxwfHB8cHxwfHB8cHxwfHB8cHxwfHB8cHxwfHB8cHxwfHB8cHxwfHB8cHxwfHB8cHxwfHB8cHxwfHB8cHxwfHB8cHxwfHB8cHxwfHB8cHyAfIB8gHyAfIB8gHyAfIB8gHyAfIB8gHyAfIB8gHyAfIB8gHyAfIB8gHyAfIB8gHyAfIB8gHyAfIB8gHyAfIB8gHyAfIB8gHyAfIB8gHyAfIB8gHyAfIB8gHyAfIB8gHyAfIB8gHyAfIB8gHyAfIB8gHyAfIB8gHyAfIB8gHyAfIB8gHyAfIB8gHyAfIB8gHyAfIB8gHyAfIB8gHyAfIB8gHyAfIB8gHyAfIB8gHyAfIB8gHyAfIB8gHyAfIB8gHyAfIB8gHyAfIB8gHyAfIB8gHyAfIB8gHyAfIB8gHyAfIB8gHyAfIB8gHyAfIB8gHyQfJB8kHyQfJB8kHyQfJB8kHyQfJB8kHyQfJB8kHyQfJB8kHyQfJB8kHyQfJB8kHyQfJB8kHyQfJB8kHyQfJB8kHyQfJB8kHyQfJB8kHyQfJB8kHyQfJB8kHyQfJB8kHyQfJB8kHyQfJB8kHyQfJB8kHyQfJB8kHyQfJB8kHyQfJB8kHyQfJB8kHyQfJB8kHyQfJB8kHyQfJB8kHyQfJB8kHyQfJB8kHyQfJB8kHyQfJB8kHyQfJB8kHyQfJB8kHyQfJB8kHyQfJB8kHyQfJB8kHyQfJB8kHyQfJB8kHyQfJB8kHyQfJB8kHyQfJB8kHygfKB8oHygfKB8oHygfKB8oHygfKB8oHygfKB8oHygfKB8oHygfKB8oHygfKB8oHygfKB8oHygfKB8oHygfKB8oHygfKB8oHygfKB8oHygfKB8oHygfKB8oHygfKB8oHygfKB8oHygfKB8oHygfKB8oHygfKB8oHygfKB8oHygfKB8oHygfKB8oHygfKB8oHygfKB8oHygfKB8oHygfKB8oHygfKB8oHygfKB8oHygfKB8oHygfKB8oHygfKB8oHygfKB8oHygfKB8oHygfKB8oHygfKB8oHygfKB8oHygfKB8oHygfKB8oHygfKB8oHywfLB8sHywfLB8sHywfLB8sHywfLB8sHywfLB8sHywfLB8sHywfLB8sHywfLB8sHywfLB8sHywfLB8sHywfLB8sHywfLB8sHywfLB8sHywfLB8sHywfLB8sHywfLB8sHywfLB8sHywfLB8sHywfLB8sHywfLB8sHywfLB8sHywfLB8sHywfLB8sHywfLB8sHywfLB8sHywfLB8sHywfLB8sHywfLB8sHywfLB8sHywfLB8sHywfLB8sHywfLB8sHywfLB8sHywfLB8sHywfLB8sHywfLB8sHywfLB8sHywfLB8sHywfLB8sHywfLB8sHzAfMB8wHzAfMB8wHzAfMB8wHzAfMB8wHzAfMB8wHzAfMB8wHzAfMB8wHzAfMB8wHzAfMB8wHzAfMB8wHzAfMB8wHzAfMB8wHzAfMB8wHzAfMB8wHzAfMB8wHzAfMB8wHzAfMB8wHzAfMB8wHzAfMB8wHzAfMB8wHzAfMB8wHzAfMB8wHzAfMB8wHzAfMB8wHzAfMB8wHzAfMB8wHzAfMB8wHzAfMB8wHzAfMB8wHzAfMB8wHzAfMB8wHzAfMB8wHzAfMB8wHzAfMB8wHzAfMB8wHzAfMB8wHzAfMB8wHzAfMB8wHzAfMB8wHzAfMB8wHzQfNB80HzQfNB80HzQfNB80HzQfNB80HzQfNB80HzQfNB80HzQfNB80HzQfNB80HzQfNB80HzQfNB80HzQfNB80HzQfNB80HzQfNB80HzQfNB80HzQfNB80HzQfNB80HzQfNB80HzQfNB80HzQfNB80HzQfNB80HzQfNB80HzQfNB80HzQfNB80HzQfNB80HzQfNB80HzQfNB80HzQfNB80HzQfNB80HzQfNB80HzQfNB80HzQfNB80HzQfNB80HzQfNB80HzQfNB80HzQfNB80HzQfNB80HzQfNB80HzQfNB80HzQfNB80HzQfNB80HzgfOB84HzgfOB84HzgfOB84HzgfOB84HzgfOB84HzgfOB84HzgfOB84HzgfOB84HzgfOB84HzgfOB84HzgfOB84HzgfOB84HzgfOB84HzgfOB84HzgfOB84HzgfOB84HzgfOB84HzgfOB84HzgfOB84HzgfOB84HzgfOB84HzgfOB84HzgfOB84HzgfOB84HzgfOB84HzgfOB84HzgfOB84HzgfOB84HzgfOB84HzgfOB84HzgfOB84HzgfOB84HzgfOB84HzgfOB84HzgfOB84HzgfOB84HzgfOB84HzgfOB84HzgfOB84HzgfOB84HzwfPB88HzwfPB88HzwfPB88HzwfPB88HzwfPB88HzwfPB88HzwfPB88HzwfPB88HzwfPB88HzwfPB88HzwfPB88HzwfPB88HzwfPB88HzwfPB88HzwfPB88HzwfPB88HzwfPB88HzwfPB88HzwfPB88HzwfPB88HzwfPB88HzwfPB88HzwfPB88HzwfPB88HzwfPB88HzwfPB88HzwfPB88HzwfPB88HzwfPB88HzwfPB88HzwfPB88HzwfPB88HzwfPB88HzwfPB88HzwfPB88HzwfPB88HzwfPB88HzwfPB88HzwfPB88HzwfPB88H0AfQB9AH0AfQB9AH0AfQB9AH0AfQB9AH0AfQB9AH0AfQB9AH0AfQB9AH0AfQB9AH0AfQB9AH0AfQB9AH0AfQB9AH0AfQB9AH0AfQB9AH0AfQB9AH0AfQB9AH0AfQB9AH0AfQB9AH0AfQB9AH0AfQB9AH0AfQB9AH0AfQB9AH0AfQB9AH0AfQB9AH0AfQB9AH0AfQB9AH0AfQB9AH0AfQB9AH0AfQB9AH0AfQB9AH0AfQB9AH0AfQB9AH0AfQB9AH0AfQB9AH0AfQB9AH0AfQB9AH0AfQB9AH0AfQB9AH0AfQB9AH0AfQB9AH0AfQB9AH0QfRB9EH0QfRB9EH0QfRB9EH0QfRB9EH0QfRB9EH0QfRB9EH0QfRB9EH0QfRB9EH0QfRB9EH0QfRB9EH0QfRB9EH0QfRB9EH0QfRB9EH0QfRB9EH0QfRB9EH0QfRB9EH0QfRB9EH0QfRB9EH0QfRB9EH0QfRB9EH0QfRB9EH0QfRB9EH0QfRB9EH0QfRB9EH0QfRB9EH0QfRB9EH0QfRB9EH0QfRB9EH0QfRB9EH0QfRB9EH0QfRB9EH0QfRB9EH0QfRB9EH0QfRB9EH0QfRB9EH0QfRB9EH0QfRB9EH0QfRB9EH0QfRB9EH0QfRB9EH0gfSB9IH0gfSB9IH0gfSB9IH0gfSB9IH0gfSB9IH0gfSB9IH0gfSB9IH0gfSB9IH0gfSB9IH0gfSB9IH0gfSB9IH0gfSB9IH0gfSB9IH0gfSB9IH0gfSB9IH0gfSB9IH0gfSB9IH0gfSB9IH0gfSB9IH0gfSB9IH0gfSB9IH0gfSB9IH0gfSB9IH0gfSB9IH0gfSB9IH0gfSB9IH0gfSB9IH0gfSB9IH0gfSB9IH0gfSB9IH0gfSB9IH0gfSB9IH0gfSB9IH0gfSB9IH0gfSB9IH0gfSB9IH0gfSB9IH0gfSB9IH0gfSB9IH0gfSB9IH0wfTB9MH0wfTB9MH0wfTB9MH0wfTB9MH0wfTB9MH0wfTB9MH0wfTB9MH0wfTB9MH0wfTB9MH0wfTB9MH0wfTB9MH0wfTB9MH0wfTB9MH0wfTB9MH0wfTB9MH0wfTB9MH0wfTB9MH0wfTB9MH0wfTB9MH0wfTB9MH0wfTB9MH0wfTB9MH0wfTB9MH0wfTB9MH0wfTB9MH0wfTB9MH0wfTB9MH0wfTB9MH0wfTB9MH0wfTB9MH0wfTB9MH0wfTB9MH0wfTB9MH0wfTB9MH0wfTB9MH0wfTB9MH0wfTB9MH0wfTB9MH0wfTB9MH0wfTB9MH1AfUB9QH1AfUB9QH1AfUB9QH1AfUB9QH1AfUB9QH1AfUB9QH1AfUB9QH1AfUB9QH1AfUB9QH1AfUB9QH1AfUB9QH1AfUB9QH1AfUB9QH1AfUB9QH1AfUB9QH1AfUB9QH1AfUB9QH1AfUB9QH1AfUB9QH1AfUB9QH1AfUB9QH1AfUB9QH1AfUB9QH1AfUB9QH1AfUB9QH1AfUB9QH1AfUB9QH1AfUB9QH1AfUB9QH1AfUB9QH1AfUB9QH1AfUB9QH1AfUB9QH1AfUB9QH1AfUB9QH1AfUB9QH1AfUB9QH1AfUB9QH1AfUB9QH1AfUB9QH1QfVB9UH1QfVB9UH1QfVB9UH1QfVB9UH1QfVB9UH1QfVB9UH1QfVB9UH1QfVB9UH1QfVB9UH1QfVB9UH1QfVB9UH1QfVB9UH1QfVB9UH1QfVB9UH1QfVB9UH1QfVB9UH1QfVB9UH1QfVB9UH1QfVB9UH1QfVB9UH1QfVB9UH1QfVB9UH1QfVB9UH1QfVB9UH1QfVB9UH1QfVB9UH1QfVB9UH1QfVB9UH1QfVB9UH1QfVB9UH1QfVB9UH1QfVB9UH1QfVB9UH1QfVB9UH1QfVB9UH1QfVB9UH1QfVB9UH1QfVB9UH1QfVB9UH1QfVB9UH1gfWB9YH1gfWB9YH1gfWB9YH1gfWB9YH1gfWB9YH1gfWB9YH1gfWB9YH1gfWB9YH1gfWB9YH1gfWB9YH1gfWB9YH1gfWB9YH1gfWB9YH1gfWB9YH1gfWB9YH1gfWB9YH1gfWB9YH1gfWB9YH1gfWB9YH1gfWB9YH1gfWB9YH1gfWB9YH1gfWB9YH1gfWB9YH1gfWB9YH1gfWB9YH1gfWB9YH1gfWB9YH1gfWB9YH1gfWB9YH1gfWB9YH1gfWB9YH1gfWB9YH1gfWB9YH1gfWB9YH1gfWB9YH1gfWB9YH1gfWB9YH1gfWB9YH1gfWB9YH1wfXB9cH1wfXB9cH1wfXB9cH1wfXB9cH1wfXB9cH1wfXB9cH1wfXB9cH1wfXB9cH1wfXB9cH1wfXB9cH1wfXB9cH1wfXB9cH1wfXB9cH1wfXB9cH1wfXB9cH1wfXB9cH1wfXB9cH1wfXB9cH1wfXB9cH1wfXB9cH1wfXB9cH1wfXB9cH1wfXB9cH1wfXB9cH1wfXB9cH1wfXB9cH1wfXB9cH1wfXB9cH1wfXB9cH1wfXB9cH1wfXB9cH1wfXB9cH1wfXB9cH1wfXB9cH1wfXB9cH1wfXB9cH1wfXB9cH1wfXB9cH1wfXB9cH1wfXB9cH2AfYB9gH2AfYB9gH2AfYB9gH2AfYB9gH2AfYB9gH2AfYB9gH2AfYB9gH2AfYB9gH2AfYB9gH2AfYB9gH2AfYB9gH2AfYB9gH2AfYB9gH2AfYB9gH2AfYB9gH2AfYB9gH2AfYB9gH2AfYB9gH2AfYB9gH2AfYB9gH2AfYB9gH2AfYB9gH2AfYB9gH2AfYB9gH2AfYB9gH2AfYB9gH2AfYB9gH2AfYB9gH2AfYB9gH2AfYB9gH2AfYB9gH2AfYB9gH2AfYB9gH2AfYB9gH2AfYB9gH2AfYB9gH2AfYB9gH2AfYB9gH2AfYB9gH2AfYB9gH2QfZB9kH2QfZB9kH2QfZB9kH2QfZB9kH2QfZB9kH2QfZB9kH2QfZB9kH2QfZB9kH2QfZB9kH2QfZB9kH2QfZB9kH2QfZB9kH2QfZB9kH2QfZB9kH2QfZB9kH2QfZB9kH2QfZB9kH2QfZB9kH2QfZB9kH2QfZB9kH2QfZB9kH2QfZB9kH2QfZB9kH2QfZB9kH2QfZB9kH2QfZB9kH2QfZB9kH2QfZB9kH2QfZB9kH2QfZB9kH2QfZB9kH2QfZB9kH2QfZB9kH2QfZB9kH2QfZB9kH2QfZB9kH2QfZB9kH2QfZB9kH2QfZB9kH2QfZB9kH2gfaB9oH2gfaB9oH2gfaB9oH2gfaB9oH2gfaB9oH2gfaB9oH2gfaB9oH2gfaB9oH2gfaB9oH2gfaB9oH2gfaB9oH2gfaB9oH2gfaB9oH2gfaB9oH2gfaB9oH2gfaB9oH2gfaB9oH2gfaB9oH2gfaB9oH2gfaB9oH2gfaB9oH2gfaB9oH2gfaB9oH2gfaB9oH2gfaB9oH2gfaB9oH2gfaB9oH2gfaB9oH2gfaB9oH2gfaB9oH2gfaB9oH2gfaB9oH2gfaB9oH2gfaB9oH2gfaB9oH2gfaB9oH2gfaB9oH2gfaB9oH2gfaB9oH2gfaB9oH2wfbB9sH2wfbB9sH2wfbB9sH2wfbB9sH2wfbB9sH2wfbB9sH2wfbB9sH2wfbB9sH2wfbB9sH2wfbB9sH2wfbB9sH2wfbB9sH2wfbB9sH2wfbB9sH2wfbB9sH2wfbB9sH2wfbB9sH2wfbB9sH2wfbB9sH2wfbB9sH2wfbB9sH2wfbB9sH2wfbB9sH2wfbB9sH2wfbB9sH2wfbB9sH2wfbB9sH2wfbB9sH2wfbB9sH2wfbB9sH2wfbB9sH2wfbB9sH2wfbB9sH2wfbB9sH2wfbB9sH2wfbB9sH2wfbB9sH2wfbB9sH2wfbB9sH2wfbB9sH3AfcB9wH3AfcB9wH3AfcB9wH3AfcB9wH3AfcB9wH3AfcB9wH3AfcB9wH3AfcB9wH3AfcB9wH3AfcB9wH3AfcB9wH3AfcB9wH3AfcB9wH3AfcB9wH3AfcB9wH3AfcB9wH3AfcB9wH3AfcB9wH3AfcB9wH3AfcB9wH3AfcB9wH3AfcB9wH3AfcB9wH3AfcB9wH3AfcB9wH3AfcB9wH3AfcB9wH3AfcB9wH3AfcB9wH3AfcB9wH3AfcB9wH3AfcB9wH3AfcB9wH3AfcB9wH3AfcB9wH3AfcB9wH3AfcB9wH3AfcB9wH3AfcB9wH3AfcB9wH3QfdB90H3QfdB90H3QfdB90H3QfdB90H3QfdB90H3QfdB90H3QfdB90H3QfdB90H3QfdB90H3QfdB90H3QfdB90H3QfdB90H3QfdB90H3QfdB90H3QfdB90H3QfdB90H3QfdB90H3QfdB90H3QfdB90H3QfdB90H3QfdB90H3QfdB90H3QfdB90H3QfdB90H3QfdB90H3QfdB90H3QfdB90H3QfdB90H3QfdB90H3QfdB90H3QfdB90H3QfdB90H3QfdB90H3QfdB90H3QfdB90H3QfdB90H3QfdB90H3QfdB90H3QfdB90H3QfdB90H3gfeB94H3gfeB94H3gfeB94H3gfeB94H3gfeB94H3gfeB94H3gfeB94H3gfeB94H3gfeB94H3gfeB94H3gfeB94H3gfeB94H3gfeB94H3gfeB94H3gfeB94H3gfeB94H3gfeB94H3gfeB94H3gfeB94H3gfeB94H3gfeB94H3gfeB94H3gfeB94H3gfeB94H3gfeB94H3gfeB94H3gfeB94H3gfeB94H3gfeB94H3gfeB94H3gfeB94H3gfeB94H3gfeB94H3gfeB94H3gfeB94H3gfeB94H3gfeB94H3gfeB94H3gfeB94H3gfeB94H3wffB98H3wffB98H3wffB98H3wffB98H3wffB98H3wffB98H3wffB98H3wffB98H3wffB98H3wffB98H3wffB98H3wffB98H3wffB98H3wffB98H3wffB98H3wffB98H3wffB98H3wffB98H3wffB98H3wffB98H3wffB98H3wffB98H3wffB98H3wffB98H3wffB98H3wffB98H3wffB98H3wffB98H3wffB98H3wffB98H3wffB98H3wffB98H3wffB98H3wffB98H3wffB98H3wffB98H3wffB98H3wffB98H3wffB98H3wffB98H4AfgB+AH4AfgB+AH4AfgB+AH4AfgB+AH4AfgB+AH4AfgB+AH4AfgB+AH4AfgB+AH4AfgB+AH4AfgB+AH4AfgB+AH4AfgB+AH4AfgB+AH4AfgB+AH4AfgB+AH4AfgB+AH4AfgB+AH4AfgB+AH4AfgB+AH4AfgB+AH4AfgB+AH4AfgB+AH4AfgB+AH4AfgB+AH4AfgB+AH4AfgB+AH4AfgB+AH4AfgB+AH4AfgB+AH4AfgB+AH4AfgB+AH4AfgB+AH4AfgB+AH4AfgB+AH4AfgB+AH4AfgB+AH4AfgB+AH4AfgB+AH4AfgB+AH4AfgB+AH4QfhB+EH4QfhB+EH4QfhB+EH4QfhB+EH4QfhB+EH4QfhB+EH4QfhB+EH4QfhB+EH4QfhB+EH4QfhB+EH4QfhB+EH4QfhB+EH4QfhB+EH4QfhB+EH4QfhB+EH4QfhB+EH4QfhB+EH4QfhB+EH4QfhB+EH4QfhB+EH4QfhB+EH4QfhB+EH4QfhB+EH4QfhB+EH4QfhB+EH4QfhB+EH4QfhB+EH4QfhB+EH4QfhB+EH4QfhB+EH4QfhB+EH4QfhB+EH4QfhB+EH4QfhB+EH4QfhB+EH4QfhB+EH4QfhB+EH4QfhB+EH4QfhB+EH4QfhB+EH4gfiB+IH4gfiB+IH4gfiB+IH4gfiB+IH4gfiB+IH4gfiB+IH4gfiB+IH4gfiB+IH4gfiB+IH4gfiB+IH4gfiB+IH4gfiB+IH4gfiB+IH4gfiB+IH4gfiB+IH4gfiB+IH4gfiB+IH4gfiB+IH4gfiB+IH4gfiB+IH4gfiB+IH4gfiB+IH4gfiB+IH4gfiB+IH4gfiB+IH4gfiB+IH4gfiB+IH4gfiB+IH4gfiB+IH4gfiB+IH4gfiB+IH4gfiB+IH4gfiB+IH4gfiB+IH4gfiB+IH4gfiB+IH4gfiB+IH4gfiB+IH4gfiB+IH4gfiB+IH4wfjB+MH4wfjB+MH4wfjB+MH4wfjB+MH4wfjB+MH4wfjB+MH4wfjB+MH4wfjB+MH4wfjB+MH4wfjB+MH4wfjB+MH4wfjB+MH4wfjB+MH4wfjB+MH4wfjB+MH4wfjB+MH4wfjB+MH4wfjB+MH4wfjB+MH4wfjB+MH4wfjB+MH4wfjB+MH4wfjB+MH4wfjB+MH4wfjB+MH4wfjB+MH4wfjB+MH4wfjB+MH4wfjB+MH4wfjB+MH4wfjB+MH4wfjB+MH4wfjB+MH4wfjB+MH4wfjB+MH4wfjB+MH4wfjB+MH4wfjB+MH4wfjB+MH4wfjB+MH",
          "dtype": "i2"
         },
         "xaxis": "x",
         "y": {
          "bdata": "RET4QURE+EFERPhBRET4QURE+EFERPhBRET4QURE+EFERPhBRET4QURE+EFERPhBRET4QURE+EFERPhBRET4QURE+EFERPhBRET4QURE+EFERPhBRET4QURE+EFERPhBRET4QURE+EFERPhBRET4QURE+EFERPhBRET4QURE+EFERPhBRET4QURE+EFERPhBRET4QURE+EFERPhBRET4QURE+EFERPhBRET4QURE+EFERPhBRET4QURE+EFERPhBRET4QURE+EFERPhBRET4QURE+EFERPhBRET4QURE+EFERPhBRET4QURE+EFERPhBRET4QURE+EFERPhBRET4QURE+EFERPhBRET4QURE+EFERPhBRET4QURE+EFERPhBRET4QURE+EFERPhBRET4QURE+EFERPhBRET4QURE+EFERPhBRET4QURE+EFERPhBRET4QURE+EFERPhBRET4QURE+EFERPhBRET4QURE+EFERPhBRET4QURE+EFERPhBRET4QURE+EFERPhBRET4QURE+EFERPhBRET4QURE+EFERPhBRET4QURE+EFERPhBRET4QURE+EFERPhBRET4QURE+EFERPhBRET4QURE+EFERPhBRET4QURE+EFERPhB3t31Qd7d9UHe3fVB3t31Qd7d9UHe3fVB3t31Qd7d9UHe3fVB3t31Qd7d9UHe3fVB3t31Qd7d9UHe3fVB3t31Qd7d9UHe3fVB3t31Qd7d9UHe3fVB3t31Qd7d9UHe3fVB3t31Qd7d9UHe3fVB3t31Qd7d9UHe3fVB3t31Qd7d9UHe3fVB3t31Qd7d9UHe3fVB3t31Qd7d9UHe3fVB3t31Qd7d9UHe3fVB3t31Qd7d9UHe3fVB3t31Qd7d9UHe3fVB3t31Qd7d9UHe3fVB3t31Qd7d9UHe3fVB3t31Qd7d9UHe3fVB3t31Qd7d9UHe3fVB3t31Qd7d9UHe3fVB3t31Qd7d9UHe3fVB3t31Qd7d9UHe3fVB3t31Qd7d9UHe3fVB3t31Qd7d9UHe3fVB3t31Qd7d9UHe3fVB3t31Qd7d9UHe3fVB3t31Qd7d9UHe3fVB3t31Qd7d9UHe3fVB3t31Qd7d9UHe3fVB3t31Qd7d9UHe3fVB3t31Qd7d9UHe3fVB3t31Qd7d9UHe3fVB3t31Qd7d9UHe3fVB3t31Qd7d9UHe3fVB3t31Qd7d9UHe3fVB3t31Qd7d9UHe3fVB3t31Qd7d9UHe3fVB3t31Qd7d9UHe3fVB3t31Qd7d9UHe3fVBpQ/6QaUP+kGlD/pBpQ/6QaUP+kGlD/pBpQ/6QaUP+kGlD/pBpQ/6QaUP+kGlD/pBpQ/6QaUP+kGlD/pBpQ/6QaUP+kGlD/pBpQ/6QaUP+kGlD/pBpQ/6QaUP+kGlD/pBpQ/6QaUP+kGlD/pBpQ/6QaUP+kGlD/pBpQ/6QaUP+kGlD/pBpQ/6QaUP+kGlD/pBpQ/6QaUP+kGlD/pBpQ/6QaUP+kGlD/pBpQ/6QaUP+kGlD/pBpQ/6QaUP+kGlD/pBpQ/6QaUP+kGlD/pBpQ/6QaUP+kGlD/pBpQ/6QaUP+kGlD/pBpQ/6QaUP+kGlD/pBpQ/6QaUP+kGlD/pBpQ/6QaUP+kGlD/pBpQ/6QaUP+kGlD/pBpQ/6QaUP+kGlD/pBpQ/6QaUP+kGlD/pBpQ/6QaUP+kGlD/pBpQ/6QaUP+kGlD/pBpQ/6QaUP+kGlD/pBpQ/6QaUP+kGlD/pBpQ/6QaUP+kGlD/pBpQ/6QaUP+kGlD/pBpQ/6QaUP+kGlD/pBpQ/6QaUP+kGlD/pBpQ/6QaUP+kGlD/pBpQ/6QaUP+kGlD/pBpQ/6QaUP+kGlD/pBpQ/6QaUP+kGlD/pBpQ/6QaUP+kGlD/pBpQ/6QaUP+kGlD/pBpQ/6QaUP+kGlD/pBLlj5QS5Y+UEuWPlBLlj5QS5Y+UEuWPlBLlj5QS5Y+UEuWPlBLlj5QS5Y+UEuWPlBLlj5QS5Y+UEuWPlBLlj5QS5Y+UEuWPlBLlj5QS5Y+UEuWPlBLlj5QS5Y+UEuWPlBLlj5QS5Y+UEuWPlBLlj5QS5Y+UEuWPlBLlj5QS5Y+UEuWPlBLlj5QS5Y+UEuWPlBLlj5QS5Y+UEuWPlBLlj5QS5Y+UEuWPlBLlj5QS5Y+UEuWPlBLlj5QS5Y+UEuWPlBLlj5QS5Y+UEuWPlBLlj5QS5Y+UEuWPlBLlj5QS5Y+UEuWPlBLlj5QS5Y+UEuWPlBLlj5QS5Y+UEuWPlBLlj5QS5Y+UEuWPlBLlj5QS5Y+UEuWPlBLlj5QS5Y+UEuWPlBLlj5QS5Y+UEuWPlBLlj5QS5Y+UEuWPlBLlj5QS5Y+UEuWPlBLlj5QS5Y+UEuWPlBLlj5QS5Y+UEuWPlBLlj5QS5Y+UEuWPlBLlj5QS5Y+UEuWPlBLlj5QS5Y+UEuWPlBLlj5QS5Y+UEuWPlBLlj5QS5Y+UEuWPlBLlj5QS5Y+UEuWPlBLlj5QS5Y+UEuWPlBLlj5QS5Y+UEuWPlBLlj5QS5Y+UEuWPlBLlj5QS5Y+UEuWPlBLlj5QS5Y+UEuWPlB6tP2QerT9kHq0/ZB6tP2QerT9kHq0/ZB6tP2QerT9kHq0/ZB6tP2QerT9kHq0/ZB6tP2QerT9kHq0/ZB6tP2QerT9kHq0/ZB6tP2QerT9kHq0/ZB6tP2QerT9kHq0/ZB6tP2QerT9kHq0/ZB6tP2QerT9kHq0/ZB6tP2QerT9kHq0/ZB6tP2QerT9kHq0/ZB6tP2QerT9kHq0/ZB6tP2QerT9kHq0/ZB6tP2QerT9kHq0/ZB6tP2QerT9kHq0/ZB6tP2QerT9kHq0/ZB6tP2QerT9kHq0/ZB6tP2QerT9kHq0/ZB6tP2QerT9kHq0/ZB6tP2QerT9kHq0/ZB6tP2QerT9kHq0/ZB6tP2QerT9kHq0/ZB6tP2QerT9kHq0/ZB6tP2QerT9kHq0/ZB6tP2QerT9kHq0/ZB6tP2QerT9kHq0/ZB6tP2QerT9kHq0/ZB6tP2QerT9kHq0/ZB6tP2QerT9kHq0/ZB6tP2QerT9kHq0/ZB6tP2QerT9kHq0/ZB6tP2QerT9kHq0/ZB6tP2QerT9kHq0/ZB6tP2QerT9kHq0/ZB6tP2QerT9kHq0/ZB6tP2QerT9kHq0/ZB6tP2QerT9kHq0/ZB6tP2QerT9kHq0/ZB6tP2QerT9kHq0/ZBEdH1QRHR9UER0fVBEdH1QRHR9UER0fVBEdH1QRHR9UER0fVBEdH1QRHR9UER0fVBEdH1QRHR9UER0fVBEdH1QRHR9UER0fVBEdH1QRHR9UER0fVBEdH1QRHR9UER0fVBEdH1QRHR9UER0fVBEdH1QRHR9UER0fVBEdH1QRHR9UER0fVBEdH1QRHR9UER0fVBEdH1QRHR9UER0fVBEdH1QRHR9UER0fVBEdH1QRHR9UER0fVBEdH1QRHR9UER0fVBEdH1QRHR9UER0fVBEdH1QRHR9UER0fVBEdH1QRHR9UER0fVBEdH1QRHR9UER0fVBEdH1QRHR9UER0fVBEdH1QRHR9UER0fVBEdH1QRHR9UER0fVBEdH1QRHR9UER0fVBEdH1QRHR9UER0fVBEdH1QRHR9UER0fVBEdH1QRHR9UER0fVBEdH1QRHR9UER0fVBEdH1QRHR9UER0fVBEdH1QRHR9UER0fVBEdH1QRHR9UER0fVBEdH1QRHR9UER0fVBEdH1QRHR9UER0fVBEdH1QRHR9UER0fVBEdH1QRHR9UER0fVBEdH1QRHR9UER0fVBEdH1QRHR9UER0fVBEdH1QRHR9UER0fVBEdH1QRHR9UER0fVBEdH1QRHR9UER0fVBEVH3QRFR90ERUfdBEVH3QRFR90ERUfdBEVH3QRFR90ERUfdBEVH3QRFR90ERUfdBEVH3QRFR90ERUfdBEVH3QRFR90ERUfdBEVH3QRFR90ERUfdBEVH3QRFR90ERUfdBEVH3QRFR90ERUfdBEVH3QRFR90ERUfdBEVH3QRFR90ERUfdBEVH3QRFR90ERUfdBEVH3QRFR90ERUfdBEVH3QRFR90ERUfdBEVH3QRFR90ERUfdBEVH3QRFR90ERUfdBEVH3QRFR90ERUfdBEVH3QRFR90ERUfdBEVH3QRFR90ERUfdBEVH3QRFR90ERUfdBEVH3QRFR90ERUfdBEVH3QRFR90ERUfdBEVH3QRFR90ERUfdBEVH3QRFR90ERUfdBEVH3QRFR90ERUfdBEVH3QRFR90ERUfdBEVH3QRFR90ERUfdBEVH3QRFR90ERUfdBEVH3QRFR90ERUfdBEVH3QRFR90ERUfdBEVH3QRFR90ERUfdBEVH3QRFR90ERUfdBEVH3QRFR90ERUfdBEVH3QRFR90ERUfdBEVH3QRFR90ERUfdBEVH3QRFR90ERUfdBEVH3QRFR90ERUfdBEVH3QRFR90ERUfdBEVH3QRFR90ERUfdBEVH3QRFR90ERUfdBfRL5QX0S+UF9EvlBfRL5QX0S+UF9EvlBfRL5QX0S+UF9EvlBfRL5QX0S+UF9EvlBfRL5QX0S+UF9EvlBfRL5QX0S+UF9EvlBfRL5QX0S+UF9EvlBfRL5QX0S+UF9EvlBfRL5QX0S+UF9EvlBfRL5QX0S+UF9EvlBfRL5QX0S+UF9EvlBfRL5QX0S+UF9EvlBfRL5QX0S+UF9EvlBfRL5QX0S+UF9EvlBfRL5QX0S+UF9EvlBfRL5QX0S+UF9EvlBfRL5QX0S+UF9EvlBfRL5QX0S+UF9EvlBfRL5QX0S+UF9EvlBfRL5QX0S+UF9EvlBfRL5QX0S+UF9EvlBfRL5QX0S+UF9EvlBfRL5QX0S+UF9EvlBfRL5QX0S+UF9EvlBfRL5QX0S+UF9EvlBfRL5QX0S+UF9EvlBfRL5QX0S+UF9EvlBfRL5QX0S+UF9EvlBfRL5QX0S+UF9EvlBfRL5QX0S+UF9EvlBfRL5QX0S+UF9EvlBfRL5QX0S+UF9EvlBfRL5QX0S+UF9EvlBfRL5QX0S+UF9EvlBfRL5QX0S+UF9EvlBfRL5QX0S+UF9EvlBfRL5QX0S+UF9EvlBfRL5QX0S+UF9EvlBfRL5QX0S+UF9EvlBfRL5QX0S+UF9EvlBRET6QURE+kFERPpBRET6QURE+kFERPpBRET6QURE+kFERPpBRET6QURE+kFERPpBRET6QURE+kFERPpBRET6QURE+kFERPpBRET6QURE+kFERPpBRET6QURE+kFERPpBRET6QURE+kFERPpBRET6QURE+kFERPpBRET6QURE+kFERPpBRET6QURE+kFERPpBRET6QURE+kFERPpBRET6QURE+kFERPpBRET6QURE+kFERPpBRET6QURE+kFERPpBRET6QURE+kFERPpBRET6QURE+kFERPpBRET6QURE+kFERPpBRET6QURE+kFERPpBRET6QURE+kFERPpBRET6QURE+kFERPpBRET6QURE+kFERPpBRET6QURE+kFERPpBRET6QURE+kFERPpBRET6QURE+kFERPpBRET6QURE+kFERPpBRET6QURE+kFERPpBRET6QURE+kFERPpBRET6QURE+kFERPpBRET6QURE+kFERPpBRET6QURE+kFERPpBRET6QURE+kFERPpBRET6QURE+kFERPpBRET6QURE+kFERPpBRET6QURE+kFERPpBRET6QURE+kFERPpBRET6QURE+kFERPpBRET6QURE+kFERPpBRET6QURE+kFERPpBZib9QWYm/UFmJv1BZib9QWYm/UFmJv1BZib9QWYm/UFmJv1BZib9QWYm/UFmJv1BZib9QWYm/UFmJv1BZib9QWYm/UFmJv1BZib9QWYm/UFmJv1BZib9QWYm/UFmJv1BZib9QWYm/UFmJv1BZib9QWYm/UFmJv1BZib9QWYm/UFmJv1BZib9QWYm/UFmJv1BZib9QWYm/UFmJv1BZib9QWYm/UFmJv1BZib9QWYm/UFmJv1BZib9QWYm/UFmJv1BZib9QWYm/UFmJv1BZib9QWYm/UFmJv1BZib9QWYm/UFmJv1BZib9QWYm/UFmJv1BZib9QWYm/UFmJv1BZib9QWYm/UFmJv1BZib9QWYm/UFmJv1BZib9QWYm/UFmJv1BZib9QWYm/UFmJv1BZib9QWYm/UFmJv1BZib9QWYm/UFmJv1BZib9QWYm/UFmJv1BZib9QWYm/UFmJv1BZib9QWYm/UFmJv1BZib9QWYm/UFmJv1BZib9QWYm/UFmJv1BZib9QWYm/UFmJv1BZib9QWYm/UFmJv1BZib9QWYm/UFmJv1BZib9QWYm/UFmJv1BZib9QWYm/UFmJv1BZib9QWYm/UFmJv1BZib9QWYm/UFmJv1BZib9QWYm/UFmJv1BVdX6QVXV+kFV1fpBVdX6QVXV+kFV1fpBVdX6QVXV+kFV1fpBVdX6QVXV+kFV1fpBVdX6QVXV+kFV1fpBVdX6QVXV+kFV1fpBVdX6QVXV+kFV1fpBVdX6QVXV+kFV1fpBVdX6QVXV+kFV1fpBVdX6QVXV+kFV1fpBVdX6QVXV+kFV1fpBVdX6QVXV+kFV1fpBVdX6QVXV+kFV1fpBVdX6QVXV+kFV1fpBVdX6QVXV+kFV1fpBVdX6QVXV+kFV1fpBVdX6QVXV+kFV1fpBVdX6QVXV+kFV1fpBVdX6QVXV+kFV1fpBVdX6QVXV+kFV1fpBVdX6QVXV+kFV1fpBVdX6QVXV+kFV1fpBVdX6QVXV+kFV1fpBVdX6QVXV+kFV1fpBVdX6QVXV+kFV1fpBVdX6QVXV+kFV1fpBVdX6QVXV+kFV1fpBVdX6QVXV+kFV1fpBVdX6QVXV+kFV1fpBVdX6QVXV+kFV1fpBVdX6QVXV+kFV1fpBVdX6QVXV+kFV1fpBVdX6QVXV+kFV1fpBVdX6QVXV+kFV1fpBVdX6QVXV+kFV1fpBVdX6QVXV+kFV1fpBVdX6QVXV+kFV1fpBVdX6QVXV+kFV1fpBVdX6QVXV+kFV1fpBVdX6QVXV+kFV1fpB3p34Qd6d+EHenfhB3p34Qd6d+EHenfhB3p34Qd6d+EHenfhB3p34Qd6d+EHenfhB3p34Qd6d+EHenfhB3p34Qd6d+EHenfhB3p34Qd6d+EHenfhB3p34Qd6d+EHenfhB3p34Qd6d+EHenfhB3p34Qd6d+EHenfhB3p34Qd6d+EHenfhB3p34Qd6d+EHenfhB3p34Qd6d+EHenfhB3p34Qd6d+EHenfhB3p34Qd6d+EHenfhB3p34Qd6d+EHenfhB3p34Qd6d+EHenfhB3p34Qd6d+EHenfhB3p34Qd6d+EHenfhB3p34Qd6d+EHenfhB3p34Qd6d+EHenfhB3p34Qd6d+EHenfhB3p34Qd6d+EHenfhB3p34Qd6d+EHenfhB3p34Qd6d+EHenfhB3p34Qd6d+EHenfhB3p34Qd6d+EHenfhB3p34Qd6d+EHenfhB3p34Qd6d+EHenfhB3p34Qd6d+EHenfhB3p34Qd6d+EHenfhB3p34Qd6d+EHenfhB3p34Qd6d+EHenfhB3p34Qd6d+EHenfhB3p34Qd6d+EHenfhB3p34Qd6d+EHenfhB3p34Qd6d+EHenfhB3p34Qd6d+EHenfhB3p34Qd6d+EHenfhB3p34Qd6d+EHenfhBERH6QRER+kEREfpBERH6QRER+kEREfpBERH6QRER+kEREfpBERH6QRER+kEREfpBERH6QRER+kEREfpBERH6QRER+kEREfpBERH6QRER+kEREfpBERH6QRER+kEREfpBERH6QRER+kEREfpBERH6QRER+kEREfpBERH6QRER+kEREfpBERH6QRER+kEREfpBERH6QRER+kEREfpBERH6QRER+kEREfpBERH6QRER+kEREfpBERH6QRER+kEREfpBERH6QRER+kEREfpBERH6QRER+kEREfpBERH6QRER+kEREfpBERH6QRER+kEREfpBERH6QRER+kEREfpBERH6QRER+kEREfpBERH6QRER+kEREfpBERH6QRER+kEREfpBERH6QRER+kEREfpBERH6QRER+kEREfpBERH6QRER+kEREfpBERH6QRER+kEREfpBERH6QRER+kEREfpBERH6QRER+kEREfpBERH6QRER+kEREfpBERH6QRER+kEREfpBERH6QRER+kEREfpBERH6QRER+kEREfpBERH6QRER+kEREfpBERH6QRER+kEREfpBERH6QRER+kEREfpBERH6QRER+kEREfpBERH6QRER+kEREfpBERH6QRER+kEREfpBsEX8QbBF/EGwRfxBsEX8QbBF/EGwRfxBsEX8QbBF/EGwRfxBsEX8QbBF/EGwRfxBsEX8QbBF/EGwRfxBsEX8QbBF/EGwRfxBsEX8QbBF/EGwRfxBsEX8QbBF/EGwRfxBsEX8QbBF/EGwRfxBsEX8QbBF/EGwRfxBsEX8QbBF/EGwRfxBsEX8QbBF/EGwRfxBsEX8QbBF/EGwRfxBsEX8QbBF/EGwRfxBsEX8QbBF/EGwRfxBsEX8QbBF/EGwRfxBsEX8QbBF/EGwRfxBsEX8QbBF/EGwRfxBsEX8QbBF/EGwRfxBsEX8QbBF/EGwRfxBsEX8QbBF/EGwRfxBsEX8QbBF/EGwRfxBsEX8QbBF/EGwRfxBsEX8QbBF/EGwRfxBsEX8QbBF/EGwRfxBsEX8QbBF/EGwRfxBsEX8QbBF/EGwRfxBsEX8QbBF/EGwRfxBsEX8QbBF/EGwRfxBsEX8QbBF/EGwRfxBsEX8QbBF/EGwRfxBsEX8QbBF/EGwRfxBsEX8QbBF/EGwRfxBsEX8QbBF/EGwRfxBsEX8QbBF/EGwRfxBsEX8QbBF/EGwRfxBsEX8QbBF/EGwRfxBsEX8QbBF/EGwRfxBsEX8QbBF/EGwRfxBsEX8QbBF/EGwRfxBIuL2QSLi9kEi4vZBIuL2QSLi9kEi4vZBIuL2QSLi9kEi4vZBIuL2QSLi9kEi4vZBIuL2QSLi9kEi4vZBIuL2QSLi9kEi4vZBIuL2QSLi9kEi4vZBIuL2QSLi9kEi4vZBIuL2QSLi9kEi4vZBIuL2QSLi9kEi4vZBIuL2QSLi9kEi4vZBIuL2QSLi9kEi4vZBIuL2QSLi9kEi4vZBIuL2QSLi9kEi4vZBIuL2QSLi9kEi4vZBIuL2QSLi9kEi4vZBIuL2QSLi9kEi4vZBIuL2QSLi9kEi4vZBIuL2QSLi9kEi4vZBIuL2QSLi9kEi4vZBIuL2QSLi9kEi4vZBIuL2QSLi9kEi4vZBIuL2QSLi9kEi4vZBIuL2QSLi9kEi4vZBIuL2QSLi9kEi4vZBIuL2QSLi9kEi4vZBIuL2QSLi9kEi4vZBIuL2QSLi9kEi4vZBIuL2QSLi9kEi4vZBIuL2QSLi9kEi4vZBIuL2QSLi9kEi4vZBIuL2QSLi9kEi4vZBIuL2QSLi9kEi4vZBIuL2QSLi9kEi4vZBIuL2QSLi9kEi4vZBIuL2QSLi9kEi4vZBIuL2QSLi9kEi4vZBIuL2QSLi9kEi4vZBIuL2QSLi9kEi4vZBIuL2QSLi9kEi4vZBmhn5QZoZ+UGaGflBmhn5QZoZ+UGaGflBmhn5QZoZ+UGaGflBmhn5QZoZ+UGaGflBmhn5QZoZ+UGaGflBmhn5QZoZ+UGaGflBmhn5QZoZ+UGaGflBmhn5QZoZ+UGaGflBmhn5QZoZ+UGaGflBmhn5QZoZ+UGaGflBmhn5QZoZ+UGaGflBmhn5QZoZ+UGaGflBmhn5QZoZ+UGaGflBmhn5QZoZ+UGaGflBmhn5QZoZ+UGaGflBmhn5QZoZ+UGaGflBmhn5QZoZ+UGaGflBmhn5QZoZ+UGaGflBmhn5QZoZ+UGaGflBmhn5QZoZ+UGaGflBmhn5QZoZ+UGaGflBmhn5QZoZ+UGaGflBmhn5QZoZ+UGaGflBmhn5QZoZ+UGaGflBmhn5QZoZ+UGaGflBmhn5QZoZ+UGaGflBmhn5QZoZ+UGaGflBmhn5QZoZ+UGaGflBmhn5QZoZ+UGaGflBmhn5QZoZ+UGaGflBmhn5QZoZ+UGaGflBmhn5QZoZ+UGaGflBmhn5QZoZ+UGaGflBmhn5QZoZ+UGaGflBmhn5QZoZ+UGaGflBmhn5QZoZ+UGaGflBmhn5QZoZ+UGaGflBmhn5QZoZ+UGaGflBmhn5QZoZ+UGaGflBmhn5QZoZ+UGaGflB2cL5QdnC+UHZwvlB2cL5QdnC+UHZwvlB2cL5QdnC+UHZwvlB2cL5QdnC+UHZwvlB2cL5QdnC+UHZwvlB2cL5QdnC+UHZwvlB2cL5QdnC+UHZwvlB2cL5QdnC+UHZwvlB2cL5QdnC+UHZwvlB2cL5QdnC+UHZwvlB2cL5QdnC+UHZwvlB2cL5QdnC+UHZwvlB2cL5QdnC+UHZwvlB2cL5QdnC+UHZwvlB2cL5QdnC+UHZwvlB2cL5QdnC+UHZwvlB2cL5QdnC+UHZwvlB2cL5QdnC+UHZwvlB2cL5QdnC+UHZwvlB2cL5QdnC+UHZwvlB2cL5QdnC+UHZwvlB2cL5QdnC+UHZwvlB2cL5QdnC+UHZwvlB2cL5QdnC+UHZwvlB2cL5QdnC+UHZwvlB2cL5QdnC+UHZwvlB2cL5QdnC+UHZwvlB2cL5QdnC+UHZwvlB2cL5QdnC+UHZwvlB2cL5QdnC+UHZwvlB2cL5QdnC+UHZwvlB2cL5QdnC+UHZwvlB2cL5QdnC+UHZwvlB2cL5QdnC+UHZwvlB2cL5QdnC+UHZwvlB2cL5QdnC+UHZwvlB2cL5QdnC+UHZwvlB2cL5QdnC+UHZwvlB2cL5QdnC+UHZwvlB2cL5QdnC+UHZwvlBq2r9Qatq/UGrav1Bq2r9Qatq/UGrav1Bq2r9Qatq/UGrav1Bq2r9Qatq/UGrav1Bq2r9Qatq/UGrav1Bq2r9Qatq/UGrav1Bq2r9Qatq/UGrav1Bq2r9Qatq/UGrav1Bq2r9Qatq/UGrav1Bq2r9Qatq/UGrav1Bq2r9Qatq/UGrav1Bq2r9Qatq/UGrav1Bq2r9Qatq/UGrav1Bq2r9Qatq/UGrav1Bq2r9Qatq/UGrav1Bq2r9Qatq/UGrav1Bq2r9Qatq/UGrav1Bq2r9Qatq/UGrav1Bq2r9Qatq/UGrav1Bq2r9Qatq/UGrav1Bq2r9Qatq/UGrav1Bq2r9Qatq/UGrav1Bq2r9Qatq/UGrav1Bq2r9Qatq/UGrav1Bq2r9Qatq/UGrav1Bq2r9Qatq/UGrav1Bq2r9Qatq/UGrav1Bq2r9Qatq/UGrav1Bq2r9Qatq/UGrav1Bq2r9Qatq/UGrav1Bq2r9Qatq/UGrav1Bq2r9Qatq/UGrav1Bq2r9Qatq/UGrav1Bq2r9Qatq/UGrav1Bq2r9Qatq/UGrav1Bq2r9Qatq/UGrav1Bq2r9Qatq/UGrav1Bq2r9Qatq/UGrav1Bq2r9Qatq/UGrav1Bq2r9Qatq/UGrav1BiQj7QYkI+0GJCPtBiQj7QYkI+0GJCPtBiQj7QYkI+0GJCPtBiQj7QYkI+0GJCPtBiQj7QYkI+0GJCPtBiQj7QYkI+0GJCPtBiQj7QYkI+0GJCPtBiQj7QYkI+0GJCPtBiQj7QYkI+0GJCPtBiQj7QYkI+0GJCPtBiQj7QYkI+0GJCPtBiQj7QYkI+0GJCPtBiQj7QYkI+0GJCPtBiQj7QYkI+0GJCPtBiQj7QYkI+0GJCPtBiQj7QYkI+0GJCPtBiQj7QYkI+0GJCPtBiQj7QYkI+0GJCPtBiQj7QYkI+0GJCPtBiQj7QYkI+0GJCPtBiQj7QYkI+0GJCPtBiQj7QYkI+0GJCPtBiQj7QYkI+0GJCPtBiQj7QYkI+0GJCPtBiQj7QYkI+0GJCPtBiQj7QYkI+0GJCPtBiQj7QYkI+0GJCPtBiQj7QYkI+0GJCPtBiQj7QYkI+0GJCPtBiQj7QYkI+0GJCPtBiQj7QYkI+0GJCPtBiQj7QYkI+0GJCPtBiQj7QYkI+0GJCPtBiQj7QYkI+0GJCPtBiQj7QYkI+0GJCPtBiQj7QYkI+0GJCPtBiQj7QYkI+0GJCPtBiQj7QYkI+0GJCPtBiQj7QYkI+0GJCPtBiQj7QYkI+0GJCPtBicj6QYnI+kGJyPpBicj6QYnI+kGJyPpBicj6QYnI+kGJyPpBicj6QYnI+kGJyPpBicj6QYnI+kGJyPpBicj6QYnI+kGJyPpBicj6QYnI+kGJyPpBicj6QYnI+kGJyPpBicj6QYnI+kGJyPpBicj6QYnI+kGJyPpBicj6QYnI+kGJyPpBicj6QYnI+kGJyPpBicj6QYnI+kGJyPpBicj6QYnI+kGJyPpBicj6QYnI+kGJyPpBicj6QYnI+kGJyPpBicj6QYnI+kGJyPpBicj6QYnI+kGJyPpBicj6QYnI+kGJyPpBicj6QYnI+kGJyPpBicj6QYnI+kGJyPpBicj6QYnI+kGJyPpBicj6QYnI+kGJyPpBicj6QYnI+kGJyPpBicj6QYnI+kGJyPpBicj6QYnI+kGJyPpBicj6QYnI+kGJyPpBicj6QYnI+kGJyPpBicj6QYnI+kGJyPpBicj6QYnI+kGJyPpBicj6QYnI+kGJyPpBicj6QYnI+kGJyPpBicj6QYnI+kGJyPpBicj6QYnI+kGJyPpBicj6QYnI+kGJyPpBicj6QYnI+kGJyPpBicj6QYnI+kGJyPpBicj6QYnI+kGJyPpBicj6QYnI+kGJyPpBicj6QYnI+kGJyPpBlD7+QZQ+/kGUPv5BlD7+QZQ+/kGUPv5BlD7+QZQ+/kGUPv5BlD7+QZQ+/kGUPv5BlD7+QZQ+/kGUPv5BlD7+QZQ+/kGUPv5BlD7+QZQ+/kGUPv5BlD7+QZQ+/kGUPv5BlD7+QZQ+/kGUPv5BlD7+QZQ+/kGUPv5BlD7+QZQ+/kGUPv5BlD7+QZQ+/kGUPv5BlD7+QZQ+/kGUPv5BlD7+QZQ+/kGUPv5BlD7+QZQ+/kGUPv5BlD7+QZQ+/kGUPv5BlD7+QZQ+/kGUPv5BlD7+QZQ+/kGUPv5BlD7+QZQ+/kGUPv5BlD7+QZQ+/kGUPv5BlD7+QZQ+/kGUPv5BlD7+QZQ+/kGUPv5BlD7+QZQ+/kGUPv5BlD7+QZQ+/kGUPv5BlD7+QZQ+/kGUPv5BlD7+QZQ+/kGUPv5BlD7+QZQ+/kGUPv5BlD7+QZQ+/kGUPv5BlD7+QZQ+/kGUPv5BlD7+QZQ+/kGUPv5BlD7+QZQ+/kGUPv5BlD7+QZQ+/kGUPv5BlD7+QZQ+/kGUPv5BlD7+QZQ+/kGUPv5BlD7+QZQ+/kGUPv5BlD7+QZQ+/kGUPv5BlD7+QZQ+/kGUPv5BlD7+QZQ+/kGUPv5BlD7+QZQ+/kGUPv5BlD7+QZQ+/kGUPv5Bq6r9Qauq/UGrqv1Bq6r9Qauq/UGrqv1Bq6r9Qauq/UGrqv1Bq6r9Qauq/UGrqv1Bq6r9Qauq/UGrqv1Bq6r9Qauq/UGrqv1Bq6r9Qauq/UGrqv1Bq6r9Qauq/UGrqv1Bq6r9Qauq/UGrqv1Bq6r9Qauq/UGrqv1Bq6r9Qauq/UGrqv1Bq6r9Qauq/UGrqv1Bq6r9Qauq/UGrqv1Bq6r9Qauq/UGrqv1Bq6r9Qauq/UGrqv1Bq6r9Qauq/UGrqv1Bq6r9Qauq/UGrqv1Bq6r9Qauq/UGrqv1Bq6r9Qauq/UGrqv1Bq6r9Qauq/UGrqv1Bq6r9Qauq/UGrqv1Bq6r9Qauq/UGrqv1Bq6r9Qauq/UGrqv1Bq6r9Qauq/UGrqv1Bq6r9Qauq/UGrqv1Bq6r9Qauq/UGrqv1Bq6r9Qauq/UGrqv1Bq6r9Qauq/UGrqv1Bq6r9Qauq/UGrqv1Bq6r9Qauq/UGrqv1Bq6r9Qauq/UGrqv1Bq6r9Qauq/UGrqv1Bq6r9Qauq/UGrqv1Bq6r9Qauq/UGrqv1Bq6r9Qauq/UGrqv1Bq6r9Qauq/UGrqv1Bq6r9Qauq/UGrqv1Bq6r9Qauq/UGrqv1Bq6r9Qauq/UGrqv1Bq6r9Qauq/UGrqv1BfdL8QX3S/EF90vxBfdL8QX3S/EF90vxBfdL8QX3S/EF90vxBfdL8QX3S/EF90vxBfdL8QX3S/EF90vxBfdL8QX3S/EF90vxBfdL8QX3S/EF90vxBfdL8QX3S/EF90vxBfdL8QX3S/EF90vxBfdL8QX3S/EF90vxBfdL8QX3S/EF90vxBfdL8QX3S/EF90vxBfdL8QX3S/EF90vxBfdL8QX3S/EF90vxBfdL8QX3S/EF90vxBfdL8QX3S/EF90vxBfdL8QX3S/EF90vxBfdL8QX3S/EF90vxBfdL8QX3S/EF90vxBfdL8QX3S/EF90vxBfdL8QX3S/EF90vxBfdL8QX3S/EF90vxBfdL8QX3S/EF90vxBfdL8QX3S/EF90vxBfdL8QX3S/EF90vxBfdL8QX3S/EF90vxBfdL8QX3S/EF90vxBfdL8QX3S/EF90vxBfdL8QX3S/EF90vxBfdL8QX3S/EF90vxBfdL8QX3S/EF90vxBfdL8QX3S/EF90vxBfdL8QX3S/EF90vxBfdL8QX3S/EF90vxBfdL8QX3S/EF90vxBfdL8QX3S/EF90vxBfdL8QX3S/EF90vxBfdL8QX3S/EF90vxBfdL8QX3S/EF90vxBfdL8QX3S/EF90vxBjiP8QY4j/EGOI/xBjiP8QY4j/EGOI/xBjiP8QY4j/EGOI/xBjiP8QY4j/EGOI/xBjiP8QY4j/EGOI/xBjiP8QY4j/EGOI/xBjiP8QY4j/EGOI/xBjiP8QY4j/EGOI/xBjiP8QY4j/EGOI/xBjiP8QY4j/EGOI/xBjiP8QY4j/EGOI/xBjiP8QY4j/EGOI/xBjiP8QY4j/EGOI/xBjiP8QY4j/EGOI/xBjiP8QY4j/EGOI/xBjiP8QY4j/EGOI/xBjiP8QY4j/EGOI/xBjiP8QY4j/EGOI/xBjiP8QY4j/EGOI/xBjiP8QY4j/EGOI/xBjiP8QY4j/EGOI/xBjiP8QY4j/EGOI/xBjiP8QY4j/EGOI/xBjiP8QY4j/EGOI/xBjiP8QY4j/EGOI/xBjiP8QY4j/EGOI/xBjiP8QY4j/EGOI/xBjiP8QY4j/EGOI/xBjiP8QY4j/EGOI/xBjiP8QY4j/EGOI/xBjiP8QY4j/EGOI/xBjiP8QY4j/EGOI/xBjiP8QY4j/EGOI/xBjiP8QY4j/EGOI/xBjiP8QY4j/EGOI/xBjiP8QY4j/EGOI/xBjiP8QY4j/EGOI/xBjiP8QY4j/EGOI/xBjiP8QY4j/EGOI/xBjiP8QY4j/EGOI/xBOQ78QTkO/EE5DvxBOQ78QTkO/EE5DvxBOQ78QTkO/EE5DvxBOQ78QTkO/EE5DvxBOQ78QTkO/EE5DvxBOQ78QTkO/EE5DvxBOQ78QTkO/EE5DvxBOQ78QTkO/EE5DvxBOQ78QTkO/EE5DvxBOQ78QTkO/EE5DvxBOQ78QTkO/EE5DvxBOQ78QTkO/EE5DvxBOQ78QTkO/EE5DvxBOQ78QTkO/EE5DvxBOQ78QTkO/EE5DvxBOQ78QTkO/EE5DvxBOQ78QTkO/EE5DvxBOQ78QTkO/EE5DvxBOQ78QTkO/EE5DvxBOQ78QTkO/EE5DvxBOQ78QTkO/EE5DvxBOQ78QTkO/EE5DvxBOQ78QTkO/EE5DvxBOQ78QTkO/EE5DvxBOQ78QTkO/EE5DvxBOQ78QTkO/EE5DvxBOQ78QTkO/EE5DvxBOQ78QTkO/EE5DvxBOQ78QTkO/EE5DvxBOQ78QTkO/EE5DvxBOQ78QTkO/EE5DvxBOQ78QTkO/EE5DvxBOQ78QTkO/EE5DvxBOQ78QTkO/EE5DvxBOQ78QTkO/EE5DvxBOQ78QTkO/EE5DvxBOQ78QTkO/EE5DvxBOQ78QTkO/EE5DvxBOQ78QTkO/EE5DvxBOQ78QTkO/EE5DvxBzcz7Qc3M+0HNzPtBzcz7Qc3M+0HNzPtBzcz7Qc3M+0HNzPtBzcz7Qc3M+0HNzPtBzcz7Qc3M+0HNzPtBzcz7Qc3M+0HNzPtBzcz7Qc3M+0HNzPtBzcz7Qc3M+0HNzPtBzcz7Qc3M+0HNzPtBzcz7Qc3M+0HNzPtBzcz7Qc3M+0HNzPtBzcz7Qc3M+0HNzPtBzcz7Qc3M+0HNzPtBzcz7Qc3M+0HNzPtBzcz7Qc3M+0HNzPtBzcz7Qc3M+0HNzPtBzcz7Qc3M+0HNzPtBzcz7Qc3M+0HNzPtBzcz7Qc3M+0HNzPtBzcz7Qc3M+0HNzPtBzcz7Qc3M+0HNzPtBzcz7Qc3M+0HNzPtBzcz7Qc3M+0HNzPtBzcz7Qc3M+0HNzPtBzcz7Qc3M+0HNzPtBzcz7Qc3M+0HNzPtBzcz7Qc3M+0HNzPtBzcz7Qc3M+0HNzPtBzcz7Qc3M+0HNzPtBzcz7Qc3M+0HNzPtBzcz7Qc3M+0HNzPtBzcz7Qc3M+0HNzPtBzcz7Qc3M+0HNzPtBzcz7Qc3M+0HNzPtBzcz7Qc3M+0HNzPtBzcz7Qc3M+0HNzPtBzcz7Qc3M+0HNzPtBzcz7Qc3M+0HNzPtBzcz7Qc3M+0HNzPtBzcz7Qc3M+0HNzPtBvHv6Qbx7+kG8e/pBvHv6Qbx7+kG8e/pBvHv6Qbx7+kG8e/pBvHv6Qbx7+kG8e/pBvHv6Qbx7+kG8e/pBvHv6Qbx7+kG8e/pBvHv6Qbx7+kG8e/pBvHv6Qbx7+kG8e/pBvHv6Qbx7+kG8e/pBvHv6Qbx7+kG8e/pBvHv6Qbx7+kG8e/pBvHv6Qbx7+kG8e/pBvHv6Qbx7+kG8e/pBvHv6Qbx7+kG8e/pBvHv6Qbx7+kG8e/pBvHv6Qbx7+kG8e/pBvHv6Qbx7+kG8e/pBvHv6Qbx7+kG8e/pBvHv6Qbx7+kG8e/pBvHv6Qbx7+kG8e/pBvHv6Qbx7+kG8e/pBvHv6Qbx7+kG8e/pBvHv6Qbx7+kG8e/pBvHv6Qbx7+kG8e/pBvHv6Qbx7+kG8e/pBvHv6Qbx7+kG8e/pBvHv6Qbx7+kG8e/pBvHv6Qbx7+kG8e/pBvHv6Qbx7+kG8e/pBvHv6Qbx7+kG8e/pBvHv6Qbx7+kG8e/pBvHv6Qbx7+kG8e/pBvHv6Qbx7+kG8e/pBvHv6Qbx7+kG8e/pBvHv6Qbx7+kG8e/pBvHv6Qbx7+kG8e/pBvHv6Qbx7+kG8e/pBvHv6Qbx7+kG8e/pBvHv6Qbx7+kG8e/pBvHv6Qbx7+kG8e/pBZub+QWbm/kFm5v5BZub+QWbm/kFm5v5BZub+QWbm/kFm5v5BZub+QWbm/kFm5v5BZub+QWbm/kFm5v5BZub+QWbm/kFm5v5BZub+QWbm/kFm5v5BZub+QWbm/kFm5v5BZub+QWbm/kFm5v5BZub+QWbm/kFm5v5BZub+QWbm/kFm5v5BZub+QWbm/kFm5v5BZub+QWbm/kFm5v5BZub+QWbm/kFm5v5BZub+QWbm/kFm5v5BZub+QWbm/kFm5v5BZub+QWbm/kFm5v5BZub+QWbm/kFm5v5BZub+QWbm/kFm5v5BZub+QWbm/kFm5v5BZub+QWbm/kFm5v5BZub+QWbm/kFm5v5BZub+QWbm/kFm5v5BZub+QWbm/kFm5v5BZub+QWbm/kFm5v5BZub+QWbm/kFm5v5BZub+QWbm/kFm5v5BZub+QWbm/kFm5v5BZub+QWbm/kFm5v5BZub+QWbm/kFm5v5BZub+QWbm/kFm5v5BZub+QWbm/kFm5v5BZub+QWbm/kFm5v5BZub+QWbm/kFm5v5BZub+QWbm/kFm5v5BZub+QWbm/kFm5v5BZub+QWbm/kFm5v5BZub+QWbm/kFm5v5BZub+QWbm/kFm5v5BZub+QWbm/kFm5v5BiQgBQokIAUKJCAFCiQgBQokIAUKJCAFCiQgBQokIAUKJCAFCiQgBQokIAUKJCAFCiQgBQokIAUKJCAFCiQgBQokIAUKJCAFCiQgBQokIAUKJCAFCiQgBQokIAUKJCAFCiQgBQokIAUKJCAFCiQgBQokIAUKJCAFCiQgBQokIAUKJCAFCiQgBQokIAUKJCAFCiQgBQokIAUKJCAFCiQgBQokIAUKJCAFCiQgBQokIAUKJCAFCiQgBQokIAUKJCAFCiQgBQokIAUKJCAFCiQgBQokIAUKJCAFCiQgBQokIAUKJCAFCiQgBQokIAUKJCAFCiQgBQokIAUKJCAFCiQgBQokIAUKJCAFCiQgBQokIAUKJCAFCiQgBQokIAUKJCAFCiQgBQokIAUKJCAFCiQgBQokIAUKJCAFCiQgBQokIAUKJCAFCiQgBQokIAUKJCAFCiQgBQokIAUKJCAFCiQgBQokIAUKJCAFCiQgBQokIAUKJCAFCiQgBQokIAUKJCAFCiQgBQokIAUKJCAFCiQgBQokIAUKJCAFCiQgBQokIAUKJCAFCiQgBQokIAUKJCAFCiQgBQokIAUKJCAFCiQgBQokIAUKJCAFCiQgBQokIAUKJCAFCiQgBQokIAUKJCAFCvHv5Qbx7+UG8e/lBvHv5Qbx7+UG8e/lBvHv5Qbx7+UG8e/lBvHv5Qbx7+UG8e/lBvHv5Qbx7+UG8e/lBvHv5Qbx7+UG8e/lBvHv5Qbx7+UG8e/lBvHv5Qbx7+UG8e/lBvHv5Qbx7+UG8e/lBvHv5Qbx7+UG8e/lBvHv5Qbx7+UG8e/lBvHv5Qbx7+UG8e/lBvHv5Qbx7+UG8e/lBvHv5Qbx7+UG8e/lBvHv5Qbx7+UG8e/lBvHv5Qbx7+UG8e/lBvHv5Qbx7+UG8e/lBvHv5Qbx7+UG8e/lBvHv5Qbx7+UG8e/lBvHv5Qbx7+UG8e/lBvHv5Qbx7+UG8e/lBvHv5Qbx7+UG8e/lBvHv5Qbx7+UG8e/lBvHv5Qbx7+UG8e/lBvHv5Qbx7+UG8e/lBvHv5Qbx7+UG8e/lBvHv5Qbx7+UG8e/lBvHv5Qbx7+UG8e/lBvHv5Qbx7+UG8e/lBvHv5Qbx7+UG8e/lBvHv5Qbx7+UG8e/lBvHv5Qbx7+UG8e/lBvHv5Qbx7+UG8e/lBvHv5Qbx7+UG8e/lBvHv5Qbx7+UG8e/lBvHv5Qbx7+UG8e/lBvHv5Qbx7+UG8e/lBvHv5Qbx7+UG8e/lBvHv5Qbx7+UG8e/lBvHv5Qbx7+UG8e/lB9An8QfQJ/EH0CfxB9An8QfQJ/EH0CfxB9An8QfQJ/EH0CfxB9An8QfQJ/EH0CfxB9An8QfQJ/EH0CfxB9An8QfQJ/EH0CfxB9An8QfQJ/EH0CfxB9An8QfQJ/EH0CfxB9An8QfQJ/EH0CfxB9An8QfQJ/EH0CfxB9An8QfQJ/EH0CfxB9An8QfQJ/EH0CfxB9An8QfQJ/EH0CfxB9An8QfQJ/EH0CfxB9An8QfQJ/EH0CfxB9An8QfQJ/EH0CfxB9An8QfQJ/EH0CfxB9An8QfQJ/EH0CfxB9An8QfQJ/EH0CfxB9An8QfQJ/EH0CfxB9An8QfQJ/EH0CfxB9An8QfQJ/EH0CfxB9An8QfQJ/EH0CfxB9An8QfQJ/EH0CfxB9An8QfQJ/EH0CfxB9An8QfQJ/EH0CfxB9An8QfQJ/EH0CfxB9An8QfQJ/EH0CfxB9An8QfQJ/EH0CfxB9An8QfQJ/EH0CfxB9An8QfQJ/EH0CfxB9An8QfQJ/EH0CfxB9An8QfQJ/EH0CfxB9An8QfQJ/EH0CfxB9An8QfQJ/EH0CfxB9An8QfQJ/EH0CfxB9An8QfQJ/EH0CfxB9An8QfQJ/EH0CfxB9An8QfQJ/EH0CfxB9An8QfQJ/EH0CfxBM7P8QTOz/EEzs/xBM7P8QTOz/EEzs/xBM7P8QTOz/EEzs/xBM7P8QTOz/EEzs/xBM7P8QTOz/EEzs/xBM7P8QTOz/EEzs/xBM7P8QTOz/EEzs/xBM7P8QTOz/EEzs/xBM7P8QTOz/EEzs/xBM7P8QTOz/EEzs/xBM7P8QTOz/EEzs/xBM7P8QTOz/EEzs/xBM7P8QTOz/EEzs/xBM7P8QTOz/EEzs/xBM7P8QTOz/EEzs/xBM7P8QTOz/EEzs/xBM7P8QTOz/EEzs/xBM7P8QTOz/EEzs/xBM7P8QTOz/EEzs/xBM7P8QTOz/EEzs/xBM7P8QTOz/EEzs/xBM7P8QTOz/EEzs/xBM7P8QTOz/EEzs/xBM7P8QTOz/EEzs/xBM7P8QTOz/EEzs/xBM7P8QTOz/EEzs/xBM7P8QTOz/EEzs/xBM7P8QTOz/EEzs/xBM7P8QTOz/EEzs/xBM7P8QTOz/EEzs/xBM7P8QTOz/EEzs/xBM7P8QTOz/EEzs/xBM7P8QTOz/EEzs/xBM7P8QTOz/EEzs/xBM7P8QTOz/EEzs/xBM7P8QTOz/EEzs/xBM7P8QTOz/EEzs/xBM7P8QTOz/EEzs/xBM7P8QTOz/EEzs/xBM7P8QTOz/EEzs/xBRET/QURE/0FERP9BRET/QURE/0FERP9BRET/QURE/0FERP9BRET/QURE/0FERP9BRET/QURE/0FERP9BRET/QURE/0FERP9BRET/QURE/0FERP9BRET/QURE/0FERP9BRET/QURE/0FERP9BRET/QURE/0FERP9BRET/QURE/0FERP9BRET/QURE/0FERP9BRET/QURE/0FERP9BRET/QURE/0FERP9BRET/QURE/0FERP9BRET/QURE/0FERP9BRET/QURE/0FERP9BRET/QURE/0FERP9BRET/QURE/0FERP9BRET/QURE/0FERP9BRET/QURE/0FERP9BRET/QURE/0FERP9BRET/QURE/0FERP9BRET/QURE/0FERP9BRET/QURE/0FERP9BRET/QURE/0FERP9BRET/QURE/0FERP9BRET/QURE/0FERP9BRET/QURE/0FERP9BRET/QURE/0FERP9BRET/QURE/0FERP9BRET/QURE/0FERP9BRET/QURE/0FERP9BRET/QURE/0FERP9BRET/QURE/0FERP9BRET/QURE/0FERP9BRET/QURE/0FERP9BRET/QURE/0FERP9BRET/QURE/0FERP9BRET/QURE/0FERP9BvDv9Qbw7/UG8O/1BvDv9Qbw7/UG8O/1BvDv9Qbw7/UG8O/1BvDv9Qbw7/UG8O/1BvDv9Qbw7/UG8O/1BvDv9Qbw7/UG8O/1BvDv9Qbw7/UG8O/1BvDv9Qbw7/UG8O/1BvDv9Qbw7/UG8O/1BvDv9Qbw7/UG8O/1BvDv9Qbw7/UG8O/1BvDv9Qbw7/UG8O/1BvDv9Qbw7/UG8O/1BvDv9Qbw7/UG8O/1BvDv9Qbw7/UG8O/1BvDv9Qbw7/UG8O/1BvDv9Qbw7/UG8O/1BvDv9Qbw7/UG8O/1BvDv9Qbw7/UG8O/1BvDv9Qbw7/UG8O/1BvDv9Qbw7/UG8O/1BvDv9Qbw7/UG8O/1BvDv9Qbw7/UG8O/1BvDv9Qbw7/UG8O/1BvDv9Qbw7/UG8O/1BvDv9Qbw7/UG8O/1BvDv9Qbw7/UG8O/1BvDv9Qbw7/UG8O/1BvDv9Qbw7/UG8O/1BvDv9Qbw7/UG8O/1BvDv9Qbw7/UG8O/1BvDv9Qbw7/UG8O/1BvDv9Qbw7/UG8O/1BvDv9Qbw7/UG8O/1BvDv9Qbw7/UG8O/1BvDv9Qbw7/UG8O/1BvDv9Qbw7/UG8O/1BvDv9Qbw7/UG8O/1BvDv9Qbw7/UG8O/1BvDv9Qbw7/UG8O/1Bx3H9Qcdx/UHHcf1Bx3H9Qcdx/UHHcf1Bx3H9Qcdx/UHHcf1Bx3H9Qcdx/UHHcf1Bx3H9Qcdx/UHHcf1Bx3H9Qcdx/UHHcf1Bx3H9Qcdx/UHHcf1Bx3H9Qcdx/UHHcf1Bx3H9Qcdx/UHHcf1Bx3H9Qcdx/UHHcf1Bx3H9Qcdx/UHHcf1Bx3H9Qcdx/UHHcf1Bx3H9Qcdx/UHHcf1Bx3H9Qcdx/UHHcf1Bx3H9Qcdx/UHHcf1Bx3H9Qcdx/UHHcf1Bx3H9Qcdx/UHHcf1Bx3H9Qcdx/UHHcf1Bx3H9Qcdx/UHHcf1Bx3H9Qcdx/UHHcf1Bx3H9Qcdx/UHHcf1Bx3H9Qcdx/UHHcf1Bx3H9Qcdx/UHHcf1Bx3H9Qcdx/UHHcf1Bx3H9Qcdx/UHHcf1Bx3H9Qcdx/UHHcf1Bx3H9Qcdx/UHHcf1Bx3H9Qcdx/UHHcf1Bx3H9Qcdx/UHHcf1Bx3H9Qcdx/UHHcf1Bx3H9Qcdx/UHHcf1Bx3H9Qcdx/UHHcf1Bx3H9Qcdx/UHHcf1Bx3H9Qcdx/UHHcf1Bx3H9Qcdx/UHHcf1Bx3H9Qcdx/UHHcf1Bx3H9Qcdx/UHHcf1Bx3H9Qcdx/UHHcf1Bx3H9Qcdx/UHHcf1Bx3H9Qcdx/UHHcf1BMzP9QTMz/UEzM/1BMzP9QTMz/UEzM/1BMzP9QTMz/UEzM/1BMzP9QTMz/UEzM/1BMzP9QTMz/UEzM/1BMzP9QTMz/UEzM/1BMzP9QTMz/UEzM/1BMzP9QTMz/UEzM/1BMzP9QTMz/UEzM/1BMzP9QTMz/UEzM/1BMzP9QTMz/UEzM/1BMzP9QTMz/UEzM/1BMzP9QTMz/UEzM/1BMzP9QTMz/UEzM/1BMzP9QTMz/UEzM/1BMzP9QTMz/UEzM/1BMzP9QTMz/UEzM/1BMzP9QTMz/UEzM/1BMzP9QTMz/UEzM/1BMzP9QTMz/UEzM/1BMzP9QTMz/UEzM/1BMzP9QTMz/UEzM/1BMzP9QTMz/UEzM/1BMzP9QTMz/UEzM/1BMzP9QTMz/UEzM/1BMzP9QTMz/UEzM/1BMzP9QTMz/UEzM/1BMzP9QTMz/UEzM/1BMzP9QTMz/UEzM/1BMzP9QTMz/UEzM/1BMzP9QTMz/UEzM/1BMzP9QTMz/UEzM/1BMzP9QTMz/UEzM/1BMzP9QTMz/UEzM/1BMzP9QTMz/UEzM/1BMzP9QTMz/UEzM/1BMzP9QTMz/UEzM/1BMzP9QTMz/UEzM/1BMzP9QTMz/UEzM/1BMzP9QTMz/UEzM/1BPyn8QT8p/EE/KfxBPyn8QT8p/EE/KfxBPyn8QT8p/EE/KfxBPyn8QT8p/EE/KfxBPyn8QT8p/EE/KfxBPyn8QT8p/EE/KfxBPyn8QT8p/EE/KfxBPyn8QT8p/EE/KfxBPyn8QT8p/EE/KfxBPyn8QT8p/EE/KfxBPyn8QT8p/EE/KfxBPyn8QT8p/EE/KfxBPyn8QT8p/EE/KfxBPyn8QT8p/EE/KfxBPyn8QT8p/EE/KfxBPyn8QT8p/EE/KfxBPyn8QT8p/EE/KfxBPyn8QT8p/EE/KfxBPyn8QT8p/EE/KfxBPyn8QT8p/EE/KfxBPyn8QT8p/EE/KfxBPyn8QT8p/EE/KfxBPyn8QT8p/EE/KfxBPyn8QT8p/EE/KfxBPyn8QT8p/EE/KfxBPyn8QT8p/EE/KfxBPyn8QT8p/EE/KfxBPyn8QT8p/EE/KfxBPyn8QT8p/EE/KfxBPyn8QT8p/EE/KfxBPyn8QT8p/EE/KfxBPyn8QT8p/EE/KfxBPyn8QT8p/EE/KfxBPyn8QT8p/EE/KfxBPyn8QT8p/EE/KfxBPyn8QT8p/EE/KfxBPyn8QT8p/EE/KfxBPyn8QT8p/EE/KfxBPyn8QT8p/EE/KfxBPyn8QT8p/EE/KfxBW/D6QVvw+kFb8PpBW/D6QVvw+kFb8PpBW/D6QVvw+kFb8PpBW/D6QVvw+kFb8PpBW/D6QVvw+kFb8PpBW/D6QVvw+kFb8PpBW/D6QVvw+kFb8PpBW/D6QVvw+kFb8PpBW/D6QVvw+kFb8PpBW/D6QVvw+kFb8PpBW/D6QVvw+kFb8PpBW/D6QVvw+kFb8PpBW/D6QVvw+kFb8PpBW/D6QVvw+kFb8PpBW/D6QVvw+kFb8PpBW/D6QVvw+kFb8PpBW/D6QVvw+kFb8PpBW/D6QVvw+kFb8PpBW/D6QVvw+kFb8PpBW/D6QVvw+kFb8PpBW/D6QVvw+kFb8PpBW/D6QVvw+kFb8PpBW/D6QVvw+kFb8PpBW/D6QVvw+kFb8PpBW/D6QVvw+kFb8PpBW/D6QVvw+kFb8PpBW/D6QVvw+kFb8PpBW/D6QVvw+kFb8PpBW/D6QVvw+kFb8PpBW/D6QVvw+kFb8PpBW/D6QVvw+kFb8PpBW/D6QVvw+kFb8PpBW/D6QVvw+kFb8PpBW/D6QVvw+kFb8PpBW/D6QVvw+kFb8PpBW/D6QVvw+kFb8PpBW/D6QVvw+kFb8PpBW/D6QVvw+kFb8PpBW/D6QVvw+kFb8PpBW/D6QVvw+kFb8PpBx/H4Qcfx+EHH8fhBx/H4Qcfx+EHH8fhBx/H4Qcfx+EHH8fhBx/H4Qcfx+EHH8fhBx/H4Qcfx+EHH8fhBx/H4Qcfx+EHH8fhBx/H4Qcfx+EHH8fhBx/H4Qcfx+EHH8fhBx/H4Qcfx+EHH8fhBx/H4Qcfx+EHH8fhBx/H4Qcfx+EHH8fhBx/H4Qcfx+EHH8fhBx/H4Qcfx+EHH8fhBx/H4Qcfx+EHH8fhBx/H4Qcfx+EHH8fhBx/H4Qcfx+EHH8fhBx/H4Qcfx+EHH8fhBx/H4Qcfx+EHH8fhBx/H4Qcfx+EHH8fhBx/H4Qcfx+EHH8fhBx/H4Qcfx+EHH8fhBx/H4Qcfx+EHH8fhBx/H4Qcfx+EHH8fhBx/H4Qcfx+EHH8fhBx/H4Qcfx+EHH8fhBx/H4Qcfx+EHH8fhBx/H4Qcfx+EHH8fhBx/H4Qcfx+EHH8fhBx/H4Qcfx+EHH8fhBx/H4Qcfx+EHH8fhBx/H4Qcfx+EHH8fhBx/H4Qcfx+EHH8fhBx/H4Qcfx+EHH8fhBx/H4Qcfx+EHH8fhBx/H4Qcfx+EHH8fhBx/H4Qcfx+EHH8fhBx/H4Qcfx+EHH8fhBx/H4Qcfx+EHH8fhBx/H4Qcfx+EHH8fhBx/H4Qcfx+EHH8fhBFuz7QRbs+0EW7PtBFuz7QRbs+0EW7PtBFuz7QRbs+0EW7PtBFuz7QRbs+0EW7PtBFuz7QRbs+0EW7PtBFuz7QRbs+0EW7PtBFuz7QRbs+0EW7PtBFuz7QRbs+0EW7PtBFuz7QRbs+0EW7PtBFuz7QRbs+0EW7PtBFuz7QRbs+0EW7PtBFuz7QRbs+0EW7PtBFuz7QRbs+0EW7PtBFuz7QRbs+0EW7PtBFuz7QRbs+0EW7PtBFuz7QRbs+0EW7PtBFuz7QRbs+0EW7PtBFuz7QRbs+0EW7PtBFuz7QRbs+0EW7PtBFuz7QRbs+0EW7PtBFuz7QRbs+0EW7PtBFuz7QRbs+0EW7PtBFuz7QRbs+0EW7PtBFuz7QRbs+0EW7PtBFuz7QRbs+0EW7PtBFuz7QRbs+0EW7PtBFuz7QRbs+0EW7PtBFuz7QRbs+0EW7PtBFuz7QRbs+0EW7PtBFuz7QRbs+0EW7PtBFuz7QRbs+0EW7PtBFuz7QRbs+0EW7PtBFuz7QRbs+0EW7PtBFuz7QRbs+0EW7PtBFuz7QRbs+0EW7PtBFuz7QRbs+0EW7PtBFuz7QRbs+0EW7PtBFuz7QRbs+0EW7PtBFuz7QRbs+0EW7PtBFuz7QRbs+0EW7PtB0if/QdIn/0HSJ/9B0if/QdIn/0HSJ/9B0if/QdIn/0HSJ/9B0if/QdIn/0HSJ/9B0if/QdIn/0HSJ/9B0if/QdIn/0HSJ/9B0if/QdIn/0HSJ/9B0if/QdIn/0HSJ/9B0if/QdIn/0HSJ/9B0if/QdIn/0HSJ/9B0if/QdIn/0HSJ/9B0if/QdIn/0HSJ/9B0if/QdIn/0HSJ/9B0if/QdIn/0HSJ/9B0if/QdIn/0HSJ/9B0if/QdIn/0HSJ/9B0if/QdIn/0HSJ/9B0if/QdIn/0HSJ/9B0if/QdIn/0HSJ/9B0if/QdIn/0HSJ/9B0if/QdIn/0HSJ/9B0if/QdIn/0HSJ/9B0if/QdIn/0HSJ/9B0if/QdIn/0HSJ/9B0if/QdIn/0HSJ/9B0if/QdIn/0HSJ/9B0if/QdIn/0HSJ/9B0if/QdIn/0HSJ/9B0if/QdIn/0HSJ/9B0if/QdIn/0HSJ/9B0if/QdIn/0HSJ/9B0if/QdIn/0HSJ/9B0if/QdIn/0HSJ/9B0if/QdIn/0HSJ/9B0if/QdIn/0HSJ/9B0if/QdIn/0HSJ/9B0if/QdIn/0HSJ/9B0if/QdIn/0HSJ/9B0if/QdIn/0HSJ/9B0if/QdIn/0HSJ/9BsIX5QbCF+UGwhflBsIX5QbCF+UGwhflBsIX5QbCF+UGwhflBsIX5QbCF+UGwhflBsIX5QbCF+UGwhflBsIX5QbCF+UGwhflBsIX5QbCF+UGwhflBsIX5QbCF+UGwhflBsIX5QbCF+UGwhflBsIX5QbCF+UGwhflBsIX5QbCF+UGwhflBsIX5QbCF+UGwhflBsIX5QbCF+UGwhflBsIX5QbCF+UGwhflBsIX5QbCF+UGwhflBsIX5QbCF+UGwhflBsIX5QbCF+UGwhflBsIX5QbCF+UGwhflBsIX5QbCF+UGwhflBsIX5QbCF+UGwhflBsIX5QbCF+UGwhflBsIX5QbCF+UGwhflBsIX5QbCF+UGwhflBsIX5QbCF+UGwhflBsIX5QbCF+UGwhflBsIX5QbCF+UGwhflBsIX5QbCF+UGwhflBsIX5QbCF+UGwhflBsIX5QbCF+UGwhflBsIX5QbCF+UGwhflBsIX5QbCF+UGwhflBsIX5QbCF+UGwhflBsIX5QbCF+UGwhflBsIX5QbCF+UGwhflBsIX5QbCF+UGwhflBsIX5QbCF+UGwhflBsIX5QbCF+UGwhflBsIX5QbCF+UGwhflBsIX5QbCF+UGwhflBsIX5QbCF+UGwhflBSh/9QUof/UFKH/1BSh/9QUof/UFKH/1BSh/9QUof/UFKH/1BSh/9QUof/UFKH/1BSh/9QUof/UFKH/1BSh/9QUof/UFKH/1BSh/9QUof/UFKH/1BSh/9QUof/UFKH/1BSh/9QUof/UFKH/1BSh/9QUof/UFKH/1BSh/9QUof/UFKH/1BSh/9QUof/UFKH/1BSh/9QUof/UFKH/1BSh/9QUof/UFKH/1BSh/9QUof/UFKH/1BSh/9QUof/UFKH/1BSh/9QUof/UFKH/1BSh/9QUof/UFKH/1BSh/9QUof/UFKH/1BSh/9QUof/UFKH/1BSh/9QUof/UFKH/1BSh/9QUof/UFKH/1BSh/9QUof/UFKH/1BSh/9QUof/UFKH/1BSh/9QUof/UFKH/1BSh/9QUof/UFKH/1BSh/9QUof/UFKH/1BSh/9QUof/UFKH/1BSh/9QUof/UFKH/1BSh/9QUof/UFKH/1BSh/9QUof/UFKH/1BSh/9QUof/UFKH/1BSh/9QUof/UFKH/1BSh/9QUof/UFKH/1BSh/9QUof/UFKH/1BSh/9QUof/UFKH/1BSh/9QUof/UFKH/1BSh/9QUof/UFKH/1BSh/9QUof/UFKH/1BSh/9QUof/UFKH/1BVZX8QVWV/EFVlfxBVZX8QVWV/EFVlfxBVZX8QVWV/EFVlfxBVZX8QVWV/EFVlfxBVZX8QVWV/EFVlfxBVZX8QVWV/EFVlfxBVZX8QVWV/EFVlfxBVZX8QVWV/EFVlfxBVZX8QVWV/EFVlfxBVZX8QVWV/EFVlfxBVZX8QVWV/EFVlfxBVZX8QVWV/EFVlfxBVZX8QVWV/EFVlfxBVZX8QVWV/EFVlfxBVZX8QVWV/EFVlfxBVZX8QVWV/EFVlfxBVZX8QVWV/EFVlfxBVZX8QVWV/EFVlfxBVZX8QVWV/EFVlfxBVZX8QVWV/EFVlfxBVZX8QVWV/EFVlfxBVZX8QVWV/EFVlfxBVZX8QVWV/EFVlfxBVZX8QVWV/EFVlfxBVZX8QVWV/EFVlfxBVZX8QVWV/EFVlfxBVZX8QVWV/EFVlfxBVZX8QVWV/EFVlfxBVZX8QVWV/EFVlfxBVZX8QVWV/EFVlfxBVZX8QVWV/EFVlfxBVZX8QVWV/EFVlfxBVZX8QVWV/EFVlfxBVZX8QVWV/EFVlfxBVZX8QVWV/EFVlfxBVZX8QVWV/EFVlfxBVZX8QVWV/EFVlfxBVZX8QVWV/EFVlfxBVZX8QVWV/EFVlfxBVZX8QVWV/EFVlfxBDPb9QQz2/UEM9v1BDPb9QQz2/UEM9v1BDPb9QQz2/UEM9v1BDPb9QQz2/UEM9v1BDPb9QQz2/UEM9v1BDPb9QQz2/UEM9v1BDPb9QQz2/UEM9v1BDPb9QQz2/UEM9v1BDPb9QQz2/UEM9v1BDPb9QQz2/UEM9v1BDPb9QQz2/UEM9v1BDPb9QQz2/UEM9v1BDPb9QQz2/UEM9v1BDPb9QQz2/UEM9v1BDPb9QQz2/UEM9v1BDPb9QQz2/UEM9v1BDPb9QQz2/UEM9v1BDPb9QQz2/UEM9v1BDPb9QQz2/UEM9v1BDPb9QQz2/UEM9v1BDPb9QQz2/UEM9v1BDPb9QQz2/UEM9v1BDPb9QQz2/UEM9v1BDPb9QQz2/UEM9v1BDPb9QQz2/UEM9v1BDPb9QQz2/UEM9v1BDPb9QQz2/UEM9v1BDPb9QQz2/UEM9v1BDPb9QQz2/UEM9v1BDPb9QQz2/UEM9v1BDPb9QQz2/UEM9v1BDPb9QQz2/UEM9v1BDPb9QQz2/UEM9v1BDPb9QQz2/UEM9v1BDPb9QQz2/UEM9v1BDPb9QQz2/UEM9v1BDPb9QQz2/UEM9v1BDPb9QQz2/UEM9v1BDPb9QQz2/UEM9v1BDPb9QQz2/UEM9v1BjqP/QY6j/0GOo/9BjqP/QY6j/0GOo/9BjqP/QY6j/0GOo/9BjqP/QY6j/0GOo/9BjqP/QY6j/0GOo/9BjqP/QY6j/0GOo/9BjqP/QY6j/0GOo/9BjqP/QY6j/0GOo/9BjqP/QY6j/0GOo/9BjqP/QY6j/0GOo/9BjqP/QY6j/0GOo/9BjqP/QY6j/0GOo/9BjqP/QY6j/0GOo/9BjqP/QY6j/0GOo/9BjqP/QY6j/0GOo/9BjqP/QY6j/0GOo/9BjqP/QY6j/0GOo/9BjqP/QY6j/0GOo/9BjqP/QY6j/0GOo/9BjqP/QY6j/0GOo/9BjqP/QY6j/0GOo/9BjqP/QY6j/0GOo/9BjqP/QY6j/0GOo/9BjqP/QY6j/0GOo/9BjqP/QY6j/0GOo/9BjqP/QY6j/0GOo/9BjqP/QY6j/0GOo/9BjqP/QY6j/0GOo/9BjqP/QY6j/0GOo/9BjqP/QY6j/0GOo/9BjqP/QY6j/0GOo/9BjqP/QY6j/0GOo/9BjqP/QY6j/0GOo/9BjqP/QY6j/0GOo/9BjqP/QY6j/0GOo/9BjqP/QY6j/0GOo/9BjqP/QY6j/0GOo/9BjqP/QY6j/0GOo/9BjqP/QY6j/0GOo/9BjqP/QY6j/0GOo/9BREQAQkREAEJERABCREQAQkREAEJERABCREQAQkREAEJERABCREQAQkREAEJERABCREQAQkREAEJERABCREQAQkREAEJERABCREQAQkREAEJERABCREQAQkREAEJERABCREQAQkREAEJERABCREQAQkREAEJERABCREQAQkREAEJERABCREQAQkREAEJERABCREQAQkREAEJERABCREQAQkREAEJERABCREQAQkREAEJERABCREQAQkREAEJERABCREQAQkREAEJERABCREQAQkREAEJERABCREQAQkREAEJERABCREQAQkREAEJERABCREQAQkREAEJERABCREQAQkREAEJERABCREQAQkREAEJERABCREQAQkREAEJERABCREQAQkREAEJERABCREQAQkREAEJERABCREQAQkREAEJERABCREQAQkREAEJERABCREQAQkREAEJERABCREQAQkREAEJERABCREQAQkREAEJERABCREQAQkREAEJERABCREQAQkREAEJERABCREQAQkREAEJERABCREQAQkREAEJERABCREQAQkREAEJERABCREQAQkREAEJERABCREQAQkREAEJERABCREQAQkREAEJERABCREQAQkREAEJERABC3t38Qd7d/EHe3fxB3t38Qd7d/EHe3fxB3t38Qd7d/EHe3fxB3t38Qd7d/EHe3fxB3t38Qd7d/EHe3fxB3t38Qd7d/EHe3fxB3t38Qd7d/EHe3fxB3t38Qd7d/EHe3fxB3t38Qd7d/EHe3fxB3t38Qd7d/EHe3fxB3t38Qd7d/EHe3fxB3t38Qd7d/EHe3fxB3t38Qd7d/EHe3fxB3t38Qd7d/EHe3fxB3t38Qd7d/EHe3fxB3t38Qd7d/EHe3fxB3t38Qd7d/EHe3fxB3t38Qd7d/EHe3fxB3t38Qd7d/EHe3fxB3t38Qd7d/EHe3fxB3t38Qd7d/EHe3fxB3t38Qd7d/EHe3fxB3t38Qd7d/EHe3fxB3t38Qd7d/EHe3fxB3t38Qd7d/EHe3fxB3t38Qd7d/EHe3fxB3t38Qd7d/EHe3fxB3t38Qd7d/EHe3fxB3t38Qd7d/EHe3fxB3t38Qd7d/EHe3fxB3t38Qd7d/EHe3fxB3t38Qd7d/EHe3fxB3t38Qd7d/EHe3fxB3t38Qd7d/EHe3fxB3t38Qd7d/EHe3fxB3t38Qd7d/EHe3fxB3t38Qd7d/EHe3fxB3t38Qd7d/EHe3fxB3t38Qd7d/EHe3fxB3t38Qd7d/EHe3fxB0if+QdIn/kHSJ/5B0if+QdIn/kHSJ/5B0if+QdIn/kHSJ/5B0if+QdIn/kHSJ/5B0if+QdIn/kHSJ/5B0if+QdIn/kHSJ/5B0if+QdIn/kHSJ/5B0if+QdIn/kHSJ/5B0if+QdIn/kHSJ/5B0if+QdIn/kHSJ/5B0if+QdIn/kHSJ/5B0if+QdIn/kHSJ/5B0if+QdIn/kHSJ/5B0if+QdIn/kHSJ/5B0if+QdIn/kHSJ/5B0if+QdIn/kHSJ/5B0if+QdIn/kHSJ/5B0if+QdIn/kHSJ/5B0if+QdIn/kHSJ/5B0if+QdIn/kHSJ/5B0if+QdIn/kHSJ/5B0if+QdIn/kHSJ/5B0if+QdIn/kHSJ/5B0if+QdIn/kHSJ/5B0if+QdIn/kHSJ/5B0if+QdIn/kHSJ/5B0if+QdIn/kHSJ/5B0if+QdIn/kHSJ/5B0if+QdIn/kHSJ/5B0if+QdIn/kHSJ/5B0if+QdIn/kHSJ/5B0if+QdIn/kHSJ/5B0if+QdIn/kHSJ/5B0if+QdIn/kHSJ/5B0if+QdIn/kHSJ/5B0if+QdIn/kHSJ/5B0if+QdIn/kHSJ/5B0if+QdIn/kHSJ/5B0if+QdIn/kHSJ/5B0if+QdIn/kHSJ/5BsYUBQrGFAUKxhQFCsYUBQrGFAUKxhQFCsYUBQrGFAUKxhQFCsYUBQrGFAUKxhQFCsYUBQrGFAUKxhQFCsYUBQrGFAUKxhQFCsYUBQrGFAUKxhQFCsYUBQrGFAUKxhQFCsYUBQrGFAUKxhQFCsYUBQrGFAUKxhQFCsYUBQrGFAUKxhQFCsYUBQrGFAUKxhQFCsYUBQrGFAUKxhQFCsYUBQrGFAUKxhQFCsYUBQrGFAUKxhQFCsYUBQrGFAUKxhQFCsYUBQrGFAUKxhQFCsYUBQrGFAUKxhQFCsYUBQrGFAUKxhQFCsYUBQrGFAUKxhQFCsYUBQrGFAUKxhQFCsYUBQrGFAUKxhQFCsYUBQrGFAUKxhQFCsYUBQrGFAUKxhQFCsYUBQrGFAUKxhQFCsYUBQrGFAUKxhQFCsYUBQrGFAUKxhQFCsYUBQrGFAUKxhQFCsYUBQrGFAUKxhQFCsYUBQrGFAUKxhQFCsYUBQrGFAUKxhQFCsYUBQrGFAUKxhQFCsYUBQrGFAUKxhQFCsYUBQrGFAUKxhQFCsYUBQrGFAUKxhQFCsYUBQrGFAUKxhQFCsYUBQrGFAUKxhQFCsYUBQrGFAUKxhQFCsYUBQrGFAUKxhQFCsYUBQrGFAUKxhQFC",
          "dtype": "f4"
         },
         "yaxis": "y"
        }
       ],
       "layout": {
        "legend": {
         "tracegroupgap": 0
        },
        "margin": {
         "t": 60
        },
        "template": {
         "data": {
          "bar": [
           {
            "error_x": {
             "color": "#2a3f5f"
            },
            "error_y": {
             "color": "#2a3f5f"
            },
            "marker": {
             "line": {
              "color": "#E5ECF6",
              "width": 0.5
             },
             "pattern": {
              "fillmode": "overlay",
              "size": 10,
              "solidity": 0.2
             }
            },
            "type": "bar"
           }
          ],
          "barpolar": [
           {
            "marker": {
             "line": {
              "color": "#E5ECF6",
              "width": 0.5
             },
             "pattern": {
              "fillmode": "overlay",
              "size": 10,
              "solidity": 0.2
             }
            },
            "type": "barpolar"
           }
          ],
          "carpet": [
           {
            "aaxis": {
             "endlinecolor": "#2a3f5f",
             "gridcolor": "white",
             "linecolor": "white",
             "minorgridcolor": "white",
             "startlinecolor": "#2a3f5f"
            },
            "baxis": {
             "endlinecolor": "#2a3f5f",
             "gridcolor": "white",
             "linecolor": "white",
             "minorgridcolor": "white",
             "startlinecolor": "#2a3f5f"
            },
            "type": "carpet"
           }
          ],
          "choropleth": [
           {
            "colorbar": {
             "outlinewidth": 0,
             "ticks": ""
            },
            "type": "choropleth"
           }
          ],
          "contour": [
           {
            "colorbar": {
             "outlinewidth": 0,
             "ticks": ""
            },
            "colorscale": [
             [
              0,
              "#0d0887"
             ],
             [
              0.1111111111111111,
              "#46039f"
             ],
             [
              0.2222222222222222,
              "#7201a8"
             ],
             [
              0.3333333333333333,
              "#9c179e"
             ],
             [
              0.4444444444444444,
              "#bd3786"
             ],
             [
              0.5555555555555556,
              "#d8576b"
             ],
             [
              0.6666666666666666,
              "#ed7953"
             ],
             [
              0.7777777777777778,
              "#fb9f3a"
             ],
             [
              0.8888888888888888,
              "#fdca26"
             ],
             [
              1,
              "#f0f921"
             ]
            ],
            "type": "contour"
           }
          ],
          "contourcarpet": [
           {
            "colorbar": {
             "outlinewidth": 0,
             "ticks": ""
            },
            "type": "contourcarpet"
           }
          ],
          "heatmap": [
           {
            "colorbar": {
             "outlinewidth": 0,
             "ticks": ""
            },
            "colorscale": [
             [
              0,
              "#0d0887"
             ],
             [
              0.1111111111111111,
              "#46039f"
             ],
             [
              0.2222222222222222,
              "#7201a8"
             ],
             [
              0.3333333333333333,
              "#9c179e"
             ],
             [
              0.4444444444444444,
              "#bd3786"
             ],
             [
              0.5555555555555556,
              "#d8576b"
             ],
             [
              0.6666666666666666,
              "#ed7953"
             ],
             [
              0.7777777777777778,
              "#fb9f3a"
             ],
             [
              0.8888888888888888,
              "#fdca26"
             ],
             [
              1,
              "#f0f921"
             ]
            ],
            "type": "heatmap"
           }
          ],
          "histogram": [
           {
            "marker": {
             "pattern": {
              "fillmode": "overlay",
              "size": 10,
              "solidity": 0.2
             }
            },
            "type": "histogram"
           }
          ],
          "histogram2d": [
           {
            "colorbar": {
             "outlinewidth": 0,
             "ticks": ""
            },
            "colorscale": [
             [
              0,
              "#0d0887"
             ],
             [
              0.1111111111111111,
              "#46039f"
             ],
             [
              0.2222222222222222,
              "#7201a8"
             ],
             [
              0.3333333333333333,
              "#9c179e"
             ],
             [
              0.4444444444444444,
              "#bd3786"
             ],
             [
              0.5555555555555556,
              "#d8576b"
             ],
             [
              0.6666666666666666,
              "#ed7953"
             ],
             [
              0.7777777777777778,
              "#fb9f3a"
             ],
             [
              0.8888888888888888,
              "#fdca26"
             ],
             [
              1,
              "#f0f921"
             ]
            ],
            "type": "histogram2d"
           }
          ],
          "histogram2dcontour": [
           {
            "colorbar": {
             "outlinewidth": 0,
             "ticks": ""
            },
            "colorscale": [
             [
              0,
              "#0d0887"
             ],
             [
              0.1111111111111111,
              "#46039f"
             ],
             [
              0.2222222222222222,
              "#7201a8"
             ],
             [
              0.3333333333333333,
              "#9c179e"
             ],
             [
              0.4444444444444444,
              "#bd3786"
             ],
             [
              0.5555555555555556,
              "#d8576b"
             ],
             [
              0.6666666666666666,
              "#ed7953"
             ],
             [
              0.7777777777777778,
              "#fb9f3a"
             ],
             [
              0.8888888888888888,
              "#fdca26"
             ],
             [
              1,
              "#f0f921"
             ]
            ],
            "type": "histogram2dcontour"
           }
          ],
          "mesh3d": [
           {
            "colorbar": {
             "outlinewidth": 0,
             "ticks": ""
            },
            "type": "mesh3d"
           }
          ],
          "parcoords": [
           {
            "line": {
             "colorbar": {
              "outlinewidth": 0,
              "ticks": ""
             }
            },
            "type": "parcoords"
           }
          ],
          "pie": [
           {
            "automargin": true,
            "type": "pie"
           }
          ],
          "scatter": [
           {
            "fillpattern": {
             "fillmode": "overlay",
             "size": 10,
             "solidity": 0.2
            },
            "type": "scatter"
           }
          ],
          "scatter3d": [
           {
            "line": {
             "colorbar": {
              "outlinewidth": 0,
              "ticks": ""
             }
            },
            "marker": {
             "colorbar": {
              "outlinewidth": 0,
              "ticks": ""
             }
            },
            "type": "scatter3d"
           }
          ],
          "scattercarpet": [
           {
            "marker": {
             "colorbar": {
              "outlinewidth": 0,
              "ticks": ""
             }
            },
            "type": "scattercarpet"
           }
          ],
          "scattergeo": [
           {
            "marker": {
             "colorbar": {
              "outlinewidth": 0,
              "ticks": ""
             }
            },
            "type": "scattergeo"
           }
          ],
          "scattergl": [
           {
            "marker": {
             "colorbar": {
              "outlinewidth": 0,
              "ticks": ""
             }
            },
            "type": "scattergl"
           }
          ],
          "scattermap": [
           {
            "marker": {
             "colorbar": {
              "outlinewidth": 0,
              "ticks": ""
             }
            },
            "type": "scattermap"
           }
          ],
          "scattermapbox": [
           {
            "marker": {
             "colorbar": {
              "outlinewidth": 0,
              "ticks": ""
             }
            },
            "type": "scattermapbox"
           }
          ],
          "scatterpolar": [
           {
            "marker": {
             "colorbar": {
              "outlinewidth": 0,
              "ticks": ""
             }
            },
            "type": "scatterpolar"
           }
          ],
          "scatterpolargl": [
           {
            "marker": {
             "colorbar": {
              "outlinewidth": 0,
              "ticks": ""
             }
            },
            "type": "scatterpolargl"
           }
          ],
          "scatterternary": [
           {
            "marker": {
             "colorbar": {
              "outlinewidth": 0,
              "ticks": ""
             }
            },
            "type": "scatterternary"
           }
          ],
          "surface": [
           {
            "colorbar": {
             "outlinewidth": 0,
             "ticks": ""
            },
            "colorscale": [
             [
              0,
              "#0d0887"
             ],
             [
              0.1111111111111111,
              "#46039f"
             ],
             [
              0.2222222222222222,
              "#7201a8"
             ],
             [
              0.3333333333333333,
              "#9c179e"
             ],
             [
              0.4444444444444444,
              "#bd3786"
             ],
             [
              0.5555555555555556,
              "#d8576b"
             ],
             [
              0.6666666666666666,
              "#ed7953"
             ],
             [
              0.7777777777777778,
              "#fb9f3a"
             ],
             [
              0.8888888888888888,
              "#fdca26"
             ],
             [
              1,
              "#f0f921"
             ]
            ],
            "type": "surface"
           }
          ],
          "table": [
           {
            "cells": {
             "fill": {
              "color": "#EBF0F8"
             },
             "line": {
              "color": "white"
             }
            },
            "header": {
             "fill": {
              "color": "#C8D4E3"
             },
             "line": {
              "color": "white"
             }
            },
            "type": "table"
           }
          ]
         },
         "layout": {
          "annotationdefaults": {
           "arrowcolor": "#2a3f5f",
           "arrowhead": 0,
           "arrowwidth": 1
          },
          "autotypenumbers": "strict",
          "coloraxis": {
           "colorbar": {
            "outlinewidth": 0,
            "ticks": ""
           }
          },
          "colorscale": {
           "diverging": [
            [
             0,
             "#8e0152"
            ],
            [
             0.1,
             "#c51b7d"
            ],
            [
             0.2,
             "#de77ae"
            ],
            [
             0.3,
             "#f1b6da"
            ],
            [
             0.4,
             "#fde0ef"
            ],
            [
             0.5,
             "#f7f7f7"
            ],
            [
             0.6,
             "#e6f5d0"
            ],
            [
             0.7,
             "#b8e186"
            ],
            [
             0.8,
             "#7fbc41"
            ],
            [
             0.9,
             "#4d9221"
            ],
            [
             1,
             "#276419"
            ]
           ],
           "sequential": [
            [
             0,
             "#0d0887"
            ],
            [
             0.1111111111111111,
             "#46039f"
            ],
            [
             0.2222222222222222,
             "#7201a8"
            ],
            [
             0.3333333333333333,
             "#9c179e"
            ],
            [
             0.4444444444444444,
             "#bd3786"
            ],
            [
             0.5555555555555556,
             "#d8576b"
            ],
            [
             0.6666666666666666,
             "#ed7953"
            ],
            [
             0.7777777777777778,
             "#fb9f3a"
            ],
            [
             0.8888888888888888,
             "#fdca26"
            ],
            [
             1,
             "#f0f921"
            ]
           ],
           "sequentialminus": [
            [
             0,
             "#0d0887"
            ],
            [
             0.1111111111111111,
             "#46039f"
            ],
            [
             0.2222222222222222,
             "#7201a8"
            ],
            [
             0.3333333333333333,
             "#9c179e"
            ],
            [
             0.4444444444444444,
             "#bd3786"
            ],
            [
             0.5555555555555556,
             "#d8576b"
            ],
            [
             0.6666666666666666,
             "#ed7953"
            ],
            [
             0.7777777777777778,
             "#fb9f3a"
            ],
            [
             0.8888888888888888,
             "#fdca26"
            ],
            [
             1,
             "#f0f921"
            ]
           ]
          },
          "colorway": [
           "#636efa",
           "#EF553B",
           "#00cc96",
           "#ab63fa",
           "#FFA15A",
           "#19d3f3",
           "#FF6692",
           "#B6E880",
           "#FF97FF",
           "#FECB52"
          ],
          "font": {
           "color": "#2a3f5f"
          },
          "geo": {
           "bgcolor": "white",
           "lakecolor": "white",
           "landcolor": "#E5ECF6",
           "showlakes": true,
           "showland": true,
           "subunitcolor": "white"
          },
          "hoverlabel": {
           "align": "left"
          },
          "hovermode": "closest",
          "mapbox": {
           "style": "light"
          },
          "paper_bgcolor": "white",
          "plot_bgcolor": "#E5ECF6",
          "polar": {
           "angularaxis": {
            "gridcolor": "white",
            "linecolor": "white",
            "ticks": ""
           },
           "bgcolor": "#E5ECF6",
           "radialaxis": {
            "gridcolor": "white",
            "linecolor": "white",
            "ticks": ""
           }
          },
          "scene": {
           "xaxis": {
            "backgroundcolor": "#E5ECF6",
            "gridcolor": "white",
            "gridwidth": 2,
            "linecolor": "white",
            "showbackground": true,
            "ticks": "",
            "zerolinecolor": "white"
           },
           "yaxis": {
            "backgroundcolor": "#E5ECF6",
            "gridcolor": "white",
            "gridwidth": 2,
            "linecolor": "white",
            "showbackground": true,
            "ticks": "",
            "zerolinecolor": "white"
           },
           "zaxis": {
            "backgroundcolor": "#E5ECF6",
            "gridcolor": "white",
            "gridwidth": 2,
            "linecolor": "white",
            "showbackground": true,
            "ticks": "",
            "zerolinecolor": "white"
           }
          },
          "shapedefaults": {
           "line": {
            "color": "#2a3f5f"
           }
          },
          "ternary": {
           "aaxis": {
            "gridcolor": "white",
            "linecolor": "white",
            "ticks": ""
           },
           "baxis": {
            "gridcolor": "white",
            "linecolor": "white",
            "ticks": ""
           },
           "bgcolor": "#E5ECF6",
           "caxis": {
            "gridcolor": "white",
            "linecolor": "white",
            "ticks": ""
           }
          },
          "title": {
           "x": 0.05
          },
          "xaxis": {
           "automargin": true,
           "gridcolor": "white",
           "linecolor": "white",
           "ticks": "",
           "title": {
            "standoff": 15
           },
           "zerolinecolor": "white",
           "zerolinewidth": 2
          },
          "yaxis": {
           "automargin": true,
           "gridcolor": "white",
           "linecolor": "white",
           "ticks": "",
           "title": {
            "standoff": 15
           },
           "zerolinecolor": "white",
           "zerolinewidth": 2
          }
         }
        },
        "xaxis": {
         "anchor": "y",
         "domain": [
          0,
          1
         ],
         "title": {
          "text": "year"
         }
        },
        "yaxis": {
         "anchor": "x",
         "domain": [
          0,
          1
         ],
         "title": {
          "text": "avg_precipitation_all_rivers_per_year"
         }
        }
       }
      }
     },
     "metadata": {},
     "output_type": "display_data"
    }
   ],
   "source": [
    "# using plotly\n",
    "fig = px.line(ts_df, x=\"year\", y=\"avg_precipitation_all_rivers_per_year\")\n",
    "fig.show()\n"
   ]
  },
  {
   "cell_type": "markdown",
   "metadata": {},
   "source": [
    "### ***Since 2010 | All Rivers | Annual Precipitation***"
   ]
  },
  {
   "cell_type": "code",
   "execution_count": 54,
   "metadata": {},
   "outputs": [
    {
     "data": {
      "image/png": "[encoded data removed]",
      "text/plain": [
       "<Figure size 640x480 with 1 Axes>"
      ]
     },
     "metadata": {},
     "output_type": "display_data"
    }
   ],
   "source": [
    "# using matplotlib since 2000\n",
    "ts_df_2000 = ts_df[ts_df['year'] >= 2000]\n",
    "\n",
    "plt.plot(ts_df_2000['year'], ts_df_2000['avg_precipitation_all_rivers_per_year'])\n",
    "plt.show()"
   ]
  },
  {
   "cell_type": "code",
   "execution_count": 55,
   "metadata": {},
   "outputs": [
    {
     "data": {
      "image/png": "[encoded data removed]",
      "text/plain": [
       "<Figure size 640x480 with 1 Axes>"
      ]
     },
     "metadata": {},
     "output_type": "display_data"
    }
   ],
   "source": [
    "# using matplotlib since 2010\n",
    "ts_df_2010 = ts_df[ts_df['year'] >= 2010]\n",
    "\n",
    "plt.plot(ts_df_2010['year'], ts_df_2010['avg_precipitation_all_rivers_per_year'])\n",
    "plt.show()"
   ]
  },
  {
   "cell_type": "code",
   "execution_count": 56,
   "metadata": {},
   "outputs": [
    {
     "data": {
      "application/vnd.plotly.v1+json": {
       "config": {
        "plotlyServerURL": "https://plot.ly"
       },
       "data": [
        {
         "hovertemplate": "year=%{x}<br>avg_precipitation_all_rivers_per_year=%{y}<extra></extra>",
         "legendgroup": "",
         "line": {
          "color": "#636efa",
          "dash": "solid"
         },
         "marker": {
          "symbol": "circle"
         },
         "mode": "lines",
         "name": "",
         "showlegend": false,
         "type": "scattergl",
         "x": {
          "bdata": "0AfQB9AH0AfQB9AH0AfQB9AH0AfQB9AH0AfQB9AH0AfQB9AH0AfQB9AH0AfQB9AH0AfQB9AH0AfQB9AH0AfQB9AH0AfQB9AH0AfQB9AH0AfQB9AH0AfQB9AH0AfQB9AH0AfQB9AH0AfQB9AH0AfQB9AH0AfQB9AH0AfQB9AH0AfQB9AH0AfQB9AH0AfQB9AH0AfQB9AH0AfQB9AH0AfQB9AH0AfQB9AH0AfQB9AH0AfQB9AH0AfQB9AH0AfQB9AH0AfQB9AH0AfQB9AH0AfQB9AH0AfQB9AH0AfQB9AH0AfQB9AH0AfQB9AH0AfQB9AH0QfRB9EH0QfRB9EH0QfRB9EH0QfRB9EH0QfRB9EH0QfRB9EH0QfRB9EH0QfRB9EH0QfRB9EH0QfRB9EH0QfRB9EH0QfRB9EH0QfRB9EH0QfRB9EH0QfRB9EH0QfRB9EH0QfRB9EH0QfRB9EH0QfRB9EH0QfRB9EH0QfRB9EH0QfRB9EH0QfRB9EH0QfRB9EH0QfRB9EH0QfRB9EH0QfRB9EH0QfRB9EH0QfRB9EH0QfRB9EH0QfRB9EH0QfRB9EH0QfRB9EH0QfRB9EH0QfRB9EH0QfRB9EH0QfRB9EH0QfRB9EH0QfRB9EH0QfRB9EH0gfSB9IH0gfSB9IH0gfSB9IH0gfSB9IH0gfSB9IH0gfSB9IH0gfSB9IH0gfSB9IH0gfSB9IH0gfSB9IH0gfSB9IH0gfSB9IH0gfSB9IH0gfSB9IH0gfSB9IH0gfSB9IH0gfSB9IH0gfSB9IH0gfSB9IH0gfSB9IH0gfSB9IH0gfSB9IH0gfSB9IH0gfSB9IH0gfSB9IH0gfSB9IH0gfSB9IH0gfSB9IH0gfSB9IH0gfSB9IH0gfSB9IH0gfSB9IH0gfSB9IH0gfSB9IH0gfSB9IH0gfSB9IH0gfSB9IH0gfSB9IH0gfSB9IH0gfSB9IH0wfTB9MH0wfTB9MH0wfTB9MH0wfTB9MH0wfTB9MH0wfTB9MH0wfTB9MH0wfTB9MH0wfTB9MH0wfTB9MH0wfTB9MH0wfTB9MH0wfTB9MH0wfTB9MH0wfTB9MH0wfTB9MH0wfTB9MH0wfTB9MH0wfTB9MH0wfTB9MH0wfTB9MH0wfTB9MH0wfTB9MH0wfTB9MH0wfTB9MH0wfTB9MH0wfTB9MH0wfTB9MH0wfTB9MH0wfTB9MH0wfTB9MH0wfTB9MH0wfTB9MH0wfTB9MH0wfTB9MH0wfTB9MH0wfTB9MH0wfTB9MH0wfTB9MH0wfTB9MH1AfUB9QH1AfUB9QH1AfUB9QH1AfUB9QH1AfUB9QH1AfUB9QH1AfUB9QH1AfUB9QH1AfUB9QH1AfUB9QH1AfUB9QH1AfUB9QH1AfUB9QH1AfUB9QH1AfUB9QH1AfUB9QH1AfUB9QH1AfUB9QH1AfUB9QH1AfUB9QH1AfUB9QH1AfUB9QH1AfUB9QH1AfUB9QH1AfUB9QH1AfUB9QH1AfUB9QH1AfUB9QH1AfUB9QH1AfUB9QH1AfUB9QH1AfUB9QH1AfUB9QH1AfUB9QH1AfUB9QH1AfUB9QH1AfUB9QH1AfUB9QH1AfUB9QH1AfUB9QH1QfVB9UH1QfVB9UH1QfVB9UH1QfVB9UH1QfVB9UH1QfVB9UH1QfVB9UH1QfVB9UH1QfVB9UH1QfVB9UH1QfVB9UH1QfVB9UH1QfVB9UH1QfVB9UH1QfVB9UH1QfVB9UH1QfVB9UH1QfVB9UH1QfVB9UH1QfVB9UH1QfVB9UH1QfVB9UH1QfVB9UH1QfVB9UH1QfVB9UH1QfVB9UH1QfVB9UH1QfVB9UH1QfVB9UH1QfVB9UH1QfVB9UH1QfVB9UH1QfVB9UH1QfVB9UH1QfVB9UH1QfVB9UH1QfVB9UH1QfVB9UH1QfVB9UH1QfVB9UH1gfWB9YH1gfWB9YH1gfWB9YH1gfWB9YH1gfWB9YH1gfWB9YH1gfWB9YH1gfWB9YH1gfWB9YH1gfWB9YH1gfWB9YH1gfWB9YH1gfWB9YH1gfWB9YH1gfWB9YH1gfWB9YH1gfWB9YH1gfWB9YH1gfWB9YH1gfWB9YH1gfWB9YH1gfWB9YH1gfWB9YH1gfWB9YH1gfWB9YH1gfWB9YH1gfWB9YH1gfWB9YH1gfWB9YH1gfWB9YH1gfWB9YH1gfWB9YH1gfWB9YH1gfWB9YH1gfWB9YH1gfWB9YH1gfWB9YH1gfWB9YH1gfWB9YH1gfWB9YH1wfXB9cH1wfXB9cH1wfXB9cH1wfXB9cH1wfXB9cH1wfXB9cH1wfXB9cH1wfXB9cH1wfXB9cH1wfXB9cH1wfXB9cH1wfXB9cH1wfXB9cH1wfXB9cH1wfXB9cH1wfXB9cH1wfXB9cH1wfXB9cH1wfXB9cH1wfXB9cH1wfXB9cH1wfXB9cH1wfXB9cH1wfXB9cH1wfXB9cH1wfXB9cH1wfXB9cH1wfXB9cH1wfXB9cH1wfXB9cH1wfXB9cH1wfXB9cH1wfXB9cH1wfXB9cH1wfXB9cH1wfXB9cH1wfXB9cH1wfXB9cH1wfXB9cH1wfXB9cH2AfYB9gH2AfYB9gH2AfYB9gH2AfYB9gH2AfYB9gH2AfYB9gH2AfYB9gH2AfYB9gH2AfYB9gH2AfYB9gH2AfYB9gH2AfYB9gH2AfYB9gH2AfYB9gH2AfYB9gH2AfYB9gH2AfYB9gH2AfYB9gH2AfYB9gH2AfYB9gH2AfYB9gH2AfYB9gH2AfYB9gH2AfYB9gH2AfYB9gH2AfYB9gH2AfYB9gH2AfYB9gH2AfYB9gH2AfYB9gH2AfYB9gH2AfYB9gH2AfYB9gH2AfYB9gH2AfYB9gH2AfYB9gH2AfYB9gH2AfYB9gH2AfYB9gH2AfYB9gH2QfZB9kH2QfZB9kH2QfZB9kH2QfZB9kH2QfZB9kH2QfZB9kH2QfZB9kH2QfZB9kH2QfZB9kH2QfZB9kH2QfZB9kH2QfZB9kH2QfZB9kH2QfZB9kH2QfZB9kH2QfZB9kH2QfZB9kH2QfZB9kH2QfZB9kH2QfZB9kH2QfZB9kH2QfZB9kH2QfZB9kH2QfZB9kH2QfZB9kH2QfZB9kH2QfZB9kH2QfZB9kH2QfZB9kH2QfZB9kH2QfZB9kH2QfZB9kH2QfZB9kH2QfZB9kH2QfZB9kH2QfZB9kH2QfZB9kH2QfZB9kH2QfZB9kH2QfZB9kH2gfaB9oH2gfaB9oH2gfaB9oH2gfaB9oH2gfaB9oH2gfaB9oH2gfaB9oH2gfaB9oH2gfaB9oH2gfaB9oH2gfaB9oH2gfaB9oH2gfaB9oH2gfaB9oH2gfaB9oH2gfaB9oH2gfaB9oH2gfaB9oH2gfaB9oH2gfaB9oH2gfaB9oH2gfaB9oH2gfaB9oH2gfaB9oH2gfaB9oH2gfaB9oH2gfaB9oH2gfaB9oH2gfaB9oH2gfaB9oH2gfaB9oH2gfaB9oH2gfaB9oH2gfaB9oH2gfaB9oH2gfaB9oH2gfaB9oH2gfaB9oH2gfaB9oH2gfaB9oH2wfbB9sH2wfbB9sH2wfbB9sH2wfbB9sH2wfbB9sH2wfbB9sH2wfbB9sH2wfbB9sH2wfbB9sH2wfbB9sH2wfbB9sH2wfbB9sH2wfbB9sH2wfbB9sH2wfbB9sH2wfbB9sH2wfbB9sH2wfbB9sH2wfbB9sH2wfbB9sH2wfbB9sH2wfbB9sH2wfbB9sH2wfbB9sH2wfbB9sH2wfbB9sH2wfbB9sH2wfbB9sH2wfbB9sH2wfbB9sH2wfbB9sH2wfbB9sH2wfbB9sH2wfbB9sH2wfbB9sH2wfbB9sH2wfbB9sH2wfbB9sH2wfbB9sH2wfbB9sH3AfcB9wH3AfcB9wH3AfcB9wH3AfcB9wH3AfcB9wH3AfcB9wH3AfcB9wH3AfcB9wH3AfcB9wH3AfcB9wH3AfcB9wH3AfcB9wH3AfcB9wH3AfcB9wH3AfcB9wH3AfcB9wH3AfcB9wH3AfcB9wH3AfcB9wH3AfcB9wH3AfcB9wH3AfcB9wH3AfcB9wH3AfcB9wH3AfcB9wH3AfcB9wH3AfcB9wH3AfcB9wH3AfcB9wH3AfcB9wH3AfcB9wH3AfcB9wH3AfcB9wH3AfcB9wH3AfcB9wH3AfcB9wH3AfcB9wH3AfcB9wH3AfcB9wH3AfcB9wH3QfdB90H3QfdB90H3QfdB90H3QfdB90H3QfdB90H3QfdB90H3QfdB90H3QfdB90H3QfdB90H3QfdB90H3QfdB90H3QfdB90H3QfdB90H3QfdB90H3QfdB90H3QfdB90H3QfdB90H3QfdB90H3QfdB90H3QfdB90H3QfdB90H3QfdB90H3QfdB90H3QfdB90H3QfdB90H3QfdB90H3QfdB90H3QfdB90H3QfdB90H3QfdB90H3QfdB90H3QfdB90H3QfdB90H3QfdB90H3QfdB90H3QfdB90H3QfdB90H3QfdB90H3QfdB90H3QfdB90H3gfeB94H3gfeB94H3gfeB94H3gfeB94H3gfeB94H3gfeB94H3gfeB94H3gfeB94H3gfeB94H3gfeB94H3gfeB94H3gfeB94H3gfeB94H3gfeB94H3gfeB94H3gfeB94H3gfeB94H3gfeB94H3gfeB94H3gfeB94H3gfeB94H3gfeB94H3gfeB94H3gfeB94H3gfeB94H3gfeB94H3gfeB94H3gfeB94H3gfeB94H3gfeB94H3gfeB94H3gfeB94H3gfeB94H3gfeB94H3gfeB94H3gfeB94H3gfeB94H3gfeB94H3gfeB94H3gfeB94H3wffB98H3wffB98H3wffB98H3wffB98H3wffB98H3wffB98H3wffB98H3wffB98H3wffB98H3wffB98H3wffB98H3wffB98H3wffB98H3wffB98H3wffB98H3wffB98H3wffB98H3wffB98H3wffB98H3wffB98H3wffB98H3wffB98H3wffB98H3wffB98H3wffB98H3wffB98H3wffB98H3wffB98H3wffB98H3wffB98H3wffB98H3wffB98H3wffB98H3wffB98H3wffB98H3wffB98H3wffB98H3wffB98H3wffB98H3wffB98H4AfgB+AH4AfgB+AH4AfgB+AH4AfgB+AH4AfgB+AH4AfgB+AH4AfgB+AH4AfgB+AH4AfgB+AH4AfgB+AH4AfgB+AH4AfgB+AH4AfgB+AH4AfgB+AH4AfgB+AH4AfgB+AH4AfgB+AH4AfgB+AH4AfgB+AH4AfgB+AH4AfgB+AH4AfgB+AH4AfgB+AH4AfgB+AH4AfgB+AH4AfgB+AH4AfgB+AH4AfgB+AH4AfgB+AH4AfgB+AH4AfgB+AH4AfgB+AH4AfgB+AH4AfgB+AH4AfgB+AH4AfgB+AH4AfgB+AH4AfgB+AH4AfgB+AH4AfgB+AH4QfhB+EH4QfhB+EH4QfhB+EH4QfhB+EH4QfhB+EH4QfhB+EH4QfhB+EH4QfhB+EH4QfhB+EH4QfhB+EH4QfhB+EH4QfhB+EH4QfhB+EH4QfhB+EH4QfhB+EH4QfhB+EH4QfhB+EH4QfhB+EH4QfhB+EH4QfhB+EH4QfhB+EH4QfhB+EH4QfhB+EH4QfhB+EH4QfhB+EH4QfhB+EH4QfhB+EH4QfhB+EH4QfhB+EH4QfhB+EH4QfhB+EH4QfhB+EH4QfhB+EH4QfhB+EH4QfhB+EH4QfhB+EH4QfhB+EH4QfhB+EH4QfhB+EH4QfhB+EH4gfiB+IH4gfiB+IH4gfiB+IH4gfiB+IH4gfiB+IH4gfiB+IH4gfiB+IH4gfiB+IH4gfiB+IH4gfiB+IH4gfiB+IH4gfiB+IH4gfiB+IH4gfiB+IH4gfiB+IH4gfiB+IH4gfiB+IH4gfiB+IH4gfiB+IH4gfiB+IH4gfiB+IH4gfiB+IH4gfiB+IH4gfiB+IH4gfiB+IH4gfiB+IH4gfiB+IH4gfiB+IH4gfiB+IH4gfiB+IH4gfiB+IH4gfiB+IH4gfiB+IH4gfiB+IH4gfiB+IH4gfiB+IH4gfiB+IH4gfiB+IH4gfiB+IH4gfiB+IH4wfjB+MH4wfjB+MH4wfjB+MH4wfjB+MH4wfjB+MH4wfjB+MH4wfjB+MH4wfjB+MH4wfjB+MH4wfjB+MH4wfjB+MH4wfjB+MH4wfjB+MH4wfjB+MH4wfjB+MH4wfjB+MH4wfjB+MH4wfjB+MH4wfjB+MH4wfjB+MH4wfjB+MH4wfjB+MH4wfjB+MH4wfjB+MH4wfjB+MH4wfjB+MH4wfjB+MH4wfjB+MH4wfjB+MH4wfjB+MH4wfjB+MH4wfjB+MH4wfjB+MH4wfjB+MH4wfjB+MH4wfjB+MH4wfjB+MH4wfjB+MH4wfjB+MH4wfjB+MH",
          "dtype": "i2"
         },
         "xaxis": "x",
         "y": {
          "bdata": "9An8QfQJ/EH0CfxB9An8QfQJ/EH0CfxB9An8QfQJ/EH0CfxB9An8QfQJ/EH0CfxB9An8QfQJ/EH0CfxB9An8QfQJ/EH0CfxB9An8QfQJ/EH0CfxB9An8QfQJ/EH0CfxB9An8QfQJ/EH0CfxB9An8QfQJ/EH0CfxB9An8QfQJ/EH0CfxB9An8QfQJ/EH0CfxB9An8QfQJ/EH0CfxB9An8QfQJ/EH0CfxB9An8QfQJ/EH0CfxB9An8QfQJ/EH0CfxB9An8QfQJ/EH0CfxB9An8QfQJ/EH0CfxB9An8QfQJ/EH0CfxB9An8QfQJ/EH0CfxB9An8QfQJ/EH0CfxB9An8QfQJ/EH0CfxB9An8QfQJ/EH0CfxB9An8QfQJ/EH0CfxB9An8QfQJ/EH0CfxB9An8QfQJ/EH0CfxB9An8QfQJ/EH0CfxB9An8QfQJ/EH0CfxB9An8QfQJ/EH0CfxB9An8QfQJ/EH0CfxB9An8QfQJ/EH0CfxB9An8QfQJ/EH0CfxB9An8QfQJ/EH0CfxB9An8QfQJ/EH0CfxB9An8QfQJ/EH0CfxB9An8QfQJ/EH0CfxB9An8QfQJ/EH0CfxB9An8QfQJ/EH0CfxB9An8QfQJ/EH0CfxB9An8QfQJ/EH0CfxBM7P8QTOz/EEzs/xBM7P8QTOz/EEzs/xBM7P8QTOz/EEzs/xBM7P8QTOz/EEzs/xBM7P8QTOz/EEzs/xBM7P8QTOz/EEzs/xBM7P8QTOz/EEzs/xBM7P8QTOz/EEzs/xBM7P8QTOz/EEzs/xBM7P8QTOz/EEzs/xBM7P8QTOz/EEzs/xBM7P8QTOz/EEzs/xBM7P8QTOz/EEzs/xBM7P8QTOz/EEzs/xBM7P8QTOz/EEzs/xBM7P8QTOz/EEzs/xBM7P8QTOz/EEzs/xBM7P8QTOz/EEzs/xBM7P8QTOz/EEzs/xBM7P8QTOz/EEzs/xBM7P8QTOz/EEzs/xBM7P8QTOz/EEzs/xBM7P8QTOz/EEzs/xBM7P8QTOz/EEzs/xBM7P8QTOz/EEzs/xBM7P8QTOz/EEzs/xBM7P8QTOz/EEzs/xBM7P8QTOz/EEzs/xBM7P8QTOz/EEzs/xBM7P8QTOz/EEzs/xBM7P8QTOz/EEzs/xBM7P8QTOz/EEzs/xBM7P8QTOz/EEzs/xBM7P8QTOz/EEzs/xBM7P8QTOz/EEzs/xBM7P8QTOz/EEzs/xBM7P8QTOz/EEzs/xBM7P8QTOz/EEzs/xBM7P8QTOz/EEzs/xBM7P8QTOz/EEzs/xBRET/QURE/0FERP9BRET/QURE/0FERP9BRET/QURE/0FERP9BRET/QURE/0FERP9BRET/QURE/0FERP9BRET/QURE/0FERP9BRET/QURE/0FERP9BRET/QURE/0FERP9BRET/QURE/0FERP9BRET/QURE/0FERP9BRET/QURE/0FERP9BRET/QURE/0FERP9BRET/QURE/0FERP9BRET/QURE/0FERP9BRET/QURE/0FERP9BRET/QURE/0FERP9BRET/QURE/0FERP9BRET/QURE/0FERP9BRET/QURE/0FERP9BRET/QURE/0FERP9BRET/QURE/0FERP9BRET/QURE/0FERP9BRET/QURE/0FERP9BRET/QURE/0FERP9BRET/QURE/0FERP9BRET/QURE/0FERP9BRET/QURE/0FERP9BRET/QURE/0FERP9BRET/QURE/0FERP9BRET/QURE/0FERP9BRET/QURE/0FERP9BRET/QURE/0FERP9BRET/QURE/0FERP9BRET/QURE/0FERP9BRET/QURE/0FERP9BRET/QURE/0FERP9BRET/QURE/0FERP9BRET/QURE/0FERP9BRET/QURE/0FERP9BRET/QURE/0FERP9BvDv9Qbw7/UG8O/1BvDv9Qbw7/UG8O/1BvDv9Qbw7/UG8O/1BvDv9Qbw7/UG8O/1BvDv9Qbw7/UG8O/1BvDv9Qbw7/UG8O/1BvDv9Qbw7/UG8O/1BvDv9Qbw7/UG8O/1BvDv9Qbw7/UG8O/1BvDv9Qbw7/UG8O/1BvDv9Qbw7/UG8O/1BvDv9Qbw7/UG8O/1BvDv9Qbw7/UG8O/1BvDv9Qbw7/UG8O/1BvDv9Qbw7/UG8O/1BvDv9Qbw7/UG8O/1BvDv9Qbw7/UG8O/1BvDv9Qbw7/UG8O/1BvDv9Qbw7/UG8O/1BvDv9Qbw7/UG8O/1BvDv9Qbw7/UG8O/1BvDv9Qbw7/UG8O/1BvDv9Qbw7/UG8O/1BvDv9Qbw7/UG8O/1BvDv9Qbw7/UG8O/1BvDv9Qbw7/UG8O/1BvDv9Qbw7/UG8O/1BvDv9Qbw7/UG8O/1BvDv9Qbw7/UG8O/1BvDv9Qbw7/UG8O/1BvDv9Qbw7/UG8O/1BvDv9Qbw7/UG8O/1BvDv9Qbw7/UG8O/1BvDv9Qbw7/UG8O/1BvDv9Qbw7/UG8O/1BvDv9Qbw7/UG8O/1BvDv9Qbw7/UG8O/1BvDv9Qbw7/UG8O/1BvDv9Qbw7/UG8O/1BvDv9Qbw7/UG8O/1Bx3H9Qcdx/UHHcf1Bx3H9Qcdx/UHHcf1Bx3H9Qcdx/UHHcf1Bx3H9Qcdx/UHHcf1Bx3H9Qcdx/UHHcf1Bx3H9Qcdx/UHHcf1Bx3H9Qcdx/UHHcf1Bx3H9Qcdx/UHHcf1Bx3H9Qcdx/UHHcf1Bx3H9Qcdx/UHHcf1Bx3H9Qcdx/UHHcf1Bx3H9Qcdx/UHHcf1Bx3H9Qcdx/UHHcf1Bx3H9Qcdx/UHHcf1Bx3H9Qcdx/UHHcf1Bx3H9Qcdx/UHHcf1Bx3H9Qcdx/UHHcf1Bx3H9Qcdx/UHHcf1Bx3H9Qcdx/UHHcf1Bx3H9Qcdx/UHHcf1Bx3H9Qcdx/UHHcf1Bx3H9Qcdx/UHHcf1Bx3H9Qcdx/UHHcf1Bx3H9Qcdx/UHHcf1Bx3H9Qcdx/UHHcf1Bx3H9Qcdx/UHHcf1Bx3H9Qcdx/UHHcf1Bx3H9Qcdx/UHHcf1Bx3H9Qcdx/UHHcf1Bx3H9Qcdx/UHHcf1Bx3H9Qcdx/UHHcf1Bx3H9Qcdx/UHHcf1Bx3H9Qcdx/UHHcf1Bx3H9Qcdx/UHHcf1Bx3H9Qcdx/UHHcf1Bx3H9Qcdx/UHHcf1Bx3H9Qcdx/UHHcf1Bx3H9Qcdx/UHHcf1Bx3H9Qcdx/UHHcf1Bx3H9Qcdx/UHHcf1BMzP9QTMz/UEzM/1BMzP9QTMz/UEzM/1BMzP9QTMz/UEzM/1BMzP9QTMz/UEzM/1BMzP9QTMz/UEzM/1BMzP9QTMz/UEzM/1BMzP9QTMz/UEzM/1BMzP9QTMz/UEzM/1BMzP9QTMz/UEzM/1BMzP9QTMz/UEzM/1BMzP9QTMz/UEzM/1BMzP9QTMz/UEzM/1BMzP9QTMz/UEzM/1BMzP9QTMz/UEzM/1BMzP9QTMz/UEzM/1BMzP9QTMz/UEzM/1BMzP9QTMz/UEzM/1BMzP9QTMz/UEzM/1BMzP9QTMz/UEzM/1BMzP9QTMz/UEzM/1BMzP9QTMz/UEzM/1BMzP9QTMz/UEzM/1BMzP9QTMz/UEzM/1BMzP9QTMz/UEzM/1BMzP9QTMz/UEzM/1BMzP9QTMz/UEzM/1BMzP9QTMz/UEzM/1BMzP9QTMz/UEzM/1BMzP9QTMz/UEzM/1BMzP9QTMz/UEzM/1BMzP9QTMz/UEzM/1BMzP9QTMz/UEzM/1BMzP9QTMz/UEzM/1BMzP9QTMz/UEzM/1BMzP9QTMz/UEzM/1BMzP9QTMz/UEzM/1BMzP9QTMz/UEzM/1BMzP9QTMz/UEzM/1BMzP9QTMz/UEzM/1BMzP9QTMz/UEzM/1BPyn8QT8p/EE/KfxBPyn8QT8p/EE/KfxBPyn8QT8p/EE/KfxBPyn8QT8p/EE/KfxBPyn8QT8p/EE/KfxBPyn8QT8p/EE/KfxBPyn8QT8p/EE/KfxBPyn8QT8p/EE/KfxBPyn8QT8p/EE/KfxBPyn8QT8p/EE/KfxBPyn8QT8p/EE/KfxBPyn8QT8p/EE/KfxBPyn8QT8p/EE/KfxBPyn8QT8p/EE/KfxBPyn8QT8p/EE/KfxBPyn8QT8p/EE/KfxBPyn8QT8p/EE/KfxBPyn8QT8p/EE/KfxBPyn8QT8p/EE/KfxBPyn8QT8p/EE/KfxBPyn8QT8p/EE/KfxBPyn8QT8p/EE/KfxBPyn8QT8p/EE/KfxBPyn8QT8p/EE/KfxBPyn8QT8p/EE/KfxBPyn8QT8p/EE/KfxBPyn8QT8p/EE/KfxBPyn8QT8p/EE/KfxBPyn8QT8p/EE/KfxBPyn8QT8p/EE/KfxBPyn8QT8p/EE/KfxBPyn8QT8p/EE/KfxBPyn8QT8p/EE/KfxBPyn8QT8p/EE/KfxBPyn8QT8p/EE/KfxBPyn8QT8p/EE/KfxBPyn8QT8p/EE/KfxBPyn8QT8p/EE/KfxBPyn8QT8p/EE/KfxBPyn8QT8p/EE/KfxBW/D6QVvw+kFb8PpBW/D6QVvw+kFb8PpBW/D6QVvw+kFb8PpBW/D6QVvw+kFb8PpBW/D6QVvw+kFb8PpBW/D6QVvw+kFb8PpBW/D6QVvw+kFb8PpBW/D6QVvw+kFb8PpBW/D6QVvw+kFb8PpBW/D6QVvw+kFb8PpBW/D6QVvw+kFb8PpBW/D6QVvw+kFb8PpBW/D6QVvw+kFb8PpBW/D6QVvw+kFb8PpBW/D6QVvw+kFb8PpBW/D6QVvw+kFb8PpBW/D6QVvw+kFb8PpBW/D6QVvw+kFb8PpBW/D6QVvw+kFb8PpBW/D6QVvw+kFb8PpBW/D6QVvw+kFb8PpBW/D6QVvw+kFb8PpBW/D6QVvw+kFb8PpBW/D6QVvw+kFb8PpBW/D6QVvw+kFb8PpBW/D6QVvw+kFb8PpBW/D6QVvw+kFb8PpBW/D6QVvw+kFb8PpBW/D6QVvw+kFb8PpBW/D6QVvw+kFb8PpBW/D6QVvw+kFb8PpBW/D6QVvw+kFb8PpBW/D6QVvw+kFb8PpBW/D6QVvw+kFb8PpBW/D6QVvw+kFb8PpBW/D6QVvw+kFb8PpBW/D6QVvw+kFb8PpBW/D6QVvw+kFb8PpBW/D6QVvw+kFb8PpBW/D6QVvw+kFb8PpBx/H4Qcfx+EHH8fhBx/H4Qcfx+EHH8fhBx/H4Qcfx+EHH8fhBx/H4Qcfx+EHH8fhBx/H4Qcfx+EHH8fhBx/H4Qcfx+EHH8fhBx/H4Qcfx+EHH8fhBx/H4Qcfx+EHH8fhBx/H4Qcfx+EHH8fhBx/H4Qcfx+EHH8fhBx/H4Qcfx+EHH8fhBx/H4Qcfx+EHH8fhBx/H4Qcfx+EHH8fhBx/H4Qcfx+EHH8fhBx/H4Qcfx+EHH8fhBx/H4Qcfx+EHH8fhBx/H4Qcfx+EHH8fhBx/H4Qcfx+EHH8fhBx/H4Qcfx+EHH8fhBx/H4Qcfx+EHH8fhBx/H4Qcfx+EHH8fhBx/H4Qcfx+EHH8fhBx/H4Qcfx+EHH8fhBx/H4Qcfx+EHH8fhBx/H4Qcfx+EHH8fhBx/H4Qcfx+EHH8fhBx/H4Qcfx+EHH8fhBx/H4Qcfx+EHH8fhBx/H4Qcfx+EHH8fhBx/H4Qcfx+EHH8fhBx/H4Qcfx+EHH8fhBx/H4Qcfx+EHH8fhBx/H4Qcfx+EHH8fhBx/H4Qcfx+EHH8fhBx/H4Qcfx+EHH8fhBx/H4Qcfx+EHH8fhBx/H4Qcfx+EHH8fhBx/H4Qcfx+EHH8fhBx/H4Qcfx+EHH8fhBx/H4Qcfx+EHH8fhBFuz7QRbs+0EW7PtBFuz7QRbs+0EW7PtBFuz7QRbs+0EW7PtBFuz7QRbs+0EW7PtBFuz7QRbs+0EW7PtBFuz7QRbs+0EW7PtBFuz7QRbs+0EW7PtBFuz7QRbs+0EW7PtBFuz7QRbs+0EW7PtBFuz7QRbs+0EW7PtBFuz7QRbs+0EW7PtBFuz7QRbs+0EW7PtBFuz7QRbs+0EW7PtBFuz7QRbs+0EW7PtBFuz7QRbs+0EW7PtBFuz7QRbs+0EW7PtBFuz7QRbs+0EW7PtBFuz7QRbs+0EW7PtBFuz7QRbs+0EW7PtBFuz7QRbs+0EW7PtBFuz7QRbs+0EW7PtBFuz7QRbs+0EW7PtBFuz7QRbs+0EW7PtBFuz7QRbs+0EW7PtBFuz7QRbs+0EW7PtBFuz7QRbs+0EW7PtBFuz7QRbs+0EW7PtBFuz7QRbs+0EW7PtBFuz7QRbs+0EW7PtBFuz7QRbs+0EW7PtBFuz7QRbs+0EW7PtBFuz7QRbs+0EW7PtBFuz7QRbs+0EW7PtBFuz7QRbs+0EW7PtBFuz7QRbs+0EW7PtBFuz7QRbs+0EW7PtBFuz7QRbs+0EW7PtBFuz7QRbs+0EW7PtBFuz7QRbs+0EW7PtBFuz7QRbs+0EW7PtB0if/QdIn/0HSJ/9B0if/QdIn/0HSJ/9B0if/QdIn/0HSJ/9B0if/QdIn/0HSJ/9B0if/QdIn/0HSJ/9B0if/QdIn/0HSJ/9B0if/QdIn/0HSJ/9B0if/QdIn/0HSJ/9B0if/QdIn/0HSJ/9B0if/QdIn/0HSJ/9B0if/QdIn/0HSJ/9B0if/QdIn/0HSJ/9B0if/QdIn/0HSJ/9B0if/QdIn/0HSJ/9B0if/QdIn/0HSJ/9B0if/QdIn/0HSJ/9B0if/QdIn/0HSJ/9B0if/QdIn/0HSJ/9B0if/QdIn/0HSJ/9B0if/QdIn/0HSJ/9B0if/QdIn/0HSJ/9B0if/QdIn/0HSJ/9B0if/QdIn/0HSJ/9B0if/QdIn/0HSJ/9B0if/QdIn/0HSJ/9B0if/QdIn/0HSJ/9B0if/QdIn/0HSJ/9B0if/QdIn/0HSJ/9B0if/QdIn/0HSJ/9B0if/QdIn/0HSJ/9B0if/QdIn/0HSJ/9B0if/QdIn/0HSJ/9B0if/QdIn/0HSJ/9B0if/QdIn/0HSJ/9B0if/QdIn/0HSJ/9B0if/QdIn/0HSJ/9B0if/QdIn/0HSJ/9B0if/QdIn/0HSJ/9B0if/QdIn/0HSJ/9B0if/QdIn/0HSJ/9BsIX5QbCF+UGwhflBsIX5QbCF+UGwhflBsIX5QbCF+UGwhflBsIX5QbCF+UGwhflBsIX5QbCF+UGwhflBsIX5QbCF+UGwhflBsIX5QbCF+UGwhflBsIX5QbCF+UGwhflBsIX5QbCF+UGwhflBsIX5QbCF+UGwhflBsIX5QbCF+UGwhflBsIX5QbCF+UGwhflBsIX5QbCF+UGwhflBsIX5QbCF+UGwhflBsIX5QbCF+UGwhflBsIX5QbCF+UGwhflBsIX5QbCF+UGwhflBsIX5QbCF+UGwhflBsIX5QbCF+UGwhflBsIX5QbCF+UGwhflBsIX5QbCF+UGwhflBsIX5QbCF+UGwhflBsIX5QbCF+UGwhflBsIX5QbCF+UGwhflBsIX5QbCF+UGwhflBsIX5QbCF+UGwhflBsIX5QbCF+UGwhflBsIX5QbCF+UGwhflBsIX5QbCF+UGwhflBsIX5QbCF+UGwhflBsIX5QbCF+UGwhflBsIX5QbCF+UGwhflBsIX5QbCF+UGwhflBsIX5QbCF+UGwhflBsIX5QbCF+UGwhflBsIX5QbCF+UGwhflBsIX5QbCF+UGwhflBsIX5QbCF+UGwhflBsIX5QbCF+UGwhflBsIX5QbCF+UGwhflBSh/9QUof/UFKH/1BSh/9QUof/UFKH/1BSh/9QUof/UFKH/1BSh/9QUof/UFKH/1BSh/9QUof/UFKH/1BSh/9QUof/UFKH/1BSh/9QUof/UFKH/1BSh/9QUof/UFKH/1BSh/9QUof/UFKH/1BSh/9QUof/UFKH/1BSh/9QUof/UFKH/1BSh/9QUof/UFKH/1BSh/9QUof/UFKH/1BSh/9QUof/UFKH/1BSh/9QUof/UFKH/1BSh/9QUof/UFKH/1BSh/9QUof/UFKH/1BSh/9QUof/UFKH/1BSh/9QUof/UFKH/1BSh/9QUof/UFKH/1BSh/9QUof/UFKH/1BSh/9QUof/UFKH/1BSh/9QUof/UFKH/1BSh/9QUof/UFKH/1BSh/9QUof/UFKH/1BSh/9QUof/UFKH/1BSh/9QUof/UFKH/1BSh/9QUof/UFKH/1BSh/9QUof/UFKH/1BSh/9QUof/UFKH/1BSh/9QUof/UFKH/1BSh/9QUof/UFKH/1BSh/9QUof/UFKH/1BSh/9QUof/UFKH/1BSh/9QUof/UFKH/1BSh/9QUof/UFKH/1BSh/9QUof/UFKH/1BSh/9QUof/UFKH/1BSh/9QUof/UFKH/1BSh/9QUof/UFKH/1BVZX8QVWV/EFVlfxBVZX8QVWV/EFVlfxBVZX8QVWV/EFVlfxBVZX8QVWV/EFVlfxBVZX8QVWV/EFVlfxBVZX8QVWV/EFVlfxBVZX8QVWV/EFVlfxBVZX8QVWV/EFVlfxBVZX8QVWV/EFVlfxBVZX8QVWV/EFVlfxBVZX8QVWV/EFVlfxBVZX8QVWV/EFVlfxBVZX8QVWV/EFVlfxBVZX8QVWV/EFVlfxBVZX8QVWV/EFVlfxBVZX8QVWV/EFVlfxBVZX8QVWV/EFVlfxBVZX8QVWV/EFVlfxBVZX8QVWV/EFVlfxBVZX8QVWV/EFVlfxBVZX8QVWV/EFVlfxBVZX8QVWV/EFVlfxBVZX8QVWV/EFVlfxBVZX8QVWV/EFVlfxBVZX8QVWV/EFVlfxBVZX8QVWV/EFVlfxBVZX8QVWV/EFVlfxBVZX8QVWV/EFVlfxBVZX8QVWV/EFVlfxBVZX8QVWV/EFVlfxBVZX8QVWV/EFVlfxBVZX8QVWV/EFVlfxBVZX8QVWV/EFVlfxBVZX8QVWV/EFVlfxBVZX8QVWV/EFVlfxBVZX8QVWV/EFVlfxBVZX8QVWV/EFVlfxBVZX8QVWV/EFVlfxBVZX8QVWV/EFVlfxBVZX8QVWV/EFVlfxBDPb9QQz2/UEM9v1BDPb9QQz2/UEM9v1BDPb9QQz2/UEM9v1BDPb9QQz2/UEM9v1BDPb9QQz2/UEM9v1BDPb9QQz2/UEM9v1BDPb9QQz2/UEM9v1BDPb9QQz2/UEM9v1BDPb9QQz2/UEM9v1BDPb9QQz2/UEM9v1BDPb9QQz2/UEM9v1BDPb9QQz2/UEM9v1BDPb9QQz2/UEM9v1BDPb9QQz2/UEM9v1BDPb9QQz2/UEM9v1BDPb9QQz2/UEM9v1BDPb9QQz2/UEM9v1BDPb9QQz2/UEM9v1BDPb9QQz2/UEM9v1BDPb9QQz2/UEM9v1BDPb9QQz2/UEM9v1BDPb9QQz2/UEM9v1BDPb9QQz2/UEM9v1BDPb9QQz2/UEM9v1BDPb9QQz2/UEM9v1BDPb9QQz2/UEM9v1BDPb9QQz2/UEM9v1BDPb9QQz2/UEM9v1BDPb9QQz2/UEM9v1BDPb9QQz2/UEM9v1BDPb9QQz2/UEM9v1BDPb9QQz2/UEM9v1BDPb9QQz2/UEM9v1BDPb9QQz2/UEM9v1BDPb9QQz2/UEM9v1BDPb9QQz2/UEM9v1BDPb9QQz2/UEM9v1BDPb9QQz2/UEM9v1BDPb9QQz2/UEM9v1BDPb9QQz2/UEM9v1BjqP/QY6j/0GOo/9BjqP/QY6j/0GOo/9BjqP/QY6j/0GOo/9BjqP/QY6j/0GOo/9BjqP/QY6j/0GOo/9BjqP/QY6j/0GOo/9BjqP/QY6j/0GOo/9BjqP/QY6j/0GOo/9BjqP/QY6j/0GOo/9BjqP/QY6j/0GOo/9BjqP/QY6j/0GOo/9BjqP/QY6j/0GOo/9BjqP/QY6j/0GOo/9BjqP/QY6j/0GOo/9BjqP/QY6j/0GOo/9BjqP/QY6j/0GOo/9BjqP/QY6j/0GOo/9BjqP/QY6j/0GOo/9BjqP/QY6j/0GOo/9BjqP/QY6j/0GOo/9BjqP/QY6j/0GOo/9BjqP/QY6j/0GOo/9BjqP/QY6j/0GOo/9BjqP/QY6j/0GOo/9BjqP/QY6j/0GOo/9BjqP/QY6j/0GOo/9BjqP/QY6j/0GOo/9BjqP/QY6j/0GOo/9BjqP/QY6j/0GOo/9BjqP/QY6j/0GOo/9BjqP/QY6j/0GOo/9BjqP/QY6j/0GOo/9BjqP/QY6j/0GOo/9BjqP/QY6j/0GOo/9BjqP/QY6j/0GOo/9BjqP/QY6j/0GOo/9BjqP/QY6j/0GOo/9BjqP/QY6j/0GOo/9BjqP/QY6j/0GOo/9BjqP/QY6j/0GOo/9BREQAQkREAEJERABCREQAQkREAEJERABCREQAQkREAEJERABCREQAQkREAEJERABCREQAQkREAEJERABCREQAQkREAEJERABCREQAQkREAEJERABCREQAQkREAEJERABCREQAQkREAEJERABCREQAQkREAEJERABCREQAQkREAEJERABCREQAQkREAEJERABCREQAQkREAEJERABCREQAQkREAEJERABCREQAQkREAEJERABCREQAQkREAEJERABCREQAQkREAEJERABCREQAQkREAEJERABCREQAQkREAEJERABCREQAQkREAEJERABCREQAQkREAEJERABCREQAQkREAEJERABCREQAQkREAEJERABCREQAQkREAEJERABCREQAQkREAEJERABCREQAQkREAEJERABCREQAQkREAEJERABCREQAQkREAEJERABCREQAQkREAEJERABCREQAQkREAEJERABCREQAQkREAEJERABCREQAQkREAEJERABCREQAQkREAEJERABCREQAQkREAEJERABCREQAQkREAEJERABCREQAQkREAEJERABCREQAQkREAEJERABCREQAQkREAEJERABCREQAQkREAEJERABCREQAQkREAEJERABC3t38Qd7d/EHe3fxB3t38Qd7d/EHe3fxB3t38Qd7d/EHe3fxB3t38Qd7d/EHe3fxB3t38Qd7d/EHe3fxB3t38Qd7d/EHe3fxB3t38Qd7d/EHe3fxB3t38Qd7d/EHe3fxB3t38Qd7d/EHe3fxB3t38Qd7d/EHe3fxB3t38Qd7d/EHe3fxB3t38Qd7d/EHe3fxB3t38Qd7d/EHe3fxB3t38Qd7d/EHe3fxB3t38Qd7d/EHe3fxB3t38Qd7d/EHe3fxB3t38Qd7d/EHe3fxB3t38Qd7d/EHe3fxB3t38Qd7d/EHe3fxB3t38Qd7d/EHe3fxB3t38Qd7d/EHe3fxB3t38Qd7d/EHe3fxB3t38Qd7d/EHe3fxB3t38Qd7d/EHe3fxB3t38Qd7d/EHe3fxB3t38Qd7d/EHe3fxB3t38Qd7d/EHe3fxB3t38Qd7d/EHe3fxB3t38Qd7d/EHe3fxB3t38Qd7d/EHe3fxB3t38Qd7d/EHe3fxB3t38Qd7d/EHe3fxB3t38Qd7d/EHe3fxB3t38Qd7d/EHe3fxB3t38Qd7d/EHe3fxB3t38Qd7d/EHe3fxB3t38Qd7d/EHe3fxB3t38Qd7d/EHe3fxB3t38Qd7d/EHe3fxB3t38Qd7d/EHe3fxB0if+QdIn/kHSJ/5B0if+QdIn/kHSJ/5B0if+QdIn/kHSJ/5B0if+QdIn/kHSJ/5B0if+QdIn/kHSJ/5B0if+QdIn/kHSJ/5B0if+QdIn/kHSJ/5B0if+QdIn/kHSJ/5B0if+QdIn/kHSJ/5B0if+QdIn/kHSJ/5B0if+QdIn/kHSJ/5B0if+QdIn/kHSJ/5B0if+QdIn/kHSJ/5B0if+QdIn/kHSJ/5B0if+QdIn/kHSJ/5B0if+QdIn/kHSJ/5B0if+QdIn/kHSJ/5B0if+QdIn/kHSJ/5B0if+QdIn/kHSJ/5B0if+QdIn/kHSJ/5B0if+QdIn/kHSJ/5B0if+QdIn/kHSJ/5B0if+QdIn/kHSJ/5B0if+QdIn/kHSJ/5B0if+QdIn/kHSJ/5B0if+QdIn/kHSJ/5B0if+QdIn/kHSJ/5B0if+QdIn/kHSJ/5B0if+QdIn/kHSJ/5B0if+QdIn/kHSJ/5B0if+QdIn/kHSJ/5B0if+QdIn/kHSJ/5B0if+QdIn/kHSJ/5B0if+QdIn/kHSJ/5B0if+QdIn/kHSJ/5B0if+QdIn/kHSJ/5B0if+QdIn/kHSJ/5B0if+QdIn/kHSJ/5B0if+QdIn/kHSJ/5B0if+QdIn/kHSJ/5BsYUBQrGFAUKxhQFCsYUBQrGFAUKxhQFCsYUBQrGFAUKxhQFCsYUBQrGFAUKxhQFCsYUBQrGFAUKxhQFCsYUBQrGFAUKxhQFCsYUBQrGFAUKxhQFCsYUBQrGFAUKxhQFCsYUBQrGFAUKxhQFCsYUBQrGFAUKxhQFCsYUBQrGFAUKxhQFCsYUBQrGFAUKxhQFCsYUBQrGFAUKxhQFCsYUBQrGFAUKxhQFCsYUBQrGFAUKxhQFCsYUBQrGFAUKxhQFCsYUBQrGFAUKxhQFCsYUBQrGFAUKxhQFCsYUBQrGFAUKxhQFCsYUBQrGFAUKxhQFCsYUBQrGFAUKxhQFCsYUBQrGFAUKxhQFCsYUBQrGFAUKxhQFCsYUBQrGFAUKxhQFCsYUBQrGFAUKxhQFCsYUBQrGFAUKxhQFCsYUBQrGFAUKxhQFCsYUBQrGFAUKxhQFCsYUBQrGFAUKxhQFCsYUBQrGFAUKxhQFCsYUBQrGFAUKxhQFCsYUBQrGFAUKxhQFCsYUBQrGFAUKxhQFCsYUBQrGFAUKxhQFCsYUBQrGFAUKxhQFCsYUBQrGFAUKxhQFCsYUBQrGFAUKxhQFCsYUBQrGFAUKxhQFCsYUBQrGFAUKxhQFCsYUBQrGFAUKxhQFC",
          "dtype": "f4"
         },
         "yaxis": "y"
        }
       ],
       "layout": {
        "legend": {
         "tracegroupgap": 0
        },
        "margin": {
         "t": 60
        },
        "template": {
         "data": {
          "bar": [
           {
            "error_x": {
             "color": "#2a3f5f"
            },
            "error_y": {
             "color": "#2a3f5f"
            },
            "marker": {
             "line": {
              "color": "#E5ECF6",
              "width": 0.5
             },
             "pattern": {
              "fillmode": "overlay",
              "size": 10,
              "solidity": 0.2
             }
            },
            "type": "bar"
           }
          ],
          "barpolar": [
           {
            "marker": {
             "line": {
              "color": "#E5ECF6",
              "width": 0.5
             },
             "pattern": {
              "fillmode": "overlay",
              "size": 10,
              "solidity": 0.2
             }
            },
            "type": "barpolar"
           }
          ],
          "carpet": [
           {
            "aaxis": {
             "endlinecolor": "#2a3f5f",
             "gridcolor": "white",
             "linecolor": "white",
             "minorgridcolor": "white",
             "startlinecolor": "#2a3f5f"
            },
            "baxis": {
             "endlinecolor": "#2a3f5f",
             "gridcolor": "white",
             "linecolor": "white",
             "minorgridcolor": "white",
             "startlinecolor": "#2a3f5f"
            },
            "type": "carpet"
           }
          ],
          "choropleth": [
           {
            "colorbar": {
             "outlinewidth": 0,
             "ticks": ""
            },
            "type": "choropleth"
           }
          ],
          "contour": [
           {
            "colorbar": {
             "outlinewidth": 0,
             "ticks": ""
            },
            "colorscale": [
             [
              0,
              "#0d0887"
             ],
             [
              0.1111111111111111,
              "#46039f"
             ],
             [
              0.2222222222222222,
              "#7201a8"
             ],
             [
              0.3333333333333333,
              "#9c179e"
             ],
             [
              0.4444444444444444,
              "#bd3786"
             ],
             [
              0.5555555555555556,
              "#d8576b"
             ],
             [
              0.6666666666666666,
              "#ed7953"
             ],
             [
              0.7777777777777778,
              "#fb9f3a"
             ],
             [
              0.8888888888888888,
              "#fdca26"
             ],
             [
              1,
              "#f0f921"
             ]
            ],
            "type": "contour"
           }
          ],
          "contourcarpet": [
           {
            "colorbar": {
             "outlinewidth": 0,
             "ticks": ""
            },
            "type": "contourcarpet"
           }
          ],
          "heatmap": [
           {
            "colorbar": {
             "outlinewidth": 0,
             "ticks": ""
            },
            "colorscale": [
             [
              0,
              "#0d0887"
             ],
             [
              0.1111111111111111,
              "#46039f"
             ],
             [
              0.2222222222222222,
              "#7201a8"
             ],
             [
              0.3333333333333333,
              "#9c179e"
             ],
             [
              0.4444444444444444,
              "#bd3786"
             ],
             [
              0.5555555555555556,
              "#d8576b"
             ],
             [
              0.6666666666666666,
              "#ed7953"
             ],
             [
              0.7777777777777778,
              "#fb9f3a"
             ],
             [
              0.8888888888888888,
              "#fdca26"
             ],
             [
              1,
              "#f0f921"
             ]
            ],
            "type": "heatmap"
           }
          ],
          "histogram": [
           {
            "marker": {
             "pattern": {
              "fillmode": "overlay",
              "size": 10,
              "solidity": 0.2
             }
            },
            "type": "histogram"
           }
          ],
          "histogram2d": [
           {
            "colorbar": {
             "outlinewidth": 0,
             "ticks": ""
            },
            "colorscale": [
             [
              0,
              "#0d0887"
             ],
             [
              0.1111111111111111,
              "#46039f"
             ],
             [
              0.2222222222222222,
              "#7201a8"
             ],
             [
              0.3333333333333333,
              "#9c179e"
             ],
             [
              0.4444444444444444,
              "#bd3786"
             ],
             [
              0.5555555555555556,
              "#d8576b"
             ],
             [
              0.6666666666666666,
              "#ed7953"
             ],
             [
              0.7777777777777778,
              "#fb9f3a"
             ],
             [
              0.8888888888888888,
              "#fdca26"
             ],
             [
              1,
              "#f0f921"
             ]
            ],
            "type": "histogram2d"
           }
          ],
          "histogram2dcontour": [
           {
            "colorbar": {
             "outlinewidth": 0,
             "ticks": ""
            },
            "colorscale": [
             [
              0,
              "#0d0887"
             ],
             [
              0.1111111111111111,
              "#46039f"
             ],
             [
              0.2222222222222222,
              "#7201a8"
             ],
             [
              0.3333333333333333,
              "#9c179e"
             ],
             [
              0.4444444444444444,
              "#bd3786"
             ],
             [
              0.5555555555555556,
              "#d8576b"
             ],
             [
              0.6666666666666666,
              "#ed7953"
             ],
             [
              0.7777777777777778,
              "#fb9f3a"
             ],
             [
              0.8888888888888888,
              "#fdca26"
             ],
             [
              1,
              "#f0f921"
             ]
            ],
            "type": "histogram2dcontour"
           }
          ],
          "mesh3d": [
           {
            "colorbar": {
             "outlinewidth": 0,
             "ticks": ""
            },
            "type": "mesh3d"
           }
          ],
          "parcoords": [
           {
            "line": {
             "colorbar": {
              "outlinewidth": 0,
              "ticks": ""
             }
            },
            "type": "parcoords"
           }
          ],
          "pie": [
           {
            "automargin": true,
            "type": "pie"
           }
          ],
          "scatter": [
           {
            "fillpattern": {
             "fillmode": "overlay",
             "size": 10,
             "solidity": 0.2
            },
            "type": "scatter"
           }
          ],
          "scatter3d": [
           {
            "line": {
             "colorbar": {
              "outlinewidth": 0,
              "ticks": ""
             }
            },
            "marker": {
             "colorbar": {
              "outlinewidth": 0,
              "ticks": ""
             }
            },
            "type": "scatter3d"
           }
          ],
          "scattercarpet": [
           {
            "marker": {
             "colorbar": {
              "outlinewidth": 0,
              "ticks": ""
             }
            },
            "type": "scattercarpet"
           }
          ],
          "scattergeo": [
           {
            "marker": {
             "colorbar": {
              "outlinewidth": 0,
              "ticks": ""
             }
            },
            "type": "scattergeo"
           }
          ],
          "scattergl": [
           {
            "marker": {
             "colorbar": {
              "outlinewidth": 0,
              "ticks": ""
             }
            },
            "type": "scattergl"
           }
          ],
          "scattermap": [
           {
            "marker": {
             "colorbar": {
              "outlinewidth": 0,
              "ticks": ""
             }
            },
            "type": "scattermap"
           }
          ],
          "scattermapbox": [
           {
            "marker": {
             "colorbar": {
              "outlinewidth": 0,
              "ticks": ""
             }
            },
            "type": "scattermapbox"
           }
          ],
          "scatterpolar": [
           {
            "marker": {
             "colorbar": {
              "outlinewidth": 0,
              "ticks": ""
             }
            },
            "type": "scatterpolar"
           }
          ],
          "scatterpolargl": [
           {
            "marker": {
             "colorbar": {
              "outlinewidth": 0,
              "ticks": ""
             }
            },
            "type": "scatterpolargl"
           }
          ],
          "scatterternary": [
           {
            "marker": {
             "colorbar": {
              "outlinewidth": 0,
              "ticks": ""
             }
            },
            "type": "scatterternary"
           }
          ],
          "surface": [
           {
            "colorbar": {
             "outlinewidth": 0,
             "ticks": ""
            },
            "colorscale": [
             [
              0,
              "#0d0887"
             ],
             [
              0.1111111111111111,
              "#46039f"
             ],
             [
              0.2222222222222222,
              "#7201a8"
             ],
             [
              0.3333333333333333,
              "#9c179e"
             ],
             [
              0.4444444444444444,
              "#bd3786"
             ],
             [
              0.5555555555555556,
              "#d8576b"
             ],
             [
              0.6666666666666666,
              "#ed7953"
             ],
             [
              0.7777777777777778,
              "#fb9f3a"
             ],
             [
              0.8888888888888888,
              "#fdca26"
             ],
             [
              1,
              "#f0f921"
             ]
            ],
            "type": "surface"
           }
          ],
          "table": [
           {
            "cells": {
             "fill": {
              "color": "#EBF0F8"
             },
             "line": {
              "color": "white"
             }
            },
            "header": {
             "fill": {
              "color": "#C8D4E3"
             },
             "line": {
              "color": "white"
             }
            },
            "type": "table"
           }
          ]
         },
         "layout": {
          "annotationdefaults": {
           "arrowcolor": "#2a3f5f",
           "arrowhead": 0,
           "arrowwidth": 1
          },
          "autotypenumbers": "strict",
          "coloraxis": {
           "colorbar": {
            "outlinewidth": 0,
            "ticks": ""
           }
          },
          "colorscale": {
           "diverging": [
            [
             0,
             "#8e0152"
            ],
            [
             0.1,
             "#c51b7d"
            ],
            [
             0.2,
             "#de77ae"
            ],
            [
             0.3,
             "#f1b6da"
            ],
            [
             0.4,
             "#fde0ef"
            ],
            [
             0.5,
             "#f7f7f7"
            ],
            [
             0.6,
             "#e6f5d0"
            ],
            [
             0.7,
             "#b8e186"
            ],
            [
             0.8,
             "#7fbc41"
            ],
            [
             0.9,
             "#4d9221"
            ],
            [
             1,
             "#276419"
            ]
           ],
           "sequential": [
            [
             0,
             "#0d0887"
            ],
            [
             0.1111111111111111,
             "#46039f"
            ],
            [
             0.2222222222222222,
             "#7201a8"
            ],
            [
             0.3333333333333333,
             "#9c179e"
            ],
            [
             0.4444444444444444,
             "#bd3786"
            ],
            [
             0.5555555555555556,
             "#d8576b"
            ],
            [
             0.6666666666666666,
             "#ed7953"
            ],
            [
             0.7777777777777778,
             "#fb9f3a"
            ],
            [
             0.8888888888888888,
             "#fdca26"
            ],
            [
             1,
             "#f0f921"
            ]
           ],
           "sequentialminus": [
            [
             0,
             "#0d0887"
            ],
            [
             0.1111111111111111,
             "#46039f"
            ],
            [
             0.2222222222222222,
             "#7201a8"
            ],
            [
             0.3333333333333333,
             "#9c179e"
            ],
            [
             0.4444444444444444,
             "#bd3786"
            ],
            [
             0.5555555555555556,
             "#d8576b"
            ],
            [
             0.6666666666666666,
             "#ed7953"
            ],
            [
             0.7777777777777778,
             "#fb9f3a"
            ],
            [
             0.8888888888888888,
             "#fdca26"
            ],
            [
             1,
             "#f0f921"
            ]
           ]
          },
          "colorway": [
           "#636efa",
           "#EF553B",
           "#00cc96",
           "#ab63fa",
           "#FFA15A",
           "#19d3f3",
           "#FF6692",
           "#B6E880",
           "#FF97FF",
           "#FECB52"
          ],
          "font": {
           "color": "#2a3f5f"
          },
          "geo": {
           "bgcolor": "white",
           "lakecolor": "white",
           "landcolor": "#E5ECF6",
           "showlakes": true,
           "showland": true,
           "subunitcolor": "white"
          },
          "hoverlabel": {
           "align": "left"
          },
          "hovermode": "closest",
          "mapbox": {
           "style": "light"
          },
          "paper_bgcolor": "white",
          "plot_bgcolor": "#E5ECF6",
          "polar": {
           "angularaxis": {
            "gridcolor": "white",
            "linecolor": "white",
            "ticks": ""
           },
           "bgcolor": "#E5ECF6",
           "radialaxis": {
            "gridcolor": "white",
            "linecolor": "white",
            "ticks": ""
           }
          },
          "scene": {
           "xaxis": {
            "backgroundcolor": "#E5ECF6",
            "gridcolor": "white",
            "gridwidth": 2,
            "linecolor": "white",
            "showbackground": true,
            "ticks": "",
            "zerolinecolor": "white"
           },
           "yaxis": {
            "backgroundcolor": "#E5ECF6",
            "gridcolor": "white",
            "gridwidth": 2,
            "linecolor": "white",
            "showbackground": true,
            "ticks": "",
            "zerolinecolor": "white"
           },
           "zaxis": {
            "backgroundcolor": "#E5ECF6",
            "gridcolor": "white",
            "gridwidth": 2,
            "linecolor": "white",
            "showbackground": true,
            "ticks": "",
            "zerolinecolor": "white"
           }
          },
          "shapedefaults": {
           "line": {
            "color": "#2a3f5f"
           }
          },
          "ternary": {
           "aaxis": {
            "gridcolor": "white",
            "linecolor": "white",
            "ticks": ""
           },
           "baxis": {
            "gridcolor": "white",
            "linecolor": "white",
            "ticks": ""
           },
           "bgcolor": "#E5ECF6",
           "caxis": {
            "gridcolor": "white",
            "linecolor": "white",
            "ticks": ""
           }
          },
          "title": {
           "x": 0.05
          },
          "xaxis": {
           "automargin": true,
           "gridcolor": "white",
           "linecolor": "white",
           "ticks": "",
           "title": {
            "standoff": 15
           },
           "zerolinecolor": "white",
           "zerolinewidth": 2
          },
          "yaxis": {
           "automargin": true,
           "gridcolor": "white",
           "linecolor": "white",
           "ticks": "",
           "title": {
            "standoff": 15
           },
           "zerolinecolor": "white",
           "zerolinewidth": 2
          }
         }
        },
        "xaxis": {
         "anchor": "y",
         "domain": [
          0,
          1
         ],
         "title": {
          "text": "year"
         }
        },
        "yaxis": {
         "anchor": "x",
         "domain": [
          0,
          1
         ],
         "title": {
          "text": "avg_precipitation_all_rivers_per_year"
         }
        }
       }
      }
     },
     "metadata": {},
     "output_type": "display_data"
    }
   ],
   "source": [
    "# using plotly since 2000\n",
    "fig = px.line(ts_df_2000, x=\"year\", y=\"avg_precipitation_all_rivers_per_year\")   \n",
    "fig.show()"
   ]
  },
  {
   "cell_type": "code",
   "execution_count": 57,
   "metadata": {},
   "outputs": [
    {
     "data": {
      "application/vnd.plotly.v1+json": {
       "config": {
        "plotlyServerURL": "https://plot.ly"
       },
       "data": [
        {
         "hovertemplate": "year=%{x}<br>avg_precipitation_all_rivers_per_year=%{y}<extra></extra>",
         "legendgroup": "",
         "line": {
          "color": "#636efa",
          "dash": "solid"
         },
         "marker": {
          "symbol": "circle"
         },
         "mode": "lines",
         "name": "",
         "showlegend": false,
         "type": "scattergl",
         "x": {
          "bdata": "2gfaB9oH2gfaB9oH2gfaB9oH2gfaB9oH2gfaB9oH2gfaB9oH2gfaB9oH2gfaB9oH2gfaB9oH2gfaB9oH2gfaB9oH2gfaB9oH2gfaB9oH2gfaB9oH2gfaB9oH2gfaB9oH2gfaB9oH2gfaB9oH2gfaB9oH2gfaB9oH2gfaB9oH2gfaB9oH2gfaB9oH2gfaB9oH2gfaB9oH2gfaB9oH2gfaB9oH2gfaB9oH2gfaB9oH2gfaB9oH2gfaB9oH2gfaB9oH2gfaB9oH2gfaB9oH2gfaB9oH2gfaB9oH2gfaB9oH2gfaB9oH2gfaB9oH2gfaB9oH2wfbB9sH2wfbB9sH2wfbB9sH2wfbB9sH2wfbB9sH2wfbB9sH2wfbB9sH2wfbB9sH2wfbB9sH2wfbB9sH2wfbB9sH2wfbB9sH2wfbB9sH2wfbB9sH2wfbB9sH2wfbB9sH2wfbB9sH2wfbB9sH2wfbB9sH2wfbB9sH2wfbB9sH2wfbB9sH2wfbB9sH2wfbB9sH2wfbB9sH2wfbB9sH2wfbB9sH2wfbB9sH2wfbB9sH2wfbB9sH2wfbB9sH2wfbB9sH2wfbB9sH2wfbB9sH2wfbB9sH2wfbB9sH2wfbB9sH2wfbB9sH2wfbB9sH2wfbB9sH3AfcB9wH3AfcB9wH3AfcB9wH3AfcB9wH3AfcB9wH3AfcB9wH3AfcB9wH3AfcB9wH3AfcB9wH3AfcB9wH3AfcB9wH3AfcB9wH3AfcB9wH3AfcB9wH3AfcB9wH3AfcB9wH3AfcB9wH3AfcB9wH3AfcB9wH3AfcB9wH3AfcB9wH3AfcB9wH3AfcB9wH3AfcB9wH3AfcB9wH3AfcB9wH3AfcB9wH3AfcB9wH3AfcB9wH3AfcB9wH3AfcB9wH3AfcB9wH3AfcB9wH3AfcB9wH3AfcB9wH3AfcB9wH3AfcB9wH3AfcB9wH3AfcB9wH3AfcB9wH3QfdB90H3QfdB90H3QfdB90H3QfdB90H3QfdB90H3QfdB90H3QfdB90H3QfdB90H3QfdB90H3QfdB90H3QfdB90H3QfdB90H3QfdB90H3QfdB90H3QfdB90H3QfdB90H3QfdB90H3QfdB90H3QfdB90H3QfdB90H3QfdB90H3QfdB90H3QfdB90H3QfdB90H3QfdB90H3QfdB90H3QfdB90H3QfdB90H3QfdB90H3QfdB90H3QfdB90H3QfdB90H3QfdB90H3QfdB90H3QfdB90H3QfdB90H3QfdB90H3QfdB90H3QfdB90H3QfdB90H3gfeB94H3gfeB94H3gfeB94H3gfeB94H3gfeB94H3gfeB94H3gfeB94H3gfeB94H3gfeB94H3gfeB94H3gfeB94H3gfeB94H3gfeB94H3gfeB94H3gfeB94H3gfeB94H3gfeB94H3gfeB94H3gfeB94H3gfeB94H3gfeB94H3gfeB94H3gfeB94H3gfeB94H3gfeB94H3gfeB94H3gfeB94H3gfeB94H3gfeB94H3gfeB94H3gfeB94H3gfeB94H3gfeB94H3gfeB94H3gfeB94H3gfeB94H3gfeB94H3gfeB94H3gfeB94H3gfeB94H3wffB98H3wffB98H3wffB98H3wffB98H3wffB98H3wffB98H3wffB98H3wffB98H3wffB98H3wffB98H3wffB98H3wffB98H3wffB98H3wffB98H3wffB98H3wffB98H3wffB98H3wffB98H3wffB98H3wffB98H3wffB98H3wffB98H3wffB98H3wffB98H3wffB98H3wffB98H3wffB98H3wffB98H3wffB98H3wffB98H3wffB98H3wffB98H3wffB98H3wffB98H3wffB98H3wffB98H3wffB98H3wffB98H3wffB98H3wffB98H4AfgB+AH4AfgB+AH4AfgB+AH4AfgB+AH4AfgB+AH4AfgB+AH4AfgB+AH4AfgB+AH4AfgB+AH4AfgB+AH4AfgB+AH4AfgB+AH4AfgB+AH4AfgB+AH4AfgB+AH4AfgB+AH4AfgB+AH4AfgB+AH4AfgB+AH4AfgB+AH4AfgB+AH4AfgB+AH4AfgB+AH4AfgB+AH4AfgB+AH4AfgB+AH4AfgB+AH4AfgB+AH4AfgB+AH4AfgB+AH4AfgB+AH4AfgB+AH4AfgB+AH4AfgB+AH4AfgB+AH4AfgB+AH4AfgB+AH4AfgB+AH4AfgB+AH4AfgB+AH4QfhB+EH4QfhB+EH4QfhB+EH4QfhB+EH4QfhB+EH4QfhB+EH4QfhB+EH4QfhB+EH4QfhB+EH4QfhB+EH4QfhB+EH4QfhB+EH4QfhB+EH4QfhB+EH4QfhB+EH4QfhB+EH4QfhB+EH4QfhB+EH4QfhB+EH4QfhB+EH4QfhB+EH4QfhB+EH4QfhB+EH4QfhB+EH4QfhB+EH4QfhB+EH4QfhB+EH4QfhB+EH4QfhB+EH4QfhB+EH4QfhB+EH4QfhB+EH4QfhB+EH4QfhB+EH4QfhB+EH4QfhB+EH4QfhB+EH4QfhB+EH4QfhB+EH4QfhB+EH4gfiB+IH4gfiB+IH4gfiB+IH4gfiB+IH4gfiB+IH4gfiB+IH4gfiB+IH4gfiB+IH4gfiB+IH4gfiB+IH4gfiB+IH4gfiB+IH4gfiB+IH4gfiB+IH4gfiB+IH4gfiB+IH4gfiB+IH4gfiB+IH4gfiB+IH4gfiB+IH4gfiB+IH4gfiB+IH4gfiB+IH4gfiB+IH4gfiB+IH4gfiB+IH4gfiB+IH4gfiB+IH4gfiB+IH4gfiB+IH4gfiB+IH4gfiB+IH4gfiB+IH4gfiB+IH4gfiB+IH4gfiB+IH4gfiB+IH4gfiB+IH4gfiB+IH4gfiB+IH4wfjB+MH4wfjB+MH4wfjB+MH4wfjB+MH4wfjB+MH4wfjB+MH4wfjB+MH4wfjB+MH4wfjB+MH4wfjB+MH4wfjB+MH4wfjB+MH4wfjB+MH4wfjB+MH4wfjB+MH4wfjB+MH4wfjB+MH4wfjB+MH4wfjB+MH4wfjB+MH4wfjB+MH4wfjB+MH4wfjB+MH4wfjB+MH4wfjB+MH4wfjB+MH4wfjB+MH4wfjB+MH4wfjB+MH4wfjB+MH4wfjB+MH4wfjB+MH4wfjB+MH4wfjB+MH4wfjB+MH4wfjB+MH4wfjB+MH4wfjB+MH4wfjB+MH4wfjB+MH",
          "dtype": "i2"
         },
         "xaxis": "x",
         "y": {
          "bdata": "0if/QdIn/0HSJ/9B0if/QdIn/0HSJ/9B0if/QdIn/0HSJ/9B0if/QdIn/0HSJ/9B0if/QdIn/0HSJ/9B0if/QdIn/0HSJ/9B0if/QdIn/0HSJ/9B0if/QdIn/0HSJ/9B0if/QdIn/0HSJ/9B0if/QdIn/0HSJ/9B0if/QdIn/0HSJ/9B0if/QdIn/0HSJ/9B0if/QdIn/0HSJ/9B0if/QdIn/0HSJ/9B0if/QdIn/0HSJ/9B0if/QdIn/0HSJ/9B0if/QdIn/0HSJ/9B0if/QdIn/0HSJ/9B0if/QdIn/0HSJ/9B0if/QdIn/0HSJ/9B0if/QdIn/0HSJ/9B0if/QdIn/0HSJ/9B0if/QdIn/0HSJ/9B0if/QdIn/0HSJ/9B0if/QdIn/0HSJ/9B0if/QdIn/0HSJ/9B0if/QdIn/0HSJ/9B0if/QdIn/0HSJ/9B0if/QdIn/0HSJ/9B0if/QdIn/0HSJ/9B0if/QdIn/0HSJ/9B0if/QdIn/0HSJ/9B0if/QdIn/0HSJ/9B0if/QdIn/0HSJ/9B0if/QdIn/0HSJ/9B0if/QdIn/0HSJ/9B0if/QdIn/0HSJ/9B0if/QdIn/0HSJ/9B0if/QdIn/0HSJ/9B0if/QdIn/0HSJ/9BsIX5QbCF+UGwhflBsIX5QbCF+UGwhflBsIX5QbCF+UGwhflBsIX5QbCF+UGwhflBsIX5QbCF+UGwhflBsIX5QbCF+UGwhflBsIX5QbCF+UGwhflBsIX5QbCF+UGwhflBsIX5QbCF+UGwhflBsIX5QbCF+UGwhflBsIX5QbCF+UGwhflBsIX5QbCF+UGwhflBsIX5QbCF+UGwhflBsIX5QbCF+UGwhflBsIX5QbCF+UGwhflBsIX5QbCF+UGwhflBsIX5QbCF+UGwhflBsIX5QbCF+UGwhflBsIX5QbCF+UGwhflBsIX5QbCF+UGwhflBsIX5QbCF+UGwhflBsIX5QbCF+UGwhflBsIX5QbCF+UGwhflBsIX5QbCF+UGwhflBsIX5QbCF+UGwhflBsIX5QbCF+UGwhflBsIX5QbCF+UGwhflBsIX5QbCF+UGwhflBsIX5QbCF+UGwhflBsIX5QbCF+UGwhflBsIX5QbCF+UGwhflBsIX5QbCF+UGwhflBsIX5QbCF+UGwhflBsIX5QbCF+UGwhflBsIX5QbCF+UGwhflBsIX5QbCF+UGwhflBsIX5QbCF+UGwhflBsIX5QbCF+UGwhflBsIX5QbCF+UGwhflBsIX5QbCF+UGwhflBSh/9QUof/UFKH/1BSh/9QUof/UFKH/1BSh/9QUof/UFKH/1BSh/9QUof/UFKH/1BSh/9QUof/UFKH/1BSh/9QUof/UFKH/1BSh/9QUof/UFKH/1BSh/9QUof/UFKH/1BSh/9QUof/UFKH/1BSh/9QUof/UFKH/1BSh/9QUof/UFKH/1BSh/9QUof/UFKH/1BSh/9QUof/UFKH/1BSh/9QUof/UFKH/1BSh/9QUof/UFKH/1BSh/9QUof/UFKH/1BSh/9QUof/UFKH/1BSh/9QUof/UFKH/1BSh/9QUof/UFKH/1BSh/9QUof/UFKH/1BSh/9QUof/UFKH/1BSh/9QUof/UFKH/1BSh/9QUof/UFKH/1BSh/9QUof/UFKH/1BSh/9QUof/UFKH/1BSh/9QUof/UFKH/1BSh/9QUof/UFKH/1BSh/9QUof/UFKH/1BSh/9QUof/UFKH/1BSh/9QUof/UFKH/1BSh/9QUof/UFKH/1BSh/9QUof/UFKH/1BSh/9QUof/UFKH/1BSh/9QUof/UFKH/1BSh/9QUof/UFKH/1BSh/9QUof/UFKH/1BSh/9QUof/UFKH/1BSh/9QUof/UFKH/1BSh/9QUof/UFKH/1BSh/9QUof/UFKH/1BVZX8QVWV/EFVlfxBVZX8QVWV/EFVlfxBVZX8QVWV/EFVlfxBVZX8QVWV/EFVlfxBVZX8QVWV/EFVlfxBVZX8QVWV/EFVlfxBVZX8QVWV/EFVlfxBVZX8QVWV/EFVlfxBVZX8QVWV/EFVlfxBVZX8QVWV/EFVlfxBVZX8QVWV/EFVlfxBVZX8QVWV/EFVlfxBVZX8QVWV/EFVlfxBVZX8QVWV/EFVlfxBVZX8QVWV/EFVlfxBVZX8QVWV/EFVlfxBVZX8QVWV/EFVlfxBVZX8QVWV/EFVlfxBVZX8QVWV/EFVlfxBVZX8QVWV/EFVlfxBVZX8QVWV/EFVlfxBVZX8QVWV/EFVlfxBVZX8QVWV/EFVlfxBVZX8QVWV/EFVlfxBVZX8QVWV/EFVlfxBVZX8QVWV/EFVlfxBVZX8QVWV/EFVlfxBVZX8QVWV/EFVlfxBVZX8QVWV/EFVlfxBVZX8QVWV/EFVlfxBVZX8QVWV/EFVlfxBVZX8QVWV/EFVlfxBVZX8QVWV/EFVlfxBVZX8QVWV/EFVlfxBVZX8QVWV/EFVlfxBVZX8QVWV/EFVlfxBVZX8QVWV/EFVlfxBVZX8QVWV/EFVlfxBVZX8QVWV/EFVlfxBVZX8QVWV/EFVlfxBDPb9QQz2/UEM9v1BDPb9QQz2/UEM9v1BDPb9QQz2/UEM9v1BDPb9QQz2/UEM9v1BDPb9QQz2/UEM9v1BDPb9QQz2/UEM9v1BDPb9QQz2/UEM9v1BDPb9QQz2/UEM9v1BDPb9QQz2/UEM9v1BDPb9QQz2/UEM9v1BDPb9QQz2/UEM9v1BDPb9QQz2/UEM9v1BDPb9QQz2/UEM9v1BDPb9QQz2/UEM9v1BDPb9QQz2/UEM9v1BDPb9QQz2/UEM9v1BDPb9QQz2/UEM9v1BDPb9QQz2/UEM9v1BDPb9QQz2/UEM9v1BDPb9QQz2/UEM9v1BDPb9QQz2/UEM9v1BDPb9QQz2/UEM9v1BDPb9QQz2/UEM9v1BDPb9QQz2/UEM9v1BDPb9QQz2/UEM9v1BDPb9QQz2/UEM9v1BDPb9QQz2/UEM9v1BDPb9QQz2/UEM9v1BDPb9QQz2/UEM9v1BDPb9QQz2/UEM9v1BDPb9QQz2/UEM9v1BDPb9QQz2/UEM9v1BDPb9QQz2/UEM9v1BDPb9QQz2/UEM9v1BDPb9QQz2/UEM9v1BDPb9QQz2/UEM9v1BDPb9QQz2/UEM9v1BDPb9QQz2/UEM9v1BDPb9QQz2/UEM9v1BDPb9QQz2/UEM9v1BjqP/QY6j/0GOo/9BjqP/QY6j/0GOo/9BjqP/QY6j/0GOo/9BjqP/QY6j/0GOo/9BjqP/QY6j/0GOo/9BjqP/QY6j/0GOo/9BjqP/QY6j/0GOo/9BjqP/QY6j/0GOo/9BjqP/QY6j/0GOo/9BjqP/QY6j/0GOo/9BjqP/QY6j/0GOo/9BjqP/QY6j/0GOo/9BjqP/QY6j/0GOo/9BjqP/QY6j/0GOo/9BjqP/QY6j/0GOo/9BjqP/QY6j/0GOo/9BjqP/QY6j/0GOo/9BjqP/QY6j/0GOo/9BjqP/QY6j/0GOo/9BjqP/QY6j/0GOo/9BjqP/QY6j/0GOo/9BjqP/QY6j/0GOo/9BjqP/QY6j/0GOo/9BjqP/QY6j/0GOo/9BjqP/QY6j/0GOo/9BjqP/QY6j/0GOo/9BjqP/QY6j/0GOo/9BjqP/QY6j/0GOo/9BjqP/QY6j/0GOo/9BjqP/QY6j/0GOo/9BjqP/QY6j/0GOo/9BjqP/QY6j/0GOo/9BjqP/QY6j/0GOo/9BjqP/QY6j/0GOo/9BjqP/QY6j/0GOo/9BjqP/QY6j/0GOo/9BjqP/QY6j/0GOo/9BjqP/QY6j/0GOo/9BjqP/QY6j/0GOo/9BjqP/QY6j/0GOo/9BREQAQkREAEJERABCREQAQkREAEJERABCREQAQkREAEJERABCREQAQkREAEJERABCREQAQkREAEJERABCREQAQkREAEJERABCREQAQkREAEJERABCREQAQkREAEJERABCREQAQkREAEJERABCREQAQkREAEJERABCREQAQkREAEJERABCREQAQkREAEJERABCREQAQkREAEJERABCREQAQkREAEJERABCREQAQkREAEJERABCREQAQkREAEJERABCREQAQkREAEJERABCREQAQkREAEJERABCREQAQkREAEJERABCREQAQkREAEJERABCREQAQkREAEJERABCREQAQkREAEJERABCREQAQkREAEJERABCREQAQkREAEJERABCREQAQkREAEJERABCREQAQkREAEJERABCREQAQkREAEJERABCREQAQkREAEJERABCREQAQkREAEJERABCREQAQkREAEJERABCREQAQkREAEJERABCREQAQkREAEJERABCREQAQkREAEJERABCREQAQkREAEJERABCREQAQkREAEJERABCREQAQkREAEJERABCREQAQkREAEJERABCREQAQkREAEJERABCREQAQkREAEJERABCREQAQkREAEJERABC3t38Qd7d/EHe3fxB3t38Qd7d/EHe3fxB3t38Qd7d/EHe3fxB3t38Qd7d/EHe3fxB3t38Qd7d/EHe3fxB3t38Qd7d/EHe3fxB3t38Qd7d/EHe3fxB3t38Qd7d/EHe3fxB3t38Qd7d/EHe3fxB3t38Qd7d/EHe3fxB3t38Qd7d/EHe3fxB3t38Qd7d/EHe3fxB3t38Qd7d/EHe3fxB3t38Qd7d/EHe3fxB3t38Qd7d/EHe3fxB3t38Qd7d/EHe3fxB3t38Qd7d/EHe3fxB3t38Qd7d/EHe3fxB3t38Qd7d/EHe3fxB3t38Qd7d/EHe3fxB3t38Qd7d/EHe3fxB3t38Qd7d/EHe3fxB3t38Qd7d/EHe3fxB3t38Qd7d/EHe3fxB3t38Qd7d/EHe3fxB3t38Qd7d/EHe3fxB3t38Qd7d/EHe3fxB3t38Qd7d/EHe3fxB3t38Qd7d/EHe3fxB3t38Qd7d/EHe3fxB3t38Qd7d/EHe3fxB3t38Qd7d/EHe3fxB3t38Qd7d/EHe3fxB3t38Qd7d/EHe3fxB3t38Qd7d/EHe3fxB3t38Qd7d/EHe3fxB3t38Qd7d/EHe3fxB3t38Qd7d/EHe3fxB3t38Qd7d/EHe3fxB3t38Qd7d/EHe3fxB0if+QdIn/kHSJ/5B0if+QdIn/kHSJ/5B0if+QdIn/kHSJ/5B0if+QdIn/kHSJ/5B0if+QdIn/kHSJ/5B0if+QdIn/kHSJ/5B0if+QdIn/kHSJ/5B0if+QdIn/kHSJ/5B0if+QdIn/kHSJ/5B0if+QdIn/kHSJ/5B0if+QdIn/kHSJ/5B0if+QdIn/kHSJ/5B0if+QdIn/kHSJ/5B0if+QdIn/kHSJ/5B0if+QdIn/kHSJ/5B0if+QdIn/kHSJ/5B0if+QdIn/kHSJ/5B0if+QdIn/kHSJ/5B0if+QdIn/kHSJ/5B0if+QdIn/kHSJ/5B0if+QdIn/kHSJ/5B0if+QdIn/kHSJ/5B0if+QdIn/kHSJ/5B0if+QdIn/kHSJ/5B0if+QdIn/kHSJ/5B0if+QdIn/kHSJ/5B0if+QdIn/kHSJ/5B0if+QdIn/kHSJ/5B0if+QdIn/kHSJ/5B0if+QdIn/kHSJ/5B0if+QdIn/kHSJ/5B0if+QdIn/kHSJ/5B0if+QdIn/kHSJ/5B0if+QdIn/kHSJ/5B0if+QdIn/kHSJ/5B0if+QdIn/kHSJ/5B0if+QdIn/kHSJ/5B0if+QdIn/kHSJ/5B0if+QdIn/kHSJ/5B0if+QdIn/kHSJ/5BsYUBQrGFAUKxhQFCsYUBQrGFAUKxhQFCsYUBQrGFAUKxhQFCsYUBQrGFAUKxhQFCsYUBQrGFAUKxhQFCsYUBQrGFAUKxhQFCsYUBQrGFAUKxhQFCsYUBQrGFAUKxhQFCsYUBQrGFAUKxhQFCsYUBQrGFAUKxhQFCsYUBQrGFAUKxhQFCsYUBQrGFAUKxhQFCsYUBQrGFAUKxhQFCsYUBQrGFAUKxhQFCsYUBQrGFAUKxhQFCsYUBQrGFAUKxhQFCsYUBQrGFAUKxhQFCsYUBQrGFAUKxhQFCsYUBQrGFAUKxhQFCsYUBQrGFAUKxhQFCsYUBQrGFAUKxhQFCsYUBQrGFAUKxhQFCsYUBQrGFAUKxhQFCsYUBQrGFAUKxhQFCsYUBQrGFAUKxhQFCsYUBQrGFAUKxhQFCsYUBQrGFAUKxhQFCsYUBQrGFAUKxhQFCsYUBQrGFAUKxhQFCsYUBQrGFAUKxhQFCsYUBQrGFAUKxhQFCsYUBQrGFAUKxhQFCsYUBQrGFAUKxhQFCsYUBQrGFAUKxhQFCsYUBQrGFAUKxhQFCsYUBQrGFAUKxhQFCsYUBQrGFAUKxhQFCsYUBQrGFAUKxhQFCsYUBQrGFAUKxhQFCsYUBQrGFAUKxhQFC",
          "dtype": "f4"
         },
         "yaxis": "y"
        }
       ],
       "layout": {
        "legend": {
         "tracegroupgap": 0
        },
        "margin": {
         "t": 60
        },
        "template": {
         "data": {
          "bar": [
           {
            "error_x": {
             "color": "#2a3f5f"
            },
            "error_y": {
             "color": "#2a3f5f"
            },
            "marker": {
             "line": {
              "color": "#E5ECF6",
              "width": 0.5
             },
             "pattern": {
              "fillmode": "overlay",
              "size": 10,
              "solidity": 0.2
             }
            },
            "type": "bar"
           }
          ],
          "barpolar": [
           {
            "marker": {
             "line": {
              "color": "#E5ECF6",
              "width": 0.5
             },
             "pattern": {
              "fillmode": "overlay",
              "size": 10,
              "solidity": 0.2
             }
            },
            "type": "barpolar"
           }
          ],
          "carpet": [
           {
            "aaxis": {
             "endlinecolor": "#2a3f5f",
             "gridcolor": "white",
             "linecolor": "white",
             "minorgridcolor": "white",
             "startlinecolor": "#2a3f5f"
            },
            "baxis": {
             "endlinecolor": "#2a3f5f",
             "gridcolor": "white",
             "linecolor": "white",
             "minorgridcolor": "white",
             "startlinecolor": "#2a3f5f"
            },
            "type": "carpet"
           }
          ],
          "choropleth": [
           {
            "colorbar": {
             "outlinewidth": 0,
             "ticks": ""
            },
            "type": "choropleth"
           }
          ],
          "contour": [
           {
            "colorbar": {
             "outlinewidth": 0,
             "ticks": ""
            },
            "colorscale": [
             [
              0,
              "#0d0887"
             ],
             [
              0.1111111111111111,
              "#46039f"
             ],
             [
              0.2222222222222222,
              "#7201a8"
             ],
             [
              0.3333333333333333,
              "#9c179e"
             ],
             [
              0.4444444444444444,
              "#bd3786"
             ],
             [
              0.5555555555555556,
              "#d8576b"
             ],
             [
              0.6666666666666666,
              "#ed7953"
             ],
             [
              0.7777777777777778,
              "#fb9f3a"
             ],
             [
              0.8888888888888888,
              "#fdca26"
             ],
             [
              1,
              "#f0f921"
             ]
            ],
            "type": "contour"
           }
          ],
          "contourcarpet": [
           {
            "colorbar": {
             "outlinewidth": 0,
             "ticks": ""
            },
            "type": "contourcarpet"
           }
          ],
          "heatmap": [
           {
            "colorbar": {
             "outlinewidth": 0,
             "ticks": ""
            },
            "colorscale": [
             [
              0,
              "#0d0887"
             ],
             [
              0.1111111111111111,
              "#46039f"
             ],
             [
              0.2222222222222222,
              "#7201a8"
             ],
             [
              0.3333333333333333,
              "#9c179e"
             ],
             [
              0.4444444444444444,
              "#bd3786"
             ],
             [
              0.5555555555555556,
              "#d8576b"
             ],
             [
              0.6666666666666666,
              "#ed7953"
             ],
             [
              0.7777777777777778,
              "#fb9f3a"
             ],
             [
              0.8888888888888888,
              "#fdca26"
             ],
             [
              1,
              "#f0f921"
             ]
            ],
            "type": "heatmap"
           }
          ],
          "histogram": [
           {
            "marker": {
             "pattern": {
              "fillmode": "overlay",
              "size": 10,
              "solidity": 0.2
             }
            },
            "type": "histogram"
           }
          ],
          "histogram2d": [
           {
            "colorbar": {
             "outlinewidth": 0,
             "ticks": ""
            },
            "colorscale": [
             [
              0,
              "#0d0887"
             ],
             [
              0.1111111111111111,
              "#46039f"
             ],
             [
              0.2222222222222222,
              "#7201a8"
             ],
             [
              0.3333333333333333,
              "#9c179e"
             ],
             [
              0.4444444444444444,
              "#bd3786"
             ],
             [
              0.5555555555555556,
              "#d8576b"
             ],
             [
              0.6666666666666666,
              "#ed7953"
             ],
             [
              0.7777777777777778,
              "#fb9f3a"
             ],
             [
              0.8888888888888888,
              "#fdca26"
             ],
             [
              1,
              "#f0f921"
             ]
            ],
            "type": "histogram2d"
           }
          ],
          "histogram2dcontour": [
           {
            "colorbar": {
             "outlinewidth": 0,
             "ticks": ""
            },
            "colorscale": [
             [
              0,
              "#0d0887"
             ],
             [
              0.1111111111111111,
              "#46039f"
             ],
             [
              0.2222222222222222,
              "#7201a8"
             ],
             [
              0.3333333333333333,
              "#9c179e"
             ],
             [
              0.4444444444444444,
              "#bd3786"
             ],
             [
              0.5555555555555556,
              "#d8576b"
             ],
             [
              0.6666666666666666,
              "#ed7953"
             ],
             [
              0.7777777777777778,
              "#fb9f3a"
             ],
             [
              0.8888888888888888,
              "#fdca26"
             ],
             [
              1,
              "#f0f921"
             ]
            ],
            "type": "histogram2dcontour"
           }
          ],
          "mesh3d": [
           {
            "colorbar": {
             "outlinewidth": 0,
             "ticks": ""
            },
            "type": "mesh3d"
           }
          ],
          "parcoords": [
           {
            "line": {
             "colorbar": {
              "outlinewidth": 0,
              "ticks": ""
             }
            },
            "type": "parcoords"
           }
          ],
          "pie": [
           {
            "automargin": true,
            "type": "pie"
           }
          ],
          "scatter": [
           {
            "fillpattern": {
             "fillmode": "overlay",
             "size": 10,
             "solidity": 0.2
            },
            "type": "scatter"
           }
          ],
          "scatter3d": [
           {
            "line": {
             "colorbar": {
              "outlinewidth": 0,
              "ticks": ""
             }
            },
            "marker": {
             "colorbar": {
              "outlinewidth": 0,
              "ticks": ""
             }
            },
            "type": "scatter3d"
           }
          ],
          "scattercarpet": [
           {
            "marker": {
             "colorbar": {
              "outlinewidth": 0,
              "ticks": ""
             }
            },
            "type": "scattercarpet"
           }
          ],
          "scattergeo": [
           {
            "marker": {
             "colorbar": {
              "outlinewidth": 0,
              "ticks": ""
             }
            },
            "type": "scattergeo"
           }
          ],
          "scattergl": [
           {
            "marker": {
             "colorbar": {
              "outlinewidth": 0,
              "ticks": ""
             }
            },
            "type": "scattergl"
           }
          ],
          "scattermap": [
           {
            "marker": {
             "colorbar": {
              "outlinewidth": 0,
              "ticks": ""
             }
            },
            "type": "scattermap"
           }
          ],
          "scattermapbox": [
           {
            "marker": {
             "colorbar": {
              "outlinewidth": 0,
              "ticks": ""
             }
            },
            "type": "scattermapbox"
           }
          ],
          "scatterpolar": [
           {
            "marker": {
             "colorbar": {
              "outlinewidth": 0,
              "ticks": ""
             }
            },
            "type": "scatterpolar"
           }
          ],
          "scatterpolargl": [
           {
            "marker": {
             "colorbar": {
              "outlinewidth": 0,
              "ticks": ""
             }
            },
            "type": "scatterpolargl"
           }
          ],
          "scatterternary": [
           {
            "marker": {
             "colorbar": {
              "outlinewidth": 0,
              "ticks": ""
             }
            },
            "type": "scatterternary"
           }
          ],
          "surface": [
           {
            "colorbar": {
             "outlinewidth": 0,
             "ticks": ""
            },
            "colorscale": [
             [
              0,
              "#0d0887"
             ],
             [
              0.1111111111111111,
              "#46039f"
             ],
             [
              0.2222222222222222,
              "#7201a8"
             ],
             [
              0.3333333333333333,
              "#9c179e"
             ],
             [
              0.4444444444444444,
              "#bd3786"
             ],
             [
              0.5555555555555556,
              "#d8576b"
             ],
             [
              0.6666666666666666,
              "#ed7953"
             ],
             [
              0.7777777777777778,
              "#fb9f3a"
             ],
             [
              0.8888888888888888,
              "#fdca26"
             ],
             [
              1,
              "#f0f921"
             ]
            ],
            "type": "surface"
           }
          ],
          "table": [
           {
            "cells": {
             "fill": {
              "color": "#EBF0F8"
             },
             "line": {
              "color": "white"
             }
            },
            "header": {
             "fill": {
              "color": "#C8D4E3"
             },
             "line": {
              "color": "white"
             }
            },
            "type": "table"
           }
          ]
         },
         "layout": {
          "annotationdefaults": {
           "arrowcolor": "#2a3f5f",
           "arrowhead": 0,
           "arrowwidth": 1
          },
          "autotypenumbers": "strict",
          "coloraxis": {
           "colorbar": {
            "outlinewidth": 0,
            "ticks": ""
           }
          },
          "colorscale": {
           "diverging": [
            [
             0,
             "#8e0152"
            ],
            [
             0.1,
             "#c51b7d"
            ],
            [
             0.2,
             "#de77ae"
            ],
            [
             0.3,
             "#f1b6da"
            ],
            [
             0.4,
             "#fde0ef"
            ],
            [
             0.5,
             "#f7f7f7"
            ],
            [
             0.6,
             "#e6f5d0"
            ],
            [
             0.7,
             "#b8e186"
            ],
            [
             0.8,
             "#7fbc41"
            ],
            [
             0.9,
             "#4d9221"
            ],
            [
             1,
             "#276419"
            ]
           ],
           "sequential": [
            [
             0,
             "#0d0887"
            ],
            [
             0.1111111111111111,
             "#46039f"
            ],
            [
             0.2222222222222222,
             "#7201a8"
            ],
            [
             0.3333333333333333,
             "#9c179e"
            ],
            [
             0.4444444444444444,
             "#bd3786"
            ],
            [
             0.5555555555555556,
             "#d8576b"
            ],
            [
             0.6666666666666666,
             "#ed7953"
            ],
            [
             0.7777777777777778,
             "#fb9f3a"
            ],
            [
             0.8888888888888888,
             "#fdca26"
            ],
            [
             1,
             "#f0f921"
            ]
           ],
           "sequentialminus": [
            [
             0,
             "#0d0887"
            ],
            [
             0.1111111111111111,
             "#46039f"
            ],
            [
             0.2222222222222222,
             "#7201a8"
            ],
            [
             0.3333333333333333,
             "#9c179e"
            ],
            [
             0.4444444444444444,
             "#bd3786"
            ],
            [
             0.5555555555555556,
             "#d8576b"
            ],
            [
             0.6666666666666666,
             "#ed7953"
            ],
            [
             0.7777777777777778,
             "#fb9f3a"
            ],
            [
             0.8888888888888888,
             "#fdca26"
            ],
            [
             1,
             "#f0f921"
            ]
           ]
          },
          "colorway": [
           "#636efa",
           "#EF553B",
           "#00cc96",
           "#ab63fa",
           "#FFA15A",
           "#19d3f3",
           "#FF6692",
           "#B6E880",
           "#FF97FF",
           "#FECB52"
          ],
          "font": {
           "color": "#2a3f5f"
          },
          "geo": {
           "bgcolor": "white",
           "lakecolor": "white",
           "landcolor": "#E5ECF6",
           "showlakes": true,
           "showland": true,
           "subunitcolor": "white"
          },
          "hoverlabel": {
           "align": "left"
          },
          "hovermode": "closest",
          "mapbox": {
           "style": "light"
          },
          "paper_bgcolor": "white",
          "plot_bgcolor": "#E5ECF6",
          "polar": {
           "angularaxis": {
            "gridcolor": "white",
            "linecolor": "white",
            "ticks": ""
           },
           "bgcolor": "#E5ECF6",
           "radialaxis": {
            "gridcolor": "white",
            "linecolor": "white",
            "ticks": ""
           }
          },
          "scene": {
           "xaxis": {
            "backgroundcolor": "#E5ECF6",
            "gridcolor": "white",
            "gridwidth": 2,
            "linecolor": "white",
            "showbackground": true,
            "ticks": "",
            "zerolinecolor": "white"
           },
           "yaxis": {
            "backgroundcolor": "#E5ECF6",
            "gridcolor": "white",
            "gridwidth": 2,
            "linecolor": "white",
            "showbackground": true,
            "ticks": "",
            "zerolinecolor": "white"
           },
           "zaxis": {
            "backgroundcolor": "#E5ECF6",
            "gridcolor": "white",
            "gridwidth": 2,
            "linecolor": "white",
            "showbackground": true,
            "ticks": "",
            "zerolinecolor": "white"
           }
          },
          "shapedefaults": {
           "line": {
            "color": "#2a3f5f"
           }
          },
          "ternary": {
           "aaxis": {
            "gridcolor": "white",
            "linecolor": "white",
            "ticks": ""
           },
           "baxis": {
            "gridcolor": "white",
            "linecolor": "white",
            "ticks": ""
           },
           "bgcolor": "#E5ECF6",
           "caxis": {
            "gridcolor": "white",
            "linecolor": "white",
            "ticks": ""
           }
          },
          "title": {
           "x": 0.05
          },
          "xaxis": {
           "automargin": true,
           "gridcolor": "white",
           "linecolor": "white",
           "ticks": "",
           "title": {
            "standoff": 15
           },
           "zerolinecolor": "white",
           "zerolinewidth": 2
          },
          "yaxis": {
           "automargin": true,
           "gridcolor": "white",
           "linecolor": "white",
           "ticks": "",
           "title": {
            "standoff": 15
           },
           "zerolinecolor": "white",
           "zerolinewidth": 2
          }
         }
        },
        "xaxis": {
         "anchor": "y",
         "domain": [
          0,
          1
         ],
         "title": {
          "text": "year"
         }
        },
        "yaxis": {
         "anchor": "x",
         "domain": [
          0,
          1
         ],
         "title": {
          "text": "avg_precipitation_all_rivers_per_year"
         }
        }
       }
      }
     },
     "metadata": {},
     "output_type": "display_data"
    }
   ],
   "source": [
    "# using plotly\n",
    "fig = px.line(ts_df_2010, x=\"year\", y=\"avg_precipitation_all_rivers_per_year\")   \n",
    "fig.show()"
   ]
  },
  {
   "cell_type": "markdown",
   "metadata": {},
   "source": [
    "### **Trend Analysis Summary:**\n",
    "- There is a clear upward trend since 1970 up until 2019\n",
    "- Can see from the graphs that the trend has been relatively stable since 2000\n",
    "    - Therefore this is a good period to use in my analysis when averaging precipitation levels across all years\n",
    "\n",
    "##### **For analysis:** Will average the precipitation data from 2000-2019 for each month across the years"
   ]
  },
  {
   "cell_type": "markdown",
   "metadata": {},
   "source": [
    "## ***Seasonality Analysis***"
   ]
  },
  {
   "cell_type": "code",
   "execution_count": 58,
   "metadata": {},
   "outputs": [
    {
     "data": {
      "application/vnd.plotly.v1+json": {
       "config": {
        "plotlyServerURL": "https://plot.ly"
       },
       "data": [
        {
         "hovertemplate": "year_month=%{x}<br>avg_precipitation_all_rivers_per_month=%{y}<extra></extra>",
         "legendgroup": "",
         "line": {
          "color": "#636efa",
          "dash": "solid"
         },
         "marker": {
          "symbol": "circle"
         },
         "mode": "lines",
         "name": "",
         "orientation": "v",
         "showlegend": false,
         "type": "scatter",
         "x": [
          "2019-1",
          "2019-1",
          "2019-1",
          "2019-1",
          "2019-1",
          "2019-1",
          "2019-1",
          "2019-1",
          "2019-1",
          "2019-1",
          "2019-2",
          "2019-2",
          "2019-2",
          "2019-2",
          "2019-2",
          "2019-2",
          "2019-2",
          "2019-2",
          "2019-2",
          "2019-2",
          "2019-3",
          "2019-3",
          "2019-3",
          "2019-3",
          "2019-3",
          "2019-3",
          "2019-3",
          "2019-3",
          "2019-3",
          "2019-3",
          "2019-4",
          "2019-4",
          "2019-4",
          "2019-4",
          "2019-4",
          "2019-4",
          "2019-4",
          "2019-4",
          "2019-4",
          "2019-4",
          "2019-5",
          "2019-5",
          "2019-5",
          "2019-5",
          "2019-5",
          "2019-5",
          "2019-5",
          "2019-5",
          "2019-5",
          "2019-5",
          "2019-6",
          "2019-6",
          "2019-6",
          "2019-6",
          "2019-6",
          "2019-6",
          "2019-6",
          "2019-6",
          "2019-6",
          "2019-6",
          "2019-7",
          "2019-7",
          "2019-7",
          "2019-7",
          "2019-7",
          "2019-7",
          "2019-7",
          "2019-7",
          "2019-7",
          "2019-7",
          "2019-8",
          "2019-8",
          "2019-8",
          "2019-8",
          "2019-8",
          "2019-8",
          "2019-8",
          "2019-8",
          "2019-8",
          "2019-8",
          "2019-9",
          "2019-9",
          "2019-9",
          "2019-9",
          "2019-9",
          "2019-9",
          "2019-9",
          "2019-9",
          "2019-9",
          "2019-9",
          "2019-10",
          "2019-10",
          "2019-10",
          "2019-10",
          "2019-10",
          "2019-10",
          "2019-10",
          "2019-10",
          "2019-10",
          "2019-10",
          "2019-11",
          "2019-11",
          "2019-11",
          "2019-11",
          "2019-11",
          "2019-11",
          "2019-11",
          "2019-11",
          "2019-11",
          "2019-11",
          "2019-12",
          "2019-12",
          "2019-12",
          "2019-12",
          "2019-12",
          "2019-12",
          "2019-12",
          "2019-12",
          "2019-12",
          "2019-12"
         ],
         "xaxis": "x",
         "y": {
          "bdata": "AAD7QQAA+0EAAPtBAAD7QQAA+0EAAPtBAAD7QQAA+0EAAPtBAAD7QWZmA0JmZgNCZmYDQmZmA0JmZgNCZmYDQmZmA0JmZgNCZmYDQmZmA0IAgAVCAIAFQgCABUIAgAVCAIAFQgCABUIAgAVCAIAFQgCABUIAgAVCM7MJQjOzCUIzswlCM7MJQjOzCUIzswlCM7MJQjOzCUIzswlCM7MJQs1MBkLNTAZCzUwGQs1MBkLNTAZCzUwGQs1MBkLNTAZCzUwGQs1MBkIzswJCM7MCQjOzAkIzswJCM7MCQjOzAkIzswJCM7MCQjOzAkIzswJCRMQBQkTEAUJExAFCRMQBQkTEAUJExAFCRMQBQkTEAUJExAFCRMQBQmZm/EFmZvxBZmb8QWZm/EFmZvxBZmb8QWZm/EFmZvxBZmb8QWZm/EEAAPxBAAD8QQAA/EEAAPxBAAD8QQAA/EEAAPxBAAD8QQAA/EEAAPxBAIAAQgCAAEIAgABCAIAAQgCAAEIAgABCAIAAQgCAAEIAgABCAIAAQpqZ/kGamf5Bmpn+QZqZ/kGamf5Bmpn+QZqZ/kGamf5Bmpn+QZqZ/kHNzPZBzcz2Qc3M9kHNzPZBzcz2Qc3M9kHNzPZBzcz2Qc3M9kHNzPZB",
          "dtype": "f4"
         },
         "yaxis": "y"
        },
        {
         "hovertemplate": "year_month=%{x}<br>avg_precipitation_all_rivers_per_month=%{y}<extra></extra>",
         "legendgroup": "",
         "line": {
          "color": "#636efa",
          "dash": "solid"
         },
         "marker": {
          "symbol": "circle"
         },
         "mode": "lines",
         "name": "",
         "orientation": "v",
         "showlegend": false,
         "type": "scatter",
         "x": [
          "2010-1",
          "2010-1",
          "2010-1",
          "2010-1",
          "2010-1",
          "2010-1",
          "2010-1",
          "2010-1",
          "2010-1",
          "2010-1",
          "2010-2",
          "2010-2",
          "2010-2",
          "2010-2",
          "2010-2",
          "2010-2",
          "2010-2",
          "2010-2",
          "2010-2",
          "2010-2",
          "2010-3",
          "2010-3",
          "2010-3",
          "2010-3",
          "2010-3",
          "2010-3",
          "2010-3",
          "2010-3",
          "2010-3",
          "2010-3",
          "2010-4",
          "2010-4",
          "2010-4",
          "2010-4",
          "2010-4",
          "2010-4",
          "2010-4",
          "2010-4",
          "2010-4",
          "2010-4",
          "2010-5",
          "2010-5",
          "2010-5",
          "2010-5",
          "2010-5",
          "2010-5",
          "2010-5",
          "2010-5",
          "2010-5",
          "2010-5",
          "2010-6",
          "2010-6",
          "2010-6",
          "2010-6",
          "2010-6",
          "2010-6",
          "2010-6",
          "2010-6",
          "2010-6",
          "2010-6",
          "2010-7",
          "2010-7",
          "2010-7",
          "2010-7",
          "2010-7",
          "2010-7",
          "2010-7",
          "2010-7",
          "2010-7",
          "2010-7",
          "2010-8",
          "2010-8",
          "2010-8",
          "2010-8",
          "2010-8",
          "2010-8",
          "2010-8",
          "2010-8",
          "2010-8",
          "2010-8",
          "2010-9",
          "2010-9",
          "2010-9",
          "2010-9",
          "2010-9",
          "2010-9",
          "2010-9",
          "2010-9",
          "2010-9",
          "2010-9",
          "2010-10",
          "2010-10",
          "2010-10",
          "2010-10",
          "2010-10",
          "2010-10",
          "2010-10",
          "2010-10",
          "2010-10",
          "2010-10",
          "2010-11",
          "2010-11",
          "2010-11",
          "2010-11",
          "2010-11",
          "2010-11",
          "2010-11",
          "2010-11",
          "2010-11",
          "2010-11",
          "2010-12",
          "2010-12",
          "2010-12",
          "2010-12",
          "2010-12",
          "2010-12",
          "2010-12",
          "2010-12",
          "2010-12",
          "2010-12"
         ],
         "xaxis": "x2",
         "y": {
          "bdata": "AAD1QQAA9UEAAPVBAAD1QQAA9UEAAPVBAAD1QQAA9UEAAPVBAAD1Qc1MAULNTAFCzUwBQs1MAULNTAFCzUwBQs1MAULNTAFCzUwBQs1MAUIAgARCAIAEQgCABEIAgARCAIAEQgCABEIAgARCAIAEQgCABEIAgARCZmYJQmZmCUJmZglCZmYJQmZmCUJmZglCZmYJQmZmCUJmZglCZmYJQs1MB0LNTAdCzUwHQs1MB0LNTAdCzUwHQs1MB0LNTAdCzUwHQs1MB0Jm5gBCZuYAQmbmAEJm5gBCZuYAQmbmAEJm5gBCZuYAQmbmAEJm5gBCZmb5QWZm+UFmZvlBZmb5QWZm+UFmZvlBZmb5QWZm+UFmZvlBZmb5QRIR+kESEfpBEhH6QRIR+kESEfpBEhH6QRIR+kESEfpBEhH6QRIR+kHNzPlBzcz5Qc3M+UHNzPlBzcz5Qc3M+UHNzPlBzcz5Qc3M+UHNzPlBMzP7QTMz+0EzM/tBMzP7QTMz+0EzM/tBMzP7QTMz+0EzM/tBMzP7QQAA+EEAAPhBAAD4QQAA+EEAAPhBAAD4QQAA+EEAAPhBAAD4QQAA+EGamfFBmpnxQZqZ8UGamfFBmpnxQZqZ8UGamfFBmpnxQZqZ8UGamfFB",
          "dtype": "f4"
         },
         "yaxis": "y2"
        },
        {
         "hovertemplate": "year_month=%{x}<br>avg_precipitation_all_rivers_per_month=%{y}<extra></extra>",
         "legendgroup": "",
         "line": {
          "color": "#636efa",
          "dash": "solid"
         },
         "marker": {
          "symbol": "circle"
         },
         "mode": "lines",
         "name": "",
         "orientation": "v",
         "showlegend": false,
         "type": "scatter",
         "x": [
          "2010-1",
          "2010-1",
          "2010-1",
          "2010-1",
          "2010-1",
          "2010-1",
          "2010-1",
          "2010-1",
          "2010-1",
          "2010-1",
          "2010-2",
          "2010-2",
          "2010-2",
          "2010-2",
          "2010-2",
          "2010-2",
          "2010-2",
          "2010-2",
          "2010-2",
          "2010-2",
          "2010-3",
          "2010-3",
          "2010-3",
          "2010-3",
          "2010-3",
          "2010-3",
          "2010-3",
          "2010-3",
          "2010-3",
          "2010-3",
          "2010-4",
          "2010-4",
          "2010-4",
          "2010-4",
          "2010-4",
          "2010-4",
          "2010-4",
          "2010-4",
          "2010-4",
          "2010-4",
          "2010-5",
          "2010-5",
          "2010-5",
          "2010-5",
          "2010-5",
          "2010-5",
          "2010-5",
          "2010-5",
          "2010-5",
          "2010-5",
          "2010-6",
          "2010-6",
          "2010-6",
          "2010-6",
          "2010-6",
          "2010-6",
          "2010-6",
          "2010-6",
          "2010-6",
          "2010-6",
          "2010-7",
          "2010-7",
          "2010-7",
          "2010-7",
          "2010-7",
          "2010-7",
          "2010-7",
          "2010-7",
          "2010-7",
          "2010-7",
          "2010-8",
          "2010-8",
          "2010-8",
          "2010-8",
          "2010-8",
          "2010-8",
          "2010-8",
          "2010-8",
          "2010-8",
          "2010-8",
          "2010-9",
          "2010-9",
          "2010-9",
          "2010-9",
          "2010-9",
          "2010-9",
          "2010-9",
          "2010-9",
          "2010-9",
          "2010-9",
          "2010-10",
          "2010-10",
          "2010-10",
          "2010-10",
          "2010-10",
          "2010-10",
          "2010-10",
          "2010-10",
          "2010-10",
          "2010-10",
          "2010-11",
          "2010-11",
          "2010-11",
          "2010-11",
          "2010-11",
          "2010-11",
          "2010-11",
          "2010-11",
          "2010-11",
          "2010-11",
          "2010-12",
          "2010-12",
          "2010-12",
          "2010-12",
          "2010-12",
          "2010-12",
          "2010-12",
          "2010-12",
          "2010-12",
          "2010-12"
         ],
         "xaxis": "x3",
         "y": {
          "bdata": "AAD1QQAA9UEAAPVBAAD1QQAA9UEAAPVBAAD1QQAA9UEAAPVBAAD1Qc1MAULNTAFCzUwBQs1MAULNTAFCzUwBQs1MAULNTAFCzUwBQs1MAUIAgARCAIAEQgCABEIAgARCAIAEQgCABEIAgARCAIAEQgCABEIAgARCZmYJQmZmCUJmZglCZmYJQmZmCUJmZglCZmYJQmZmCUJmZglCZmYJQs1MB0LNTAdCzUwHQs1MB0LNTAdCzUwHQs1MB0LNTAdCzUwHQs1MB0Jm5gBCZuYAQmbmAEJm5gBCZuYAQmbmAEJm5gBCZuYAQmbmAEJm5gBCZmb5QWZm+UFmZvlBZmb5QWZm+UFmZvlBZmb5QWZm+UFmZvlBZmb5QRIR+kESEfpBEhH6QRIR+kESEfpBEhH6QRIR+kESEfpBEhH6QRIR+kHNzPlBzcz5Qc3M+UHNzPlBzcz5Qc3M+UHNzPlBzcz5Qc3M+UHNzPlBMzP7QTMz+0EzM/tBMzP7QTMz+0EzM/tBMzP7QTMz+0EzM/tBMzP7QQAA+EEAAPhBAAD4QQAA+EEAAPhBAAD4QQAA+EEAAPhBAAD4QQAA+EGamfFBmpnxQZqZ8UGamfFBmpnxQZqZ8UGamfFBmpnxQZqZ8UGamfFB",
          "dtype": "f4"
         },
         "yaxis": "y3"
        },
        {
         "hovertemplate": "year_month=%{x}<br>avg_precipitation_all_rivers_per_month=%{y}<extra></extra>",
         "legendgroup": "",
         "line": {
          "color": "#636efa",
          "dash": "solid"
         },
         "marker": {
          "symbol": "circle"
         },
         "mode": "lines",
         "name": "",
         "orientation": "v",
         "showlegend": false,
         "type": "scatter",
         "x": [
          "1990-1",
          "1990-1",
          "1990-1",
          "1990-1",
          "1990-1",
          "1990-1",
          "1990-1",
          "1990-1",
          "1990-1",
          "1990-1",
          "1990-2",
          "1990-2",
          "1990-2",
          "1990-2",
          "1990-2",
          "1990-2",
          "1990-2",
          "1990-2",
          "1990-2",
          "1990-2",
          "1990-3",
          "1990-3",
          "1990-3",
          "1990-3",
          "1990-3",
          "1990-3",
          "1990-3",
          "1990-3",
          "1990-3",
          "1990-3",
          "1990-4",
          "1990-4",
          "1990-4",
          "1990-4",
          "1990-4",
          "1990-4",
          "1990-4",
          "1990-4",
          "1990-4",
          "1990-4",
          "1990-5",
          "1990-5",
          "1990-5",
          "1990-5",
          "1990-5",
          "1990-5",
          "1990-5",
          "1990-5",
          "1990-5",
          "1990-5",
          "1990-6",
          "1990-6",
          "1990-6",
          "1990-6",
          "1990-6",
          "1990-6",
          "1990-6",
          "1990-6",
          "1990-6",
          "1990-6",
          "1990-7",
          "1990-7",
          "1990-7",
          "1990-7",
          "1990-7",
          "1990-7",
          "1990-7",
          "1990-7",
          "1990-7",
          "1990-7",
          "1990-8",
          "1990-8",
          "1990-8",
          "1990-8",
          "1990-8",
          "1990-8",
          "1990-8",
          "1990-8",
          "1990-8",
          "1990-8",
          "1990-9",
          "1990-9",
          "1990-9",
          "1990-9",
          "1990-9",
          "1990-9",
          "1990-9",
          "1990-9",
          "1990-9",
          "1990-9",
          "1990-10",
          "1990-10",
          "1990-10",
          "1990-10",
          "1990-10",
          "1990-10",
          "1990-10",
          "1990-10",
          "1990-10",
          "1990-10",
          "1990-11",
          "1990-11",
          "1990-11",
          "1990-11",
          "1990-11",
          "1990-11",
          "1990-11",
          "1990-11",
          "1990-11",
          "1990-11",
          "1990-12",
          "1990-12",
          "1990-12",
          "1990-12",
          "1990-12",
          "1990-12",
          "1990-12",
          "1990-12",
          "1990-12",
          "1990-12"
         ],
         "xaxis": "x4",
         "y": {
          "bdata": "mpn2QZqZ9kGamfZBmpn2QZqZ9kGamfZBmpn2QZqZ9kGamfZBmpn2QQAA/kEAAP5BAAD+QQAA/kEAAP5BAAD+QQAA/kEAAP5BAAD+QQAA/kEzMwNCMzMDQjMzA0IzMwNCMzMDQjMzA0IzMwNCMzMDQjMzA0IzMwNCAAAHQgAAB0IAAAdCAAAHQgAAB0IAAAdCAAAHQgAAB0IAAAdCAAAHQs3MAkLNzAJCzcwCQs3MAkLNzAJCzcwCQs3MAkLNzAJCzcwCQs3MAkIAAABCAAAAQgAAAEIAAABCAAAAQgAAAEIAAABCAAAAQgAAAEIAAABCzcz5Qc3M+UHNzPlBzcz5Qc3M+UHNzPlBzcz5Qc3M+UHNzPlBzcz5QWZm/kFmZv5BZmb+QWZm/kFmZv5BZmb+QWZm/kFmZv5BZmb+QWZm/kEzM/tBMzP7QTMz+0EzM/tBMzP7QTMz+0EzM/tBMzP7QTMz+0EzM/tB7u76Qe7u+kHu7vpB7u76Qe7u+kHu7vpB7u76Qe7u+kHu7vpB7u76QQAA+UEAAPlBAAD5QQAA+UEAAPlBAAD5QQAA+UEAAPlBAAD5QQAA+UEAAPVBAAD1QQAA9UEAAPVBAAD1QQAA9UEAAPVBAAD1QQAA9UEAAPVB",
          "dtype": "f4"
         },
         "yaxis": "y4"
        },
        {
         "hovertemplate": "year_month=%{x}<br>avg_precipitation_all_rivers_per_month=%{y}<extra></extra>",
         "legendgroup": "",
         "line": {
          "color": "#636efa",
          "dash": "solid"
         },
         "marker": {
          "symbol": "circle"
         },
         "mode": "lines",
         "name": "",
         "orientation": "v",
         "showlegend": false,
         "type": "scatter",
         "x": [
          "1980-1",
          "1980-1",
          "1980-1",
          "1980-1",
          "1980-1",
          "1980-1",
          "1980-1",
          "1980-1",
          "1980-1",
          "1980-1",
          "1980-2",
          "1980-2",
          "1980-2",
          "1980-2",
          "1980-2",
          "1980-2",
          "1980-2",
          "1980-2",
          "1980-2",
          "1980-2",
          "1980-3",
          "1980-3",
          "1980-3",
          "1980-3",
          "1980-3",
          "1980-3",
          "1980-3",
          "1980-3",
          "1980-3",
          "1980-3",
          "1980-4",
          "1980-4",
          "1980-4",
          "1980-4",
          "1980-4",
          "1980-4",
          "1980-4",
          "1980-4",
          "1980-4",
          "1980-4",
          "1980-5",
          "1980-5",
          "1980-5",
          "1980-5",
          "1980-5",
          "1980-5",
          "1980-5",
          "1980-5",
          "1980-5",
          "1980-5",
          "1980-6",
          "1980-6",
          "1980-6",
          "1980-6",
          "1980-6",
          "1980-6",
          "1980-6",
          "1980-6",
          "1980-6",
          "1980-6",
          "1980-7",
          "1980-7",
          "1980-7",
          "1980-7",
          "1980-7",
          "1980-7",
          "1980-7",
          "1980-7",
          "1980-7",
          "1980-7",
          "1980-8",
          "1980-8",
          "1980-8",
          "1980-8",
          "1980-8",
          "1980-8",
          "1980-8",
          "1980-8",
          "1980-8",
          "1980-8",
          "1980-9",
          "1980-9",
          "1980-9",
          "1980-9",
          "1980-9",
          "1980-9",
          "1980-9",
          "1980-9",
          "1980-9",
          "1980-9",
          "1980-10",
          "1980-10",
          "1980-10",
          "1980-10",
          "1980-10",
          "1980-10",
          "1980-10",
          "1980-10",
          "1980-10",
          "1980-10",
          "1980-11",
          "1980-11",
          "1980-11",
          "1980-11",
          "1980-11",
          "1980-11",
          "1980-11",
          "1980-11",
          "1980-11",
          "1980-11",
          "1980-12",
          "1980-12",
          "1980-12",
          "1980-12",
          "1980-12",
          "1980-12",
          "1980-12",
          "1980-12",
          "1980-12",
          "1980-12"
         ],
         "xaxis": "x5",
         "y": {
          "bdata": "mpn1QZqZ9UGamfVBmpn1QZqZ9UGamfVBmpn1QZqZ9UGamfVBmpn1QWZm/UFmZv1BZmb9QWZm/UFmZv1BZmb9QWZm/UFmZv1BZmb9QWZm/UGaGQNCmhkDQpoZA0KaGQNCmhkDQpoZA0KaGQNCmhkDQpoZA0KaGQNCAAAFQgAABUIAAAVCAAAFQgAABUIAAAVCAAAFQgAABUIAAAVCAAAFQjMzBEIzMwRCMzMEQjMzBEIzMwRCMzMEQjMzBEIzMwRCMzMEQjMzBELe3flB3t35Qd7d+UHe3flB3t35Qd7d+UHe3flB3t35Qd7d+UHe3flBAAD5QQAA+UEAAPlBAAD5QQAA+UEAAPlBAAD5QQAA+UEAAPlBAAD5QWZm9EFmZvRBZmb0QWZm9EFmZvRBZmb0QWZm9EFmZvRBZmb0QWZm9EEAAPZBAAD2QQAA9kEAAPZBAAD2QQAA9kEAAPZBAAD2QQAA9kEAAPZBAAD4QQAA+EEAAPhBAAD4QQAA+EEAAPhBAAD4QQAA+EEAAPhBAAD4Qe7u80Hu7vNB7u7zQe7u80Hu7vNB7u7zQe7u80Hu7vNB7u7zQe7u80EzM+1BMzPtQTMz7UEzM+1BMzPtQTMz7UEzM+1BMzPtQTMz7UEzM+1B",
          "dtype": "f4"
         },
         "yaxis": "y5"
        },
        {
         "hovertemplate": "year_month=%{x}<br>avg_precipitation_all_rivers_per_month=%{y}<extra></extra>",
         "legendgroup": "",
         "line": {
          "color": "#636efa",
          "dash": "solid"
         },
         "marker": {
          "symbol": "circle"
         },
         "mode": "lines",
         "name": "",
         "orientation": "v",
         "showlegend": false,
         "type": "scatter",
         "x": [
          "1970-1",
          "1970-1",
          "1970-1",
          "1970-1",
          "1970-1",
          "1970-1",
          "1970-1",
          "1970-1",
          "1970-1",
          "1970-1",
          "1970-2",
          "1970-2",
          "1970-2",
          "1970-2",
          "1970-2",
          "1970-2",
          "1970-2",
          "1970-2",
          "1970-2",
          "1970-2",
          "1970-3",
          "1970-3",
          "1970-3",
          "1970-3",
          "1970-3",
          "1970-3",
          "1970-3",
          "1970-3",
          "1970-3",
          "1970-3",
          "1970-4",
          "1970-4",
          "1970-4",
          "1970-4",
          "1970-4",
          "1970-4",
          "1970-4",
          "1970-4",
          "1970-4",
          "1970-4",
          "1970-5",
          "1970-5",
          "1970-5",
          "1970-5",
          "1970-5",
          "1970-5",
          "1970-5",
          "1970-5",
          "1970-5",
          "1970-5",
          "1970-6",
          "1970-6",
          "1970-6",
          "1970-6",
          "1970-6",
          "1970-6",
          "1970-6",
          "1970-6",
          "1970-6",
          "1970-6",
          "1970-7",
          "1970-7",
          "1970-7",
          "1970-7",
          "1970-7",
          "1970-7",
          "1970-7",
          "1970-7",
          "1970-7",
          "1970-7",
          "1970-8",
          "1970-8",
          "1970-8",
          "1970-8",
          "1970-8",
          "1970-8",
          "1970-8",
          "1970-8",
          "1970-8",
          "1970-8",
          "1970-9",
          "1970-9",
          "1970-9",
          "1970-9",
          "1970-9",
          "1970-9",
          "1970-9",
          "1970-9",
          "1970-9",
          "1970-9",
          "1970-10",
          "1970-10",
          "1970-10",
          "1970-10",
          "1970-10",
          "1970-10",
          "1970-10",
          "1970-10",
          "1970-10",
          "1970-10",
          "1970-11",
          "1970-11",
          "1970-11",
          "1970-11",
          "1970-11",
          "1970-11",
          "1970-11",
          "1970-11",
          "1970-11",
          "1970-11",
          "1970-12",
          "1970-12",
          "1970-12",
          "1970-12",
          "1970-12",
          "1970-12",
          "1970-12",
          "1970-12",
          "1970-12",
          "1970-12"
         ],
         "xaxis": "x6",
         "y": {
          "bdata": "AADxQQAA8UEAAPFBAADxQQAA8UEAAPFBAADxQQAA8UEAAPFBAADxQWZm+kFmZvpBZmb6QWZm+kFmZvpBZmb6QWZm+kFmZvpBZmb6QWZm+kHNzAJCzcwCQs3MAkLNzAJCzcwCQs3MAkLNzAJCzcwCQs3MAkLNzAJCAIACQgCAAkIAgAJCAIACQgCAAkIAgAJCAIACQgCAAkIAgAJCAIACQs3MAELNzABCzcwAQs3MAELNzABCzcwAQs3MAELNzABCzcwAQs3MAELNzPhBzcz4Qc3M+EHNzPhBzcz4Qc3M+EHNzPhBzcz4Qc3M+EHNzPhBEhHzQRIR80ESEfNBEhHzQRIR80ESEfNBEhHzQRIR80ESEfNBEhHzQZqZ9EGamfRBmpn0QZqZ9EGamfRBmpn0QZqZ9EGamfRBmpn0QZqZ9EGamfRBmpn0QZqZ9EGamfRBmpn0QZqZ9EGamfRBmpn0QZqZ9EGamfRBzcz0Qc3M9EHNzPRBzcz0Qc3M9EHNzPRBzcz0Qc3M9EHNzPRBzcz0Qe7u8kHu7vJB7u7yQe7u8kHu7vJB7u7yQe7u8kHu7vJB7u7yQe7u8kHNzO5BzczuQc3M7kHNzO5BzczuQc3M7kHNzO5BzczuQc3M7kHNzO5B",
          "dtype": "f4"
         },
         "yaxis": "y6"
        }
       ],
       "layout": {
        "annotations": [
         {
          "font": {
           "size": 16
          },
          "showarrow": false,
          "text": "2019",
          "x": 0.225,
          "xanchor": "center",
          "xref": "paper",
          "y": 1,
          "yanchor": "bottom",
          "yref": "paper"
         },
         {
          "font": {
           "size": 16
          },
          "showarrow": false,
          "text": "2010",
          "x": 0.775,
          "xanchor": "center",
          "xref": "paper",
          "y": 1,
          "yanchor": "bottom",
          "yref": "paper"
         },
         {
          "font": {
           "size": 16
          },
          "showarrow": false,
          "text": "2000",
          "x": 0.225,
          "xanchor": "center",
          "xref": "paper",
          "y": 0.6111111111111112,
          "yanchor": "bottom",
          "yref": "paper"
         },
         {
          "font": {
           "size": 16
          },
          "showarrow": false,
          "text": "1990",
          "x": 0.775,
          "xanchor": "center",
          "xref": "paper",
          "y": 0.6111111111111112,
          "yanchor": "bottom",
          "yref": "paper"
         },
         {
          "font": {
           "size": 16
          },
          "showarrow": false,
          "text": "1980",
          "x": 0.225,
          "xanchor": "center",
          "xref": "paper",
          "y": 0.22222222222222224,
          "yanchor": "bottom",
          "yref": "paper"
         },
         {
          "font": {
           "size": 16
          },
          "showarrow": false,
          "text": "1970",
          "x": 0.775,
          "xanchor": "center",
          "xref": "paper",
          "y": 0.22222222222222224,
          "yanchor": "bottom",
          "yref": "paper"
         }
        ],
        "template": {
         "data": {
          "bar": [
           {
            "error_x": {
             "color": "#2a3f5f"
            },
            "error_y": {
             "color": "#2a3f5f"
            },
            "marker": {
             "line": {
              "color": "#E5ECF6",
              "width": 0.5
             },
             "pattern": {
              "fillmode": "overlay",
              "size": 10,
              "solidity": 0.2
             }
            },
            "type": "bar"
           }
          ],
          "barpolar": [
           {
            "marker": {
             "line": {
              "color": "#E5ECF6",
              "width": 0.5
             },
             "pattern": {
              "fillmode": "overlay",
              "size": 10,
              "solidity": 0.2
             }
            },
            "type": "barpolar"
           }
          ],
          "carpet": [
           {
            "aaxis": {
             "endlinecolor": "#2a3f5f",
             "gridcolor": "white",
             "linecolor": "white",
             "minorgridcolor": "white",
             "startlinecolor": "#2a3f5f"
            },
            "baxis": {
             "endlinecolor": "#2a3f5f",
             "gridcolor": "white",
             "linecolor": "white",
             "minorgridcolor": "white",
             "startlinecolor": "#2a3f5f"
            },
            "type": "carpet"
           }
          ],
          "choropleth": [
           {
            "colorbar": {
             "outlinewidth": 0,
             "ticks": ""
            },
            "type": "choropleth"
           }
          ],
          "contour": [
           {
            "colorbar": {
             "outlinewidth": 0,
             "ticks": ""
            },
            "colorscale": [
             [
              0,
              "#0d0887"
             ],
             [
              0.1111111111111111,
              "#46039f"
             ],
             [
              0.2222222222222222,
              "#7201a8"
             ],
             [
              0.3333333333333333,
              "#9c179e"
             ],
             [
              0.4444444444444444,
              "#bd3786"
             ],
             [
              0.5555555555555556,
              "#d8576b"
             ],
             [
              0.6666666666666666,
              "#ed7953"
             ],
             [
              0.7777777777777778,
              "#fb9f3a"
             ],
             [
              0.8888888888888888,
              "#fdca26"
             ],
             [
              1,
              "#f0f921"
             ]
            ],
            "type": "contour"
           }
          ],
          "contourcarpet": [
           {
            "colorbar": {
             "outlinewidth": 0,
             "ticks": ""
            },
            "type": "contourcarpet"
           }
          ],
          "heatmap": [
           {
            "colorbar": {
             "outlinewidth": 0,
             "ticks": ""
            },
            "colorscale": [
             [
              0,
              "#0d0887"
             ],
             [
              0.1111111111111111,
              "#46039f"
             ],
             [
              0.2222222222222222,
              "#7201a8"
             ],
             [
              0.3333333333333333,
              "#9c179e"
             ],
             [
              0.4444444444444444,
              "#bd3786"
             ],
             [
              0.5555555555555556,
              "#d8576b"
             ],
             [
              0.6666666666666666,
              "#ed7953"
             ],
             [
              0.7777777777777778,
              "#fb9f3a"
             ],
             [
              0.8888888888888888,
              "#fdca26"
             ],
             [
              1,
              "#f0f921"
             ]
            ],
            "type": "heatmap"
           }
          ],
          "histogram": [
           {
            "marker": {
             "pattern": {
              "fillmode": "overlay",
              "size": 10,
              "solidity": 0.2
             }
            },
            "type": "histogram"
           }
          ],
          "histogram2d": [
           {
            "colorbar": {
             "outlinewidth": 0,
             "ticks": ""
            },
            "colorscale": [
             [
              0,
              "#0d0887"
             ],
             [
              0.1111111111111111,
              "#46039f"
             ],
             [
              0.2222222222222222,
              "#7201a8"
             ],
             [
              0.3333333333333333,
              "#9c179e"
             ],
             [
              0.4444444444444444,
              "#bd3786"
             ],
             [
              0.5555555555555556,
              "#d8576b"
             ],
             [
              0.6666666666666666,
              "#ed7953"
             ],
             [
              0.7777777777777778,
              "#fb9f3a"
             ],
             [
              0.8888888888888888,
              "#fdca26"
             ],
             [
              1,
              "#f0f921"
             ]
            ],
            "type": "histogram2d"
           }
          ],
          "histogram2dcontour": [
           {
            "colorbar": {
             "outlinewidth": 0,
             "ticks": ""
            },
            "colorscale": [
             [
              0,
              "#0d0887"
             ],
             [
              0.1111111111111111,
              "#46039f"
             ],
             [
              0.2222222222222222,
              "#7201a8"
             ],
             [
              0.3333333333333333,
              "#9c179e"
             ],
             [
              0.4444444444444444,
              "#bd3786"
             ],
             [
              0.5555555555555556,
              "#d8576b"
             ],
             [
              0.6666666666666666,
              "#ed7953"
             ],
             [
              0.7777777777777778,
              "#fb9f3a"
             ],
             [
              0.8888888888888888,
              "#fdca26"
             ],
             [
              1,
              "#f0f921"
             ]
            ],
            "type": "histogram2dcontour"
           }
          ],
          "mesh3d": [
           {
            "colorbar": {
             "outlinewidth": 0,
             "ticks": ""
            },
            "type": "mesh3d"
           }
          ],
          "parcoords": [
           {
            "line": {
             "colorbar": {
              "outlinewidth": 0,
              "ticks": ""
             }
            },
            "type": "parcoords"
           }
          ],
          "pie": [
           {
            "automargin": true,
            "type": "pie"
           }
          ],
          "scatter": [
           {
            "fillpattern": {
             "fillmode": "overlay",
             "size": 10,
             "solidity": 0.2
            },
            "type": "scatter"
           }
          ],
          "scatter3d": [
           {
            "line": {
             "colorbar": {
              "outlinewidth": 0,
              "ticks": ""
             }
            },
            "marker": {
             "colorbar": {
              "outlinewidth": 0,
              "ticks": ""
             }
            },
            "type": "scatter3d"
           }
          ],
          "scattercarpet": [
           {
            "marker": {
             "colorbar": {
              "outlinewidth": 0,
              "ticks": ""
             }
            },
            "type": "scattercarpet"
           }
          ],
          "scattergeo": [
           {
            "marker": {
             "colorbar": {
              "outlinewidth": 0,
              "ticks": ""
             }
            },
            "type": "scattergeo"
           }
          ],
          "scattergl": [
           {
            "marker": {
             "colorbar": {
              "outlinewidth": 0,
              "ticks": ""
             }
            },
            "type": "scattergl"
           }
          ],
          "scattermap": [
           {
            "marker": {
             "colorbar": {
              "outlinewidth": 0,
              "ticks": ""
             }
            },
            "type": "scattermap"
           }
          ],
          "scattermapbox": [
           {
            "marker": {
             "colorbar": {
              "outlinewidth": 0,
              "ticks": ""
             }
            },
            "type": "scattermapbox"
           }
          ],
          "scatterpolar": [
           {
            "marker": {
             "colorbar": {
              "outlinewidth": 0,
              "ticks": ""
             }
            },
            "type": "scatterpolar"
           }
          ],
          "scatterpolargl": [
           {
            "marker": {
             "colorbar": {
              "outlinewidth": 0,
              "ticks": ""
             }
            },
            "type": "scatterpolargl"
           }
          ],
          "scatterternary": [
           {
            "marker": {
             "colorbar": {
              "outlinewidth": 0,
              "ticks": ""
             }
            },
            "type": "scatterternary"
           }
          ],
          "surface": [
           {
            "colorbar": {
             "outlinewidth": 0,
             "ticks": ""
            },
            "colorscale": [
             [
              0,
              "#0d0887"
             ],
             [
              0.1111111111111111,
              "#46039f"
             ],
             [
              0.2222222222222222,
              "#7201a8"
             ],
             [
              0.3333333333333333,
              "#9c179e"
             ],
             [
              0.4444444444444444,
              "#bd3786"
             ],
             [
              0.5555555555555556,
              "#d8576b"
             ],
             [
              0.6666666666666666,
              "#ed7953"
             ],
             [
              0.7777777777777778,
              "#fb9f3a"
             ],
             [
              0.8888888888888888,
              "#fdca26"
             ],
             [
              1,
              "#f0f921"
             ]
            ],
            "type": "surface"
           }
          ],
          "table": [
           {
            "cells": {
             "fill": {
              "color": "#EBF0F8"
             },
             "line": {
              "color": "white"
             }
            },
            "header": {
             "fill": {
              "color": "#C8D4E3"
             },
             "line": {
              "color": "white"
             }
            },
            "type": "table"
           }
          ]
         },
         "layout": {
          "annotationdefaults": {
           "arrowcolor": "#2a3f5f",
           "arrowhead": 0,
           "arrowwidth": 1
          },
          "autotypenumbers": "strict",
          "coloraxis": {
           "colorbar": {
            "outlinewidth": 0,
            "ticks": ""
           }
          },
          "colorscale": {
           "diverging": [
            [
             0,
             "#8e0152"
            ],
            [
             0.1,
             "#c51b7d"
            ],
            [
             0.2,
             "#de77ae"
            ],
            [
             0.3,
             "#f1b6da"
            ],
            [
             0.4,
             "#fde0ef"
            ],
            [
             0.5,
             "#f7f7f7"
            ],
            [
             0.6,
             "#e6f5d0"
            ],
            [
             0.7,
             "#b8e186"
            ],
            [
             0.8,
             "#7fbc41"
            ],
            [
             0.9,
             "#4d9221"
            ],
            [
             1,
             "#276419"
            ]
           ],
           "sequential": [
            [
             0,
             "#0d0887"
            ],
            [
             0.1111111111111111,
             "#46039f"
            ],
            [
             0.2222222222222222,
             "#7201a8"
            ],
            [
             0.3333333333333333,
             "#9c179e"
            ],
            [
             0.4444444444444444,
             "#bd3786"
            ],
            [
             0.5555555555555556,
             "#d8576b"
            ],
            [
             0.6666666666666666,
             "#ed7953"
            ],
            [
             0.7777777777777778,
             "#fb9f3a"
            ],
            [
             0.8888888888888888,
             "#fdca26"
            ],
            [
             1,
             "#f0f921"
            ]
           ],
           "sequentialminus": [
            [
             0,
             "#0d0887"
            ],
            [
             0.1111111111111111,
             "#46039f"
            ],
            [
             0.2222222222222222,
             "#7201a8"
            ],
            [
             0.3333333333333333,
             "#9c179e"
            ],
            [
             0.4444444444444444,
             "#bd3786"
            ],
            [
             0.5555555555555556,
             "#d8576b"
            ],
            [
             0.6666666666666666,
             "#ed7953"
            ],
            [
             0.7777777777777778,
             "#fb9f3a"
            ],
            [
             0.8888888888888888,
             "#fdca26"
            ],
            [
             1,
             "#f0f921"
            ]
           ]
          },
          "colorway": [
           "#636efa",
           "#EF553B",
           "#00cc96",
           "#ab63fa",
           "#FFA15A",
           "#19d3f3",
           "#FF6692",
           "#B6E880",
           "#FF97FF",
           "#FECB52"
          ],
          "font": {
           "color": "#2a3f5f"
          },
          "geo": {
           "bgcolor": "white",
           "lakecolor": "white",
           "landcolor": "#E5ECF6",
           "showlakes": true,
           "showland": true,
           "subunitcolor": "white"
          },
          "hoverlabel": {
           "align": "left"
          },
          "hovermode": "closest",
          "mapbox": {
           "style": "light"
          },
          "paper_bgcolor": "white",
          "plot_bgcolor": "#E5ECF6",
          "polar": {
           "angularaxis": {
            "gridcolor": "white",
            "linecolor": "white",
            "ticks": ""
           },
           "bgcolor": "#E5ECF6",
           "radialaxis": {
            "gridcolor": "white",
            "linecolor": "white",
            "ticks": ""
           }
          },
          "scene": {
           "xaxis": {
            "backgroundcolor": "#E5ECF6",
            "gridcolor": "white",
            "gridwidth": 2,
            "linecolor": "white",
            "showbackground": true,
            "ticks": "",
            "zerolinecolor": "white"
           },
           "yaxis": {
            "backgroundcolor": "#E5ECF6",
            "gridcolor": "white",
            "gridwidth": 2,
            "linecolor": "white",
            "showbackground": true,
            "ticks": "",
            "zerolinecolor": "white"
           },
           "zaxis": {
            "backgroundcolor": "#E5ECF6",
            "gridcolor": "white",
            "gridwidth": 2,
            "linecolor": "white",
            "showbackground": true,
            "ticks": "",
            "zerolinecolor": "white"
           }
          },
          "shapedefaults": {
           "line": {
            "color": "#2a3f5f"
           }
          },
          "ternary": {
           "aaxis": {
            "gridcolor": "white",
            "linecolor": "white",
            "ticks": ""
           },
           "baxis": {
            "gridcolor": "white",
            "linecolor": "white",
            "ticks": ""
           },
           "bgcolor": "#E5ECF6",
           "caxis": {
            "gridcolor": "white",
            "linecolor": "white",
            "ticks": ""
           }
          },
          "title": {
           "x": 0.05
          },
          "xaxis": {
           "automargin": true,
           "gridcolor": "white",
           "linecolor": "white",
           "ticks": "",
           "title": {
            "standoff": 15
           },
           "zerolinecolor": "white",
           "zerolinewidth": 2
          },
          "yaxis": {
           "automargin": true,
           "gridcolor": "white",
           "linecolor": "white",
           "ticks": "",
           "title": {
            "standoff": 15
           },
           "zerolinecolor": "white",
           "zerolinewidth": 2
          }
         }
        },
        "title": {
         "text": "Precipitation by Month - All Rivers",
         "x": 0.5
        },
        "xaxis": {
         "anchor": "y",
         "domain": [
          0,
          0.45
         ]
        },
        "xaxis2": {
         "anchor": "y2",
         "domain": [
          0.55,
          1
         ]
        },
        "xaxis3": {
         "anchor": "y3",
         "domain": [
          0,
          0.45
         ]
        },
        "xaxis4": {
         "anchor": "y4",
         "domain": [
          0.55,
          1
         ]
        },
        "xaxis5": {
         "anchor": "y5",
         "domain": [
          0,
          0.45
         ]
        },
        "xaxis6": {
         "anchor": "y6",
         "domain": [
          0.55,
          1
         ]
        },
        "yaxis": {
         "anchor": "x",
         "domain": [
          0.7777777777777778,
          1
         ]
        },
        "yaxis2": {
         "anchor": "x2",
         "domain": [
          0.7777777777777778,
          1
         ]
        },
        "yaxis3": {
         "anchor": "x3",
         "domain": [
          0.3888888888888889,
          0.6111111111111112
         ]
        },
        "yaxis4": {
         "anchor": "x4",
         "domain": [
          0.3888888888888889,
          0.6111111111111112
         ]
        },
        "yaxis5": {
         "anchor": "x5",
         "domain": [
          0,
          0.22222222222222224
         ]
        },
        "yaxis6": {
         "anchor": "x6",
         "domain": [
          0,
          0.22222222222222224
         ]
        }
       }
      }
     },
     "metadata": {},
     "output_type": "display_data"
    }
   ],
   "source": [
    "# 2019 precipitation\n",
    "ts_df_2019 = ts_df[ts_df['year'] == 2019]\n",
    "fig1 = px.line(ts_df_2019, x=\"year_month\", y=\"avg_precipitation_all_rivers_per_month\")   \n",
    "\n",
    "# 2010 precipitation\n",
    "ts_df_2010 = ts_df[ts_df['year'] == 2010]\n",
    "fig2 = px.line(ts_df_2010, x=\"year_month\", y=\"avg_precipitation_all_rivers_per_month\")   \n",
    "\n",
    "# 2000 precipitation\n",
    "ts_df_2000 = ts_df[ts_df['year'] == 2000]\n",
    "fig3 = px.line(ts_df_2010, x=\"year_month\", y=\"avg_precipitation_all_rivers_per_month\") \n",
    "\n",
    "# 1990 precipitation\n",
    "ts_df_1990 = ts_df[ts_df['year'] == 1990]\n",
    "fig4 = px.line(ts_df_1990, x=\"year_month\", y=\"avg_precipitation_all_rivers_per_month\") \n",
    "\n",
    "# 1980 precipitation\n",
    "ts_df_1980 = ts_df[ts_df['year'] == 1980]\n",
    "fig5 = px.line(ts_df_1980, x=\"year_month\", y=\"avg_precipitation_all_rivers_per_month\")\n",
    "\n",
    "# 1970 precipitation\n",
    "ts_df_1970 = ts_df[ts_df['year'] == 1970]\n",
    "fig6 = px.line(ts_df_1970, x=\"year_month\", y=\"avg_precipitation_all_rivers_per_month\")\n",
    "\n",
    "# make subplots\n",
    "fig = make_subplots(rows=3, cols=2, subplot_titles=(\"2019\", \"2010\", \"2000\", \"1990\", \"1980\", \"1970\"))\n",
    "fig.add_trace(fig1.data[0], row=1, col=1)\n",
    "fig.add_trace(fig2.data[0], row=1, col=2)\n",
    "fig.add_trace(fig3.data[0], row=2, col=1)\n",
    "fig.add_trace(fig4.data[0], row=2, col=2)\n",
    "fig.add_trace(fig5.data[0], row=3, col=1)\n",
    "fig.add_trace(fig6.data[0], row=3, col=2)\n",
    "# add title to the figure\n",
    "fig.update_layout(title_text=\"Precipitation by Month - All Rivers\", title_x=0.5)\n",
    "fig.show()"
   ]
  },
  {
   "cell_type": "code",
   "execution_count": 59,
   "metadata": {},
   "outputs": [],
   "source": [
    "# show a column plot with month on x axis and average precipitation on y axis\n"
   ]
  },
  {
   "cell_type": "markdown",
   "metadata": {},
   "source": [
    "- There is clear seasonality consistent through the whole time period\n",
    "- Significantly more rain in Feb-June period"
   ]
  },
  {
   "cell_type": "markdown",
   "metadata": {},
   "source": [
    "### Clear evidence of seasonality\n",
    "\n",
    "- Create an average monthly precipitation profile for each river by aggregating precipitation data across all years (this will be your seasonal baseline).\n",
    "- Normalize monthly precipitation to derive P(M) for each river.\n",
    "\n",
    "##### Implications for modelling:\n",
    "\n",
    "- The normalized P(M) will serve as a key input for your model to distribute the annual plastic pollution figure across the months\n",
    "- Seasonal patterns (e.g., monsoons, dry seasons) will directly reflect in the predicted monthly plastic pollution estimates"
   ]
  },
  {
   "cell_type": "markdown",
   "metadata": {},
   "source": [
    "## Profiles of each river:\n",
    "- Find the precipitation values for each year and average them over the 2000-2019 period\n",
    "- Use annual plastic pollution values for each river, from the Ocean cleanup\n",
    "- **Visualize the correlations:**\n",
    "    - Scatter graphs and correlation matrices"
   ]
  },
  {
   "cell_type": "code",
   "execution_count": 60,
   "metadata": {},
   "outputs": [
    {
     "name": "stderr",
     "output_type": "stream",
     "text": [
      "C:\\Users\\liamr\\AppData\\Local\\Temp\\ipykernel_19220\\1587449181.py:5: SettingWithCopyWarning:\n",
      "\n",
      "\n",
      "A value is trying to be set on a copy of a slice from a DataFrame.\n",
      "Try using .loc[row_indexer,col_indexer] = value instead\n",
      "\n",
      "See the caveats in the documentation: https://pandas.pydata.org/pandas-docs/stable/user_guide/indexing.html#returning-a-view-versus-a-copy\n",
      "\n"
     ]
    }
   ],
   "source": [
    "# Initialize scaler\n",
    "scaler = MinMaxScaler()\n",
    "\n",
    "# Apply scaling to precipitation per river\n",
    "ts_df['normalized_precipitation'] = ts_df.groupby('river_ID')['avg_precipitation'].transform(\n",
    "    lambda x: scaler.fit_transform(x.values.reshape(-1, 1)).flatten()\n",
    ")\n",
    "\n"
   ]
  },
  {
   "cell_type": "markdown",
   "metadata": {},
   "source": [
    "#### Using non-normalized precipitation values..."
   ]
  },
  {
   "cell_type": "code",
   "execution_count": 61,
   "metadata": {},
   "outputs": [
    {
     "data": {
      "text/html": [
       "<div>\n",
       "<style scoped>\n",
       "    .dataframe tbody tr th:only-of-type {\n",
       "        vertical-align: middle;\n",
       "    }\n",
       "\n",
       "    .dataframe tbody tr th {\n",
       "        vertical-align: top;\n",
       "    }\n",
       "\n",
       "    .dataframe thead th {\n",
       "        text-align: right;\n",
       "    }\n",
       "</style>\n",
       "<table border=\"1\" class=\"dataframe\">\n",
       "  <thead>\n",
       "    <tr style=\"text-align: right;\">\n",
       "      <th></th>\n",
       "      <th>river_ID</th>\n",
       "      <th>avg_precip_river</th>\n",
       "    </tr>\n",
       "  </thead>\n",
       "  <tbody>\n",
       "    <tr>\n",
       "      <th>0</th>\n",
       "      <td>1</td>\n",
       "      <td>31.795834</td>\n",
       "    </tr>\n",
       "    <tr>\n",
       "      <th>1</th>\n",
       "      <td>2</td>\n",
       "      <td>31.095835</td>\n",
       "    </tr>\n",
       "    <tr>\n",
       "      <th>2</th>\n",
       "      <td>3</td>\n",
       "      <td>32.706245</td>\n",
       "    </tr>\n",
       "    <tr>\n",
       "      <th>3</th>\n",
       "      <td>4</td>\n",
       "      <td>32.603127</td>\n",
       "    </tr>\n",
       "    <tr>\n",
       "      <th>4</th>\n",
       "      <td>5</td>\n",
       "      <td>31.692709</td>\n",
       "    </tr>\n",
       "    <tr>\n",
       "      <th>5</th>\n",
       "      <td>6</td>\n",
       "      <td>31.141668</td>\n",
       "    </tr>\n",
       "    <tr>\n",
       "      <th>6</th>\n",
       "      <td>7</td>\n",
       "      <td>32.728127</td>\n",
       "    </tr>\n",
       "    <tr>\n",
       "      <th>7</th>\n",
       "      <td>8</td>\n",
       "      <td>31.064587</td>\n",
       "    </tr>\n",
       "    <tr>\n",
       "      <th>8</th>\n",
       "      <td>9</td>\n",
       "      <td>31.174999</td>\n",
       "    </tr>\n",
       "    <tr>\n",
       "      <th>9</th>\n",
       "      <td>10</td>\n",
       "      <td>30.648960</td>\n",
       "    </tr>\n",
       "  </tbody>\n",
       "</table>\n",
       "</div>"
      ],
      "text/plain": [
       "   river_ID  avg_precip_river\n",
       "0         1         31.795834\n",
       "1         2         31.095835\n",
       "2         3         32.706245\n",
       "3         4         32.603127\n",
       "4         5         31.692709\n",
       "5         6         31.141668\n",
       "6         7         32.728127\n",
       "7         8         31.064587\n",
       "8         9         31.174999\n",
       "9        10         30.648960"
      ]
     },
     "execution_count": 61,
     "metadata": {},
     "output_type": "execute_result"
    }
   ],
   "source": [
    "# Aggregate the yearly precipitation values for each river and average them over the 2000-2019 period\n",
    "river_1 = ts_df.query(\"river_ID == 1 and year >= 2000\")\n",
    "river_1 = river_1.groupby('year')['avg_precipitation'].mean()\n",
    "# find the average of all the years in river_1\n",
    "avg_precip_river_1 = river_1.mean()\n",
    "\n",
    "river_2 = ts_df.query(\"river_ID == 2 and year >= 2000\")\n",
    "river_2 = river_2.groupby('year')['avg_precipitation'].mean()\n",
    "avg_precip_river_2 = river_2.mean()\n",
    "\n",
    "# repeat the code for rivers 3-10  \n",
    "river_3 = ts_df.query(\"river_ID == 3 and year >= 2000\")\n",
    "river_3 = river_3.groupby('year')['avg_precipitation'].mean()\n",
    "avg_precip_river_3 = river_3.mean()\n",
    "\n",
    "# repeat the code for rivers 4-10  \n",
    "river_4 = ts_df.query(\"river_ID == 4 and year >= 2000\")\n",
    "river_4 = river_4.groupby('year')['avg_precipitation'].mean()\n",
    "avg_precip_river_4 = river_4.mean()\n",
    "\n",
    "river_5 = ts_df.query(\"river_ID == 5 and year >= 2000\")\n",
    "river_5 = river_5.groupby('year')['avg_precipitation'].mean()\n",
    "avg_precip_river_5 = river_5.mean()\n",
    "\n",
    "river_6 = ts_df.query(\"river_ID == 6 and year >= 2000\")\n",
    "river_6 = river_6.groupby('year')['avg_precipitation'].mean()\n",
    "avg_precip_river_6 = river_6.mean()\n",
    "\n",
    "river_7 = ts_df.query(\"river_ID == 7 and year >= 2000\")\n",
    "river_7 = river_7.groupby('year')['avg_precipitation'].mean()\n",
    "avg_precip_river_7 = river_7.mean()\n",
    "\n",
    "river_8 = ts_df.query(\"river_ID == 8 and year >= 2000\")\n",
    "river_8 = river_8.groupby('year')['avg_precipitation'].mean()\n",
    "avg_precip_river_8 = river_8.mean()\n",
    "\n",
    "river_9 = ts_df.query(\"river_ID == 9 and year >= 2000\") \n",
    "river_9 = river_9.groupby('year')['avg_precipitation'].mean()\n",
    "avg_precip_river_9 = river_9.mean()\n",
    "\n",
    "river_10 = ts_df.query(\"river_ID == 10 and year >= 2000\")\n",
    "river_10 = river_10.groupby('year')['avg_precipitation'].mean()\n",
    "avg_precip_river_10 = river_10.mean()\n",
    "\n",
    "# put all these averages into a dataframe\n",
    "df_avg_precip = pd.DataFrame({'river_ID': [1, 2, 3, 4, 5, 6, 7, 8, 9, 10],\n",
    "                   'avg_precip_river': [avg_precip_river_1, \n",
    "                                        avg_precip_river_2, \n",
    "                                        avg_precip_river_3, \n",
    "                                        avg_precip_river_4, \n",
    "                                        avg_precip_river_5, \n",
    "                                        avg_precip_river_6, \n",
    "                                        avg_precip_river_7, \n",
    "                                        avg_precip_river_8, \n",
    "                                        avg_precip_river_9, \n",
    "                                        avg_precip_river_10]})\n",
    "\n",
    "df_avg_precip"
   ]
  },
  {
   "cell_type": "markdown",
   "metadata": {},
   "source": [
    "#### Using normalized precipitation values..."
   ]
  },
  {
   "cell_type": "code",
   "execution_count": 62,
   "metadata": {},
   "outputs": [
    {
     "data": {
      "text/html": [
       "<div>\n",
       "<style scoped>\n",
       "    .dataframe tbody tr th:only-of-type {\n",
       "        vertical-align: middle;\n",
       "    }\n",
       "\n",
       "    .dataframe tbody tr th {\n",
       "        vertical-align: top;\n",
       "    }\n",
       "\n",
       "    .dataframe thead th {\n",
       "        text-align: right;\n",
       "    }\n",
       "</style>\n",
       "<table border=\"1\" class=\"dataframe\">\n",
       "  <thead>\n",
       "    <tr style=\"text-align: right;\">\n",
       "      <th></th>\n",
       "      <th>river_ID</th>\n",
       "      <th>avg_precip_river</th>\n",
       "    </tr>\n",
       "  </thead>\n",
       "  <tbody>\n",
       "    <tr>\n",
       "      <th>0</th>\n",
       "      <td>1</td>\n",
       "      <td>0.588596</td>\n",
       "    </tr>\n",
       "    <tr>\n",
       "      <th>1</th>\n",
       "      <td>2</td>\n",
       "      <td>0.553205</td>\n",
       "    </tr>\n",
       "    <tr>\n",
       "      <th>2</th>\n",
       "      <td>3</td>\n",
       "      <td>0.494531</td>\n",
       "    </tr>\n",
       "    <tr>\n",
       "      <th>3</th>\n",
       "      <td>4</td>\n",
       "      <td>0.375915</td>\n",
       "    </tr>\n",
       "    <tr>\n",
       "      <th>4</th>\n",
       "      <td>5</td>\n",
       "      <td>0.598732</td>\n",
       "    </tr>\n",
       "    <tr>\n",
       "      <th>5</th>\n",
       "      <td>6</td>\n",
       "      <td>0.628334</td>\n",
       "    </tr>\n",
       "    <tr>\n",
       "      <th>6</th>\n",
       "      <td>7</td>\n",
       "      <td>0.355060</td>\n",
       "    </tr>\n",
       "    <tr>\n",
       "      <th>7</th>\n",
       "      <td>8</td>\n",
       "      <td>0.580655</td>\n",
       "    </tr>\n",
       "    <tr>\n",
       "      <th>8</th>\n",
       "      <td>9</td>\n",
       "      <td>0.695834</td>\n",
       "    </tr>\n",
       "    <tr>\n",
       "      <th>9</th>\n",
       "      <td>10</td>\n",
       "      <td>0.588657</td>\n",
       "    </tr>\n",
       "  </tbody>\n",
       "</table>\n",
       "</div>"
      ],
      "text/plain": [
       "   river_ID  avg_precip_river\n",
       "0         1          0.588596\n",
       "1         2          0.553205\n",
       "2         3          0.494531\n",
       "3         4          0.375915\n",
       "4         5          0.598732\n",
       "5         6          0.628334\n",
       "6         7          0.355060\n",
       "7         8          0.580655\n",
       "8         9          0.695834\n",
       "9        10          0.588657"
      ]
     },
     "execution_count": 62,
     "metadata": {},
     "output_type": "execute_result"
    }
   ],
   "source": [
    "# Aggregate the yearly precipitation values for each river and average them over the 2000-2019 period\n",
    "river_1 = ts_df.query(\"river_ID == 1 and year >= 2000\")\n",
    "river_1 = river_1.groupby('year')['normalized_precipitation'].mean()\n",
    "# find the average of all the years in river_1\n",
    "avg_precip_river_1 = river_1.mean()\n",
    "\n",
    "river_2 = ts_df.query(\"river_ID == 2 and year >= 2000\")\n",
    "river_2 = river_2.groupby('year')['normalized_precipitation'].mean()\n",
    "avg_precip_river_2 = river_2.mean()\n",
    "\n",
    "# repeat the code for rivers 3-10  \n",
    "river_3 = ts_df.query(\"river_ID == 3 and year >= 2000\")\n",
    "river_3 = river_3.groupby('year')['normalized_precipitation'].mean()\n",
    "avg_precip_river_3 = river_3.mean()\n",
    "\n",
    "# repeat the code for rivers 4-10  \n",
    "river_4 = ts_df.query(\"river_ID == 4 and year >= 2000\")\n",
    "river_4 = river_4.groupby('year')['normalized_precipitation'].mean()\n",
    "avg_precip_river_4 = river_4.mean()\n",
    "\n",
    "river_5 = ts_df.query(\"river_ID == 5 and year >= 2000\")\n",
    "river_5 = river_5.groupby('year')['normalized_precipitation'].mean()\n",
    "avg_precip_river_5 = river_5.mean()\n",
    "\n",
    "river_6 = ts_df.query(\"river_ID == 6 and year >= 2000\")\n",
    "river_6 = river_6.groupby('year')['normalized_precipitation'].mean()\n",
    "avg_precip_river_6 = river_6.mean()\n",
    "\n",
    "river_7 = ts_df.query(\"river_ID == 7 and year >= 2000\")\n",
    "river_7 = river_7.groupby('year')['normalized_precipitation'].mean()\n",
    "avg_precip_river_7 = river_7.mean()\n",
    "\n",
    "river_8 = ts_df.query(\"river_ID == 8 and year >= 2000\")\n",
    "river_8 = river_8.groupby('year')['normalized_precipitation'].mean()\n",
    "avg_precip_river_8 = river_8.mean()\n",
    "\n",
    "river_9 = ts_df.query(\"river_ID == 9 and year >= 2000\") \n",
    "river_9 = river_9.groupby('year')['normalized_precipitation'].mean()\n",
    "avg_precip_river_9 = river_9.mean()\n",
    "\n",
    "river_10 = ts_df.query(\"river_ID == 10 and year >= 2000\")\n",
    "river_10 = river_10.groupby('year')['normalized_precipitation'].mean()\n",
    "avg_precip_river_10 = river_10.mean()\n",
    "\n",
    "# put all these averages into a dataframe\n",
    "df_avg_precip_normalized = pd.DataFrame({'river_ID': [1, 2, 3, 4, 5, 6, 7, 8, 9, 10],\n",
    "                   'avg_precip_river': [avg_precip_river_1, \n",
    "                                        avg_precip_river_2, \n",
    "                                        avg_precip_river_3, \n",
    "                                        avg_precip_river_4, \n",
    "                                        avg_precip_river_5, \n",
    "                                        avg_precip_river_6, \n",
    "                                        avg_precip_river_7, \n",
    "                                        avg_precip_river_8, \n",
    "                                        avg_precip_river_9, \n",
    "                                        avg_precip_river_10]})\n",
    "\n",
    "df_avg_precip_normalized"
   ]
  },
  {
   "cell_type": "code",
   "execution_count": 63,
   "metadata": {},
   "outputs": [
    {
     "data": {
      "text/html": [
       "<div>\n",
       "<style scoped>\n",
       "    .dataframe tbody tr th:only-of-type {\n",
       "        vertical-align: middle;\n",
       "    }\n",
       "\n",
       "    .dataframe tbody tr th {\n",
       "        vertical-align: top;\n",
       "    }\n",
       "\n",
       "    .dataframe thead th {\n",
       "        text-align: right;\n",
       "    }\n",
       "</style>\n",
       "<table border=\"1\" class=\"dataframe\">\n",
       "  <thead>\n",
       "    <tr style=\"text-align: right;\">\n",
       "      <th></th>\n",
       "      <th>river_ID</th>\n",
       "      <th>pollution_volume</th>\n",
       "      <th>geometry</th>\n",
       "      <th>lat</th>\n",
       "      <th>lon</th>\n",
       "      <th>rank</th>\n",
       "      <th>country</th>\n",
       "    </tr>\n",
       "  </thead>\n",
       "  <tbody>\n",
       "    <tr>\n",
       "      <th>1</th>\n",
       "      <td>1</td>\n",
       "      <td>12816.00</td>\n",
       "      <td>POINT (101.38875 3.00292)</td>\n",
       "      <td>3.00292</td>\n",
       "      <td>101.38875</td>\n",
       "      <td>1</td>\n",
       "      <td>Malaysia</td>\n",
       "    </tr>\n",
       "    <tr>\n",
       "      <th>2</th>\n",
       "      <td>2</td>\n",
       "      <td>4127.44</td>\n",
       "      <td>POINT (106.74708 10.49875)</td>\n",
       "      <td>10.49875</td>\n",
       "      <td>106.74708</td>\n",
       "      <td>2</td>\n",
       "      <td>Vietnam</td>\n",
       "    </tr>\n",
       "    <tr>\n",
       "      <th>3</th>\n",
       "      <td>3</td>\n",
       "      <td>4027.33</td>\n",
       "      <td>POINT (100.55795 13.61573)</td>\n",
       "      <td>13.61573</td>\n",
       "      <td>100.55795</td>\n",
       "      <td>3</td>\n",
       "      <td>Thailand</td>\n",
       "    </tr>\n",
       "    <tr>\n",
       "      <th>4</th>\n",
       "      <td>4</td>\n",
       "      <td>3615.39</td>\n",
       "      <td>POINT (96.19083 16.77458)</td>\n",
       "      <td>16.77458</td>\n",
       "      <td>96.19083</td>\n",
       "      <td>4</td>\n",
       "      <td>Myanmar</td>\n",
       "    </tr>\n",
       "    <tr>\n",
       "      <th>5</th>\n",
       "      <td>5</td>\n",
       "      <td>3274.70</td>\n",
       "      <td>POINT (110.39875 1.55542)</td>\n",
       "      <td>1.55542</td>\n",
       "      <td>110.39875</td>\n",
       "      <td>5</td>\n",
       "      <td>Malaysia</td>\n",
       "    </tr>\n",
       "    <tr>\n",
       "      <th>6</th>\n",
       "      <td>6</td>\n",
       "      <td>2829.21</td>\n",
       "      <td>POINT (101.41125 2.80458)</td>\n",
       "      <td>2.80458</td>\n",
       "      <td>101.41125</td>\n",
       "      <td>6</td>\n",
       "      <td>Malaysia</td>\n",
       "    </tr>\n",
       "    <tr>\n",
       "      <th>7</th>\n",
       "      <td>7</td>\n",
       "      <td>2488.62</td>\n",
       "      <td>POINT (96.10625 16.84125)</td>\n",
       "      <td>16.84125</td>\n",
       "      <td>96.10625</td>\n",
       "      <td>7</td>\n",
       "      <td>Myanmar</td>\n",
       "    </tr>\n",
       "    <tr>\n",
       "      <th>8</th>\n",
       "      <td>8</td>\n",
       "      <td>2466.92</td>\n",
       "      <td>POINT (102.24458 6.18208)</td>\n",
       "      <td>6.18208</td>\n",
       "      <td>102.24458</td>\n",
       "      <td>8</td>\n",
       "      <td>Malaysia</td>\n",
       "    </tr>\n",
       "    <tr>\n",
       "      <th>9</th>\n",
       "      <td>9</td>\n",
       "      <td>2186.88</td>\n",
       "      <td>POINT (103.34292 3.80625)</td>\n",
       "      <td>3.80625</td>\n",
       "      <td>103.34292</td>\n",
       "      <td>9</td>\n",
       "      <td>Malaysia</td>\n",
       "    </tr>\n",
       "    <tr>\n",
       "      <th>10</th>\n",
       "      <td>10</td>\n",
       "      <td>2143.48</td>\n",
       "      <td>POINT (103.7975 1.49625)</td>\n",
       "      <td>1.49625</td>\n",
       "      <td>103.79750</td>\n",
       "      <td>10</td>\n",
       "      <td>Malaysia</td>\n",
       "    </tr>\n",
       "  </tbody>\n",
       "</table>\n",
       "</div>"
      ],
      "text/plain": [
       "    river_ID  pollution_volume                    geometry       lat  \\\n",
       "1          1          12816.00   POINT (101.38875 3.00292)   3.00292   \n",
       "2          2           4127.44  POINT (106.74708 10.49875)  10.49875   \n",
       "3          3           4027.33  POINT (100.55795 13.61573)  13.61573   \n",
       "4          4           3615.39   POINT (96.19083 16.77458)  16.77458   \n",
       "5          5           3274.70   POINT (110.39875 1.55542)   1.55542   \n",
       "6          6           2829.21   POINT (101.41125 2.80458)   2.80458   \n",
       "7          7           2488.62   POINT (96.10625 16.84125)  16.84125   \n",
       "8          8           2466.92   POINT (102.24458 6.18208)   6.18208   \n",
       "9          9           2186.88   POINT (103.34292 3.80625)   3.80625   \n",
       "10        10           2143.48    POINT (103.7975 1.49625)   1.49625   \n",
       "\n",
       "          lon  rank   country  \n",
       "1   101.38875     1  Malaysia  \n",
       "2   106.74708     2   Vietnam  \n",
       "3   100.55795     3  Thailand  \n",
       "4    96.19083     4   Myanmar  \n",
       "5   110.39875     5  Malaysia  \n",
       "6   101.41125     6  Malaysia  \n",
       "7    96.10625     7   Myanmar  \n",
       "8   102.24458     8  Malaysia  \n",
       "9   103.34292     9  Malaysia  \n",
       "10  103.79750    10  Malaysia  "
      ]
     },
     "execution_count": 63,
     "metadata": {},
     "output_type": "execute_result"
    }
   ],
   "source": [
    "plastic_pollution"
   ]
  },
  {
   "cell_type": "markdown",
   "metadata": {},
   "source": [
    "### Correlations between Average Precipitation and Pollution"
   ]
  },
  {
   "cell_type": "code",
   "execution_count": 64,
   "metadata": {},
   "outputs": [],
   "source": [
    "# merge the two dataframes\n",
    "\n",
    "# non-normalized\n",
    "average_rain_and_pollution = pd.merge(df_avg_precip, plastic_pollution, on='river_ID', how='outer')\n",
    "\n",
    "# normalized\n",
    "average_rain_and_pollution_normalized = pd.merge(df_avg_precip_normalized, plastic_pollution, on='river_ID', how='outer')"
   ]
  },
  {
   "cell_type": "code",
   "execution_count": 65,
   "metadata": {},
   "outputs": [
    {
     "data": {
      "text/html": [
       "<div>\n",
       "<style scoped>\n",
       "    .dataframe tbody tr th:only-of-type {\n",
       "        vertical-align: middle;\n",
       "    }\n",
       "\n",
       "    .dataframe tbody tr th {\n",
       "        vertical-align: top;\n",
       "    }\n",
       "\n",
       "    .dataframe thead th {\n",
       "        text-align: right;\n",
       "    }\n",
       "</style>\n",
       "<table border=\"1\" class=\"dataframe\">\n",
       "  <thead>\n",
       "    <tr style=\"text-align: right;\">\n",
       "      <th></th>\n",
       "      <th>river_ID</th>\n",
       "      <th>avg_precip_river</th>\n",
       "      <th>pollution_volume</th>\n",
       "      <th>geometry</th>\n",
       "      <th>lat</th>\n",
       "      <th>lon</th>\n",
       "      <th>rank</th>\n",
       "      <th>country</th>\n",
       "    </tr>\n",
       "  </thead>\n",
       "  <tbody>\n",
       "    <tr>\n",
       "      <th>0</th>\n",
       "      <td>1</td>\n",
       "      <td>31.795834</td>\n",
       "      <td>12816.00</td>\n",
       "      <td>POINT (101.38875 3.00292)</td>\n",
       "      <td>3.00292</td>\n",
       "      <td>101.38875</td>\n",
       "      <td>1</td>\n",
       "      <td>Malaysia</td>\n",
       "    </tr>\n",
       "    <tr>\n",
       "      <th>1</th>\n",
       "      <td>2</td>\n",
       "      <td>31.095835</td>\n",
       "      <td>4127.44</td>\n",
       "      <td>POINT (106.74708 10.49875)</td>\n",
       "      <td>10.49875</td>\n",
       "      <td>106.74708</td>\n",
       "      <td>2</td>\n",
       "      <td>Vietnam</td>\n",
       "    </tr>\n",
       "    <tr>\n",
       "      <th>2</th>\n",
       "      <td>3</td>\n",
       "      <td>32.706245</td>\n",
       "      <td>4027.33</td>\n",
       "      <td>POINT (100.55795 13.61573)</td>\n",
       "      <td>13.61573</td>\n",
       "      <td>100.55795</td>\n",
       "      <td>3</td>\n",
       "      <td>Thailand</td>\n",
       "    </tr>\n",
       "    <tr>\n",
       "      <th>3</th>\n",
       "      <td>4</td>\n",
       "      <td>32.603127</td>\n",
       "      <td>3615.39</td>\n",
       "      <td>POINT (96.19083 16.77458)</td>\n",
       "      <td>16.77458</td>\n",
       "      <td>96.19083</td>\n",
       "      <td>4</td>\n",
       "      <td>Myanmar</td>\n",
       "    </tr>\n",
       "    <tr>\n",
       "      <th>4</th>\n",
       "      <td>5</td>\n",
       "      <td>31.692709</td>\n",
       "      <td>3274.70</td>\n",
       "      <td>POINT (110.39875 1.55542)</td>\n",
       "      <td>1.55542</td>\n",
       "      <td>110.39875</td>\n",
       "      <td>5</td>\n",
       "      <td>Malaysia</td>\n",
       "    </tr>\n",
       "    <tr>\n",
       "      <th>5</th>\n",
       "      <td>6</td>\n",
       "      <td>31.141668</td>\n",
       "      <td>2829.21</td>\n",
       "      <td>POINT (101.41125 2.80458)</td>\n",
       "      <td>2.80458</td>\n",
       "      <td>101.41125</td>\n",
       "      <td>6</td>\n",
       "      <td>Malaysia</td>\n",
       "    </tr>\n",
       "    <tr>\n",
       "      <th>6</th>\n",
       "      <td>7</td>\n",
       "      <td>32.728127</td>\n",
       "      <td>2488.62</td>\n",
       "      <td>POINT (96.10625 16.84125)</td>\n",
       "      <td>16.84125</td>\n",
       "      <td>96.10625</td>\n",
       "      <td>7</td>\n",
       "      <td>Myanmar</td>\n",
       "    </tr>\n",
       "    <tr>\n",
       "      <th>7</th>\n",
       "      <td>8</td>\n",
       "      <td>31.064587</td>\n",
       "      <td>2466.92</td>\n",
       "      <td>POINT (102.24458 6.18208)</td>\n",
       "      <td>6.18208</td>\n",
       "      <td>102.24458</td>\n",
       "      <td>8</td>\n",
       "      <td>Malaysia</td>\n",
       "    </tr>\n",
       "    <tr>\n",
       "      <th>8</th>\n",
       "      <td>9</td>\n",
       "      <td>31.174999</td>\n",
       "      <td>2186.88</td>\n",
       "      <td>POINT (103.34292 3.80625)</td>\n",
       "      <td>3.80625</td>\n",
       "      <td>103.34292</td>\n",
       "      <td>9</td>\n",
       "      <td>Malaysia</td>\n",
       "    </tr>\n",
       "    <tr>\n",
       "      <th>9</th>\n",
       "      <td>10</td>\n",
       "      <td>30.648960</td>\n",
       "      <td>2143.48</td>\n",
       "      <td>POINT (103.7975 1.49625)</td>\n",
       "      <td>1.49625</td>\n",
       "      <td>103.79750</td>\n",
       "      <td>10</td>\n",
       "      <td>Malaysia</td>\n",
       "    </tr>\n",
       "  </tbody>\n",
       "</table>\n",
       "</div>"
      ],
      "text/plain": [
       "   river_ID  avg_precip_river  pollution_volume                    geometry  \\\n",
       "0         1         31.795834          12816.00   POINT (101.38875 3.00292)   \n",
       "1         2         31.095835           4127.44  POINT (106.74708 10.49875)   \n",
       "2         3         32.706245           4027.33  POINT (100.55795 13.61573)   \n",
       "3         4         32.603127           3615.39   POINT (96.19083 16.77458)   \n",
       "4         5         31.692709           3274.70   POINT (110.39875 1.55542)   \n",
       "5         6         31.141668           2829.21   POINT (101.41125 2.80458)   \n",
       "6         7         32.728127           2488.62   POINT (96.10625 16.84125)   \n",
       "7         8         31.064587           2466.92   POINT (102.24458 6.18208)   \n",
       "8         9         31.174999           2186.88   POINT (103.34292 3.80625)   \n",
       "9        10         30.648960           2143.48    POINT (103.7975 1.49625)   \n",
       "\n",
       "        lat        lon  rank   country  \n",
       "0   3.00292  101.38875     1  Malaysia  \n",
       "1  10.49875  106.74708     2   Vietnam  \n",
       "2  13.61573  100.55795     3  Thailand  \n",
       "3  16.77458   96.19083     4   Myanmar  \n",
       "4   1.55542  110.39875     5  Malaysia  \n",
       "5   2.80458  101.41125     6  Malaysia  \n",
       "6  16.84125   96.10625     7   Myanmar  \n",
       "7   6.18208  102.24458     8  Malaysia  \n",
       "8   3.80625  103.34292     9  Malaysia  \n",
       "9   1.49625  103.79750    10  Malaysia  "
      ]
     },
     "execution_count": 65,
     "metadata": {},
     "output_type": "execute_result"
    }
   ],
   "source": [
    "average_rain_and_pollution"
   ]
  },
  {
   "cell_type": "code",
   "execution_count": 66,
   "metadata": {},
   "outputs": [
    {
     "data": {
      "text/html": [
       "<div>\n",
       "<style scoped>\n",
       "    .dataframe tbody tr th:only-of-type {\n",
       "        vertical-align: middle;\n",
       "    }\n",
       "\n",
       "    .dataframe tbody tr th {\n",
       "        vertical-align: top;\n",
       "    }\n",
       "\n",
       "    .dataframe thead th {\n",
       "        text-align: right;\n",
       "    }\n",
       "</style>\n",
       "<table border=\"1\" class=\"dataframe\">\n",
       "  <thead>\n",
       "    <tr style=\"text-align: right;\">\n",
       "      <th></th>\n",
       "      <th>river_ID</th>\n",
       "      <th>avg_precip_river</th>\n",
       "      <th>pollution_volume</th>\n",
       "      <th>geometry</th>\n",
       "      <th>lat</th>\n",
       "      <th>lon</th>\n",
       "      <th>rank</th>\n",
       "      <th>country</th>\n",
       "    </tr>\n",
       "  </thead>\n",
       "  <tbody>\n",
       "    <tr>\n",
       "      <th>0</th>\n",
       "      <td>1</td>\n",
       "      <td>0.588596</td>\n",
       "      <td>12816.00</td>\n",
       "      <td>POINT (101.38875 3.00292)</td>\n",
       "      <td>3.00292</td>\n",
       "      <td>101.38875</td>\n",
       "      <td>1</td>\n",
       "      <td>Malaysia</td>\n",
       "    </tr>\n",
       "    <tr>\n",
       "      <th>1</th>\n",
       "      <td>2</td>\n",
       "      <td>0.553205</td>\n",
       "      <td>4127.44</td>\n",
       "      <td>POINT (106.74708 10.49875)</td>\n",
       "      <td>10.49875</td>\n",
       "      <td>106.74708</td>\n",
       "      <td>2</td>\n",
       "      <td>Vietnam</td>\n",
       "    </tr>\n",
       "    <tr>\n",
       "      <th>2</th>\n",
       "      <td>3</td>\n",
       "      <td>0.494531</td>\n",
       "      <td>4027.33</td>\n",
       "      <td>POINT (100.55795 13.61573)</td>\n",
       "      <td>13.61573</td>\n",
       "      <td>100.55795</td>\n",
       "      <td>3</td>\n",
       "      <td>Thailand</td>\n",
       "    </tr>\n",
       "    <tr>\n",
       "      <th>3</th>\n",
       "      <td>4</td>\n",
       "      <td>0.375915</td>\n",
       "      <td>3615.39</td>\n",
       "      <td>POINT (96.19083 16.77458)</td>\n",
       "      <td>16.77458</td>\n",
       "      <td>96.19083</td>\n",
       "      <td>4</td>\n",
       "      <td>Myanmar</td>\n",
       "    </tr>\n",
       "    <tr>\n",
       "      <th>4</th>\n",
       "      <td>5</td>\n",
       "      <td>0.598732</td>\n",
       "      <td>3274.70</td>\n",
       "      <td>POINT (110.39875 1.55542)</td>\n",
       "      <td>1.55542</td>\n",
       "      <td>110.39875</td>\n",
       "      <td>5</td>\n",
       "      <td>Malaysia</td>\n",
       "    </tr>\n",
       "    <tr>\n",
       "      <th>5</th>\n",
       "      <td>6</td>\n",
       "      <td>0.628334</td>\n",
       "      <td>2829.21</td>\n",
       "      <td>POINT (101.41125 2.80458)</td>\n",
       "      <td>2.80458</td>\n",
       "      <td>101.41125</td>\n",
       "      <td>6</td>\n",
       "      <td>Malaysia</td>\n",
       "    </tr>\n",
       "    <tr>\n",
       "      <th>6</th>\n",
       "      <td>7</td>\n",
       "      <td>0.355060</td>\n",
       "      <td>2488.62</td>\n",
       "      <td>POINT (96.10625 16.84125)</td>\n",
       "      <td>16.84125</td>\n",
       "      <td>96.10625</td>\n",
       "      <td>7</td>\n",
       "      <td>Myanmar</td>\n",
       "    </tr>\n",
       "    <tr>\n",
       "      <th>7</th>\n",
       "      <td>8</td>\n",
       "      <td>0.580655</td>\n",
       "      <td>2466.92</td>\n",
       "      <td>POINT (102.24458 6.18208)</td>\n",
       "      <td>6.18208</td>\n",
       "      <td>102.24458</td>\n",
       "      <td>8</td>\n",
       "      <td>Malaysia</td>\n",
       "    </tr>\n",
       "    <tr>\n",
       "      <th>8</th>\n",
       "      <td>9</td>\n",
       "      <td>0.695834</td>\n",
       "      <td>2186.88</td>\n",
       "      <td>POINT (103.34292 3.80625)</td>\n",
       "      <td>3.80625</td>\n",
       "      <td>103.34292</td>\n",
       "      <td>9</td>\n",
       "      <td>Malaysia</td>\n",
       "    </tr>\n",
       "    <tr>\n",
       "      <th>9</th>\n",
       "      <td>10</td>\n",
       "      <td>0.588657</td>\n",
       "      <td>2143.48</td>\n",
       "      <td>POINT (103.7975 1.49625)</td>\n",
       "      <td>1.49625</td>\n",
       "      <td>103.79750</td>\n",
       "      <td>10</td>\n",
       "      <td>Malaysia</td>\n",
       "    </tr>\n",
       "  </tbody>\n",
       "</table>\n",
       "</div>"
      ],
      "text/plain": [
       "   river_ID  avg_precip_river  pollution_volume                    geometry  \\\n",
       "0         1          0.588596          12816.00   POINT (101.38875 3.00292)   \n",
       "1         2          0.553205           4127.44  POINT (106.74708 10.49875)   \n",
       "2         3          0.494531           4027.33  POINT (100.55795 13.61573)   \n",
       "3         4          0.375915           3615.39   POINT (96.19083 16.77458)   \n",
       "4         5          0.598732           3274.70   POINT (110.39875 1.55542)   \n",
       "5         6          0.628334           2829.21   POINT (101.41125 2.80458)   \n",
       "6         7          0.355060           2488.62   POINT (96.10625 16.84125)   \n",
       "7         8          0.580655           2466.92   POINT (102.24458 6.18208)   \n",
       "8         9          0.695834           2186.88   POINT (103.34292 3.80625)   \n",
       "9        10          0.588657           2143.48    POINT (103.7975 1.49625)   \n",
       "\n",
       "        lat        lon  rank   country  \n",
       "0   3.00292  101.38875     1  Malaysia  \n",
       "1  10.49875  106.74708     2   Vietnam  \n",
       "2  13.61573  100.55795     3  Thailand  \n",
       "3  16.77458   96.19083     4   Myanmar  \n",
       "4   1.55542  110.39875     5  Malaysia  \n",
       "5   2.80458  101.41125     6  Malaysia  \n",
       "6  16.84125   96.10625     7   Myanmar  \n",
       "7   6.18208  102.24458     8  Malaysia  \n",
       "8   3.80625  103.34292     9  Malaysia  \n",
       "9   1.49625  103.79750    10  Malaysia  "
      ]
     },
     "execution_count": 66,
     "metadata": {},
     "output_type": "execute_result"
    }
   ],
   "source": [
    "average_rain_and_pollution_normalized"
   ]
  },
  {
   "cell_type": "markdown",
   "metadata": {},
   "source": [
    "#### Non-Normalized..."
   ]
  },
  {
   "cell_type": "code",
   "execution_count": 67,
   "metadata": {},
   "outputs": [
    {
     "data": {
      "image/png": "[encoded data removed]",
      "text/plain": [
       "<Figure size 640x480 with 1 Axes>"
      ]
     },
     "metadata": {},
     "output_type": "display_data"
    }
   ],
   "source": [
    "# scatterplot between rainfall and pollution\n",
    "plt.scatter(average_rain_and_pollution['avg_precip_river'], average_rain_and_pollution['pollution_volume'])\n",
    "plt.xlabel('Average Precipitation')\n",
    "plt.ylabel('Pollution Volume')\n",
    "plt.title('Scatterplot of Average Precipitation and Pollution Volume')\n",
    "plt.show()"
   ]
  },
  {
   "cell_type": "code",
   "execution_count": 68,
   "metadata": {},
   "outputs": [
    {
     "data": {
      "image/png": "[encoded data removed]",
      "text/plain": [
       "<Figure size 640x480 with 1 Axes>"
      ]
     },
     "metadata": {},
     "output_type": "display_data"
    }
   ],
   "source": [
    "# take out the outlier river 1 from the scatterplot\n",
    "average_rain_and_pollution_no_outlier = average_rain_and_pollution[average_rain_and_pollution['river_ID'] != 1]\n",
    "plt.scatter(average_rain_and_pollution_no_outlier['avg_precip_river'], average_rain_and_pollution_no_outlier['pollution_volume'])\n",
    "plt.xlabel('Average Precipitation')\n",
    "plt.ylabel('Pollution Volume')\n",
    "plt.title('Scatterplot of Average Precipitation and Pollution Volume')\n",
    "plt.show()"
   ]
  },
  {
   "cell_type": "markdown",
   "metadata": {},
   "source": [
    "#### Normalized..."
   ]
  },
  {
   "cell_type": "code",
   "execution_count": 69,
   "metadata": {},
   "outputs": [
    {
     "data": {
      "image/png": "[encoded data removed]",
      "text/plain": [
       "<Figure size 640x480 with 1 Axes>"
      ]
     },
     "metadata": {},
     "output_type": "display_data"
    }
   ],
   "source": [
    "# with normalized precipitation averages\n",
    "plt.scatter(average_rain_and_pollution_normalized['avg_precip_river'], average_rain_and_pollution_normalized['pollution_volume'])\n",
    "plt.xlabel('Average Precipitation')\n",
    "plt.ylabel('Pollution Volume')\n",
    "plt.title('Scatterplot of Average Precipitation and Pollution Volume')\n",
    "plt.show()"
   ]
  },
  {
   "cell_type": "code",
   "execution_count": 70,
   "metadata": {},
   "outputs": [
    {
     "data": {
      "image/png": "[encoded data removed]",
      "text/plain": [
       "<Figure size 640x480 with 1 Axes>"
      ]
     },
     "metadata": {},
     "output_type": "display_data"
    }
   ],
   "source": [
    "normalized_average_rain_and_pollution_no_outlier = average_rain_and_pollution_normalized[average_rain_and_pollution_normalized['river_ID'] != 1]\n",
    "plt.scatter(normalized_average_rain_and_pollution_no_outlier['avg_precip_river'], normalized_average_rain_and_pollution_no_outlier['pollution_volume'])\n",
    "plt.xlabel('Average Precipitation')\n",
    "plt.ylabel('Pollution Volume')\n",
    "plt.title('Scatterplot of Average Precipitation and Pollution Volume')\n",
    "plt.show()\n"
   ]
  },
  {
   "cell_type": "markdown",
   "metadata": {},
   "source": [
    "#### Non-Normalized figures correlation coefficients:"
   ]
  },
  {
   "cell_type": "code",
   "execution_count": 71,
   "metadata": {},
   "outputs": [
    {
     "name": "stdout",
     "output_type": "stream",
     "text": [
      "Spearman Correlation: 0.4275794632621116, P-Value: 0.2509749559473871\n"
     ]
    }
   ],
   "source": [
    "# pearson correlation coefficient\n",
    "corr, p_value = pearsonr(average_rain_and_pollution_no_outlier['avg_precip_river'], \n",
    "                          average_rain_and_pollution_no_outlier['pollution_volume'])\n",
    "print(f\"Spearman Correlation: {corr}, P-Value: {p_value}\")"
   ]
  },
  {
   "cell_type": "code",
   "execution_count": 72,
   "metadata": {},
   "outputs": [
    {
     "name": "stdout",
     "output_type": "stream",
     "text": [
      "Spearman Correlation: 0.39999999999999997, P-Value: 0.2861051019083129\n"
     ]
    }
   ],
   "source": [
    "# spearman correlation coefficient\n",
    "corr, p_value = spearmanr(average_rain_and_pollution_no_outlier['avg_precip_river'], \n",
    "                          average_rain_and_pollution_no_outlier['pollution_volume'])\n",
    "print(f\"Spearman Correlation: {corr}, P-Value: {p_value}\")"
   ]
  },
  {
   "cell_type": "markdown",
   "metadata": {},
   "source": [
    "#### Normalized figures correlation coefficients:"
   ]
  },
  {
   "cell_type": "code",
   "execution_count": 73,
   "metadata": {},
   "outputs": [
    {
     "name": "stdout",
     "output_type": "stream",
     "text": [
      "Spearman Correlation: -0.3253757477793763, P-Value: 0.3928790151300067\n"
     ]
    }
   ],
   "source": [
    "# pearson correlation coefficient\n",
    "corr, p_value = pearsonr(normalized_average_rain_and_pollution_no_outlier['avg_precip_river'], \n",
    "                          normalized_average_rain_and_pollution_no_outlier['pollution_volume'])\n",
    "print(f\"Spearman Correlation: {corr}, P-Value: {p_value}\")"
   ]
  },
  {
   "cell_type": "code",
   "execution_count": 74,
   "metadata": {},
   "outputs": [
    {
     "name": "stdout",
     "output_type": "stream",
     "text": [
      "Spearman Correlation: -0.43333333333333335, P-Value: 0.24395243588005167\n"
     ]
    }
   ],
   "source": [
    "# spearman correlation coefficient\n",
    "corr, p_value = spearmanr(normalized_average_rain_and_pollution_no_outlier['avg_precip_river'], \n",
    "                          normalized_average_rain_and_pollution_no_outlier['pollution_volume'])\n",
    "print(f\"Spearman Correlation: {corr}, P-Value: {p_value}\")"
   ]
  },
  {
   "cell_type": "markdown",
   "metadata": {},
   "source": [
    "- There does appear to be some correlation between average precipitation levels and pollution volume, especially in the non-normalized values"
   ]
  },
  {
   "cell_type": "code",
   "execution_count": 75,
   "metadata": {},
   "outputs": [],
   "source": [
    "ts_df.to_pickle('C:\\\\Users\\\\liamr\\\\OneDrive\\\\Documents\\\\Playground\\\\river_plastic_data\\\\data\\\\ts_df_clean.pkl')\n",
    "average_rain_and_pollution.to_pickle('C:\\\\Users\\\\liamr\\\\OneDrive\\\\Documents\\\\Playground\\\\river_plastic_data\\\\data\\\\average_rain_and_pollution.pkl')\n",
    "average_rain_and_pollution_normalized.to_pickle('C:\\\\Users\\\\liamr\\\\OneDrive\\\\Documents\\\\Playground\\\\river_plastic_data\\\\data\\\\average_rain_and_pollution_normalized.pkl')"
   ]
  },
  {
   "cell_type": "code",
   "execution_count": 76,
   "metadata": {},
   "outputs": [
    {
     "data": {
      "text/html": [
       "<div>\n",
       "<style scoped>\n",
       "    .dataframe tbody tr th:only-of-type {\n",
       "        vertical-align: middle;\n",
       "    }\n",
       "\n",
       "    .dataframe tbody tr th {\n",
       "        vertical-align: top;\n",
       "    }\n",
       "\n",
       "    .dataframe thead th {\n",
       "        text-align: right;\n",
       "    }\n",
       "</style>\n",
       "<table border=\"1\" class=\"dataframe\">\n",
       "  <thead>\n",
       "    <tr style=\"text-align: right;\">\n",
       "      <th></th>\n",
       "      <th>river_ID</th>\n",
       "      <th>avg_precip_river</th>\n",
       "      <th>pollution_volume</th>\n",
       "      <th>geometry</th>\n",
       "      <th>lat</th>\n",
       "      <th>lon</th>\n",
       "      <th>rank</th>\n",
       "      <th>country</th>\n",
       "    </tr>\n",
       "  </thead>\n",
       "  <tbody>\n",
       "    <tr>\n",
       "      <th>0</th>\n",
       "      <td>1</td>\n",
       "      <td>31.795834</td>\n",
       "      <td>12816.00</td>\n",
       "      <td>POINT (101.38875 3.00292)</td>\n",
       "      <td>3.00292</td>\n",
       "      <td>101.38875</td>\n",
       "      <td>1</td>\n",
       "      <td>Malaysia</td>\n",
       "    </tr>\n",
       "    <tr>\n",
       "      <th>1</th>\n",
       "      <td>2</td>\n",
       "      <td>31.095835</td>\n",
       "      <td>4127.44</td>\n",
       "      <td>POINT (106.74708 10.49875)</td>\n",
       "      <td>10.49875</td>\n",
       "      <td>106.74708</td>\n",
       "      <td>2</td>\n",
       "      <td>Vietnam</td>\n",
       "    </tr>\n",
       "    <tr>\n",
       "      <th>2</th>\n",
       "      <td>3</td>\n",
       "      <td>32.706245</td>\n",
       "      <td>4027.33</td>\n",
       "      <td>POINT (100.55795 13.61573)</td>\n",
       "      <td>13.61573</td>\n",
       "      <td>100.55795</td>\n",
       "      <td>3</td>\n",
       "      <td>Thailand</td>\n",
       "    </tr>\n",
       "    <tr>\n",
       "      <th>3</th>\n",
       "      <td>4</td>\n",
       "      <td>32.603127</td>\n",
       "      <td>3615.39</td>\n",
       "      <td>POINT (96.19083 16.77458)</td>\n",
       "      <td>16.77458</td>\n",
       "      <td>96.19083</td>\n",
       "      <td>4</td>\n",
       "      <td>Myanmar</td>\n",
       "    </tr>\n",
       "    <tr>\n",
       "      <th>4</th>\n",
       "      <td>5</td>\n",
       "      <td>31.692709</td>\n",
       "      <td>3274.70</td>\n",
       "      <td>POINT (110.39875 1.55542)</td>\n",
       "      <td>1.55542</td>\n",
       "      <td>110.39875</td>\n",
       "      <td>5</td>\n",
       "      <td>Malaysia</td>\n",
       "    </tr>\n",
       "  </tbody>\n",
       "</table>\n",
       "</div>"
      ],
      "text/plain": [
       "   river_ID  avg_precip_river  pollution_volume                    geometry  \\\n",
       "0         1         31.795834          12816.00   POINT (101.38875 3.00292)   \n",
       "1         2         31.095835           4127.44  POINT (106.74708 10.49875)   \n",
       "2         3         32.706245           4027.33  POINT (100.55795 13.61573)   \n",
       "3         4         32.603127           3615.39   POINT (96.19083 16.77458)   \n",
       "4         5         31.692709           3274.70   POINT (110.39875 1.55542)   \n",
       "\n",
       "        lat        lon  rank   country  \n",
       "0   3.00292  101.38875     1  Malaysia  \n",
       "1  10.49875  106.74708     2   Vietnam  \n",
       "2  13.61573  100.55795     3  Thailand  \n",
       "3  16.77458   96.19083     4   Myanmar  \n",
       "4   1.55542  110.39875     5  Malaysia  "
      ]
     },
     "execution_count": 76,
     "metadata": {},
     "output_type": "execute_result"
    }
   ],
   "source": [
    "average_rain_and_pollution.head()"
   ]
  },
  {
   "cell_type": "code",
   "execution_count": 77,
   "metadata": {},
   "outputs": [
    {
     "data": {
      "text/html": [
       "<div>\n",
       "<style scoped>\n",
       "    .dataframe tbody tr th:only-of-type {\n",
       "        vertical-align: middle;\n",
       "    }\n",
       "\n",
       "    .dataframe tbody tr th {\n",
       "        vertical-align: top;\n",
       "    }\n",
       "\n",
       "    .dataframe thead th {\n",
       "        text-align: right;\n",
       "    }\n",
       "</style>\n",
       "<table border=\"1\" class=\"dataframe\">\n",
       "  <thead>\n",
       "    <tr style=\"text-align: right;\">\n",
       "      <th></th>\n",
       "      <th>river_ID</th>\n",
       "      <th>avg_precip_river</th>\n",
       "      <th>pollution_volume</th>\n",
       "      <th>geometry</th>\n",
       "      <th>lat</th>\n",
       "      <th>lon</th>\n",
       "      <th>rank</th>\n",
       "      <th>country</th>\n",
       "    </tr>\n",
       "  </thead>\n",
       "  <tbody>\n",
       "    <tr>\n",
       "      <th>0</th>\n",
       "      <td>1</td>\n",
       "      <td>0.588596</td>\n",
       "      <td>12816.00</td>\n",
       "      <td>POINT (101.38875 3.00292)</td>\n",
       "      <td>3.00292</td>\n",
       "      <td>101.38875</td>\n",
       "      <td>1</td>\n",
       "      <td>Malaysia</td>\n",
       "    </tr>\n",
       "    <tr>\n",
       "      <th>1</th>\n",
       "      <td>2</td>\n",
       "      <td>0.553205</td>\n",
       "      <td>4127.44</td>\n",
       "      <td>POINT (106.74708 10.49875)</td>\n",
       "      <td>10.49875</td>\n",
       "      <td>106.74708</td>\n",
       "      <td>2</td>\n",
       "      <td>Vietnam</td>\n",
       "    </tr>\n",
       "    <tr>\n",
       "      <th>2</th>\n",
       "      <td>3</td>\n",
       "      <td>0.494531</td>\n",
       "      <td>4027.33</td>\n",
       "      <td>POINT (100.55795 13.61573)</td>\n",
       "      <td>13.61573</td>\n",
       "      <td>100.55795</td>\n",
       "      <td>3</td>\n",
       "      <td>Thailand</td>\n",
       "    </tr>\n",
       "    <tr>\n",
       "      <th>3</th>\n",
       "      <td>4</td>\n",
       "      <td>0.375915</td>\n",
       "      <td>3615.39</td>\n",
       "      <td>POINT (96.19083 16.77458)</td>\n",
       "      <td>16.77458</td>\n",
       "      <td>96.19083</td>\n",
       "      <td>4</td>\n",
       "      <td>Myanmar</td>\n",
       "    </tr>\n",
       "    <tr>\n",
       "      <th>4</th>\n",
       "      <td>5</td>\n",
       "      <td>0.598732</td>\n",
       "      <td>3274.70</td>\n",
       "      <td>POINT (110.39875 1.55542)</td>\n",
       "      <td>1.55542</td>\n",
       "      <td>110.39875</td>\n",
       "      <td>5</td>\n",
       "      <td>Malaysia</td>\n",
       "    </tr>\n",
       "  </tbody>\n",
       "</table>\n",
       "</div>"
      ],
      "text/plain": [
       "   river_ID  avg_precip_river  pollution_volume                    geometry  \\\n",
       "0         1          0.588596          12816.00   POINT (101.38875 3.00292)   \n",
       "1         2          0.553205           4127.44  POINT (106.74708 10.49875)   \n",
       "2         3          0.494531           4027.33  POINT (100.55795 13.61573)   \n",
       "3         4          0.375915           3615.39   POINT (96.19083 16.77458)   \n",
       "4         5          0.598732           3274.70   POINT (110.39875 1.55542)   \n",
       "\n",
       "        lat        lon  rank   country  \n",
       "0   3.00292  101.38875     1  Malaysia  \n",
       "1  10.49875  106.74708     2   Vietnam  \n",
       "2  13.61573  100.55795     3  Thailand  \n",
       "3  16.77458   96.19083     4   Myanmar  \n",
       "4   1.55542  110.39875     5  Malaysia  "
      ]
     },
     "execution_count": 77,
     "metadata": {},
     "output_type": "execute_result"
    }
   ],
   "source": [
    "average_rain_and_pollution_normalized.head()"
   ]
  }
 ],
 "metadata": {
  "kernelspec": {
   "display_name": ".venv",
   "language": "python",
   "name": "python3"
  },
  "language_info": {
   "codemirror_mode": {
    "name": "ipython",
    "version": 3
   },
   "file_extension": ".py",
   "mimetype": "text/x-python",
   "name": "python",
   "nbconvert_exporter": "python",
   "pygments_lexer": "ipython3",
   "version": "3.12.5"
  }
 },
 "nbformat": 4,
 "nbformat_minor": 2
}
