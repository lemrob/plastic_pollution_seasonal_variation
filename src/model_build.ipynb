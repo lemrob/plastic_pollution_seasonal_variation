{
 "cells": [
  {
   "cell_type": "markdown",
   "metadata": {},
   "source": [
    "#### ***Model build***"
   ]
  },
  {
   "cell_type": "markdown",
   "metadata": {},
   "source": [
    "##### ***Aim:*** \n",
    "- To use the non-normalized rain data to infer seasonal patterns in the annual pollution level in the top 10 polluting rivers in South East Asia\n",
    "\n",
    "##### ***Context:***\n",
    "- **From the EDA**: There is clear evidence of seasonality in precipitation levels across South-East Asia and some evidence of correlation between yearly precipitation levels and annual pollution levels for each river\n",
    "\n",
    "- Building on The Ocean Cleanup model which shows an annual pollution level for 1000 rivers\n",
    "\n",
    "- Focusing on the top 10 polluting rivers in South East Asia\n",
    "\n",
    "- Aiming to vizualise this on a map, with an interactive slider across each month\n",
    "\n",
    "- In my simplified version, precipitation is used as a proxy for Mobilization (P(M)) from The Ocean Cleanup model\n",
    "    - Mobilization is then related to plastic pollution\n",
    "\n",
    "\n"
   ]
  },
  {
   "cell_type": "markdown",
   "metadata": {},
   "source": [
    "##### ***Packages:***"
   ]
  },
  {
   "cell_type": "code",
   "execution_count": null,
   "metadata": {},
   "outputs": [],
   "source": [
    "import pickle\n",
    "import pandas as pd\n",
    "import numpy as np\n",
    "import matplotlib.pyplot as plt\n",
    "from matplotlib import pyplot as plt\n",
    "import plotly.graph_objs as go\n",
    "import plotly.tools as tls\n",
    "from plotly.subplots import make_subplots\n",
    "import plotly.express as px\n",
    "import seaborn as sns\n",
    "import sklearn\n",
    "from sklearn.preprocessing import MinMaxScaler\n",
    "from sklearn.linear_model import LinearRegression\n",
    "import geopandas as gpd\n",
    "import geodatasets\n",
    "import contextily as cx\n",
    "import matplotlib.pyplot as plt\n",
    "from shapely.geometry import Point"
   ]
  },
  {
   "cell_type": "markdown",
   "metadata": {},
   "source": [
    "#### ***Grabbing Dataframes:***"
   ]
  },
  {
   "cell_type": "code",
   "execution_count": 29,
   "metadata": {},
   "outputs": [],
   "source": [
    "ts_df = pd.read_pickle(r'C:\\\\Users\\\\liamr\\\\OneDrive\\\\Documents\\\\Playground\\\\river_plastic_data\\\\data\\\\ts_df.pkl')\n",
    "plastic_pollution = pd.read_pickle(r'C:\\\\Users\\\\liamr\\\\OneDrive\\\\Documents\\\\Playground\\\\river_plastic_data\\\\data\\\\SE_top_10_pts.pkl')\n",
    "average_rain_and_pollution = pd.read_pickle(r'C:\\\\Users\\\\liamr\\\\OneDrive\\\\Documents\\\\Playground\\\\river_plastic_data\\\\data\\\\average_rain_and_pollution.pkl')"
   ]
  },
  {
   "cell_type": "markdown",
   "metadata": {},
   "source": [
    "#### ***Model Version 1:***"
   ]
  },
  {
   "cell_type": "markdown",
   "metadata": {},
   "source": [
    "##### ***Plan:***\n",
    "\n",
    "- Create a **weighted distribution** of the annual plastic pollution, by river\n",
    "- - Weighted acoording to precipitation variation across the months at each location\n",
    "\n",
    "\n",
    "##### ***Inputs:***\n",
    "\n",
    "- Annual plastic pollution\n",
    "- Monthly precipitation values (averaged across years 2000-2019)\n",
    "- Annual Precipitation \n",
    "\n",
    "\n",
    "##### ***Weighted Distibution Model:***\n",
    "\n",
    "##### *Monthly Pollution = Annual Pollution x Weight*\n",
    "- Where Weight = Monthly Distribution/Total Annual Precipitation\n",
    "\n",
    "\n"
   ]
  },
  {
   "cell_type": "code",
   "execution_count": 3,
   "metadata": {},
   "outputs": [
    {
     "data": {
      "text/html": [
       "<div>\n",
       "<style scoped>\n",
       "    .dataframe tbody tr th:only-of-type {\n",
       "        vertical-align: middle;\n",
       "    }\n",
       "\n",
       "    .dataframe tbody tr th {\n",
       "        vertical-align: top;\n",
       "    }\n",
       "\n",
       "    .dataframe thead th {\n",
       "        text-align: right;\n",
       "    }\n",
       "</style>\n",
       "<table border=\"1\" class=\"dataframe\">\n",
       "  <thead>\n",
       "    <tr style=\"text-align: right;\">\n",
       "      <th></th>\n",
       "      <th>river_ID</th>\n",
       "      <th>country</th>\n",
       "      <th>lon</th>\n",
       "      <th>lat</th>\n",
       "      <th>year</th>\n",
       "      <th>month</th>\n",
       "      <th>avg_precipitation</th>\n",
       "    </tr>\n",
       "  </thead>\n",
       "  <tbody>\n",
       "    <tr>\n",
       "      <th>0</th>\n",
       "      <td>1</td>\n",
       "      <td>Malaysia</td>\n",
       "      <td>101.38875</td>\n",
       "      <td>3.00292</td>\n",
       "      <td>1960</td>\n",
       "      <td>1</td>\n",
       "      <td>263.625</td>\n",
       "    </tr>\n",
       "    <tr>\n",
       "      <th>1</th>\n",
       "      <td>2</td>\n",
       "      <td>Vietnam</td>\n",
       "      <td>106.74708</td>\n",
       "      <td>10.49875</td>\n",
       "      <td>1960</td>\n",
       "      <td>1</td>\n",
       "      <td>4.725</td>\n",
       "    </tr>\n",
       "    <tr>\n",
       "      <th>2</th>\n",
       "      <td>3</td>\n",
       "      <td>Thailand</td>\n",
       "      <td>100.55795</td>\n",
       "      <td>13.61573</td>\n",
       "      <td>1960</td>\n",
       "      <td>1</td>\n",
       "      <td>4.750</td>\n",
       "    </tr>\n",
       "    <tr>\n",
       "      <th>3</th>\n",
       "      <td>4</td>\n",
       "      <td>Myanmar</td>\n",
       "      <td>96.19083</td>\n",
       "      <td>16.77458</td>\n",
       "      <td>1960</td>\n",
       "      <td>1</td>\n",
       "      <td>7.125</td>\n",
       "    </tr>\n",
       "    <tr>\n",
       "      <th>4</th>\n",
       "      <td>5</td>\n",
       "      <td>Malaysia</td>\n",
       "      <td>110.39875</td>\n",
       "      <td>1.55542</td>\n",
       "      <td>1960</td>\n",
       "      <td>1</td>\n",
       "      <td>717.250</td>\n",
       "    </tr>\n",
       "    <tr>\n",
       "      <th>...</th>\n",
       "      <td>...</td>\n",
       "      <td>...</td>\n",
       "      <td>...</td>\n",
       "      <td>...</td>\n",
       "      <td>...</td>\n",
       "      <td>...</td>\n",
       "      <td>...</td>\n",
       "    </tr>\n",
       "    <tr>\n",
       "      <th>7195</th>\n",
       "      <td>6</td>\n",
       "      <td>Malaysia</td>\n",
       "      <td>101.41125</td>\n",
       "      <td>2.80458</td>\n",
       "      <td>2019</td>\n",
       "      <td>12</td>\n",
       "      <td>30.000</td>\n",
       "    </tr>\n",
       "    <tr>\n",
       "      <th>7196</th>\n",
       "      <td>7</td>\n",
       "      <td>Myanmar</td>\n",
       "      <td>96.10625</td>\n",
       "      <td>16.84125</td>\n",
       "      <td>2019</td>\n",
       "      <td>12</td>\n",
       "      <td>32.000</td>\n",
       "    </tr>\n",
       "    <tr>\n",
       "      <th>7197</th>\n",
       "      <td>8</td>\n",
       "      <td>Malaysia</td>\n",
       "      <td>102.24458</td>\n",
       "      <td>6.18208</td>\n",
       "      <td>2019</td>\n",
       "      <td>12</td>\n",
       "      <td>29.500</td>\n",
       "    </tr>\n",
       "    <tr>\n",
       "      <th>7198</th>\n",
       "      <td>9</td>\n",
       "      <td>Malaysia</td>\n",
       "      <td>103.34292</td>\n",
       "      <td>3.80625</td>\n",
       "      <td>2019</td>\n",
       "      <td>12</td>\n",
       "      <td>30.000</td>\n",
       "    </tr>\n",
       "    <tr>\n",
       "      <th>7199</th>\n",
       "      <td>10</td>\n",
       "      <td>Malaysia</td>\n",
       "      <td>103.79750</td>\n",
       "      <td>1.49625</td>\n",
       "      <td>2019</td>\n",
       "      <td>12</td>\n",
       "      <td>30.000</td>\n",
       "    </tr>\n",
       "  </tbody>\n",
       "</table>\n",
       "<p>7200 rows × 7 columns</p>\n",
       "</div>"
      ],
      "text/plain": [
       "      river_ID   country        lon       lat  year  month  avg_precipitation\n",
       "0            1  Malaysia  101.38875   3.00292  1960      1            263.625\n",
       "1            2   Vietnam  106.74708  10.49875  1960      1              4.725\n",
       "2            3  Thailand  100.55795  13.61573  1960      1              4.750\n",
       "3            4   Myanmar   96.19083  16.77458  1960      1              7.125\n",
       "4            5  Malaysia  110.39875   1.55542  1960      1            717.250\n",
       "...        ...       ...        ...       ...   ...    ...                ...\n",
       "7195         6  Malaysia  101.41125   2.80458  2019     12             30.000\n",
       "7196         7   Myanmar   96.10625  16.84125  2019     12             32.000\n",
       "7197         8  Malaysia  102.24458   6.18208  2019     12             29.500\n",
       "7198         9  Malaysia  103.34292   3.80625  2019     12             30.000\n",
       "7199        10  Malaysia  103.79750   1.49625  2019     12             30.000\n",
       "\n",
       "[7200 rows x 7 columns]"
      ]
     },
     "execution_count": 3,
     "metadata": {},
     "output_type": "execute_result"
    }
   ],
   "source": [
    "ts_df"
   ]
  },
  {
   "cell_type": "code",
   "execution_count": 4,
   "metadata": {},
   "outputs": [
    {
     "data": {
      "text/html": [
       "<div>\n",
       "<style scoped>\n",
       "    .dataframe tbody tr th:only-of-type {\n",
       "        vertical-align: middle;\n",
       "    }\n",
       "\n",
       "    .dataframe tbody tr th {\n",
       "        vertical-align: top;\n",
       "    }\n",
       "\n",
       "    .dataframe thead th {\n",
       "        text-align: right;\n",
       "    }\n",
       "</style>\n",
       "<table border=\"1\" class=\"dataframe\">\n",
       "  <thead>\n",
       "    <tr style=\"text-align: right;\">\n",
       "      <th></th>\n",
       "      <th>pollution_volume</th>\n",
       "      <th>geometry</th>\n",
       "      <th>lat</th>\n",
       "      <th>lon</th>\n",
       "      <th>rank</th>\n",
       "      <th>country</th>\n",
       "    </tr>\n",
       "  </thead>\n",
       "  <tbody>\n",
       "    <tr>\n",
       "      <th>1</th>\n",
       "      <td>12816.00</td>\n",
       "      <td>POINT (101.38875 3.00292)</td>\n",
       "      <td>3.00292</td>\n",
       "      <td>101.38875</td>\n",
       "      <td>1</td>\n",
       "      <td>Malaysia</td>\n",
       "    </tr>\n",
       "    <tr>\n",
       "      <th>2</th>\n",
       "      <td>4127.44</td>\n",
       "      <td>POINT (106.74708 10.49875)</td>\n",
       "      <td>10.49875</td>\n",
       "      <td>106.74708</td>\n",
       "      <td>2</td>\n",
       "      <td>Vietnam</td>\n",
       "    </tr>\n",
       "    <tr>\n",
       "      <th>3</th>\n",
       "      <td>4027.33</td>\n",
       "      <td>POINT (100.55795 13.61573)</td>\n",
       "      <td>13.61573</td>\n",
       "      <td>100.55795</td>\n",
       "      <td>3</td>\n",
       "      <td>Thailand</td>\n",
       "    </tr>\n",
       "    <tr>\n",
       "      <th>4</th>\n",
       "      <td>3615.39</td>\n",
       "      <td>POINT (96.19083 16.77458)</td>\n",
       "      <td>16.77458</td>\n",
       "      <td>96.19083</td>\n",
       "      <td>4</td>\n",
       "      <td>Myanmar</td>\n",
       "    </tr>\n",
       "    <tr>\n",
       "      <th>5</th>\n",
       "      <td>3274.70</td>\n",
       "      <td>POINT (110.39875 1.55542)</td>\n",
       "      <td>1.55542</td>\n",
       "      <td>110.39875</td>\n",
       "      <td>5</td>\n",
       "      <td>Malaysia</td>\n",
       "    </tr>\n",
       "    <tr>\n",
       "      <th>6</th>\n",
       "      <td>2829.21</td>\n",
       "      <td>POINT (101.41125 2.80458)</td>\n",
       "      <td>2.80458</td>\n",
       "      <td>101.41125</td>\n",
       "      <td>6</td>\n",
       "      <td>Malaysia</td>\n",
       "    </tr>\n",
       "    <tr>\n",
       "      <th>7</th>\n",
       "      <td>2488.62</td>\n",
       "      <td>POINT (96.10625 16.84125)</td>\n",
       "      <td>16.84125</td>\n",
       "      <td>96.10625</td>\n",
       "      <td>7</td>\n",
       "      <td>Myanmar</td>\n",
       "    </tr>\n",
       "    <tr>\n",
       "      <th>8</th>\n",
       "      <td>2466.92</td>\n",
       "      <td>POINT (102.24458 6.18208)</td>\n",
       "      <td>6.18208</td>\n",
       "      <td>102.24458</td>\n",
       "      <td>8</td>\n",
       "      <td>Malaysia</td>\n",
       "    </tr>\n",
       "    <tr>\n",
       "      <th>9</th>\n",
       "      <td>2186.88</td>\n",
       "      <td>POINT (103.34292 3.80625)</td>\n",
       "      <td>3.80625</td>\n",
       "      <td>103.34292</td>\n",
       "      <td>9</td>\n",
       "      <td>Malaysia</td>\n",
       "    </tr>\n",
       "    <tr>\n",
       "      <th>10</th>\n",
       "      <td>2143.48</td>\n",
       "      <td>POINT (103.7975 1.49625)</td>\n",
       "      <td>1.49625</td>\n",
       "      <td>103.79750</td>\n",
       "      <td>10</td>\n",
       "      <td>Malaysia</td>\n",
       "    </tr>\n",
       "  </tbody>\n",
       "</table>\n",
       "</div>"
      ],
      "text/plain": [
       "    pollution_volume                    geometry       lat        lon  rank  \\\n",
       "1           12816.00   POINT (101.38875 3.00292)   3.00292  101.38875     1   \n",
       "2            4127.44  POINT (106.74708 10.49875)  10.49875  106.74708     2   \n",
       "3            4027.33  POINT (100.55795 13.61573)  13.61573  100.55795     3   \n",
       "4            3615.39   POINT (96.19083 16.77458)  16.77458   96.19083     4   \n",
       "5            3274.70   POINT (110.39875 1.55542)   1.55542  110.39875     5   \n",
       "6            2829.21   POINT (101.41125 2.80458)   2.80458  101.41125     6   \n",
       "7            2488.62   POINT (96.10625 16.84125)  16.84125   96.10625     7   \n",
       "8            2466.92   POINT (102.24458 6.18208)   6.18208  102.24458     8   \n",
       "9            2186.88   POINT (103.34292 3.80625)   3.80625  103.34292     9   \n",
       "10           2143.48    POINT (103.7975 1.49625)   1.49625  103.79750    10   \n",
       "\n",
       "     country  \n",
       "1   Malaysia  \n",
       "2    Vietnam  \n",
       "3   Thailand  \n",
       "4    Myanmar  \n",
       "5   Malaysia  \n",
       "6   Malaysia  \n",
       "7    Myanmar  \n",
       "8   Malaysia  \n",
       "9   Malaysia  \n",
       "10  Malaysia  "
      ]
     },
     "execution_count": 4,
     "metadata": {},
     "output_type": "execute_result"
    }
   ],
   "source": [
    "plastic_pollution"
   ]
  },
  {
   "cell_type": "code",
   "execution_count": 5,
   "metadata": {},
   "outputs": [
    {
     "data": {
      "text/html": [
       "<div>\n",
       "<style scoped>\n",
       "    .dataframe tbody tr th:only-of-type {\n",
       "        vertical-align: middle;\n",
       "    }\n",
       "\n",
       "    .dataframe tbody tr th {\n",
       "        vertical-align: top;\n",
       "    }\n",
       "\n",
       "    .dataframe thead th {\n",
       "        text-align: right;\n",
       "    }\n",
       "</style>\n",
       "<table border=\"1\" class=\"dataframe\">\n",
       "  <thead>\n",
       "    <tr style=\"text-align: right;\">\n",
       "      <th></th>\n",
       "      <th>river_ID</th>\n",
       "      <th>avg_precip_river</th>\n",
       "      <th>pollution_volume</th>\n",
       "      <th>geometry</th>\n",
       "      <th>lat</th>\n",
       "      <th>lon</th>\n",
       "      <th>rank</th>\n",
       "      <th>country</th>\n",
       "    </tr>\n",
       "  </thead>\n",
       "  <tbody>\n",
       "    <tr>\n",
       "      <th>0</th>\n",
       "      <td>1</td>\n",
       "      <td>31.795834</td>\n",
       "      <td>12816.00</td>\n",
       "      <td>POINT (101.38875 3.00292)</td>\n",
       "      <td>3.00292</td>\n",
       "      <td>101.38875</td>\n",
       "      <td>1</td>\n",
       "      <td>Malaysia</td>\n",
       "    </tr>\n",
       "    <tr>\n",
       "      <th>1</th>\n",
       "      <td>2</td>\n",
       "      <td>31.095835</td>\n",
       "      <td>4127.44</td>\n",
       "      <td>POINT (106.74708 10.49875)</td>\n",
       "      <td>10.49875</td>\n",
       "      <td>106.74708</td>\n",
       "      <td>2</td>\n",
       "      <td>Vietnam</td>\n",
       "    </tr>\n",
       "    <tr>\n",
       "      <th>2</th>\n",
       "      <td>3</td>\n",
       "      <td>32.706245</td>\n",
       "      <td>4027.33</td>\n",
       "      <td>POINT (100.55795 13.61573)</td>\n",
       "      <td>13.61573</td>\n",
       "      <td>100.55795</td>\n",
       "      <td>3</td>\n",
       "      <td>Thailand</td>\n",
       "    </tr>\n",
       "    <tr>\n",
       "      <th>3</th>\n",
       "      <td>4</td>\n",
       "      <td>32.603127</td>\n",
       "      <td>3615.39</td>\n",
       "      <td>POINT (96.19083 16.77458)</td>\n",
       "      <td>16.77458</td>\n",
       "      <td>96.19083</td>\n",
       "      <td>4</td>\n",
       "      <td>Myanmar</td>\n",
       "    </tr>\n",
       "    <tr>\n",
       "      <th>4</th>\n",
       "      <td>5</td>\n",
       "      <td>31.692709</td>\n",
       "      <td>3274.70</td>\n",
       "      <td>POINT (110.39875 1.55542)</td>\n",
       "      <td>1.55542</td>\n",
       "      <td>110.39875</td>\n",
       "      <td>5</td>\n",
       "      <td>Malaysia</td>\n",
       "    </tr>\n",
       "    <tr>\n",
       "      <th>5</th>\n",
       "      <td>6</td>\n",
       "      <td>31.141668</td>\n",
       "      <td>2829.21</td>\n",
       "      <td>POINT (101.41125 2.80458)</td>\n",
       "      <td>2.80458</td>\n",
       "      <td>101.41125</td>\n",
       "      <td>6</td>\n",
       "      <td>Malaysia</td>\n",
       "    </tr>\n",
       "    <tr>\n",
       "      <th>6</th>\n",
       "      <td>7</td>\n",
       "      <td>32.728127</td>\n",
       "      <td>2488.62</td>\n",
       "      <td>POINT (96.10625 16.84125)</td>\n",
       "      <td>16.84125</td>\n",
       "      <td>96.10625</td>\n",
       "      <td>7</td>\n",
       "      <td>Myanmar</td>\n",
       "    </tr>\n",
       "    <tr>\n",
       "      <th>7</th>\n",
       "      <td>8</td>\n",
       "      <td>31.064587</td>\n",
       "      <td>2466.92</td>\n",
       "      <td>POINT (102.24458 6.18208)</td>\n",
       "      <td>6.18208</td>\n",
       "      <td>102.24458</td>\n",
       "      <td>8</td>\n",
       "      <td>Malaysia</td>\n",
       "    </tr>\n",
       "    <tr>\n",
       "      <th>8</th>\n",
       "      <td>9</td>\n",
       "      <td>31.174999</td>\n",
       "      <td>2186.88</td>\n",
       "      <td>POINT (103.34292 3.80625)</td>\n",
       "      <td>3.80625</td>\n",
       "      <td>103.34292</td>\n",
       "      <td>9</td>\n",
       "      <td>Malaysia</td>\n",
       "    </tr>\n",
       "    <tr>\n",
       "      <th>9</th>\n",
       "      <td>10</td>\n",
       "      <td>30.648960</td>\n",
       "      <td>2143.48</td>\n",
       "      <td>POINT (103.7975 1.49625)</td>\n",
       "      <td>1.49625</td>\n",
       "      <td>103.79750</td>\n",
       "      <td>10</td>\n",
       "      <td>Malaysia</td>\n",
       "    </tr>\n",
       "  </tbody>\n",
       "</table>\n",
       "</div>"
      ],
      "text/plain": [
       "   river_ID  avg_precip_river  pollution_volume                    geometry  \\\n",
       "0         1         31.795834          12816.00   POINT (101.38875 3.00292)   \n",
       "1         2         31.095835           4127.44  POINT (106.74708 10.49875)   \n",
       "2         3         32.706245           4027.33  POINT (100.55795 13.61573)   \n",
       "3         4         32.603127           3615.39   POINT (96.19083 16.77458)   \n",
       "4         5         31.692709           3274.70   POINT (110.39875 1.55542)   \n",
       "5         6         31.141668           2829.21   POINT (101.41125 2.80458)   \n",
       "6         7         32.728127           2488.62   POINT (96.10625 16.84125)   \n",
       "7         8         31.064587           2466.92   POINT (102.24458 6.18208)   \n",
       "8         9         31.174999           2186.88   POINT (103.34292 3.80625)   \n",
       "9        10         30.648960           2143.48    POINT (103.7975 1.49625)   \n",
       "\n",
       "        lat        lon  rank   country  \n",
       "0   3.00292  101.38875     1  Malaysia  \n",
       "1  10.49875  106.74708     2   Vietnam  \n",
       "2  13.61573  100.55795     3  Thailand  \n",
       "3  16.77458   96.19083     4   Myanmar  \n",
       "4   1.55542  110.39875     5  Malaysia  \n",
       "5   2.80458  101.41125     6  Malaysia  \n",
       "6  16.84125   96.10625     7   Myanmar  \n",
       "7   6.18208  102.24458     8  Malaysia  \n",
       "8   3.80625  103.34292     9  Malaysia  \n",
       "9   1.49625  103.79750    10  Malaysia  "
      ]
     },
     "execution_count": 5,
     "metadata": {},
     "output_type": "execute_result"
    }
   ],
   "source": [
    "average_rain_and_pollution"
   ]
  },
  {
   "cell_type": "code",
   "execution_count": 6,
   "metadata": {},
   "outputs": [],
   "source": [
    "# for river in rivers:\n",
    "\n",
    "# group the ts_df by river and month, and calculate the average monthly precipitation for each river\n",
    "monthly_precipitation = ts_df.groupby(['river_ID', 'month']).agg(avg_monthly_rain=('avg_precipitation','mean')).reset_index()\n",
    "\n",
    "# sum the avg_pollution across months for each river, naming the new column avg_yearly_pollution\n",
    "yearly_precipitation = monthly_precipitation.groupby(['river_ID']).agg(avg_yearly_rain=('avg_monthly_rain','sum')).reset_index()\n",
    "\n",
    "# calculating the weights\n",
    "weights = pd.merge(monthly_precipitation, yearly_precipitation, how='left', on='river_ID')\n",
    "weights['weight'] = weights['avg_monthly_rain'] / weights['avg_yearly_rain']\n",
    "countries = average_rain_and_pollution[['river_ID', 'country','lon','lat']]\n",
    "weights = pd.merge(weights, countries, how='left', on='river_ID')"
   ]
  },
  {
   "cell_type": "code",
   "execution_count": 7,
   "metadata": {},
   "outputs": [
    {
     "data": {
      "text/html": [
       "<div>\n",
       "<style scoped>\n",
       "    .dataframe tbody tr th:only-of-type {\n",
       "        vertical-align: middle;\n",
       "    }\n",
       "\n",
       "    .dataframe tbody tr th {\n",
       "        vertical-align: top;\n",
       "    }\n",
       "\n",
       "    .dataframe thead th {\n",
       "        text-align: right;\n",
       "    }\n",
       "</style>\n",
       "<table border=\"1\" class=\"dataframe\">\n",
       "  <thead>\n",
       "    <tr style=\"text-align: right;\">\n",
       "      <th></th>\n",
       "      <th>river_ID</th>\n",
       "      <th>month</th>\n",
       "      <th>avg_monthly_rain</th>\n",
       "      <th>avg_yearly_rain</th>\n",
       "      <th>weight</th>\n",
       "      <th>country</th>\n",
       "      <th>lon</th>\n",
       "      <th>lat</th>\n",
       "    </tr>\n",
       "  </thead>\n",
       "  <tbody>\n",
       "    <tr>\n",
       "      <th>0</th>\n",
       "      <td>1</td>\n",
       "      <td>1</td>\n",
       "      <td>57.581249</td>\n",
       "      <td>704.434143</td>\n",
       "      <td>0.081741</td>\n",
       "      <td>Malaysia</td>\n",
       "      <td>101.38875</td>\n",
       "      <td>3.00292</td>\n",
       "    </tr>\n",
       "    <tr>\n",
       "      <th>1</th>\n",
       "      <td>1</td>\n",
       "      <td>2</td>\n",
       "      <td>47.967915</td>\n",
       "      <td>704.434143</td>\n",
       "      <td>0.068094</td>\n",
       "      <td>Malaysia</td>\n",
       "      <td>101.38875</td>\n",
       "      <td>3.00292</td>\n",
       "    </tr>\n",
       "    <tr>\n",
       "      <th>2</th>\n",
       "      <td>1</td>\n",
       "      <td>3</td>\n",
       "      <td>61.775414</td>\n",
       "      <td>704.434143</td>\n",
       "      <td>0.087695</td>\n",
       "      <td>Malaysia</td>\n",
       "      <td>101.38875</td>\n",
       "      <td>3.00292</td>\n",
       "    </tr>\n",
       "    <tr>\n",
       "      <th>3</th>\n",
       "      <td>1</td>\n",
       "      <td>4</td>\n",
       "      <td>64.261253</td>\n",
       "      <td>704.434143</td>\n",
       "      <td>0.091224</td>\n",
       "      <td>Malaysia</td>\n",
       "      <td>101.38875</td>\n",
       "      <td>3.00292</td>\n",
       "    </tr>\n",
       "    <tr>\n",
       "      <th>4</th>\n",
       "      <td>1</td>\n",
       "      <td>5</td>\n",
       "      <td>54.627918</td>\n",
       "      <td>704.434143</td>\n",
       "      <td>0.077549</td>\n",
       "      <td>Malaysia</td>\n",
       "      <td>101.38875</td>\n",
       "      <td>3.00292</td>\n",
       "    </tr>\n",
       "    <tr>\n",
       "      <th>...</th>\n",
       "      <td>...</td>\n",
       "      <td>...</td>\n",
       "      <td>...</td>\n",
       "      <td>...</td>\n",
       "      <td>...</td>\n",
       "      <td>...</td>\n",
       "      <td>...</td>\n",
       "      <td>...</td>\n",
       "    </tr>\n",
       "    <tr>\n",
       "      <th>115</th>\n",
       "      <td>10</td>\n",
       "      <td>8</td>\n",
       "      <td>45.442501</td>\n",
       "      <td>704.796265</td>\n",
       "      <td>0.064476</td>\n",
       "      <td>Malaysia</td>\n",
       "      <td>103.79750</td>\n",
       "      <td>1.49625</td>\n",
       "    </tr>\n",
       "    <tr>\n",
       "      <th>116</th>\n",
       "      <td>10</td>\n",
       "      <td>9</td>\n",
       "      <td>47.408749</td>\n",
       "      <td>704.796265</td>\n",
       "      <td>0.067266</td>\n",
       "      <td>Malaysia</td>\n",
       "      <td>103.79750</td>\n",
       "      <td>1.49625</td>\n",
       "    </tr>\n",
       "    <tr>\n",
       "      <th>117</th>\n",
       "      <td>10</td>\n",
       "      <td>10</td>\n",
       "      <td>55.966251</td>\n",
       "      <td>704.796265</td>\n",
       "      <td>0.079408</td>\n",
       "      <td>Malaysia</td>\n",
       "      <td>103.79750</td>\n",
       "      <td>1.49625</td>\n",
       "    </tr>\n",
       "    <tr>\n",
       "      <th>118</th>\n",
       "      <td>10</td>\n",
       "      <td>11</td>\n",
       "      <td>67.606247</td>\n",
       "      <td>704.796265</td>\n",
       "      <td>0.095923</td>\n",
       "      <td>Malaysia</td>\n",
       "      <td>103.79750</td>\n",
       "      <td>1.49625</td>\n",
       "    </tr>\n",
       "    <tr>\n",
       "      <th>119</th>\n",
       "      <td>10</td>\n",
       "      <td>12</td>\n",
       "      <td>85.959160</td>\n",
       "      <td>704.796265</td>\n",
       "      <td>0.121963</td>\n",
       "      <td>Malaysia</td>\n",
       "      <td>103.79750</td>\n",
       "      <td>1.49625</td>\n",
       "    </tr>\n",
       "  </tbody>\n",
       "</table>\n",
       "<p>120 rows × 8 columns</p>\n",
       "</div>"
      ],
      "text/plain": [
       "     river_ID  month  avg_monthly_rain  avg_yearly_rain    weight   country  \\\n",
       "0           1      1         57.581249       704.434143  0.081741  Malaysia   \n",
       "1           1      2         47.967915       704.434143  0.068094  Malaysia   \n",
       "2           1      3         61.775414       704.434143  0.087695  Malaysia   \n",
       "3           1      4         64.261253       704.434143  0.091224  Malaysia   \n",
       "4           1      5         54.627918       704.434143  0.077549  Malaysia   \n",
       "..        ...    ...               ...              ...       ...       ...   \n",
       "115        10      8         45.442501       704.796265  0.064476  Malaysia   \n",
       "116        10      9         47.408749       704.796265  0.067266  Malaysia   \n",
       "117        10     10         55.966251       704.796265  0.079408  Malaysia   \n",
       "118        10     11         67.606247       704.796265  0.095923  Malaysia   \n",
       "119        10     12         85.959160       704.796265  0.121963  Malaysia   \n",
       "\n",
       "           lon      lat  \n",
       "0    101.38875  3.00292  \n",
       "1    101.38875  3.00292  \n",
       "2    101.38875  3.00292  \n",
       "3    101.38875  3.00292  \n",
       "4    101.38875  3.00292  \n",
       "..         ...      ...  \n",
       "115  103.79750  1.49625  \n",
       "116  103.79750  1.49625  \n",
       "117  103.79750  1.49625  \n",
       "118  103.79750  1.49625  \n",
       "119  103.79750  1.49625  \n",
       "\n",
       "[120 rows x 8 columns]"
      ]
     },
     "execution_count": 7,
     "metadata": {},
     "output_type": "execute_result"
    }
   ],
   "source": [
    "weights"
   ]
  },
  {
   "cell_type": "code",
   "execution_count": 8,
   "metadata": {},
   "outputs": [
    {
     "data": {
      "application/vnd.plotly.v1+json": {
       "config": {
        "plotlyServerURL": "https://plot.ly"
       },
       "data": [
        {
         "hovertemplate": "month=%{x}<br>weight=%{y}<br>river_ID=%{marker.color}<extra></extra>",
         "legendgroup": "",
         "marker": {
          "color": {
           "bdata": "AQEBAQEBAQEBAQEBAgICAgICAgICAgICAwMDAwMDAwMDAwMDBAQEBAQEBAQEBAQEBQUFBQUFBQUFBQUFBgYGBgYGBgYGBgYGBwcHBwcHBwcHBwcHCAgICAgICAgICAgICQkJCQkJCQkJCQkJCgoKCgoKCgoKCgoK",
           "dtype": "i1"
          },
          "coloraxis": "coloraxis",
          "pattern": {
           "shape": ""
          }
         },
         "name": "",
         "orientation": "v",
         "showlegend": false,
         "textposition": "auto",
         "type": "bar",
         "x": {
          "bdata": "AQIDBAUGBwgJCgsMAQIDBAUGBwgJCgsMAQIDBAUGBwgJCgsMAQIDBAUGBwgJCgsMAQIDBAUGBwgJCgsMAQIDBAUGBwgJCgsMAQIDBAUGBwgJCgsMAQIDBAUGBwgJCgsMAQIDBAUGBwgJCgsMAQIDBAUGBwgJCgsM",
          "dtype": "i1"
         },
         "xaxis": "x",
         "y": {
          "bdata": "5menPQB1iz17mbM9ndO6PdTRnj2av4Q918mCPXEMnT0AJKE9plnaPTgh1j1yr8k9wEdBPXvWPz1zjVs9rQR9PY+W1z2d6Og9d8/iPSVcyT2CyOo9py32PTmElz1SBVw9/8NJPWJ+Zz2lmXA9k+yKPSBs9D0OIa49ObW5PeSS0T2AYRE+zfT0PbIOdj3vIUc9ao0KPZNSFD2FLR09eb8uPW+n3j2Cqwg+VjQaPkTbIz6/iQQ+dgKyPUr6Mj180RM97psWPiKL5D1kfLQ9p42NPYFUhj1nyH49dNt1PfJsgj1El349nlGePQSRqj1W8eA9AWmiPZochz36gZ89NTGxPRSjmT27FJU9abWXPbIFoz0ak6Y90GTVPVjW0z0Jhsw99ecMPWgpFz39wSA9m68zPW461z26/Ao+mOIbPjG5JT7Y5f09tSuxPRLkMT3+nhY9TpK3PSzzSj1Hqk89DU5ZPfFIgT3c/oQ95t2EPZBvhT0YRZA9NQqvPXpWOj458yQ+Et/oPc5AlD18KXg9e2aAPTEBhz2EVXc95x5/PUHvhD33yYw9N6uhPcyv7z2fijA+nUy2PdtUvz2iTKg9ikOjPRMUoT1FUpw9nr2SPQkMhD2zwok9gaCiPVVzxD3Ox/k9",
          "dtype": "f4"
         },
         "yaxis": "y"
        }
       ],
       "layout": {
        "barmode": "relative",
        "coloraxis": {
         "colorbar": {
          "title": {
           "text": "river_ID"
          }
         },
         "colorscale": [
          [
           0,
           "#0d0887"
          ],
          [
           0.1111111111111111,
           "#46039f"
          ],
          [
           0.2222222222222222,
           "#7201a8"
          ],
          [
           0.3333333333333333,
           "#9c179e"
          ],
          [
           0.4444444444444444,
           "#bd3786"
          ],
          [
           0.5555555555555556,
           "#d8576b"
          ],
          [
           0.6666666666666666,
           "#ed7953"
          ],
          [
           0.7777777777777778,
           "#fb9f3a"
          ],
          [
           0.8888888888888888,
           "#fdca26"
          ],
          [
           1,
           "#f0f921"
          ]
         ]
        },
        "legend": {
         "tracegroupgap": 0
        },
        "template": {
         "data": {
          "bar": [
           {
            "error_x": {
             "color": "#2a3f5f"
            },
            "error_y": {
             "color": "#2a3f5f"
            },
            "marker": {
             "line": {
              "color": "#E5ECF6",
              "width": 0.5
             },
             "pattern": {
              "fillmode": "overlay",
              "size": 10,
              "solidity": 0.2
             }
            },
            "type": "bar"
           }
          ],
          "barpolar": [
           {
            "marker": {
             "line": {
              "color": "#E5ECF6",
              "width": 0.5
             },
             "pattern": {
              "fillmode": "overlay",
              "size": 10,
              "solidity": 0.2
             }
            },
            "type": "barpolar"
           }
          ],
          "carpet": [
           {
            "aaxis": {
             "endlinecolor": "#2a3f5f",
             "gridcolor": "white",
             "linecolor": "white",
             "minorgridcolor": "white",
             "startlinecolor": "#2a3f5f"
            },
            "baxis": {
             "endlinecolor": "#2a3f5f",
             "gridcolor": "white",
             "linecolor": "white",
             "minorgridcolor": "white",
             "startlinecolor": "#2a3f5f"
            },
            "type": "carpet"
           }
          ],
          "choropleth": [
           {
            "colorbar": {
             "outlinewidth": 0,
             "ticks": ""
            },
            "type": "choropleth"
           }
          ],
          "contour": [
           {
            "colorbar": {
             "outlinewidth": 0,
             "ticks": ""
            },
            "colorscale": [
             [
              0,
              "#0d0887"
             ],
             [
              0.1111111111111111,
              "#46039f"
             ],
             [
              0.2222222222222222,
              "#7201a8"
             ],
             [
              0.3333333333333333,
              "#9c179e"
             ],
             [
              0.4444444444444444,
              "#bd3786"
             ],
             [
              0.5555555555555556,
              "#d8576b"
             ],
             [
              0.6666666666666666,
              "#ed7953"
             ],
             [
              0.7777777777777778,
              "#fb9f3a"
             ],
             [
              0.8888888888888888,
              "#fdca26"
             ],
             [
              1,
              "#f0f921"
             ]
            ],
            "type": "contour"
           }
          ],
          "contourcarpet": [
           {
            "colorbar": {
             "outlinewidth": 0,
             "ticks": ""
            },
            "type": "contourcarpet"
           }
          ],
          "heatmap": [
           {
            "colorbar": {
             "outlinewidth": 0,
             "ticks": ""
            },
            "colorscale": [
             [
              0,
              "#0d0887"
             ],
             [
              0.1111111111111111,
              "#46039f"
             ],
             [
              0.2222222222222222,
              "#7201a8"
             ],
             [
              0.3333333333333333,
              "#9c179e"
             ],
             [
              0.4444444444444444,
              "#bd3786"
             ],
             [
              0.5555555555555556,
              "#d8576b"
             ],
             [
              0.6666666666666666,
              "#ed7953"
             ],
             [
              0.7777777777777778,
              "#fb9f3a"
             ],
             [
              0.8888888888888888,
              "#fdca26"
             ],
             [
              1,
              "#f0f921"
             ]
            ],
            "type": "heatmap"
           }
          ],
          "histogram": [
           {
            "marker": {
             "pattern": {
              "fillmode": "overlay",
              "size": 10,
              "solidity": 0.2
             }
            },
            "type": "histogram"
           }
          ],
          "histogram2d": [
           {
            "colorbar": {
             "outlinewidth": 0,
             "ticks": ""
            },
            "colorscale": [
             [
              0,
              "#0d0887"
             ],
             [
              0.1111111111111111,
              "#46039f"
             ],
             [
              0.2222222222222222,
              "#7201a8"
             ],
             [
              0.3333333333333333,
              "#9c179e"
             ],
             [
              0.4444444444444444,
              "#bd3786"
             ],
             [
              0.5555555555555556,
              "#d8576b"
             ],
             [
              0.6666666666666666,
              "#ed7953"
             ],
             [
              0.7777777777777778,
              "#fb9f3a"
             ],
             [
              0.8888888888888888,
              "#fdca26"
             ],
             [
              1,
              "#f0f921"
             ]
            ],
            "type": "histogram2d"
           }
          ],
          "histogram2dcontour": [
           {
            "colorbar": {
             "outlinewidth": 0,
             "ticks": ""
            },
            "colorscale": [
             [
              0,
              "#0d0887"
             ],
             [
              0.1111111111111111,
              "#46039f"
             ],
             [
              0.2222222222222222,
              "#7201a8"
             ],
             [
              0.3333333333333333,
              "#9c179e"
             ],
             [
              0.4444444444444444,
              "#bd3786"
             ],
             [
              0.5555555555555556,
              "#d8576b"
             ],
             [
              0.6666666666666666,
              "#ed7953"
             ],
             [
              0.7777777777777778,
              "#fb9f3a"
             ],
             [
              0.8888888888888888,
              "#fdca26"
             ],
             [
              1,
              "#f0f921"
             ]
            ],
            "type": "histogram2dcontour"
           }
          ],
          "mesh3d": [
           {
            "colorbar": {
             "outlinewidth": 0,
             "ticks": ""
            },
            "type": "mesh3d"
           }
          ],
          "parcoords": [
           {
            "line": {
             "colorbar": {
              "outlinewidth": 0,
              "ticks": ""
             }
            },
            "type": "parcoords"
           }
          ],
          "pie": [
           {
            "automargin": true,
            "type": "pie"
           }
          ],
          "scatter": [
           {
            "fillpattern": {
             "fillmode": "overlay",
             "size": 10,
             "solidity": 0.2
            },
            "type": "scatter"
           }
          ],
          "scatter3d": [
           {
            "line": {
             "colorbar": {
              "outlinewidth": 0,
              "ticks": ""
             }
            },
            "marker": {
             "colorbar": {
              "outlinewidth": 0,
              "ticks": ""
             }
            },
            "type": "scatter3d"
           }
          ],
          "scattercarpet": [
           {
            "marker": {
             "colorbar": {
              "outlinewidth": 0,
              "ticks": ""
             }
            },
            "type": "scattercarpet"
           }
          ],
          "scattergeo": [
           {
            "marker": {
             "colorbar": {
              "outlinewidth": 0,
              "ticks": ""
             }
            },
            "type": "scattergeo"
           }
          ],
          "scattergl": [
           {
            "marker": {
             "colorbar": {
              "outlinewidth": 0,
              "ticks": ""
             }
            },
            "type": "scattergl"
           }
          ],
          "scattermap": [
           {
            "marker": {
             "colorbar": {
              "outlinewidth": 0,
              "ticks": ""
             }
            },
            "type": "scattermap"
           }
          ],
          "scattermapbox": [
           {
            "marker": {
             "colorbar": {
              "outlinewidth": 0,
              "ticks": ""
             }
            },
            "type": "scattermapbox"
           }
          ],
          "scatterpolar": [
           {
            "marker": {
             "colorbar": {
              "outlinewidth": 0,
              "ticks": ""
             }
            },
            "type": "scatterpolar"
           }
          ],
          "scatterpolargl": [
           {
            "marker": {
             "colorbar": {
              "outlinewidth": 0,
              "ticks": ""
             }
            },
            "type": "scatterpolargl"
           }
          ],
          "scatterternary": [
           {
            "marker": {
             "colorbar": {
              "outlinewidth": 0,
              "ticks": ""
             }
            },
            "type": "scatterternary"
           }
          ],
          "surface": [
           {
            "colorbar": {
             "outlinewidth": 0,
             "ticks": ""
            },
            "colorscale": [
             [
              0,
              "#0d0887"
             ],
             [
              0.1111111111111111,
              "#46039f"
             ],
             [
              0.2222222222222222,
              "#7201a8"
             ],
             [
              0.3333333333333333,
              "#9c179e"
             ],
             [
              0.4444444444444444,
              "#bd3786"
             ],
             [
              0.5555555555555556,
              "#d8576b"
             ],
             [
              0.6666666666666666,
              "#ed7953"
             ],
             [
              0.7777777777777778,
              "#fb9f3a"
             ],
             [
              0.8888888888888888,
              "#fdca26"
             ],
             [
              1,
              "#f0f921"
             ]
            ],
            "type": "surface"
           }
          ],
          "table": [
           {
            "cells": {
             "fill": {
              "color": "#EBF0F8"
             },
             "line": {
              "color": "white"
             }
            },
            "header": {
             "fill": {
              "color": "#C8D4E3"
             },
             "line": {
              "color": "white"
             }
            },
            "type": "table"
           }
          ]
         },
         "layout": {
          "annotationdefaults": {
           "arrowcolor": "#2a3f5f",
           "arrowhead": 0,
           "arrowwidth": 1
          },
          "autotypenumbers": "strict",
          "coloraxis": {
           "colorbar": {
            "outlinewidth": 0,
            "ticks": ""
           }
          },
          "colorscale": {
           "diverging": [
            [
             0,
             "#8e0152"
            ],
            [
             0.1,
             "#c51b7d"
            ],
            [
             0.2,
             "#de77ae"
            ],
            [
             0.3,
             "#f1b6da"
            ],
            [
             0.4,
             "#fde0ef"
            ],
            [
             0.5,
             "#f7f7f7"
            ],
            [
             0.6,
             "#e6f5d0"
            ],
            [
             0.7,
             "#b8e186"
            ],
            [
             0.8,
             "#7fbc41"
            ],
            [
             0.9,
             "#4d9221"
            ],
            [
             1,
             "#276419"
            ]
           ],
           "sequential": [
            [
             0,
             "#0d0887"
            ],
            [
             0.1111111111111111,
             "#46039f"
            ],
            [
             0.2222222222222222,
             "#7201a8"
            ],
            [
             0.3333333333333333,
             "#9c179e"
            ],
            [
             0.4444444444444444,
             "#bd3786"
            ],
            [
             0.5555555555555556,
             "#d8576b"
            ],
            [
             0.6666666666666666,
             "#ed7953"
            ],
            [
             0.7777777777777778,
             "#fb9f3a"
            ],
            [
             0.8888888888888888,
             "#fdca26"
            ],
            [
             1,
             "#f0f921"
            ]
           ],
           "sequentialminus": [
            [
             0,
             "#0d0887"
            ],
            [
             0.1111111111111111,
             "#46039f"
            ],
            [
             0.2222222222222222,
             "#7201a8"
            ],
            [
             0.3333333333333333,
             "#9c179e"
            ],
            [
             0.4444444444444444,
             "#bd3786"
            ],
            [
             0.5555555555555556,
             "#d8576b"
            ],
            [
             0.6666666666666666,
             "#ed7953"
            ],
            [
             0.7777777777777778,
             "#fb9f3a"
            ],
            [
             0.8888888888888888,
             "#fdca26"
            ],
            [
             1,
             "#f0f921"
            ]
           ]
          },
          "colorway": [
           "#636efa",
           "#EF553B",
           "#00cc96",
           "#ab63fa",
           "#FFA15A",
           "#19d3f3",
           "#FF6692",
           "#B6E880",
           "#FF97FF",
           "#FECB52"
          ],
          "font": {
           "color": "#2a3f5f"
          },
          "geo": {
           "bgcolor": "white",
           "lakecolor": "white",
           "landcolor": "#E5ECF6",
           "showlakes": true,
           "showland": true,
           "subunitcolor": "white"
          },
          "hoverlabel": {
           "align": "left"
          },
          "hovermode": "closest",
          "mapbox": {
           "style": "light"
          },
          "paper_bgcolor": "white",
          "plot_bgcolor": "#E5ECF6",
          "polar": {
           "angularaxis": {
            "gridcolor": "white",
            "linecolor": "white",
            "ticks": ""
           },
           "bgcolor": "#E5ECF6",
           "radialaxis": {
            "gridcolor": "white",
            "linecolor": "white",
            "ticks": ""
           }
          },
          "scene": {
           "xaxis": {
            "backgroundcolor": "#E5ECF6",
            "gridcolor": "white",
            "gridwidth": 2,
            "linecolor": "white",
            "showbackground": true,
            "ticks": "",
            "zerolinecolor": "white"
           },
           "yaxis": {
            "backgroundcolor": "#E5ECF6",
            "gridcolor": "white",
            "gridwidth": 2,
            "linecolor": "white",
            "showbackground": true,
            "ticks": "",
            "zerolinecolor": "white"
           },
           "zaxis": {
            "backgroundcolor": "#E5ECF6",
            "gridcolor": "white",
            "gridwidth": 2,
            "linecolor": "white",
            "showbackground": true,
            "ticks": "",
            "zerolinecolor": "white"
           }
          },
          "shapedefaults": {
           "line": {
            "color": "#2a3f5f"
           }
          },
          "ternary": {
           "aaxis": {
            "gridcolor": "white",
            "linecolor": "white",
            "ticks": ""
           },
           "baxis": {
            "gridcolor": "white",
            "linecolor": "white",
            "ticks": ""
           },
           "bgcolor": "#E5ECF6",
           "caxis": {
            "gridcolor": "white",
            "linecolor": "white",
            "ticks": ""
           }
          },
          "title": {
           "x": 0.05
          },
          "xaxis": {
           "automargin": true,
           "gridcolor": "white",
           "linecolor": "white",
           "ticks": "",
           "title": {
            "standoff": 15
           },
           "zerolinecolor": "white",
           "zerolinewidth": 2
          },
          "yaxis": {
           "automargin": true,
           "gridcolor": "white",
           "linecolor": "white",
           "ticks": "",
           "title": {
            "standoff": 15
           },
           "zerolinecolor": "white",
           "zerolinewidth": 2
          }
         }
        },
        "title": {
         "text": "Weights for each river"
        },
        "xaxis": {
         "anchor": "y",
         "domain": [
          0,
          1
         ],
         "title": {
          "text": "month"
         }
        },
        "yaxis": {
         "anchor": "x",
         "domain": [
          0,
          1
         ],
         "title": {
          "text": "weight"
         }
        }
       }
      }
     },
     "metadata": {},
     "output_type": "display_data"
    }
   ],
   "source": [
    "fig = px.bar(weights, x='month', y='weight', color='river_ID', title='Weights for each river')\n",
    "fig.show()\n"
   ]
  },
  {
   "cell_type": "code",
   "execution_count": 9,
   "metadata": {},
   "outputs": [
    {
     "data": {
      "application/vnd.plotly.v1+json": {
       "config": {
        "plotlyServerURL": "https://plot.ly"
       },
       "data": [
        {
         "hovertemplate": "month=%{x}<br>weight=%{y}<extra></extra>",
         "legendgroup": "",
         "marker": {
          "color": "#636efa",
          "pattern": {
           "shape": ""
          }
         },
         "name": "",
         "orientation": "v",
         "showlegend": false,
         "textposition": "auto",
         "type": "bar",
         "x": {
          "bdata": "AQIDBAUGBwgJCgsM",
          "dtype": "i1"
         },
         "xaxis": "x",
         "y": {
          "bdata": "5menPQB1iz17mbM9ndO6PdTRnj2av4Q918mCPXEMnT0AJKE9plnaPTgh1j1yr8k9",
          "dtype": "f4"
         },
         "yaxis": "y"
        },
        {
         "hovertemplate": "month=%{x}<br>weight=%{y}<extra></extra>",
         "legendgroup": "",
         "marker": {
          "color": "#636efa",
          "pattern": {
           "shape": ""
          }
         },
         "name": "",
         "orientation": "v",
         "showlegend": false,
         "textposition": "auto",
         "type": "bar",
         "x": {
          "bdata": "AQIDBAUGBwgJCgsM",
          "dtype": "i1"
         },
         "xaxis": "x2",
         "y": {
          "bdata": "wEdBPXvWPz1zjVs9rQR9PY+W1z2d6Og9d8/iPSVcyT2CyOo9py32PTmElz1SBVw9",
          "dtype": "f4"
         },
         "yaxis": "y2"
        },
        {
         "hovertemplate": "month=%{x}<br>weight=%{y}<extra></extra>",
         "legendgroup": "",
         "marker": {
          "color": "#636efa",
          "pattern": {
           "shape": ""
          }
         },
         "name": "",
         "orientation": "v",
         "showlegend": false,
         "textposition": "auto",
         "type": "bar",
         "x": {
          "bdata": "AQIDBAUGBwgJCgsM",
          "dtype": "i1"
         },
         "xaxis": "x3",
         "y": {
          "bdata": "/8NJPWJ+Zz2lmXA9k+yKPSBs9D0OIa49ObW5PeSS0T2AYRE+zfT0PbIOdj3vIUc9",
          "dtype": "f4"
         },
         "yaxis": "y3"
        },
        {
         "hovertemplate": "month=%{x}<br>weight=%{y}<extra></extra>",
         "legendgroup": "",
         "marker": {
          "color": "#636efa",
          "pattern": {
           "shape": ""
          }
         },
         "name": "",
         "orientation": "v",
         "showlegend": false,
         "textposition": "auto",
         "type": "bar",
         "x": {
          "bdata": "AQIDBAUGBwgJCgsM",
          "dtype": "i1"
         },
         "xaxis": "x4",
         "y": {
          "bdata": "/8NJPWJ+Zz2lmXA9k+yKPSBs9D0OIa49ObW5PeSS0T2AYRE+zfT0PbIOdj3vIUc9",
          "dtype": "f4"
         },
         "yaxis": "y4"
        },
        {
         "hovertemplate": "month=%{x}<br>weight=%{y}<extra></extra>",
         "legendgroup": "",
         "marker": {
          "color": "#636efa",
          "pattern": {
           "shape": ""
          }
         },
         "name": "",
         "orientation": "v",
         "showlegend": false,
         "textposition": "auto",
         "type": "bar",
         "x": {
          "bdata": "AQIDBAUGBwgJCgsM",
          "dtype": "i1"
         },
         "xaxis": "x5",
         "y": {
          "bdata": "/8NJPWJ+Zz2lmXA9k+yKPSBs9D0OIa49ObW5PeSS0T2AYRE+zfT0PbIOdj3vIUc9",
          "dtype": "f4"
         },
         "yaxis": "y5"
        },
        {
         "hovertemplate": "month=%{x}<br>weight=%{y}<extra></extra>",
         "legendgroup": "",
         "marker": {
          "color": "#636efa",
          "pattern": {
           "shape": ""
          }
         },
         "name": "",
         "orientation": "v",
         "showlegend": false,
         "textposition": "auto",
         "type": "bar",
         "x": {
          "bdata": "AQIDBAUGBwgJCgsM",
          "dtype": "i1"
         },
         "xaxis": "x6",
         "y": {
          "bdata": "/8NJPWJ+Zz2lmXA9k+yKPSBs9D0OIa49ObW5PeSS0T2AYRE+zfT0PbIOdj3vIUc9",
          "dtype": "f4"
         },
         "yaxis": "y6"
        },
        {
         "hovertemplate": "month=%{x}<br>weight=%{y}<extra></extra>",
         "legendgroup": "",
         "marker": {
          "color": "#636efa",
          "pattern": {
           "shape": ""
          }
         },
         "name": "",
         "orientation": "v",
         "showlegend": false,
         "textposition": "auto",
         "type": "bar",
         "x": {
          "bdata": "AQIDBAUGBwgJCgsM",
          "dtype": "i1"
         },
         "xaxis": "x7",
         "y": {
          "bdata": "/8NJPWJ+Zz2lmXA9k+yKPSBs9D0OIa49ObW5PeSS0T2AYRE+zfT0PbIOdj3vIUc9",
          "dtype": "f4"
         },
         "yaxis": "y7"
        },
        {
         "hovertemplate": "month=%{x}<br>weight=%{y}<extra></extra>",
         "legendgroup": "",
         "marker": {
          "color": "#636efa",
          "pattern": {
           "shape": ""
          }
         },
         "name": "",
         "orientation": "v",
         "showlegend": false,
         "textposition": "auto",
         "type": "bar",
         "x": {
          "bdata": "AQIDBAUGBwgJCgsM",
          "dtype": "i1"
         },
         "xaxis": "x8",
         "y": {
          "bdata": "/8NJPWJ+Zz2lmXA9k+yKPSBs9D0OIa49ObW5PeSS0T2AYRE+zfT0PbIOdj3vIUc9",
          "dtype": "f4"
         },
         "yaxis": "y8"
        },
        {
         "hovertemplate": "month=%{x}<br>weight=%{y}<extra></extra>",
         "legendgroup": "",
         "marker": {
          "color": "#636efa",
          "pattern": {
           "shape": ""
          }
         },
         "name": "",
         "orientation": "v",
         "showlegend": false,
         "textposition": "auto",
         "type": "bar",
         "x": {
          "bdata": "AQIDBAUGBwgJCgsM",
          "dtype": "i1"
         },
         "xaxis": "x9",
         "y": {
          "bdata": "/8NJPWJ+Zz2lmXA9k+yKPSBs9D0OIa49ObW5PeSS0T2AYRE+zfT0PbIOdj3vIUc9",
          "dtype": "f4"
         },
         "yaxis": "y9"
        },
        {
         "hovertemplate": "month=%{x}<br>weight=%{y}<extra></extra>",
         "legendgroup": "",
         "marker": {
          "color": "#636efa",
          "pattern": {
           "shape": ""
          }
         },
         "name": "",
         "orientation": "v",
         "showlegend": false,
         "textposition": "auto",
         "type": "bar",
         "x": {
          "bdata": "AQIDBAUGBwgJCgsM",
          "dtype": "i1"
         },
         "xaxis": "x10",
         "y": {
          "bdata": "/8NJPWJ+Zz2lmXA9k+yKPSBs9D0OIa49ObW5PeSS0T2AYRE+zfT0PbIOdj3vIUc9",
          "dtype": "f4"
         },
         "yaxis": "y10"
        }
       ],
       "layout": {
        "annotations": [
         {
          "font": {
           "size": 16
          },
          "showarrow": false,
          "text": "River 1: Malaysia",
          "x": 0.08399999999999999,
          "xanchor": "center",
          "xref": "paper",
          "y": 1,
          "yanchor": "bottom",
          "yref": "paper"
         },
         {
          "font": {
           "size": 16
          },
          "showarrow": false,
          "text": "River 2: Vietnam",
          "x": 0.292,
          "xanchor": "center",
          "xref": "paper",
          "y": 1,
          "yanchor": "bottom",
          "yref": "paper"
         },
         {
          "font": {
           "size": 16
          },
          "showarrow": false,
          "text": "River 3: Thailand",
          "x": 0.5,
          "xanchor": "center",
          "xref": "paper",
          "y": 1,
          "yanchor": "bottom",
          "yref": "paper"
         },
         {
          "font": {
           "size": 16
          },
          "showarrow": false,
          "text": "River 4: Myanmar",
          "x": 0.708,
          "xanchor": "center",
          "xref": "paper",
          "y": 1,
          "yanchor": "bottom",
          "yref": "paper"
         },
         {
          "font": {
           "size": 16
          },
          "showarrow": false,
          "text": "River 5: Malaysia",
          "x": 0.9159999999999999,
          "xanchor": "center",
          "xref": "paper",
          "y": 1,
          "yanchor": "bottom",
          "yref": "paper"
         },
         {
          "font": {
           "size": 16
          },
          "showarrow": false,
          "text": "River 6: Malaysia",
          "x": 0.08399999999999999,
          "xanchor": "center",
          "xref": "paper",
          "y": 0.375,
          "yanchor": "bottom",
          "yref": "paper"
         },
         {
          "font": {
           "size": 16
          },
          "showarrow": false,
          "text": "River 7: Myanmar",
          "x": 0.292,
          "xanchor": "center",
          "xref": "paper",
          "y": 0.375,
          "yanchor": "bottom",
          "yref": "paper"
         },
         {
          "font": {
           "size": 16
          },
          "showarrow": false,
          "text": "River 8: Malaysia",
          "x": 0.5,
          "xanchor": "center",
          "xref": "paper",
          "y": 0.375,
          "yanchor": "bottom",
          "yref": "paper"
         },
         {
          "font": {
           "size": 16
          },
          "showarrow": false,
          "text": "River 9: Malaysia",
          "x": 0.708,
          "xanchor": "center",
          "xref": "paper",
          "y": 0.375,
          "yanchor": "bottom",
          "yref": "paper"
         },
         {
          "font": {
           "size": 16
          },
          "showarrow": false,
          "text": "River 10: Malaysia",
          "x": 0.9159999999999999,
          "xanchor": "center",
          "xref": "paper",
          "y": 0.375,
          "yanchor": "bottom",
          "yref": "paper"
         }
        ],
        "template": {
         "data": {
          "bar": [
           {
            "error_x": {
             "color": "#2a3f5f"
            },
            "error_y": {
             "color": "#2a3f5f"
            },
            "marker": {
             "line": {
              "color": "#E5ECF6",
              "width": 0.5
             },
             "pattern": {
              "fillmode": "overlay",
              "size": 10,
              "solidity": 0.2
             }
            },
            "type": "bar"
           }
          ],
          "barpolar": [
           {
            "marker": {
             "line": {
              "color": "#E5ECF6",
              "width": 0.5
             },
             "pattern": {
              "fillmode": "overlay",
              "size": 10,
              "solidity": 0.2
             }
            },
            "type": "barpolar"
           }
          ],
          "carpet": [
           {
            "aaxis": {
             "endlinecolor": "#2a3f5f",
             "gridcolor": "white",
             "linecolor": "white",
             "minorgridcolor": "white",
             "startlinecolor": "#2a3f5f"
            },
            "baxis": {
             "endlinecolor": "#2a3f5f",
             "gridcolor": "white",
             "linecolor": "white",
             "minorgridcolor": "white",
             "startlinecolor": "#2a3f5f"
            },
            "type": "carpet"
           }
          ],
          "choropleth": [
           {
            "colorbar": {
             "outlinewidth": 0,
             "ticks": ""
            },
            "type": "choropleth"
           }
          ],
          "contour": [
           {
            "colorbar": {
             "outlinewidth": 0,
             "ticks": ""
            },
            "colorscale": [
             [
              0,
              "#0d0887"
             ],
             [
              0.1111111111111111,
              "#46039f"
             ],
             [
              0.2222222222222222,
              "#7201a8"
             ],
             [
              0.3333333333333333,
              "#9c179e"
             ],
             [
              0.4444444444444444,
              "#bd3786"
             ],
             [
              0.5555555555555556,
              "#d8576b"
             ],
             [
              0.6666666666666666,
              "#ed7953"
             ],
             [
              0.7777777777777778,
              "#fb9f3a"
             ],
             [
              0.8888888888888888,
              "#fdca26"
             ],
             [
              1,
              "#f0f921"
             ]
            ],
            "type": "contour"
           }
          ],
          "contourcarpet": [
           {
            "colorbar": {
             "outlinewidth": 0,
             "ticks": ""
            },
            "type": "contourcarpet"
           }
          ],
          "heatmap": [
           {
            "colorbar": {
             "outlinewidth": 0,
             "ticks": ""
            },
            "colorscale": [
             [
              0,
              "#0d0887"
             ],
             [
              0.1111111111111111,
              "#46039f"
             ],
             [
              0.2222222222222222,
              "#7201a8"
             ],
             [
              0.3333333333333333,
              "#9c179e"
             ],
             [
              0.4444444444444444,
              "#bd3786"
             ],
             [
              0.5555555555555556,
              "#d8576b"
             ],
             [
              0.6666666666666666,
              "#ed7953"
             ],
             [
              0.7777777777777778,
              "#fb9f3a"
             ],
             [
              0.8888888888888888,
              "#fdca26"
             ],
             [
              1,
              "#f0f921"
             ]
            ],
            "type": "heatmap"
           }
          ],
          "histogram": [
           {
            "marker": {
             "pattern": {
              "fillmode": "overlay",
              "size": 10,
              "solidity": 0.2
             }
            },
            "type": "histogram"
           }
          ],
          "histogram2d": [
           {
            "colorbar": {
             "outlinewidth": 0,
             "ticks": ""
            },
            "colorscale": [
             [
              0,
              "#0d0887"
             ],
             [
              0.1111111111111111,
              "#46039f"
             ],
             [
              0.2222222222222222,
              "#7201a8"
             ],
             [
              0.3333333333333333,
              "#9c179e"
             ],
             [
              0.4444444444444444,
              "#bd3786"
             ],
             [
              0.5555555555555556,
              "#d8576b"
             ],
             [
              0.6666666666666666,
              "#ed7953"
             ],
             [
              0.7777777777777778,
              "#fb9f3a"
             ],
             [
              0.8888888888888888,
              "#fdca26"
             ],
             [
              1,
              "#f0f921"
             ]
            ],
            "type": "histogram2d"
           }
          ],
          "histogram2dcontour": [
           {
            "colorbar": {
             "outlinewidth": 0,
             "ticks": ""
            },
            "colorscale": [
             [
              0,
              "#0d0887"
             ],
             [
              0.1111111111111111,
              "#46039f"
             ],
             [
              0.2222222222222222,
              "#7201a8"
             ],
             [
              0.3333333333333333,
              "#9c179e"
             ],
             [
              0.4444444444444444,
              "#bd3786"
             ],
             [
              0.5555555555555556,
              "#d8576b"
             ],
             [
              0.6666666666666666,
              "#ed7953"
             ],
             [
              0.7777777777777778,
              "#fb9f3a"
             ],
             [
              0.8888888888888888,
              "#fdca26"
             ],
             [
              1,
              "#f0f921"
             ]
            ],
            "type": "histogram2dcontour"
           }
          ],
          "mesh3d": [
           {
            "colorbar": {
             "outlinewidth": 0,
             "ticks": ""
            },
            "type": "mesh3d"
           }
          ],
          "parcoords": [
           {
            "line": {
             "colorbar": {
              "outlinewidth": 0,
              "ticks": ""
             }
            },
            "type": "parcoords"
           }
          ],
          "pie": [
           {
            "automargin": true,
            "type": "pie"
           }
          ],
          "scatter": [
           {
            "fillpattern": {
             "fillmode": "overlay",
             "size": 10,
             "solidity": 0.2
            },
            "type": "scatter"
           }
          ],
          "scatter3d": [
           {
            "line": {
             "colorbar": {
              "outlinewidth": 0,
              "ticks": ""
             }
            },
            "marker": {
             "colorbar": {
              "outlinewidth": 0,
              "ticks": ""
             }
            },
            "type": "scatter3d"
           }
          ],
          "scattercarpet": [
           {
            "marker": {
             "colorbar": {
              "outlinewidth": 0,
              "ticks": ""
             }
            },
            "type": "scattercarpet"
           }
          ],
          "scattergeo": [
           {
            "marker": {
             "colorbar": {
              "outlinewidth": 0,
              "ticks": ""
             }
            },
            "type": "scattergeo"
           }
          ],
          "scattergl": [
           {
            "marker": {
             "colorbar": {
              "outlinewidth": 0,
              "ticks": ""
             }
            },
            "type": "scattergl"
           }
          ],
          "scattermap": [
           {
            "marker": {
             "colorbar": {
              "outlinewidth": 0,
              "ticks": ""
             }
            },
            "type": "scattermap"
           }
          ],
          "scattermapbox": [
           {
            "marker": {
             "colorbar": {
              "outlinewidth": 0,
              "ticks": ""
             }
            },
            "type": "scattermapbox"
           }
          ],
          "scatterpolar": [
           {
            "marker": {
             "colorbar": {
              "outlinewidth": 0,
              "ticks": ""
             }
            },
            "type": "scatterpolar"
           }
          ],
          "scatterpolargl": [
           {
            "marker": {
             "colorbar": {
              "outlinewidth": 0,
              "ticks": ""
             }
            },
            "type": "scatterpolargl"
           }
          ],
          "scatterternary": [
           {
            "marker": {
             "colorbar": {
              "outlinewidth": 0,
              "ticks": ""
             }
            },
            "type": "scatterternary"
           }
          ],
          "surface": [
           {
            "colorbar": {
             "outlinewidth": 0,
             "ticks": ""
            },
            "colorscale": [
             [
              0,
              "#0d0887"
             ],
             [
              0.1111111111111111,
              "#46039f"
             ],
             [
              0.2222222222222222,
              "#7201a8"
             ],
             [
              0.3333333333333333,
              "#9c179e"
             ],
             [
              0.4444444444444444,
              "#bd3786"
             ],
             [
              0.5555555555555556,
              "#d8576b"
             ],
             [
              0.6666666666666666,
              "#ed7953"
             ],
             [
              0.7777777777777778,
              "#fb9f3a"
             ],
             [
              0.8888888888888888,
              "#fdca26"
             ],
             [
              1,
              "#f0f921"
             ]
            ],
            "type": "surface"
           }
          ],
          "table": [
           {
            "cells": {
             "fill": {
              "color": "#EBF0F8"
             },
             "line": {
              "color": "white"
             }
            },
            "header": {
             "fill": {
              "color": "#C8D4E3"
             },
             "line": {
              "color": "white"
             }
            },
            "type": "table"
           }
          ]
         },
         "layout": {
          "annotationdefaults": {
           "arrowcolor": "#2a3f5f",
           "arrowhead": 0,
           "arrowwidth": 1
          },
          "autotypenumbers": "strict",
          "coloraxis": {
           "colorbar": {
            "outlinewidth": 0,
            "ticks": ""
           }
          },
          "colorscale": {
           "diverging": [
            [
             0,
             "#8e0152"
            ],
            [
             0.1,
             "#c51b7d"
            ],
            [
             0.2,
             "#de77ae"
            ],
            [
             0.3,
             "#f1b6da"
            ],
            [
             0.4,
             "#fde0ef"
            ],
            [
             0.5,
             "#f7f7f7"
            ],
            [
             0.6,
             "#e6f5d0"
            ],
            [
             0.7,
             "#b8e186"
            ],
            [
             0.8,
             "#7fbc41"
            ],
            [
             0.9,
             "#4d9221"
            ],
            [
             1,
             "#276419"
            ]
           ],
           "sequential": [
            [
             0,
             "#0d0887"
            ],
            [
             0.1111111111111111,
             "#46039f"
            ],
            [
             0.2222222222222222,
             "#7201a8"
            ],
            [
             0.3333333333333333,
             "#9c179e"
            ],
            [
             0.4444444444444444,
             "#bd3786"
            ],
            [
             0.5555555555555556,
             "#d8576b"
            ],
            [
             0.6666666666666666,
             "#ed7953"
            ],
            [
             0.7777777777777778,
             "#fb9f3a"
            ],
            [
             0.8888888888888888,
             "#fdca26"
            ],
            [
             1,
             "#f0f921"
            ]
           ],
           "sequentialminus": [
            [
             0,
             "#0d0887"
            ],
            [
             0.1111111111111111,
             "#46039f"
            ],
            [
             0.2222222222222222,
             "#7201a8"
            ],
            [
             0.3333333333333333,
             "#9c179e"
            ],
            [
             0.4444444444444444,
             "#bd3786"
            ],
            [
             0.5555555555555556,
             "#d8576b"
            ],
            [
             0.6666666666666666,
             "#ed7953"
            ],
            [
             0.7777777777777778,
             "#fb9f3a"
            ],
            [
             0.8888888888888888,
             "#fdca26"
            ],
            [
             1,
             "#f0f921"
            ]
           ]
          },
          "colorway": [
           "#636efa",
           "#EF553B",
           "#00cc96",
           "#ab63fa",
           "#FFA15A",
           "#19d3f3",
           "#FF6692",
           "#B6E880",
           "#FF97FF",
           "#FECB52"
          ],
          "font": {
           "color": "#2a3f5f"
          },
          "geo": {
           "bgcolor": "white",
           "lakecolor": "white",
           "landcolor": "#E5ECF6",
           "showlakes": true,
           "showland": true,
           "subunitcolor": "white"
          },
          "hoverlabel": {
           "align": "left"
          },
          "hovermode": "closest",
          "mapbox": {
           "style": "light"
          },
          "paper_bgcolor": "white",
          "plot_bgcolor": "#E5ECF6",
          "polar": {
           "angularaxis": {
            "gridcolor": "white",
            "linecolor": "white",
            "ticks": ""
           },
           "bgcolor": "#E5ECF6",
           "radialaxis": {
            "gridcolor": "white",
            "linecolor": "white",
            "ticks": ""
           }
          },
          "scene": {
           "xaxis": {
            "backgroundcolor": "#E5ECF6",
            "gridcolor": "white",
            "gridwidth": 2,
            "linecolor": "white",
            "showbackground": true,
            "ticks": "",
            "zerolinecolor": "white"
           },
           "yaxis": {
            "backgroundcolor": "#E5ECF6",
            "gridcolor": "white",
            "gridwidth": 2,
            "linecolor": "white",
            "showbackground": true,
            "ticks": "",
            "zerolinecolor": "white"
           },
           "zaxis": {
            "backgroundcolor": "#E5ECF6",
            "gridcolor": "white",
            "gridwidth": 2,
            "linecolor": "white",
            "showbackground": true,
            "ticks": "",
            "zerolinecolor": "white"
           }
          },
          "shapedefaults": {
           "line": {
            "color": "#2a3f5f"
           }
          },
          "ternary": {
           "aaxis": {
            "gridcolor": "white",
            "linecolor": "white",
            "ticks": ""
           },
           "baxis": {
            "gridcolor": "white",
            "linecolor": "white",
            "ticks": ""
           },
           "bgcolor": "#E5ECF6",
           "caxis": {
            "gridcolor": "white",
            "linecolor": "white",
            "ticks": ""
           }
          },
          "title": {
           "x": 0.05
          },
          "xaxis": {
           "automargin": true,
           "gridcolor": "white",
           "linecolor": "white",
           "ticks": "",
           "title": {
            "standoff": 15
           },
           "zerolinecolor": "white",
           "zerolinewidth": 2
          },
          "yaxis": {
           "automargin": true,
           "gridcolor": "white",
           "linecolor": "white",
           "ticks": "",
           "title": {
            "standoff": 15
           },
           "zerolinecolor": "white",
           "zerolinewidth": 2
          }
         }
        },
        "title": {
         "text": "River Weights",
         "x": 0.5
        },
        "xaxis": {
         "anchor": "y",
         "domain": [
          0,
          0.16799999999999998
         ]
        },
        "xaxis10": {
         "anchor": "y10",
         "domain": [
          0.832,
          1
         ]
        },
        "xaxis2": {
         "anchor": "y2",
         "domain": [
          0.208,
          0.376
         ]
        },
        "xaxis3": {
         "anchor": "y3",
         "domain": [
          0.416,
          0.584
         ]
        },
        "xaxis4": {
         "anchor": "y4",
         "domain": [
          0.624,
          0.792
         ]
        },
        "xaxis5": {
         "anchor": "y5",
         "domain": [
          0.832,
          1
         ]
        },
        "xaxis6": {
         "anchor": "y6",
         "domain": [
          0,
          0.16799999999999998
         ]
        },
        "xaxis7": {
         "anchor": "y7",
         "domain": [
          0.208,
          0.376
         ]
        },
        "xaxis8": {
         "anchor": "y8",
         "domain": [
          0.416,
          0.584
         ]
        },
        "xaxis9": {
         "anchor": "y9",
         "domain": [
          0.624,
          0.792
         ]
        },
        "yaxis": {
         "anchor": "x",
         "domain": [
          0.625,
          1
         ]
        },
        "yaxis10": {
         "anchor": "x10",
         "domain": [
          0,
          0.375
         ]
        },
        "yaxis2": {
         "anchor": "x2",
         "domain": [
          0.625,
          1
         ]
        },
        "yaxis3": {
         "anchor": "x3",
         "domain": [
          0.625,
          1
         ]
        },
        "yaxis4": {
         "anchor": "x4",
         "domain": [
          0.625,
          1
         ]
        },
        "yaxis5": {
         "anchor": "x5",
         "domain": [
          0.625,
          1
         ]
        },
        "yaxis6": {
         "anchor": "x6",
         "domain": [
          0,
          0.375
         ]
        },
        "yaxis7": {
         "anchor": "x7",
         "domain": [
          0,
          0.375
         ]
        },
        "yaxis8": {
         "anchor": "x8",
         "domain": [
          0,
          0.375
         ]
        },
        "yaxis9": {
         "anchor": "x9",
         "domain": [
          0,
          0.375
         ]
        }
       }
      }
     },
     "metadata": {},
     "output_type": "display_data"
    }
   ],
   "source": [
    "# visualising the monthly rainfall for each river and showing 10 plots in a grid of 2x5 that show x=month, y=weight\n",
    "river_1 = weights[weights['river_ID'] == 1]\n",
    "river_name1 = river_1['country'][river_1['month'] == 1].iloc[0]\n",
    "fig1 = px.bar(river_1, x='month', y='weight', title='Weights for River 1')\n",
    "\n",
    "river_2 = weights[weights['river_ID'] == 2]\n",
    "river_name2 = river_2['country'][river_2['month'] == 1].iloc[0]\n",
    "fig2 = px.bar(river_2, x='month', y='weight', title='Weights for River 2')\n",
    "\n",
    "river_3 = weights[weights['river_ID'] == 3]\n",
    "river_name3 = river_3['country'][river_3['month'] == 1].iloc[0]\n",
    "fig3 = px.bar(river_3, x='month', y='weight', title='Weights for River 3')\n",
    "\n",
    "river_4 = weights[weights['river_ID'] == 4]\n",
    "river_name4 = river_4['country'][river_4['month'] == 1].iloc[0]\n",
    "fig4 = px.bar(river_4, x='month', y='weight', title='Weights for River 4')\n",
    "\n",
    "river_5 = weights[weights['river_ID'] == 5]\n",
    "river_name5 = river_5['country'][river_5['month'] == 1].iloc[0]\n",
    "fig5 = px.bar(river_5, x='month', y='weight', title='Weights for River 5')\n",
    "\n",
    "river_6 = weights[weights['river_ID'] == 6]\n",
    "river_name6 = river_6['country'][river_6['month'] == 1].iloc[0]\n",
    "fig6 = px.bar(river_6, x='month', y='weight', title='Weights for River 6')\n",
    "\n",
    "river_7 = weights[weights['river_ID'] == 7]\n",
    "river_name7 = river_7['country'][river_7['month'] == 1].iloc[0]\n",
    "fig7 = px.bar(river_7, x='month', y='weight', title='Weights for River 7')\n",
    "\n",
    "river_8 = weights[weights['river_ID'] == 8]\n",
    "river_name8 = river_8['country'][river_8['month'] == 1].iloc[0]\n",
    "fig8 = px.bar(river_8, x='month', y='weight', title='Weights for River 8')\n",
    "\n",
    "river_9 = weights[weights['river_ID'] == 9]\n",
    "river_name9 = river_9['country'][river_9['month'] == 1].iloc[0]\n",
    "fig9 = px.bar(river_9, x='month', y='weight', title='Weights for River 9')\n",
    "\n",
    "river_10 = weights[weights['river_ID'] == 10]\n",
    "river_name10 = river_10['country'][river_10['month'] == 1].iloc[0]\n",
    "fig10 = px.bar(river_10, x='month', y='weight', title='Weights for River 10')\n",
    "\n",
    "# titles = (f'{river_name1}', f'{river_name2}', f'{river_name3}', f'{river_name4}', f'{river_name5}', f'{river_name6}', f'{river_name7}', f'{river_name8}', f'{river_name9}', f'{river_name10}')\n",
    "\n",
    "# assign the titles to equal to the river_name variable of each river\n",
    "titles = [f'River 1: {river_name1}', f'River 2: {river_name2}', f'River 3: {river_name3}', f'River 4: {river_name4}', \n",
    "f'River 5: {river_name5}', f'River 6: {river_name6}', f'River 7: {river_name7}', f'River 8: {river_name8}', f'River 9: {river_name9}', f'River 10: {river_name10}']\n",
    "# titles = f'River 1: {river_name1}', f'River 2: {river_name2}', f'River 3: {river_name3}', f'River 4: {river_name4}', \n",
    "# f'River 5: {river_name5}', f'River 6: {river_name6}', f'River 7: {river_name7}', f'River 8: {river_name8}', f'River 9: {river_name9}', f'River 10: {river_name10}'\n",
    "\n",
    "# make subplots\n",
    "fig = make_subplots(rows=2, cols=5, subplot_titles=titles)\n",
    "fig.add_trace(fig1.data[0], row=1, col=1)\n",
    "fig.add_trace(fig2.data[0], row=1, col=2)\n",
    "fig.add_trace(fig3.data[0], row=1, col=3)\n",
    "fig.add_trace(fig3.data[0], row=1, col=4)\n",
    "fig.add_trace(fig3.data[0], row=1, col=5)\n",
    "fig.add_trace(fig3.data[0], row=2, col=1)\n",
    "fig.add_trace(fig3.data[0], row=2, col=2)\n",
    "fig.add_trace(fig3.data[0], row=2, col=3)\n",
    "fig.add_trace(fig3.data[0], row=2, col=4)\n",
    "fig.add_trace(fig3.data[0], row=2, col=5)\n",
    "\n",
    "# add title to the figure\n",
    "fig.update_layout(title_text=\"River Weights\", title_x=0.5)\n",
    "fig.show()\n"
   ]
  },
  {
   "cell_type": "markdown",
   "metadata": {},
   "source": [
    "##### ***Weighted Distibution of Annual Pollution:***"
   ]
  },
  {
   "cell_type": "code",
   "execution_count": 10,
   "metadata": {},
   "outputs": [],
   "source": [
    "pollution_volume = average_rain_and_pollution[['river_ID', 'pollution_volume']]"
   ]
  },
  {
   "cell_type": "code",
   "execution_count": 11,
   "metadata": {},
   "outputs": [],
   "source": [
    "pollution_volume = average_rain_and_pollution[['river_ID', 'pollution_volume']]\n",
    "\n",
    "monthly_pollution_df = pd.merge(weights, pollution_volume, how='left', on='river_ID')"
   ]
  },
  {
   "cell_type": "code",
   "execution_count": 12,
   "metadata": {},
   "outputs": [
    {
     "data": {
      "text/html": [
       "<div>\n",
       "<style scoped>\n",
       "    .dataframe tbody tr th:only-of-type {\n",
       "        vertical-align: middle;\n",
       "    }\n",
       "\n",
       "    .dataframe tbody tr th {\n",
       "        vertical-align: top;\n",
       "    }\n",
       "\n",
       "    .dataframe thead th {\n",
       "        text-align: right;\n",
       "    }\n",
       "</style>\n",
       "<table border=\"1\" class=\"dataframe\">\n",
       "  <thead>\n",
       "    <tr style=\"text-align: right;\">\n",
       "      <th></th>\n",
       "      <th>river_ID</th>\n",
       "      <th>month</th>\n",
       "      <th>avg_monthly_rain</th>\n",
       "      <th>avg_yearly_rain</th>\n",
       "      <th>weight</th>\n",
       "      <th>country</th>\n",
       "      <th>lon</th>\n",
       "      <th>lat</th>\n",
       "      <th>pollution_volume</th>\n",
       "      <th>monthly_pollution</th>\n",
       "    </tr>\n",
       "  </thead>\n",
       "  <tbody>\n",
       "    <tr>\n",
       "      <th>0</th>\n",
       "      <td>1</td>\n",
       "      <td>1</td>\n",
       "      <td>57.581249</td>\n",
       "      <td>704.434143</td>\n",
       "      <td>0.081741</td>\n",
       "      <td>Malaysia</td>\n",
       "      <td>101.38875</td>\n",
       "      <td>3.00292</td>\n",
       "      <td>12816.00</td>\n",
       "      <td>1047.594441</td>\n",
       "    </tr>\n",
       "    <tr>\n",
       "      <th>1</th>\n",
       "      <td>1</td>\n",
       "      <td>2</td>\n",
       "      <td>47.967915</td>\n",
       "      <td>704.434143</td>\n",
       "      <td>0.068094</td>\n",
       "      <td>Malaysia</td>\n",
       "      <td>101.38875</td>\n",
       "      <td>3.00292</td>\n",
       "      <td>12816.00</td>\n",
       "      <td>872.695953</td>\n",
       "    </tr>\n",
       "    <tr>\n",
       "      <th>2</th>\n",
       "      <td>1</td>\n",
       "      <td>3</td>\n",
       "      <td>61.775414</td>\n",
       "      <td>704.434143</td>\n",
       "      <td>0.087695</td>\n",
       "      <td>Malaysia</td>\n",
       "      <td>101.38875</td>\n",
       "      <td>3.00292</td>\n",
       "      <td>12816.00</td>\n",
       "      <td>1123.900203</td>\n",
       "    </tr>\n",
       "    <tr>\n",
       "      <th>3</th>\n",
       "      <td>1</td>\n",
       "      <td>4</td>\n",
       "      <td>64.261253</td>\n",
       "      <td>704.434143</td>\n",
       "      <td>0.091224</td>\n",
       "      <td>Malaysia</td>\n",
       "      <td>101.38875</td>\n",
       "      <td>3.00292</td>\n",
       "      <td>12816.00</td>\n",
       "      <td>1169.125923</td>\n",
       "    </tr>\n",
       "    <tr>\n",
       "      <th>4</th>\n",
       "      <td>1</td>\n",
       "      <td>5</td>\n",
       "      <td>54.627918</td>\n",
       "      <td>704.434143</td>\n",
       "      <td>0.077549</td>\n",
       "      <td>Malaysia</td>\n",
       "      <td>101.38875</td>\n",
       "      <td>3.00292</td>\n",
       "      <td>12816.00</td>\n",
       "      <td>993.863535</td>\n",
       "    </tr>\n",
       "    <tr>\n",
       "      <th>...</th>\n",
       "      <td>...</td>\n",
       "      <td>...</td>\n",
       "      <td>...</td>\n",
       "      <td>...</td>\n",
       "      <td>...</td>\n",
       "      <td>...</td>\n",
       "      <td>...</td>\n",
       "      <td>...</td>\n",
       "      <td>...</td>\n",
       "      <td>...</td>\n",
       "    </tr>\n",
       "    <tr>\n",
       "      <th>115</th>\n",
       "      <td>10</td>\n",
       "      <td>8</td>\n",
       "      <td>45.442501</td>\n",
       "      <td>704.796265</td>\n",
       "      <td>0.064476</td>\n",
       "      <td>Malaysia</td>\n",
       "      <td>103.79750</td>\n",
       "      <td>1.49625</td>\n",
       "      <td>2143.48</td>\n",
       "      <td>138.203188</td>\n",
       "    </tr>\n",
       "    <tr>\n",
       "      <th>116</th>\n",
       "      <td>10</td>\n",
       "      <td>9</td>\n",
       "      <td>47.408749</td>\n",
       "      <td>704.796265</td>\n",
       "      <td>0.067266</td>\n",
       "      <td>Malaysia</td>\n",
       "      <td>103.79750</td>\n",
       "      <td>1.49625</td>\n",
       "      <td>2143.48</td>\n",
       "      <td>144.183091</td>\n",
       "    </tr>\n",
       "    <tr>\n",
       "      <th>117</th>\n",
       "      <td>10</td>\n",
       "      <td>10</td>\n",
       "      <td>55.966251</td>\n",
       "      <td>704.796265</td>\n",
       "      <td>0.079408</td>\n",
       "      <td>Malaysia</td>\n",
       "      <td>103.79750</td>\n",
       "      <td>1.49625</td>\n",
       "      <td>2143.48</td>\n",
       "      <td>170.208816</td>\n",
       "    </tr>\n",
       "    <tr>\n",
       "      <th>118</th>\n",
       "      <td>10</td>\n",
       "      <td>11</td>\n",
       "      <td>67.606247</td>\n",
       "      <td>704.796265</td>\n",
       "      <td>0.095923</td>\n",
       "      <td>Malaysia</td>\n",
       "      <td>103.79750</td>\n",
       "      <td>1.49625</td>\n",
       "      <td>2143.48</td>\n",
       "      <td>205.609254</td>\n",
       "    </tr>\n",
       "    <tr>\n",
       "      <th>119</th>\n",
       "      <td>10</td>\n",
       "      <td>12</td>\n",
       "      <td>85.959160</td>\n",
       "      <td>704.796265</td>\n",
       "      <td>0.121963</td>\n",
       "      <td>Malaysia</td>\n",
       "      <td>103.79750</td>\n",
       "      <td>1.49625</td>\n",
       "      <td>2143.48</td>\n",
       "      <td>261.425527</td>\n",
       "    </tr>\n",
       "  </tbody>\n",
       "</table>\n",
       "<p>120 rows × 10 columns</p>\n",
       "</div>"
      ],
      "text/plain": [
       "     river_ID  month  avg_monthly_rain  avg_yearly_rain    weight   country  \\\n",
       "0           1      1         57.581249       704.434143  0.081741  Malaysia   \n",
       "1           1      2         47.967915       704.434143  0.068094  Malaysia   \n",
       "2           1      3         61.775414       704.434143  0.087695  Malaysia   \n",
       "3           1      4         64.261253       704.434143  0.091224  Malaysia   \n",
       "4           1      5         54.627918       704.434143  0.077549  Malaysia   \n",
       "..        ...    ...               ...              ...       ...       ...   \n",
       "115        10      8         45.442501       704.796265  0.064476  Malaysia   \n",
       "116        10      9         47.408749       704.796265  0.067266  Malaysia   \n",
       "117        10     10         55.966251       704.796265  0.079408  Malaysia   \n",
       "118        10     11         67.606247       704.796265  0.095923  Malaysia   \n",
       "119        10     12         85.959160       704.796265  0.121963  Malaysia   \n",
       "\n",
       "           lon      lat  pollution_volume  monthly_pollution  \n",
       "0    101.38875  3.00292          12816.00        1047.594441  \n",
       "1    101.38875  3.00292          12816.00         872.695953  \n",
       "2    101.38875  3.00292          12816.00        1123.900203  \n",
       "3    101.38875  3.00292          12816.00        1169.125923  \n",
       "4    101.38875  3.00292          12816.00         993.863535  \n",
       "..         ...      ...               ...                ...  \n",
       "115  103.79750  1.49625           2143.48         138.203188  \n",
       "116  103.79750  1.49625           2143.48         144.183091  \n",
       "117  103.79750  1.49625           2143.48         170.208816  \n",
       "118  103.79750  1.49625           2143.48         205.609254  \n",
       "119  103.79750  1.49625           2143.48         261.425527  \n",
       "\n",
       "[120 rows x 10 columns]"
      ]
     },
     "execution_count": 12,
     "metadata": {},
     "output_type": "execute_result"
    }
   ],
   "source": [
    "# for each river, create a new column that is monthly_pollution. This is equal to annual pollution x weight for each river and each month\n",
    "monthly_pollution_df['monthly_pollution'] = monthly_pollution_df['pollution_volume'] * monthly_pollution_df['weight']\n",
    "monthly_pollution_df"
   ]
  },
  {
   "cell_type": "code",
   "execution_count": 13,
   "metadata": {},
   "outputs": [
    {
     "data": {
      "application/vnd.plotly.v1+json": {
       "config": {
        "plotlyServerURL": "https://plot.ly"
       },
       "data": [
        {
         "hovertemplate": "month=%{x}<br>monthly_pollution=%{y}<extra></extra>",
         "legendgroup": "",
         "marker": {
          "color": "red",
          "pattern": {
           "shape": ""
          }
         },
         "name": "",
         "orientation": "v",
         "showlegend": false,
         "textposition": "auto",
         "type": "bar",
         "x": {
          "bdata": "AQIDBAUGBwgJCgsM",
          "dtype": "i1"
         },
         "xaxis": "x",
         "y": {
          "bdata": "AAAwtWBekEAAAABQkUWLQAAA2M6Zj5FAAADo8YBEkkAAAECF6A6PQAAAoA249YlAAABwm5iTiUAAABDZPraOQAAAAEAag49AAAAwA5RZlUAAAMCB7++UQAAAkJ1vuJNA",
          "dtype": "f8"
         },
         "yaxis": "y"
        },
        {
         "hovertemplate": "month=%{x}<br>monthly_pollution=%{y}<extra></extra>",
         "legendgroup": "",
         "marker": {
          "color": "red",
          "pattern": {
           "shape": ""
          }
         },
         "name": "",
         "orientation": "v",
         "showlegend": false,
         "textposition": "auto",
         "type": "bar",
         "x": {
          "bdata": "AQIDBAUGBwgJCgsM",
          "dtype": "i1"
         },
         "xaxis": "x2",
         "y": {
          "bdata": "ehSudnFYaEA9CgMj7iloQJmZpdabp2tAZmbaabveb0A9ClMOxid7QEfhrutIVn1AKFyrtqSRfED//1Mj+lx5QB6Fc2u7kn1ACdd/kSwCf0DMzHB7vhVzQPUoJCi1tmtA",
          "dtype": "f8"
         },
         "yaxis": "y2"
        },
        {
         "hovertemplate": "month=%{x}<br>monthly_pollution=%{y}<extra></extra>",
         "legendgroup": "",
         "marker": {
          "color": "red",
          "pattern": {
           "shape": ""
          }
         },
         "name": "",
         "orientation": "v",
         "showlegend": false,
         "textposition": "auto",
         "type": "bar",
         "x": {
          "bdata": "AQIDBAUGBwgJCgsM",
          "dtype": "i1"
         },
         "xaxis": "x3",
         "y": {
          "bdata": "j0LbYkHMaEAzM1jomnNsQBQu3Jggkm1AwnVgiQoTcUBwPVoIYwp+QPYoT9u2ZnVA4fp6AAbTdkDheq6i7cF5QM3MjGQx3oFA4fpMVS8bfkBI4ee51D1uQPaomQJpeWhA",
          "dtype": "f8"
         },
         "yaxis": "y3"
        },
        {
         "hovertemplate": "month=%{x}<br>monthly_pollution=%{y}<extra></extra>",
         "legendgroup": "",
         "marker": {
          "color": "red",
          "pattern": {
           "shape": ""
          }
         },
         "name": "",
         "orientation": "v",
         "showlegend": false,
         "textposition": "auto",
         "type": "bar",
         "x": {
          "bdata": "AQIDBAUGBwgJCgsM",
          "dtype": "i1"
         },
         "xaxis": "x4",
         "y": {
          "bdata": "MzOh0+OSXkCPQqbEZ11gQGbmeSuGV2FAFC756MtHY0Bm5nBc6pB4QLgee7eMKH5Aj8JeXIoDgUAAAFZZKhSCQGZm60IjP31A16OJWeyjc0DC9S9QRL9jQJmZY5gpT2BA",
          "dtype": "f8"
         },
         "yaxis": "y4"
        },
        {
         "hovertemplate": "month=%{x}<br>monthly_pollution=%{y}<extra></extra>",
         "legendgroup": "",
         "marker": {
          "color": "red",
          "pattern": {
           "shape": ""
          }
         },
         "name": "",
         "orientation": "v",
         "showlegend": false,
         "textposition": "auto",
         "type": "bar",
         "x": {
          "bdata": "AQIDBAUGBwgJCgsM",
          "dtype": "i1"
         },
         "xaxis": "x5",
         "y": {
          "bdata": "ZmbKez4afkBmZqS39tZ2QJmZ9Vt6CXJAMzOFwOJKbECZmfcGS9lqQMzMtZxCdmlAAABMZumRaEAAANxsghFqQDMzr4RZcWlAmZmdhbqkb0CZmVUFtAtxQGZmMNfXenZA",
          "dtype": "f8"
         },
         "yaxis": "y5"
        },
        {
         "hovertemplate": "month=%{x}<br>monthly_pollution=%{y}<extra></extra>",
         "legendgroup": "",
         "marker": {
          "color": "red",
          "pattern": {
           "shape": ""
          }
         },
         "name": "",
         "orientation": "v",
         "showlegend": false,
         "textposition": "auto",
         "type": "bar",
         "x": {
          "bdata": "AQIDBAUGBwgJCgsM",
          "dtype": "i1"
         },
         "xaxis": "x6",
         "y": {
          "bdata": "hevi7JELbEBI4bTFzVRnQOxRUltDi2tAw/Ut8geZbkA+CiuevYdqQNejW5RVvmlAFa7AVH4yakAK13WwoCZsQFyPfEWqw2xAhes5va9sckBcj65NSEpyQKTwSUmgqHFA",
          "dtype": "f8"
         },
         "yaxis": "y6"
        },
        {
         "hovertemplate": "month=%{x}<br>monthly_pollution=%{y}<extra></extra>",
         "legendgroup": "",
         "marker": {
          "color": "red",
          "pattern": {
           "shape": ""
          }
         },
         "name": "",
         "orientation": "v",
         "showlegend": false,
         "textposition": "auto",
         "type": "bar",
         "x": {
          "bdata": "AQIDBAUGBwgJCgsM",
          "dtype": "i1"
         },
         "xaxis": "x7",
         "y": {
          "bdata": "exTUxhZnVUCuR5GM4PVWQHsURPkDa1hAHoWlSAhLW0AfhS2cilhwQBSu8255HHVAcD1abYutd0AehVlPGix5QB6F02teSHNArkeHfjrpakAK1x9nOwVbQML1jFza4FZA",
          "dtype": "f8"
         },
         "yaxis": "y7"
        },
        {
         "hovertemplate": "month=%{x}<br>monthly_pollution=%{y}<extra></extra>",
         "legendgroup": "",
         "marker": {
          "color": "red",
          "pattern": {
           "shape": ""
          }
         },
         "name": "",
         "orientation": "v",
         "showlegend": false,
         "textposition": "auto",
         "type": "bar",
         "x": {
          "bdata": "AQIDBAUGBwgJCgsM",
          "dtype": "i1"
         },
         "xaxis": "x8",
         "y": {
          "bdata": "XI962OCja0DsUWiS1I5eQHE95jSVRF9AuB6/iRNcYEBcj8ZKXndjQK5HUXllBmRApHBV+W4BZEDXo7CvXRdkQMP1iC75uGVACte3bwVbakC5Hu3FgQ58QIXrdbAa1nhA",
          "dtype": "f8"
         },
         "yaxis": "y8"
        },
        {
         "hovertemplate": "month=%{x}<br>monthly_pollution=%{y}<extra></extra>",
         "legendgroup": "",
         "marker": {
          "color": "red",
          "pattern": {
           "shape": ""
          }
         },
         "name": "",
         "orientation": "v",
         "showlegend": false,
         "textposition": "auto",
         "type": "bar",
         "x": {
          "bdata": "AQIDBAUGBwgJCgsM",
          "dtype": "i1"
         },
         "xaxis": "x9",
         "y": {
          "bdata": "9ijc8zYVb0ApXA9Wz8ljQOJ6lD3Zj2BAKVxPUXAjYUDNzAzpGwViQArXI8GzgWBA9ig8xLwGYUAfhSvyX75hQClcT/DBymJAPgqXITmUZUD2KFxCGP5vQMP16DNskHdA",
          "dtype": "f8"
         },
         "yaxis": "y9"
        },
        {
         "hovertemplate": "month=%{x}<br>monthly_pollution=%{y}<extra></extra>",
         "legendgroup": "",
         "marker": {
          "color": "red",
          "pattern": {
           "shape": ""
          }
         },
         "name": "",
         "orientation": "v",
         "showlegend": false,
         "textposition": "auto",
         "type": "bar",
         "x": {
          "bdata": "AQIDBAUGBwgJCgsM",
          "dtype": "i1"
         },
         "xaxis": "x10",
         "y": {
          "bdata": "zczIXIvZZ0B7FFKwDAhpQFK49iKpBGZAKVxH+AJcZUAzM3dx0RJlQArXf+F+c2RA9iiE9J4yY0ApXBuFgEZhQAAAxOHbBWJA7FHkna5GZUAfhYcBf7NpQKRw8fTOVnBA",
          "dtype": "f8"
         },
         "yaxis": "y10"
        }
       ],
       "layout": {
        "annotations": [
         {
          "font": {
           "size": 16
          },
          "showarrow": false,
          "text": "River 1: Malaysia",
          "x": 0.08399999999999999,
          "xanchor": "center",
          "xref": "paper",
          "y": 1,
          "yanchor": "bottom",
          "yref": "paper"
         },
         {
          "font": {
           "size": 16
          },
          "showarrow": false,
          "text": "River 2: Vietnam",
          "x": 0.292,
          "xanchor": "center",
          "xref": "paper",
          "y": 1,
          "yanchor": "bottom",
          "yref": "paper"
         },
         {
          "font": {
           "size": 16
          },
          "showarrow": false,
          "text": "River 3: Thailand",
          "x": 0.5,
          "xanchor": "center",
          "xref": "paper",
          "y": 1,
          "yanchor": "bottom",
          "yref": "paper"
         },
         {
          "font": {
           "size": 16
          },
          "showarrow": false,
          "text": "River 4: Myanmar",
          "x": 0.708,
          "xanchor": "center",
          "xref": "paper",
          "y": 1,
          "yanchor": "bottom",
          "yref": "paper"
         },
         {
          "font": {
           "size": 16
          },
          "showarrow": false,
          "text": "River 5: Malaysia",
          "x": 0.9159999999999999,
          "xanchor": "center",
          "xref": "paper",
          "y": 1,
          "yanchor": "bottom",
          "yref": "paper"
         },
         {
          "font": {
           "size": 16
          },
          "showarrow": false,
          "text": "River 6: Malaysia",
          "x": 0.08399999999999999,
          "xanchor": "center",
          "xref": "paper",
          "y": 0.375,
          "yanchor": "bottom",
          "yref": "paper"
         },
         {
          "font": {
           "size": 16
          },
          "showarrow": false,
          "text": "River 7: Myanmar",
          "x": 0.292,
          "xanchor": "center",
          "xref": "paper",
          "y": 0.375,
          "yanchor": "bottom",
          "yref": "paper"
         },
         {
          "font": {
           "size": 16
          },
          "showarrow": false,
          "text": "River 8: Malaysia",
          "x": 0.5,
          "xanchor": "center",
          "xref": "paper",
          "y": 0.375,
          "yanchor": "bottom",
          "yref": "paper"
         },
         {
          "font": {
           "size": 16
          },
          "showarrow": false,
          "text": "River 9: Malaysia",
          "x": 0.708,
          "xanchor": "center",
          "xref": "paper",
          "y": 0.375,
          "yanchor": "bottom",
          "yref": "paper"
         },
         {
          "font": {
           "size": 16
          },
          "showarrow": false,
          "text": "River 10: Malaysia",
          "x": 0.9159999999999999,
          "xanchor": "center",
          "xref": "paper",
          "y": 0.375,
          "yanchor": "bottom",
          "yref": "paper"
         }
        ],
        "template": {
         "data": {
          "bar": [
           {
            "error_x": {
             "color": "#2a3f5f"
            },
            "error_y": {
             "color": "#2a3f5f"
            },
            "marker": {
             "line": {
              "color": "#E5ECF6",
              "width": 0.5
             },
             "pattern": {
              "fillmode": "overlay",
              "size": 10,
              "solidity": 0.2
             }
            },
            "type": "bar"
           }
          ],
          "barpolar": [
           {
            "marker": {
             "line": {
              "color": "#E5ECF6",
              "width": 0.5
             },
             "pattern": {
              "fillmode": "overlay",
              "size": 10,
              "solidity": 0.2
             }
            },
            "type": "barpolar"
           }
          ],
          "carpet": [
           {
            "aaxis": {
             "endlinecolor": "#2a3f5f",
             "gridcolor": "white",
             "linecolor": "white",
             "minorgridcolor": "white",
             "startlinecolor": "#2a3f5f"
            },
            "baxis": {
             "endlinecolor": "#2a3f5f",
             "gridcolor": "white",
             "linecolor": "white",
             "minorgridcolor": "white",
             "startlinecolor": "#2a3f5f"
            },
            "type": "carpet"
           }
          ],
          "choropleth": [
           {
            "colorbar": {
             "outlinewidth": 0,
             "ticks": ""
            },
            "type": "choropleth"
           }
          ],
          "contour": [
           {
            "colorbar": {
             "outlinewidth": 0,
             "ticks": ""
            },
            "colorscale": [
             [
              0,
              "#0d0887"
             ],
             [
              0.1111111111111111,
              "#46039f"
             ],
             [
              0.2222222222222222,
              "#7201a8"
             ],
             [
              0.3333333333333333,
              "#9c179e"
             ],
             [
              0.4444444444444444,
              "#bd3786"
             ],
             [
              0.5555555555555556,
              "#d8576b"
             ],
             [
              0.6666666666666666,
              "#ed7953"
             ],
             [
              0.7777777777777778,
              "#fb9f3a"
             ],
             [
              0.8888888888888888,
              "#fdca26"
             ],
             [
              1,
              "#f0f921"
             ]
            ],
            "type": "contour"
           }
          ],
          "contourcarpet": [
           {
            "colorbar": {
             "outlinewidth": 0,
             "ticks": ""
            },
            "type": "contourcarpet"
           }
          ],
          "heatmap": [
           {
            "colorbar": {
             "outlinewidth": 0,
             "ticks": ""
            },
            "colorscale": [
             [
              0,
              "#0d0887"
             ],
             [
              0.1111111111111111,
              "#46039f"
             ],
             [
              0.2222222222222222,
              "#7201a8"
             ],
             [
              0.3333333333333333,
              "#9c179e"
             ],
             [
              0.4444444444444444,
              "#bd3786"
             ],
             [
              0.5555555555555556,
              "#d8576b"
             ],
             [
              0.6666666666666666,
              "#ed7953"
             ],
             [
              0.7777777777777778,
              "#fb9f3a"
             ],
             [
              0.8888888888888888,
              "#fdca26"
             ],
             [
              1,
              "#f0f921"
             ]
            ],
            "type": "heatmap"
           }
          ],
          "histogram": [
           {
            "marker": {
             "pattern": {
              "fillmode": "overlay",
              "size": 10,
              "solidity": 0.2
             }
            },
            "type": "histogram"
           }
          ],
          "histogram2d": [
           {
            "colorbar": {
             "outlinewidth": 0,
             "ticks": ""
            },
            "colorscale": [
             [
              0,
              "#0d0887"
             ],
             [
              0.1111111111111111,
              "#46039f"
             ],
             [
              0.2222222222222222,
              "#7201a8"
             ],
             [
              0.3333333333333333,
              "#9c179e"
             ],
             [
              0.4444444444444444,
              "#bd3786"
             ],
             [
              0.5555555555555556,
              "#d8576b"
             ],
             [
              0.6666666666666666,
              "#ed7953"
             ],
             [
              0.7777777777777778,
              "#fb9f3a"
             ],
             [
              0.8888888888888888,
              "#fdca26"
             ],
             [
              1,
              "#f0f921"
             ]
            ],
            "type": "histogram2d"
           }
          ],
          "histogram2dcontour": [
           {
            "colorbar": {
             "outlinewidth": 0,
             "ticks": ""
            },
            "colorscale": [
             [
              0,
              "#0d0887"
             ],
             [
              0.1111111111111111,
              "#46039f"
             ],
             [
              0.2222222222222222,
              "#7201a8"
             ],
             [
              0.3333333333333333,
              "#9c179e"
             ],
             [
              0.4444444444444444,
              "#bd3786"
             ],
             [
              0.5555555555555556,
              "#d8576b"
             ],
             [
              0.6666666666666666,
              "#ed7953"
             ],
             [
              0.7777777777777778,
              "#fb9f3a"
             ],
             [
              0.8888888888888888,
              "#fdca26"
             ],
             [
              1,
              "#f0f921"
             ]
            ],
            "type": "histogram2dcontour"
           }
          ],
          "mesh3d": [
           {
            "colorbar": {
             "outlinewidth": 0,
             "ticks": ""
            },
            "type": "mesh3d"
           }
          ],
          "parcoords": [
           {
            "line": {
             "colorbar": {
              "outlinewidth": 0,
              "ticks": ""
             }
            },
            "type": "parcoords"
           }
          ],
          "pie": [
           {
            "automargin": true,
            "type": "pie"
           }
          ],
          "scatter": [
           {
            "fillpattern": {
             "fillmode": "overlay",
             "size": 10,
             "solidity": 0.2
            },
            "type": "scatter"
           }
          ],
          "scatter3d": [
           {
            "line": {
             "colorbar": {
              "outlinewidth": 0,
              "ticks": ""
             }
            },
            "marker": {
             "colorbar": {
              "outlinewidth": 0,
              "ticks": ""
             }
            },
            "type": "scatter3d"
           }
          ],
          "scattercarpet": [
           {
            "marker": {
             "colorbar": {
              "outlinewidth": 0,
              "ticks": ""
             }
            },
            "type": "scattercarpet"
           }
          ],
          "scattergeo": [
           {
            "marker": {
             "colorbar": {
              "outlinewidth": 0,
              "ticks": ""
             }
            },
            "type": "scattergeo"
           }
          ],
          "scattergl": [
           {
            "marker": {
             "colorbar": {
              "outlinewidth": 0,
              "ticks": ""
             }
            },
            "type": "scattergl"
           }
          ],
          "scattermap": [
           {
            "marker": {
             "colorbar": {
              "outlinewidth": 0,
              "ticks": ""
             }
            },
            "type": "scattermap"
           }
          ],
          "scattermapbox": [
           {
            "marker": {
             "colorbar": {
              "outlinewidth": 0,
              "ticks": ""
             }
            },
            "type": "scattermapbox"
           }
          ],
          "scatterpolar": [
           {
            "marker": {
             "colorbar": {
              "outlinewidth": 0,
              "ticks": ""
             }
            },
            "type": "scatterpolar"
           }
          ],
          "scatterpolargl": [
           {
            "marker": {
             "colorbar": {
              "outlinewidth": 0,
              "ticks": ""
             }
            },
            "type": "scatterpolargl"
           }
          ],
          "scatterternary": [
           {
            "marker": {
             "colorbar": {
              "outlinewidth": 0,
              "ticks": ""
             }
            },
            "type": "scatterternary"
           }
          ],
          "surface": [
           {
            "colorbar": {
             "outlinewidth": 0,
             "ticks": ""
            },
            "colorscale": [
             [
              0,
              "#0d0887"
             ],
             [
              0.1111111111111111,
              "#46039f"
             ],
             [
              0.2222222222222222,
              "#7201a8"
             ],
             [
              0.3333333333333333,
              "#9c179e"
             ],
             [
              0.4444444444444444,
              "#bd3786"
             ],
             [
              0.5555555555555556,
              "#d8576b"
             ],
             [
              0.6666666666666666,
              "#ed7953"
             ],
             [
              0.7777777777777778,
              "#fb9f3a"
             ],
             [
              0.8888888888888888,
              "#fdca26"
             ],
             [
              1,
              "#f0f921"
             ]
            ],
            "type": "surface"
           }
          ],
          "table": [
           {
            "cells": {
             "fill": {
              "color": "#EBF0F8"
             },
             "line": {
              "color": "white"
             }
            },
            "header": {
             "fill": {
              "color": "#C8D4E3"
             },
             "line": {
              "color": "white"
             }
            },
            "type": "table"
           }
          ]
         },
         "layout": {
          "annotationdefaults": {
           "arrowcolor": "#2a3f5f",
           "arrowhead": 0,
           "arrowwidth": 1
          },
          "autotypenumbers": "strict",
          "coloraxis": {
           "colorbar": {
            "outlinewidth": 0,
            "ticks": ""
           }
          },
          "colorscale": {
           "diverging": [
            [
             0,
             "#8e0152"
            ],
            [
             0.1,
             "#c51b7d"
            ],
            [
             0.2,
             "#de77ae"
            ],
            [
             0.3,
             "#f1b6da"
            ],
            [
             0.4,
             "#fde0ef"
            ],
            [
             0.5,
             "#f7f7f7"
            ],
            [
             0.6,
             "#e6f5d0"
            ],
            [
             0.7,
             "#b8e186"
            ],
            [
             0.8,
             "#7fbc41"
            ],
            [
             0.9,
             "#4d9221"
            ],
            [
             1,
             "#276419"
            ]
           ],
           "sequential": [
            [
             0,
             "#0d0887"
            ],
            [
             0.1111111111111111,
             "#46039f"
            ],
            [
             0.2222222222222222,
             "#7201a8"
            ],
            [
             0.3333333333333333,
             "#9c179e"
            ],
            [
             0.4444444444444444,
             "#bd3786"
            ],
            [
             0.5555555555555556,
             "#d8576b"
            ],
            [
             0.6666666666666666,
             "#ed7953"
            ],
            [
             0.7777777777777778,
             "#fb9f3a"
            ],
            [
             0.8888888888888888,
             "#fdca26"
            ],
            [
             1,
             "#f0f921"
            ]
           ],
           "sequentialminus": [
            [
             0,
             "#0d0887"
            ],
            [
             0.1111111111111111,
             "#46039f"
            ],
            [
             0.2222222222222222,
             "#7201a8"
            ],
            [
             0.3333333333333333,
             "#9c179e"
            ],
            [
             0.4444444444444444,
             "#bd3786"
            ],
            [
             0.5555555555555556,
             "#d8576b"
            ],
            [
             0.6666666666666666,
             "#ed7953"
            ],
            [
             0.7777777777777778,
             "#fb9f3a"
            ],
            [
             0.8888888888888888,
             "#fdca26"
            ],
            [
             1,
             "#f0f921"
            ]
           ]
          },
          "colorway": [
           "#636efa",
           "#EF553B",
           "#00cc96",
           "#ab63fa",
           "#FFA15A",
           "#19d3f3",
           "#FF6692",
           "#B6E880",
           "#FF97FF",
           "#FECB52"
          ],
          "font": {
           "color": "#2a3f5f"
          },
          "geo": {
           "bgcolor": "white",
           "lakecolor": "white",
           "landcolor": "#E5ECF6",
           "showlakes": true,
           "showland": true,
           "subunitcolor": "white"
          },
          "hoverlabel": {
           "align": "left"
          },
          "hovermode": "closest",
          "mapbox": {
           "style": "light"
          },
          "paper_bgcolor": "white",
          "plot_bgcolor": "#E5ECF6",
          "polar": {
           "angularaxis": {
            "gridcolor": "white",
            "linecolor": "white",
            "ticks": ""
           },
           "bgcolor": "#E5ECF6",
           "radialaxis": {
            "gridcolor": "white",
            "linecolor": "white",
            "ticks": ""
           }
          },
          "scene": {
           "xaxis": {
            "backgroundcolor": "#E5ECF6",
            "gridcolor": "white",
            "gridwidth": 2,
            "linecolor": "white",
            "showbackground": true,
            "ticks": "",
            "zerolinecolor": "white"
           },
           "yaxis": {
            "backgroundcolor": "#E5ECF6",
            "gridcolor": "white",
            "gridwidth": 2,
            "linecolor": "white",
            "showbackground": true,
            "ticks": "",
            "zerolinecolor": "white"
           },
           "zaxis": {
            "backgroundcolor": "#E5ECF6",
            "gridcolor": "white",
            "gridwidth": 2,
            "linecolor": "white",
            "showbackground": true,
            "ticks": "",
            "zerolinecolor": "white"
           }
          },
          "shapedefaults": {
           "line": {
            "color": "#2a3f5f"
           }
          },
          "ternary": {
           "aaxis": {
            "gridcolor": "white",
            "linecolor": "white",
            "ticks": ""
           },
           "baxis": {
            "gridcolor": "white",
            "linecolor": "white",
            "ticks": ""
           },
           "bgcolor": "#E5ECF6",
           "caxis": {
            "gridcolor": "white",
            "linecolor": "white",
            "ticks": ""
           }
          },
          "title": {
           "x": 0.05
          },
          "xaxis": {
           "automargin": true,
           "gridcolor": "white",
           "linecolor": "white",
           "ticks": "",
           "title": {
            "standoff": 15
           },
           "zerolinecolor": "white",
           "zerolinewidth": 2
          },
          "yaxis": {
           "automargin": true,
           "gridcolor": "white",
           "linecolor": "white",
           "ticks": "",
           "title": {
            "standoff": 15
           },
           "zerolinecolor": "white",
           "zerolinewidth": 2
          }
         }
        },
        "title": {
         "text": "River Pollution by Month",
         "x": 0.5
        },
        "xaxis": {
         "anchor": "y",
         "domain": [
          0,
          0.16799999999999998
         ]
        },
        "xaxis10": {
         "anchor": "y10",
         "domain": [
          0.832,
          1
         ]
        },
        "xaxis2": {
         "anchor": "y2",
         "domain": [
          0.208,
          0.376
         ]
        },
        "xaxis3": {
         "anchor": "y3",
         "domain": [
          0.416,
          0.584
         ]
        },
        "xaxis4": {
         "anchor": "y4",
         "domain": [
          0.624,
          0.792
         ]
        },
        "xaxis5": {
         "anchor": "y5",
         "domain": [
          0.832,
          1
         ]
        },
        "xaxis6": {
         "anchor": "y6",
         "domain": [
          0,
          0.16799999999999998
         ]
        },
        "xaxis7": {
         "anchor": "y7",
         "domain": [
          0.208,
          0.376
         ]
        },
        "xaxis8": {
         "anchor": "y8",
         "domain": [
          0.416,
          0.584
         ]
        },
        "xaxis9": {
         "anchor": "y9",
         "domain": [
          0.624,
          0.792
         ]
        },
        "yaxis": {
         "anchor": "x",
         "domain": [
          0.625,
          1
         ]
        },
        "yaxis10": {
         "anchor": "x10",
         "domain": [
          0,
          0.375
         ]
        },
        "yaxis2": {
         "anchor": "x2",
         "domain": [
          0.625,
          1
         ]
        },
        "yaxis3": {
         "anchor": "x3",
         "domain": [
          0.625,
          1
         ]
        },
        "yaxis4": {
         "anchor": "x4",
         "domain": [
          0.625,
          1
         ]
        },
        "yaxis5": {
         "anchor": "x5",
         "domain": [
          0.625,
          1
         ]
        },
        "yaxis6": {
         "anchor": "x6",
         "domain": [
          0,
          0.375
         ]
        },
        "yaxis7": {
         "anchor": "x7",
         "domain": [
          0,
          0.375
         ]
        },
        "yaxis8": {
         "anchor": "x8",
         "domain": [
          0,
          0.375
         ]
        },
        "yaxis9": {
         "anchor": "x9",
         "domain": [
          0,
          0.375
         ]
        }
       }
      }
     },
     "metadata": {},
     "output_type": "display_data"
    }
   ],
   "source": [
    "river1 = monthly_pollution_df[monthly_pollution_df['river_ID'] == 1]\n",
    "river_country1 = monthly_pollution_df['country'][monthly_pollution_df['month'] == 1].iloc[0]\n",
    "fig_pollution_1 = px.bar(river1, x='month', y='monthly_pollution', title='Monthly Pollution for River 1')\n",
    "\n",
    "river2 = monthly_pollution_df[monthly_pollution_df['river_ID'] == 2]\n",
    "river_country2 = river_2['country'][river_2['month'] == 1].iloc[0]\n",
    "fig_pollution_2 = px.bar(river2, x='month', y='monthly_pollution', title='Monthly Pollution for River 2')\n",
    "\n",
    "river3 = monthly_pollution_df[monthly_pollution_df['river_ID'] == 3]\n",
    "river_country3 = river_3['country'][river_3['month'] == 1].iloc[0]\n",
    "fig_pollution_3 = px.bar(river3, x='month', y='monthly_pollution', title='Monthly Pollution for River 3')\n",
    "\n",
    "river4 = monthly_pollution_df[monthly_pollution_df['river_ID'] == 4]\n",
    "river_country4 = river_4['country'][river_4['month'] == 1].iloc[0]\n",
    "fig_pollution_4 = px.bar(river4, x='month', y='monthly_pollution', title='Monthly Pollution for River 4')\n",
    "\n",
    "river5 = monthly_pollution_df[monthly_pollution_df['river_ID'] == 5]\n",
    "river_country5 = river_5['country'][river_5['month'] == 1].iloc[0]\n",
    "fig_pollution_5 = px.bar(river5, x='month', y='monthly_pollution', title='Monthly Pollution for River 5')\n",
    "\n",
    "river6 = monthly_pollution_df[monthly_pollution_df['river_ID'] == 6]\n",
    "river_country6 = river_6['country'][river_6['month'] == 1].iloc[0]\n",
    "fig_pollution_6 = px.bar(river6, x='month', y='monthly_pollution', title='Monthly Pollution for River 6')\n",
    "\n",
    "river7 = monthly_pollution_df[monthly_pollution_df['river_ID'] == 7]\n",
    "river_country7 = river_7['country'][river_7['month'] == 1].iloc[0]\n",
    "fig_pollution_7 = px.bar(river7, x='month', y='monthly_pollution', title='Monthly Pollution for River 7')\n",
    "\n",
    "river8 = monthly_pollution_df[monthly_pollution_df['river_ID'] == 8]\n",
    "river_country8 = river_8['country'][river_8['month'] == 1].iloc[0]\n",
    "fig_pollution_8 = px.bar(river8, x='month', y='monthly_pollution', title='Monthly Pollution for River 8')\n",
    "\n",
    "river9 = monthly_pollution_df[monthly_pollution_df['river_ID'] == 9]\n",
    "river_country9 = river_9['country'][river_9['month'] == 1].iloc[0]\n",
    "fig_pollution_9 = px.bar(river9, x='month', y='monthly_pollution', title='Monthly Pollution for River 9')\n",
    "\n",
    "river10 = monthly_pollution_df[monthly_pollution_df['river_ID'] == 10]\n",
    "river_country10 = river_10['country'][river_10['month'] == 1].iloc[0]\n",
    "fig_pollution_10 = px.bar(river10, x='month', y='monthly_pollution', title='Monthly Pollution for River 10')\n",
    "\n",
    "# titles = (f'{river_name1}', f'{river_name2}', f'{river_name3}', f'{river_name4}', f'{river_name5}', f'{river_name6}', f'{river_name7}', f'{river_name8}', f'{river_name9}', f'{river_name10}')\n",
    "\n",
    "# assign the titles to equal to the river_name variable of each river\n",
    "titles = [f'River 1: {river_country1}', f'River 2: {river_country2}', f'River 3: {river_country3}', f'River 4: {river_country4}', \n",
    "f'River 5: {river_country5}', f'River 6: {river_country6}', f'River 7: {river_country7}', f'River 8: {river_country8}', f'River 9: {river_country9}', f'River 10: {river_country10}']\n",
    "# titles = f'River 1: {river_name1}', f'River 2: {river_name2}', f'River 3: {river_name3}', f'River 4: {river_name4}', \n",
    "# f'River 5: {river_name5}', f'River 6: {river_name6}', f'River 7: {river_name7}', f'River 8: {river_name8}', f'River 9: {river_name9}', f'River 10: {river_name10}'\n",
    "\n",
    "# make subplots\n",
    "fig_pollution = make_subplots(rows=2, cols=5, subplot_titles=titles)\n",
    "fig_pollution.add_trace(fig_pollution_1.data[0], row=1, col=1)\n",
    "fig_pollution.add_trace(fig_pollution_2.data[0], row=1, col=2)\n",
    "fig_pollution.add_trace(fig_pollution_3.data[0], row=1, col=3)\n",
    "fig_pollution.add_trace(fig_pollution_4.data[0], row=1, col=4)\n",
    "fig_pollution.add_trace(fig_pollution_5.data[0], row=1, col=5)\n",
    "fig_pollution.add_trace(fig_pollution_6.data[0], row=2, col=1)\n",
    "fig_pollution.add_trace(fig_pollution_7.data[0], row=2, col=2)\n",
    "fig_pollution.add_trace(fig_pollution_8.data[0], row=2, col=3)\n",
    "fig_pollution.add_trace(fig_pollution_9.data[0], row=2, col=4)\n",
    "fig_pollution.add_trace(fig_pollution_10.data[0], row=2, col=5)\n",
    "\n",
    "# add title to the figure\n",
    "fig_pollution.update_layout(title_text=\"River Pollution by Month\", title_x=0.5)\n",
    "\n",
    "# fig_pollution.subplots_adjust(wspace=0.3, hspace=0.5)  # Increase spacing\n",
    "\n",
    "# update the colors to red\n",
    "fig_pollution.update_traces(marker_color='red')\n",
    "fig_pollution.show()\n"
   ]
  },
  {
   "cell_type": "markdown",
   "metadata": {},
   "source": [
    "##### ***Vizualising***\n",
    "- Spatially vizualizing the weighted distribution of plastic pollution"
   ]
  },
  {
   "cell_type": "markdown",
   "metadata": {},
   "source": [
    "##### First using geopandas:"
   ]
  },
  {
   "cell_type": "code",
   "execution_count": 15,
   "metadata": {},
   "outputs": [
    {
     "data": {
      "image/png": "[encoded data removed]",
      "text/plain": [
       "<Figure size 1200x800 with 2 Axes>"
      ]
     },
     "metadata": {},
     "output_type": "display_data"
    }
   ],
   "source": [
    "# Combining lon and lat to get single coordinates for each river\n",
    "monthly_pollution_df['coordinates'] = [Point(xy) for xy in zip(monthly_pollution_df['lon'], monthly_pollution_df['lat'])]\n",
    "\n",
    "# Load the world shapefile\n",
    "world = gpd.read_file(\"C:\\\\Users\\\\liamr\\\\OneDrive\\\\Documents\\\\Playground\\\\river_plastic\\\\data\\\\ne_110m_admin_0_countries.shp\")\n",
    "\n",
    "# Create GeoDataFrame for rivers\n",
    "rivers = gpd.GeoDataFrame(\n",
    "    monthly_pollution_df,\n",
    "    geometry=monthly_pollution_df['coordinates']\n",
    ")\n",
    "\n",
    "# Ensure CRS is consistent\n",
    "rivers = rivers.set_crs(world.crs, allow_override=True)\n",
    "\n",
    "# List of Southeast Asian countries\n",
    "southeast_asia_countries = [\n",
    "    \"Brunei\", \"Cambodia\", \"East Timor\", \"Indonesia\", \"Laos\",\n",
    "    \"Malaysia\", \"Myanmar\", \"Philippines\", \"Singapore\", \"Thailand\", \"Vietnam\"\n",
    "]\n",
    "\n",
    "# Filter the world GeoDataFrame for Southeast Asia\n",
    "southeast_asia = world[world['ADMIN'].isin(southeast_asia_countries)]\n",
    "\n",
    "# Plot map\n",
    "fig, ax = plt.subplots(1, 1, figsize=(12, 8))\n",
    "southeast_asia.plot(ax=ax, color='lightgrey', edgecolor='black')  # Plot countries\n",
    "# rivers.plot(ax=ax, column='monthly_pollution', cmap='Spectral', legend=True)\n",
    "rivers.plot(\n",
    "    ax=ax,\n",
    "    column='monthly_pollution',\n",
    "    cmap='Spectral_r',\n",
    "    legend=True,\n",
    "    markersize=50,  # Reduce marker size\n",
    "    alpha=0.7       # Add transparency\n",
    ")  # Plot rivers\n",
    "\n",
    "plt.title(\"Monthly Plastic Pollution in Southeast Asia\")\n",
    "plt.show()"
   ]
  },
  {
   "cell_type": "markdown",
   "metadata": {},
   "source": [
    "#### Using Plotly to map the change in plastic pollution each month:"
   ]
  },
  {
   "cell_type": "code",
   "execution_count": 16,
   "metadata": {},
   "outputs": [
    {
     "data": {
      "text/html": [
       "<div>\n",
       "<style scoped>\n",
       "    .dataframe tbody tr th:only-of-type {\n",
       "        vertical-align: middle;\n",
       "    }\n",
       "\n",
       "    .dataframe tbody tr th {\n",
       "        vertical-align: top;\n",
       "    }\n",
       "\n",
       "    .dataframe thead th {\n",
       "        text-align: right;\n",
       "    }\n",
       "</style>\n",
       "<table border=\"1\" class=\"dataframe\">\n",
       "  <thead>\n",
       "    <tr style=\"text-align: right;\">\n",
       "      <th></th>\n",
       "      <th>river_ID</th>\n",
       "      <th>month</th>\n",
       "      <th>avg_monthly_rain</th>\n",
       "      <th>avg_yearly_rain</th>\n",
       "      <th>weight</th>\n",
       "      <th>country</th>\n",
       "      <th>lon</th>\n",
       "      <th>lat</th>\n",
       "      <th>pollution_volume</th>\n",
       "      <th>monthly_pollution</th>\n",
       "      <th>coordinates</th>\n",
       "      <th>rank</th>\n",
       "    </tr>\n",
       "  </thead>\n",
       "  <tbody>\n",
       "    <tr>\n",
       "      <th>0</th>\n",
       "      <td>1</td>\n",
       "      <td>1</td>\n",
       "      <td>57.581249</td>\n",
       "      <td>704.434143</td>\n",
       "      <td>0.081741</td>\n",
       "      <td>Malaysia</td>\n",
       "      <td>101.38875</td>\n",
       "      <td>3.00292</td>\n",
       "      <td>12816.00</td>\n",
       "      <td>1047.594441</td>\n",
       "      <td>POINT (101.38875 3.00292)</td>\n",
       "      <td>1</td>\n",
       "    </tr>\n",
       "    <tr>\n",
       "      <th>1</th>\n",
       "      <td>1</td>\n",
       "      <td>2</td>\n",
       "      <td>47.967915</td>\n",
       "      <td>704.434143</td>\n",
       "      <td>0.068094</td>\n",
       "      <td>Malaysia</td>\n",
       "      <td>101.38875</td>\n",
       "      <td>3.00292</td>\n",
       "      <td>12816.00</td>\n",
       "      <td>872.695953</td>\n",
       "      <td>POINT (101.38875 3.00292)</td>\n",
       "      <td>1</td>\n",
       "    </tr>\n",
       "    <tr>\n",
       "      <th>2</th>\n",
       "      <td>1</td>\n",
       "      <td>3</td>\n",
       "      <td>61.775414</td>\n",
       "      <td>704.434143</td>\n",
       "      <td>0.087695</td>\n",
       "      <td>Malaysia</td>\n",
       "      <td>101.38875</td>\n",
       "      <td>3.00292</td>\n",
       "      <td>12816.00</td>\n",
       "      <td>1123.900203</td>\n",
       "      <td>POINT (101.38875 3.00292)</td>\n",
       "      <td>1</td>\n",
       "    </tr>\n",
       "    <tr>\n",
       "      <th>3</th>\n",
       "      <td>1</td>\n",
       "      <td>4</td>\n",
       "      <td>64.261253</td>\n",
       "      <td>704.434143</td>\n",
       "      <td>0.091224</td>\n",
       "      <td>Malaysia</td>\n",
       "      <td>101.38875</td>\n",
       "      <td>3.00292</td>\n",
       "      <td>12816.00</td>\n",
       "      <td>1169.125923</td>\n",
       "      <td>POINT (101.38875 3.00292)</td>\n",
       "      <td>1</td>\n",
       "    </tr>\n",
       "    <tr>\n",
       "      <th>4</th>\n",
       "      <td>1</td>\n",
       "      <td>5</td>\n",
       "      <td>54.627918</td>\n",
       "      <td>704.434143</td>\n",
       "      <td>0.077549</td>\n",
       "      <td>Malaysia</td>\n",
       "      <td>101.38875</td>\n",
       "      <td>3.00292</td>\n",
       "      <td>12816.00</td>\n",
       "      <td>993.863535</td>\n",
       "      <td>POINT (101.38875 3.00292)</td>\n",
       "      <td>1</td>\n",
       "    </tr>\n",
       "    <tr>\n",
       "      <th>...</th>\n",
       "      <td>...</td>\n",
       "      <td>...</td>\n",
       "      <td>...</td>\n",
       "      <td>...</td>\n",
       "      <td>...</td>\n",
       "      <td>...</td>\n",
       "      <td>...</td>\n",
       "      <td>...</td>\n",
       "      <td>...</td>\n",
       "      <td>...</td>\n",
       "      <td>...</td>\n",
       "      <td>...</td>\n",
       "    </tr>\n",
       "    <tr>\n",
       "      <th>115</th>\n",
       "      <td>10</td>\n",
       "      <td>8</td>\n",
       "      <td>45.442501</td>\n",
       "      <td>704.796265</td>\n",
       "      <td>0.064476</td>\n",
       "      <td>Malaysia</td>\n",
       "      <td>103.79750</td>\n",
       "      <td>1.49625</td>\n",
       "      <td>2143.48</td>\n",
       "      <td>138.203188</td>\n",
       "      <td>POINT (103.7975 1.49625)</td>\n",
       "      <td>10</td>\n",
       "    </tr>\n",
       "    <tr>\n",
       "      <th>116</th>\n",
       "      <td>10</td>\n",
       "      <td>9</td>\n",
       "      <td>47.408749</td>\n",
       "      <td>704.796265</td>\n",
       "      <td>0.067266</td>\n",
       "      <td>Malaysia</td>\n",
       "      <td>103.79750</td>\n",
       "      <td>1.49625</td>\n",
       "      <td>2143.48</td>\n",
       "      <td>144.183091</td>\n",
       "      <td>POINT (103.7975 1.49625)</td>\n",
       "      <td>10</td>\n",
       "    </tr>\n",
       "    <tr>\n",
       "      <th>117</th>\n",
       "      <td>10</td>\n",
       "      <td>10</td>\n",
       "      <td>55.966251</td>\n",
       "      <td>704.796265</td>\n",
       "      <td>0.079408</td>\n",
       "      <td>Malaysia</td>\n",
       "      <td>103.79750</td>\n",
       "      <td>1.49625</td>\n",
       "      <td>2143.48</td>\n",
       "      <td>170.208816</td>\n",
       "      <td>POINT (103.7975 1.49625)</td>\n",
       "      <td>10</td>\n",
       "    </tr>\n",
       "    <tr>\n",
       "      <th>118</th>\n",
       "      <td>10</td>\n",
       "      <td>11</td>\n",
       "      <td>67.606247</td>\n",
       "      <td>704.796265</td>\n",
       "      <td>0.095923</td>\n",
       "      <td>Malaysia</td>\n",
       "      <td>103.79750</td>\n",
       "      <td>1.49625</td>\n",
       "      <td>2143.48</td>\n",
       "      <td>205.609254</td>\n",
       "      <td>POINT (103.7975 1.49625)</td>\n",
       "      <td>10</td>\n",
       "    </tr>\n",
       "    <tr>\n",
       "      <th>119</th>\n",
       "      <td>10</td>\n",
       "      <td>12</td>\n",
       "      <td>85.959160</td>\n",
       "      <td>704.796265</td>\n",
       "      <td>0.121963</td>\n",
       "      <td>Malaysia</td>\n",
       "      <td>103.79750</td>\n",
       "      <td>1.49625</td>\n",
       "      <td>2143.48</td>\n",
       "      <td>261.425527</td>\n",
       "      <td>POINT (103.7975 1.49625)</td>\n",
       "      <td>10</td>\n",
       "    </tr>\n",
       "  </tbody>\n",
       "</table>\n",
       "<p>120 rows × 12 columns</p>\n",
       "</div>"
      ],
      "text/plain": [
       "     river_ID  month  avg_monthly_rain  avg_yearly_rain    weight   country  \\\n",
       "0           1      1         57.581249       704.434143  0.081741  Malaysia   \n",
       "1           1      2         47.967915       704.434143  0.068094  Malaysia   \n",
       "2           1      3         61.775414       704.434143  0.087695  Malaysia   \n",
       "3           1      4         64.261253       704.434143  0.091224  Malaysia   \n",
       "4           1      5         54.627918       704.434143  0.077549  Malaysia   \n",
       "..        ...    ...               ...              ...       ...       ...   \n",
       "115        10      8         45.442501       704.796265  0.064476  Malaysia   \n",
       "116        10      9         47.408749       704.796265  0.067266  Malaysia   \n",
       "117        10     10         55.966251       704.796265  0.079408  Malaysia   \n",
       "118        10     11         67.606247       704.796265  0.095923  Malaysia   \n",
       "119        10     12         85.959160       704.796265  0.121963  Malaysia   \n",
       "\n",
       "           lon      lat  pollution_volume  monthly_pollution  \\\n",
       "0    101.38875  3.00292          12816.00        1047.594441   \n",
       "1    101.38875  3.00292          12816.00         872.695953   \n",
       "2    101.38875  3.00292          12816.00        1123.900203   \n",
       "3    101.38875  3.00292          12816.00        1169.125923   \n",
       "4    101.38875  3.00292          12816.00         993.863535   \n",
       "..         ...      ...               ...                ...   \n",
       "115  103.79750  1.49625           2143.48         138.203188   \n",
       "116  103.79750  1.49625           2143.48         144.183091   \n",
       "117  103.79750  1.49625           2143.48         170.208816   \n",
       "118  103.79750  1.49625           2143.48         205.609254   \n",
       "119  103.79750  1.49625           2143.48         261.425527   \n",
       "\n",
       "                   coordinates  rank  \n",
       "0    POINT (101.38875 3.00292)     1  \n",
       "1    POINT (101.38875 3.00292)     1  \n",
       "2    POINT (101.38875 3.00292)     1  \n",
       "3    POINT (101.38875 3.00292)     1  \n",
       "4    POINT (101.38875 3.00292)     1  \n",
       "..                         ...   ...  \n",
       "115   POINT (103.7975 1.49625)    10  \n",
       "116   POINT (103.7975 1.49625)    10  \n",
       "117   POINT (103.7975 1.49625)    10  \n",
       "118   POINT (103.7975 1.49625)    10  \n",
       "119   POINT (103.7975 1.49625)    10  \n",
       "\n",
       "[120 rows x 12 columns]"
      ]
     },
     "execution_count": 16,
     "metadata": {},
     "output_type": "execute_result"
    }
   ],
   "source": [
    "# Merge the rank column from average_rain_and_pollution into monthly_pollution_df\n",
    "monthly_pollution_df = pd.merge(monthly_pollution_df, average_rain_and_pollution[['river_ID', 'rank']], how='left', on='river_ID')\n",
    "monthly_pollution_df"
   ]
  },
  {
   "cell_type": "markdown",
   "metadata": {},
   "source": [
    "##### starting with plot for month of January"
   ]
  },
  {
   "cell_type": "code",
   "execution_count": 17,
   "metadata": {},
   "outputs": [
    {
     "data": {
      "application/vnd.plotly.v1+json": {
       "config": {
        "plotlyServerURL": "https://plot.ly"
       },
       "data": [
        {
         "lat": {
          "bdata": "2QjE6/oFCECPwvUoXP8kQAhVavZAOytAvCL430rGMECJtfgUAOP4Px0gmKPHbwZAj8L1KFzXMEDRBfUtc7oYQDMzMzMzcw5AcT0K16Pw9z8=",
          "dtype": "f8"
         },
         "lon": {
          "bdata": "exSuR+FYWUC536Eo0K9aQGiz6nO1I1lAIEYIjzYMWEDsUbgehZlbQLgehetRWllAzczMzMwGWEBdUN8yp49ZQD1Jumby1VlA16NwPQrzWUA=",
          "dtype": "f8"
         },
         "marker": {
          "cmax": 1366.3945434093475,
          "cmin": 85.61076517783106,
          "color": {
           "bdata": "AAAwtWBekEB6FK52cVhoQI9C22JBzGhAMzOh0+OSXkBmZsp7Php+QIXr4uyRC2xAexTUxhZnVUBcj3rY4KNrQPYo3PM2FW9AzczIXIvZZ0A=",
           "dtype": "f8"
          },
          "colorbar": {
           "title": {
            "text": "Pollution"
           }
          },
          "colorscale": [
           [
            0,
            "#440154"
           ],
           [
            0.1111111111111111,
            "#482878"
           ],
           [
            0.2222222222222222,
            "#3e4989"
           ],
           [
            0.3333333333333333,
            "#31688e"
           ],
           [
            0.4444444444444444,
            "#26828e"
           ],
           [
            0.5555555555555556,
            "#1f9e89"
           ],
           [
            0.6666666666666666,
            "#35b779"
           ],
           [
            0.7777777777777778,
            "#6ece58"
           ],
           [
            0.8888888888888888,
            "#b5de2b"
           ],
           [
            1,
            "#fde725"
           ]
          ],
          "size": 12
         },
         "mode": "markers",
         "name": "Month 1",
         "text": {
          "bdata": "AAAAAAAA8D8AAAAAAAAAQAAAAAAAAAhAAAAAAAAAEEAAAAAAAAAUQAAAAAAAABhAAAAAAAAAHEAAAAAAAAAgQAAAAAAAACJAAAAAAAAAJEA=",
          "dtype": "f8"
         },
         "type": "scattergeo",
         "visible": true
        },
        {
         "lat": {
          "bdata": "2QjE6/oFCECPwvUoXP8kQAhVavZAOytAvCL430rGMECJtfgUAOP4Px0gmKPHbwZAj8L1KFzXMEDRBfUtc7oYQDMzMzMzcw5AcT0K16Pw9z8=",
          "dtype": "f8"
         },
         "lon": {
          "bdata": "exSuR+FYWUC536Eo0K9aQGiz6nO1I1lAIEYIjzYMWEDsUbgehZlbQLgehetRWllAzczMzMwGWEBdUN8yp49ZQD1Jumby1VlA16NwPQrzWUA=",
          "dtype": "f8"
         },
         "marker": {
          "cmax": 1366.3945434093475,
          "cmin": 85.61076517783106,
          "color": {
           "bdata": "AAAAUJFFi0A9CgMj7iloQDMzWOiac2xAj0KmxGddYEBmZqS39tZ2QEjhtMXNVGdArkeRjOD1VkDsUWiS1I5eQClcD1bPyWNAexRSsAwIaUA=",
           "dtype": "f8"
          },
          "colorbar": {
           "title": {
            "text": "Pollution"
           }
          },
          "colorscale": [
           [
            0,
            "#440154"
           ],
           [
            0.1111111111111111,
            "#482878"
           ],
           [
            0.2222222222222222,
            "#3e4989"
           ],
           [
            0.3333333333333333,
            "#31688e"
           ],
           [
            0.4444444444444444,
            "#26828e"
           ],
           [
            0.5555555555555556,
            "#1f9e89"
           ],
           [
            0.6666666666666666,
            "#35b779"
           ],
           [
            0.7777777777777778,
            "#6ece58"
           ],
           [
            0.8888888888888888,
            "#b5de2b"
           ],
           [
            1,
            "#fde725"
           ]
          ],
          "size": 12
         },
         "mode": "markers",
         "name": "Month 2",
         "text": {
          "bdata": "AAAAAAAA8D8AAAAAAAAAQAAAAAAAAAhAAAAAAAAAEEAAAAAAAAAUQAAAAAAAABhAAAAAAAAAHEAAAAAAAAAgQAAAAAAAACJAAAAAAAAAJEA=",
          "dtype": "f8"
         },
         "type": "scattergeo",
         "visible": false
        },
        {
         "lat": {
          "bdata": "2QjE6/oFCECPwvUoXP8kQAhVavZAOytAvCL430rGMECJtfgUAOP4Px0gmKPHbwZAj8L1KFzXMEDRBfUtc7oYQDMzMzMzcw5AcT0K16Pw9z8=",
          "dtype": "f8"
         },
         "lon": {
          "bdata": "exSuR+FYWUC536Eo0K9aQGiz6nO1I1lAIEYIjzYMWEDsUbgehZlbQLgehetRWllAzczMzMwGWEBdUN8yp49ZQD1Jumby1VlA16NwPQrzWUA=",
          "dtype": "f8"
         },
         "marker": {
          "cmax": 1366.3945434093475,
          "cmin": 85.61076517783106,
          "color": {
           "bdata": "AADYzpmPkUCZmaXWm6drQBQu3Jggkm1AZuZ5K4ZXYUCZmfVbeglyQOxRUltDi2tAexRE+QNrWEBxPeY0lURfQOJ6lD3Zj2BAUrj2IqkEZkA=",
           "dtype": "f8"
          },
          "colorbar": {
           "title": {
            "text": "Pollution"
           }
          },
          "colorscale": [
           [
            0,
            "#440154"
           ],
           [
            0.1111111111111111,
            "#482878"
           ],
           [
            0.2222222222222222,
            "#3e4989"
           ],
           [
            0.3333333333333333,
            "#31688e"
           ],
           [
            0.4444444444444444,
            "#26828e"
           ],
           [
            0.5555555555555556,
            "#1f9e89"
           ],
           [
            0.6666666666666666,
            "#35b779"
           ],
           [
            0.7777777777777778,
            "#6ece58"
           ],
           [
            0.8888888888888888,
            "#b5de2b"
           ],
           [
            1,
            "#fde725"
           ]
          ],
          "size": 12
         },
         "mode": "markers",
         "name": "Month 3",
         "text": {
          "bdata": "AAAAAAAA8D8AAAAAAAAAQAAAAAAAAAhAAAAAAAAAEEAAAAAAAAAUQAAAAAAAABhAAAAAAAAAHEAAAAAAAAAgQAAAAAAAACJAAAAAAAAAJEA=",
          "dtype": "f8"
         },
         "type": "scattergeo",
         "visible": false
        },
        {
         "lat": {
          "bdata": "2QjE6/oFCECPwvUoXP8kQAhVavZAOytAvCL430rGMECJtfgUAOP4Px0gmKPHbwZAj8L1KFzXMEDRBfUtc7oYQDMzMzMzcw5AcT0K16Pw9z8=",
          "dtype": "f8"
         },
         "lon": {
          "bdata": "exSuR+FYWUC536Eo0K9aQGiz6nO1I1lAIEYIjzYMWEDsUbgehZlbQLgehetRWllAzczMzMwGWEBdUN8yp49ZQD1Jumby1VlA16NwPQrzWUA=",
          "dtype": "f8"
         },
         "marker": {
          "cmax": 1366.3945434093475,
          "cmin": 85.61076517783106,
          "color": {
           "bdata": "AADo8YBEkkBmZtppu95vQMJ1YIkKE3FAFC756MtHY0AzM4XA4kpsQMP1LfIHmW5AHoWlSAhLW0C4Hr+JE1xgQClcT1FwI2FAKVxH+AJcZUA=",
           "dtype": "f8"
          },
          "colorbar": {
           "title": {
            "text": "Pollution"
           }
          },
          "colorscale": [
           [
            0,
            "#440154"
           ],
           [
            0.1111111111111111,
            "#482878"
           ],
           [
            0.2222222222222222,
            "#3e4989"
           ],
           [
            0.3333333333333333,
            "#31688e"
           ],
           [
            0.4444444444444444,
            "#26828e"
           ],
           [
            0.5555555555555556,
            "#1f9e89"
           ],
           [
            0.6666666666666666,
            "#35b779"
           ],
           [
            0.7777777777777778,
            "#6ece58"
           ],
           [
            0.8888888888888888,
            "#b5de2b"
           ],
           [
            1,
            "#fde725"
           ]
          ],
          "size": 12
         },
         "mode": "markers",
         "name": "Month 4",
         "text": {
          "bdata": "AAAAAAAA8D8AAAAAAAAAQAAAAAAAAAhAAAAAAAAAEEAAAAAAAAAUQAAAAAAAABhAAAAAAAAAHEAAAAAAAAAgQAAAAAAAACJAAAAAAAAAJEA=",
          "dtype": "f8"
         },
         "type": "scattergeo",
         "visible": false
        },
        {
         "lat": {
          "bdata": "2QjE6/oFCECPwvUoXP8kQAhVavZAOytAvCL430rGMECJtfgUAOP4Px0gmKPHbwZAj8L1KFzXMEDRBfUtc7oYQDMzMzMzcw5AcT0K16Pw9z8=",
          "dtype": "f8"
         },
         "lon": {
          "bdata": "exSuR+FYWUC536Eo0K9aQGiz6nO1I1lAIEYIjzYMWEDsUbgehZlbQLgehetRWllAzczMzMwGWEBdUN8yp49ZQD1Jumby1VlA16NwPQrzWUA=",
          "dtype": "f8"
         },
         "marker": {
          "cmax": 1366.3945434093475,
          "cmin": 85.61076517783106,
          "color": {
           "bdata": "AABAhegOj0A9ClMOxid7QHA9WghjCn5AZuZwXOqQeECZmfcGS9lqQD4KK569h2pAH4UtnIpYcEBcj8ZKXndjQM3MDOkbBWJAMzN3cdESZUA=",
           "dtype": "f8"
          },
          "colorbar": {
           "title": {
            "text": "Pollution"
           }
          },
          "colorscale": [
           [
            0,
            "#440154"
           ],
           [
            0.1111111111111111,
            "#482878"
           ],
           [
            0.2222222222222222,
            "#3e4989"
           ],
           [
            0.3333333333333333,
            "#31688e"
           ],
           [
            0.4444444444444444,
            "#26828e"
           ],
           [
            0.5555555555555556,
            "#1f9e89"
           ],
           [
            0.6666666666666666,
            "#35b779"
           ],
           [
            0.7777777777777778,
            "#6ece58"
           ],
           [
            0.8888888888888888,
            "#b5de2b"
           ],
           [
            1,
            "#fde725"
           ]
          ],
          "size": 12
         },
         "mode": "markers",
         "name": "Month 5",
         "text": {
          "bdata": "AAAAAAAA8D8AAAAAAAAAQAAAAAAAAAhAAAAAAAAAEEAAAAAAAAAUQAAAAAAAABhAAAAAAAAAHEAAAAAAAAAgQAAAAAAAACJAAAAAAAAAJEA=",
          "dtype": "f8"
         },
         "type": "scattergeo",
         "visible": false
        },
        {
         "lat": {
          "bdata": "2QjE6/oFCECPwvUoXP8kQAhVavZAOytAvCL430rGMECJtfgUAOP4Px0gmKPHbwZAj8L1KFzXMEDRBfUtc7oYQDMzMzMzcw5AcT0K16Pw9z8=",
          "dtype": "f8"
         },
         "lon": {
          "bdata": "exSuR+FYWUC536Eo0K9aQGiz6nO1I1lAIEYIjzYMWEDsUbgehZlbQLgehetRWllAzczMzMwGWEBdUN8yp49ZQD1Jumby1VlA16NwPQrzWUA=",
          "dtype": "f8"
         },
         "marker": {
          "cmax": 1366.3945434093475,
          "cmin": 85.61076517783106,
          "color": {
           "bdata": "AACgDbj1iUBH4a7rSFZ9QPYoT9u2ZnVAuB57t4wofkDMzLWcQnZpQNejW5RVvmlAFK7zbnkcdUCuR1F5ZQZkQArXI8GzgWBACtd/4X5zZEA=",
           "dtype": "f8"
          },
          "colorbar": {
           "title": {
            "text": "Pollution"
           }
          },
          "colorscale": [
           [
            0,
            "#440154"
           ],
           [
            0.1111111111111111,
            "#482878"
           ],
           [
            0.2222222222222222,
            "#3e4989"
           ],
           [
            0.3333333333333333,
            "#31688e"
           ],
           [
            0.4444444444444444,
            "#26828e"
           ],
           [
            0.5555555555555556,
            "#1f9e89"
           ],
           [
            0.6666666666666666,
            "#35b779"
           ],
           [
            0.7777777777777778,
            "#6ece58"
           ],
           [
            0.8888888888888888,
            "#b5de2b"
           ],
           [
            1,
            "#fde725"
           ]
          ],
          "size": 12
         },
         "mode": "markers",
         "name": "Month 6",
         "text": {
          "bdata": "AAAAAAAA8D8AAAAAAAAAQAAAAAAAAAhAAAAAAAAAEEAAAAAAAAAUQAAAAAAAABhAAAAAAAAAHEAAAAAAAAAgQAAAAAAAACJAAAAAAAAAJEA=",
          "dtype": "f8"
         },
         "type": "scattergeo",
         "visible": false
        },
        {
         "lat": {
          "bdata": "2QjE6/oFCECPwvUoXP8kQAhVavZAOytAvCL430rGMECJtfgUAOP4Px0gmKPHbwZAj8L1KFzXMEDRBfUtc7oYQDMzMzMzcw5AcT0K16Pw9z8=",
          "dtype": "f8"
         },
         "lon": {
          "bdata": "exSuR+FYWUC536Eo0K9aQGiz6nO1I1lAIEYIjzYMWEDsUbgehZlbQLgehetRWllAzczMzMwGWEBdUN8yp49ZQD1Jumby1VlA16NwPQrzWUA=",
          "dtype": "f8"
         },
         "marker": {
          "cmax": 1366.3945434093475,
          "cmin": 85.61076517783106,
          "color": {
           "bdata": "AABwm5iTiUAoXKu2pJF8QOH6egAG03ZAj8JeXIoDgUAAAExm6ZFoQBWuwFR+MmpAcD1abYutd0CkcFX5bgFkQPYoPMS8BmFA9iiE9J4yY0A=",
           "dtype": "f8"
          },
          "colorbar": {
           "title": {
            "text": "Pollution"
           }
          },
          "colorscale": [
           [
            0,
            "#440154"
           ],
           [
            0.1111111111111111,
            "#482878"
           ],
           [
            0.2222222222222222,
            "#3e4989"
           ],
           [
            0.3333333333333333,
            "#31688e"
           ],
           [
            0.4444444444444444,
            "#26828e"
           ],
           [
            0.5555555555555556,
            "#1f9e89"
           ],
           [
            0.6666666666666666,
            "#35b779"
           ],
           [
            0.7777777777777778,
            "#6ece58"
           ],
           [
            0.8888888888888888,
            "#b5de2b"
           ],
           [
            1,
            "#fde725"
           ]
          ],
          "size": 12
         },
         "mode": "markers",
         "name": "Month 7",
         "text": {
          "bdata": "AAAAAAAA8D8AAAAAAAAAQAAAAAAAAAhAAAAAAAAAEEAAAAAAAAAUQAAAAAAAABhAAAAAAAAAHEAAAAAAAAAgQAAAAAAAACJAAAAAAAAAJEA=",
          "dtype": "f8"
         },
         "type": "scattergeo",
         "visible": false
        },
        {
         "lat": {
          "bdata": "2QjE6/oFCECPwvUoXP8kQAhVavZAOytAvCL430rGMECJtfgUAOP4Px0gmKPHbwZAj8L1KFzXMEDRBfUtc7oYQDMzMzMzcw5AcT0K16Pw9z8=",
          "dtype": "f8"
         },
         "lon": {
          "bdata": "exSuR+FYWUC536Eo0K9aQGiz6nO1I1lAIEYIjzYMWEDsUbgehZlbQLgehetRWllAzczMzMwGWEBdUN8yp49ZQD1Jumby1VlA16NwPQrzWUA=",
          "dtype": "f8"
         },
         "marker": {
          "cmax": 1366.3945434093475,
          "cmin": 85.61076517783106,
          "color": {
           "bdata": "AAAQ2T62jkD//1Mj+lx5QOF6rqLtwXlAAABWWSoUgkAAANxsghFqQArXdbCgJmxAHoVZTxoseUDXo7CvXRdkQB+FK/JfvmFAKVwbhYBGYUA=",
           "dtype": "f8"
          },
          "colorbar": {
           "title": {
            "text": "Pollution"
           }
          },
          "colorscale": [
           [
            0,
            "#440154"
           ],
           [
            0.1111111111111111,
            "#482878"
           ],
           [
            0.2222222222222222,
            "#3e4989"
           ],
           [
            0.3333333333333333,
            "#31688e"
           ],
           [
            0.4444444444444444,
            "#26828e"
           ],
           [
            0.5555555555555556,
            "#1f9e89"
           ],
           [
            0.6666666666666666,
            "#35b779"
           ],
           [
            0.7777777777777778,
            "#6ece58"
           ],
           [
            0.8888888888888888,
            "#b5de2b"
           ],
           [
            1,
            "#fde725"
           ]
          ],
          "size": 12
         },
         "mode": "markers",
         "name": "Month 8",
         "text": {
          "bdata": "AAAAAAAA8D8AAAAAAAAAQAAAAAAAAAhAAAAAAAAAEEAAAAAAAAAUQAAAAAAAABhAAAAAAAAAHEAAAAAAAAAgQAAAAAAAACJAAAAAAAAAJEA=",
          "dtype": "f8"
         },
         "type": "scattergeo",
         "visible": false
        },
        {
         "lat": {
          "bdata": "2QjE6/oFCECPwvUoXP8kQAhVavZAOytAvCL430rGMECJtfgUAOP4Px0gmKPHbwZAj8L1KFzXMEDRBfUtc7oYQDMzMzMzcw5AcT0K16Pw9z8=",
          "dtype": "f8"
         },
         "lon": {
          "bdata": "exSuR+FYWUC536Eo0K9aQGiz6nO1I1lAIEYIjzYMWEDsUbgehZlbQLgehetRWllAzczMzMwGWEBdUN8yp49ZQD1Jumby1VlA16NwPQrzWUA=",
          "dtype": "f8"
         },
         "marker": {
          "cmax": 1366.3945434093475,
          "cmin": 85.61076517783106,
          "color": {
           "bdata": "AAAAQBqDj0AehXNru5J9QM3MjGQx3oFAZmbrQiM/fUAzM6+EWXFpQFyPfEWqw2xAHoXTa15Ic0DD9Ygu+bhlQClcT/DBymJAAADE4dsFYkA=",
           "dtype": "f8"
          },
          "colorbar": {
           "title": {
            "text": "Pollution"
           }
          },
          "colorscale": [
           [
            0,
            "#440154"
           ],
           [
            0.1111111111111111,
            "#482878"
           ],
           [
            0.2222222222222222,
            "#3e4989"
           ],
           [
            0.3333333333333333,
            "#31688e"
           ],
           [
            0.4444444444444444,
            "#26828e"
           ],
           [
            0.5555555555555556,
            "#1f9e89"
           ],
           [
            0.6666666666666666,
            "#35b779"
           ],
           [
            0.7777777777777778,
            "#6ece58"
           ],
           [
            0.8888888888888888,
            "#b5de2b"
           ],
           [
            1,
            "#fde725"
           ]
          ],
          "size": 12
         },
         "mode": "markers",
         "name": "Month 9",
         "text": {
          "bdata": "AAAAAAAA8D8AAAAAAAAAQAAAAAAAAAhAAAAAAAAAEEAAAAAAAAAUQAAAAAAAABhAAAAAAAAAHEAAAAAAAAAgQAAAAAAAACJAAAAAAAAAJEA=",
          "dtype": "f8"
         },
         "type": "scattergeo",
         "visible": false
        },
        {
         "lat": {
          "bdata": "2QjE6/oFCECPwvUoXP8kQAhVavZAOytAvCL430rGMECJtfgUAOP4Px0gmKPHbwZAj8L1KFzXMEDRBfUtc7oYQDMzMzMzcw5AcT0K16Pw9z8=",
          "dtype": "f8"
         },
         "lon": {
          "bdata": "exSuR+FYWUC536Eo0K9aQGiz6nO1I1lAIEYIjzYMWEDsUbgehZlbQLgehetRWllAzczMzMwGWEBdUN8yp49ZQD1Jumby1VlA16NwPQrzWUA=",
          "dtype": "f8"
         },
         "marker": {
          "cmax": 1366.3945434093475,
          "cmin": 85.61076517783106,
          "color": {
           "bdata": "AAAwA5RZlUAJ13+RLAJ/QOH6TFUvG35A16OJWeyjc0CZmZ2FuqRvQIXrOb2vbHJArkeHfjrpakAK17dvBVtqQD4KlyE5lGVA7FHkna5GZUA=",
           "dtype": "f8"
          },
          "colorbar": {
           "title": {
            "text": "Pollution"
           }
          },
          "colorscale": [
           [
            0,
            "#440154"
           ],
           [
            0.1111111111111111,
            "#482878"
           ],
           [
            0.2222222222222222,
            "#3e4989"
           ],
           [
            0.3333333333333333,
            "#31688e"
           ],
           [
            0.4444444444444444,
            "#26828e"
           ],
           [
            0.5555555555555556,
            "#1f9e89"
           ],
           [
            0.6666666666666666,
            "#35b779"
           ],
           [
            0.7777777777777778,
            "#6ece58"
           ],
           [
            0.8888888888888888,
            "#b5de2b"
           ],
           [
            1,
            "#fde725"
           ]
          ],
          "size": 12
         },
         "mode": "markers",
         "name": "Month 10",
         "text": {
          "bdata": "AAAAAAAA8D8AAAAAAAAAQAAAAAAAAAhAAAAAAAAAEEAAAAAAAAAUQAAAAAAAABhAAAAAAAAAHEAAAAAAAAAgQAAAAAAAACJAAAAAAAAAJEA=",
          "dtype": "f8"
         },
         "type": "scattergeo",
         "visible": false
        },
        {
         "lat": {
          "bdata": "2QjE6/oFCECPwvUoXP8kQAhVavZAOytAvCL430rGMECJtfgUAOP4Px0gmKPHbwZAj8L1KFzXMEDRBfUtc7oYQDMzMzMzcw5AcT0K16Pw9z8=",
          "dtype": "f8"
         },
         "lon": {
          "bdata": "exSuR+FYWUC536Eo0K9aQGiz6nO1I1lAIEYIjzYMWEDsUbgehZlbQLgehetRWllAzczMzMwGWEBdUN8yp49ZQD1Jumby1VlA16NwPQrzWUA=",
          "dtype": "f8"
         },
         "marker": {
          "cmax": 1366.3945434093475,
          "cmin": 85.61076517783106,
          "color": {
           "bdata": "AADAge/vlEDMzHB7vhVzQEjh57nUPW5AwvUvUES/Y0CZmVUFtAtxQFyPrk1ISnJACtcfZzsFW0C5Hu3FgQ58QPYoXEIY/m9AH4WHAX+zaUA=",
           "dtype": "f8"
          },
          "colorbar": {
           "title": {
            "text": "Pollution"
           }
          },
          "colorscale": [
           [
            0,
            "#440154"
           ],
           [
            0.1111111111111111,
            "#482878"
           ],
           [
            0.2222222222222222,
            "#3e4989"
           ],
           [
            0.3333333333333333,
            "#31688e"
           ],
           [
            0.4444444444444444,
            "#26828e"
           ],
           [
            0.5555555555555556,
            "#1f9e89"
           ],
           [
            0.6666666666666666,
            "#35b779"
           ],
           [
            0.7777777777777778,
            "#6ece58"
           ],
           [
            0.8888888888888888,
            "#b5de2b"
           ],
           [
            1,
            "#fde725"
           ]
          ],
          "size": 12
         },
         "mode": "markers",
         "name": "Month 11",
         "text": {
          "bdata": "AAAAAAAA8D8AAAAAAAAAQAAAAAAAAAhAAAAAAAAAEEAAAAAAAAAUQAAAAAAAABhAAAAAAAAAHEAAAAAAAAAgQAAAAAAAACJAAAAAAAAAJEA=",
          "dtype": "f8"
         },
         "type": "scattergeo",
         "visible": false
        },
        {
         "lat": {
          "bdata": "2QjE6/oFCECPwvUoXP8kQAhVavZAOytAvCL430rGMECJtfgUAOP4Px0gmKPHbwZAj8L1KFzXMEDRBfUtc7oYQDMzMzMzcw5AcT0K16Pw9z8=",
          "dtype": "f8"
         },
         "lon": {
          "bdata": "exSuR+FYWUC536Eo0K9aQGiz6nO1I1lAIEYIjzYMWEDsUbgehZlbQLgehetRWllAzczMzMwGWEBdUN8yp49ZQD1Jumby1VlA16NwPQrzWUA=",
          "dtype": "f8"
         },
         "marker": {
          "cmax": 1366.3945434093475,
          "cmin": 85.61076517783106,
          "color": {
           "bdata": "AACQnW+4k0D1KCQotbZrQPaomQJpeWhAmZljmClPYEBmZjDX13p2QKTwSUmgqHFAwvWMXNrgVkCF63WwGtZ4QMP16DNskHdApHDx9M5WcEA=",
           "dtype": "f8"
          },
          "colorbar": {
           "title": {
            "text": "Pollution"
           }
          },
          "colorscale": [
           [
            0,
            "#440154"
           ],
           [
            0.1111111111111111,
            "#482878"
           ],
           [
            0.2222222222222222,
            "#3e4989"
           ],
           [
            0.3333333333333333,
            "#31688e"
           ],
           [
            0.4444444444444444,
            "#26828e"
           ],
           [
            0.5555555555555556,
            "#1f9e89"
           ],
           [
            0.6666666666666666,
            "#35b779"
           ],
           [
            0.7777777777777778,
            "#6ece58"
           ],
           [
            0.8888888888888888,
            "#b5de2b"
           ],
           [
            1,
            "#fde725"
           ]
          ],
          "size": 12
         },
         "mode": "markers",
         "name": "Month 12",
         "text": {
          "bdata": "AAAAAAAA8D8AAAAAAAAAQAAAAAAAAAhAAAAAAAAAEEAAAAAAAAAUQAAAAAAAABhAAAAAAAAAHEAAAAAAAAAgQAAAAAAAACJAAAAAAAAAJEA=",
          "dtype": "f8"
         },
         "type": "scattergeo",
         "visible": false
        }
       ],
       "layout": {
        "geo": {
         "fitbounds": "locations",
         "landcolor": "rgb(240, 240, 240)",
         "lataxis": {
          "range": [
           -11,
           25
          ]
         },
         "lonaxis": {
          "range": [
           90,
           120
          ]
         },
         "projection": {
          "type": "mercator"
         },
         "scope": "asia",
         "showland": true
        },
        "sliders": [
         {
          "active": 0,
          "currentvalue": {
           "prefix": "Month: "
          },
          "steps": [
           {
            "args": [
             {
              "visible": [
               true,
               false,
               false,
               false,
               false,
               false,
               false,
               false,
               false,
               false,
               false,
               false
              ]
             },
             {
              "title": "Monthly Pollution - Month 1"
             }
            ],
            "label": "1",
            "method": "update"
           },
           {
            "args": [
             {
              "visible": [
               false,
               true,
               false,
               false,
               false,
               false,
               false,
               false,
               false,
               false,
               false,
               false
              ]
             },
             {
              "title": "Monthly Pollution - Month 2"
             }
            ],
            "label": "2",
            "method": "update"
           },
           {
            "args": [
             {
              "visible": [
               false,
               false,
               true,
               false,
               false,
               false,
               false,
               false,
               false,
               false,
               false,
               false
              ]
             },
             {
              "title": "Monthly Pollution - Month 3"
             }
            ],
            "label": "3",
            "method": "update"
           },
           {
            "args": [
             {
              "visible": [
               false,
               false,
               false,
               true,
               false,
               false,
               false,
               false,
               false,
               false,
               false,
               false
              ]
             },
             {
              "title": "Monthly Pollution - Month 4"
             }
            ],
            "label": "4",
            "method": "update"
           },
           {
            "args": [
             {
              "visible": [
               false,
               false,
               false,
               false,
               true,
               false,
               false,
               false,
               false,
               false,
               false,
               false
              ]
             },
             {
              "title": "Monthly Pollution - Month 5"
             }
            ],
            "label": "5",
            "method": "update"
           },
           {
            "args": [
             {
              "visible": [
               false,
               false,
               false,
               false,
               false,
               true,
               false,
               false,
               false,
               false,
               false,
               false
              ]
             },
             {
              "title": "Monthly Pollution - Month 6"
             }
            ],
            "label": "6",
            "method": "update"
           },
           {
            "args": [
             {
              "visible": [
               false,
               false,
               false,
               false,
               false,
               false,
               true,
               false,
               false,
               false,
               false,
               false
              ]
             },
             {
              "title": "Monthly Pollution - Month 7"
             }
            ],
            "label": "7",
            "method": "update"
           },
           {
            "args": [
             {
              "visible": [
               false,
               false,
               false,
               false,
               false,
               false,
               false,
               true,
               false,
               false,
               false,
               false
              ]
             },
             {
              "title": "Monthly Pollution - Month 8"
             }
            ],
            "label": "8",
            "method": "update"
           },
           {
            "args": [
             {
              "visible": [
               false,
               false,
               false,
               false,
               false,
               false,
               false,
               false,
               true,
               false,
               false,
               false
              ]
             },
             {
              "title": "Monthly Pollution - Month 9"
             }
            ],
            "label": "9",
            "method": "update"
           },
           {
            "args": [
             {
              "visible": [
               false,
               false,
               false,
               false,
               false,
               false,
               false,
               false,
               false,
               true,
               false,
               false
              ]
             },
             {
              "title": "Monthly Pollution - Month 10"
             }
            ],
            "label": "10",
            "method": "update"
           },
           {
            "args": [
             {
              "visible": [
               false,
               false,
               false,
               false,
               false,
               false,
               false,
               false,
               false,
               false,
               true,
               false
              ]
             },
             {
              "title": "Monthly Pollution - Month 11"
             }
            ],
            "label": "11",
            "method": "update"
           },
           {
            "args": [
             {
              "visible": [
               false,
               false,
               false,
               false,
               false,
               false,
               false,
               false,
               false,
               false,
               false,
               true
              ]
             },
             {
              "title": "Monthly Pollution - Month 12"
             }
            ],
            "label": "12",
            "method": "update"
           }
          ]
         }
        ],
        "template": {
         "data": {
          "bar": [
           {
            "error_x": {
             "color": "#2a3f5f"
            },
            "error_y": {
             "color": "#2a3f5f"
            },
            "marker": {
             "line": {
              "color": "#E5ECF6",
              "width": 0.5
             },
             "pattern": {
              "fillmode": "overlay",
              "size": 10,
              "solidity": 0.2
             }
            },
            "type": "bar"
           }
          ],
          "barpolar": [
           {
            "marker": {
             "line": {
              "color": "#E5ECF6",
              "width": 0.5
             },
             "pattern": {
              "fillmode": "overlay",
              "size": 10,
              "solidity": 0.2
             }
            },
            "type": "barpolar"
           }
          ],
          "carpet": [
           {
            "aaxis": {
             "endlinecolor": "#2a3f5f",
             "gridcolor": "white",
             "linecolor": "white",
             "minorgridcolor": "white",
             "startlinecolor": "#2a3f5f"
            },
            "baxis": {
             "endlinecolor": "#2a3f5f",
             "gridcolor": "white",
             "linecolor": "white",
             "minorgridcolor": "white",
             "startlinecolor": "#2a3f5f"
            },
            "type": "carpet"
           }
          ],
          "choropleth": [
           {
            "colorbar": {
             "outlinewidth": 0,
             "ticks": ""
            },
            "type": "choropleth"
           }
          ],
          "contour": [
           {
            "colorbar": {
             "outlinewidth": 0,
             "ticks": ""
            },
            "colorscale": [
             [
              0,
              "#0d0887"
             ],
             [
              0.1111111111111111,
              "#46039f"
             ],
             [
              0.2222222222222222,
              "#7201a8"
             ],
             [
              0.3333333333333333,
              "#9c179e"
             ],
             [
              0.4444444444444444,
              "#bd3786"
             ],
             [
              0.5555555555555556,
              "#d8576b"
             ],
             [
              0.6666666666666666,
              "#ed7953"
             ],
             [
              0.7777777777777778,
              "#fb9f3a"
             ],
             [
              0.8888888888888888,
              "#fdca26"
             ],
             [
              1,
              "#f0f921"
             ]
            ],
            "type": "contour"
           }
          ],
          "contourcarpet": [
           {
            "colorbar": {
             "outlinewidth": 0,
             "ticks": ""
            },
            "type": "contourcarpet"
           }
          ],
          "heatmap": [
           {
            "colorbar": {
             "outlinewidth": 0,
             "ticks": ""
            },
            "colorscale": [
             [
              0,
              "#0d0887"
             ],
             [
              0.1111111111111111,
              "#46039f"
             ],
             [
              0.2222222222222222,
              "#7201a8"
             ],
             [
              0.3333333333333333,
              "#9c179e"
             ],
             [
              0.4444444444444444,
              "#bd3786"
             ],
             [
              0.5555555555555556,
              "#d8576b"
             ],
             [
              0.6666666666666666,
              "#ed7953"
             ],
             [
              0.7777777777777778,
              "#fb9f3a"
             ],
             [
              0.8888888888888888,
              "#fdca26"
             ],
             [
              1,
              "#f0f921"
             ]
            ],
            "type": "heatmap"
           }
          ],
          "histogram": [
           {
            "marker": {
             "pattern": {
              "fillmode": "overlay",
              "size": 10,
              "solidity": 0.2
             }
            },
            "type": "histogram"
           }
          ],
          "histogram2d": [
           {
            "colorbar": {
             "outlinewidth": 0,
             "ticks": ""
            },
            "colorscale": [
             [
              0,
              "#0d0887"
             ],
             [
              0.1111111111111111,
              "#46039f"
             ],
             [
              0.2222222222222222,
              "#7201a8"
             ],
             [
              0.3333333333333333,
              "#9c179e"
             ],
             [
              0.4444444444444444,
              "#bd3786"
             ],
             [
              0.5555555555555556,
              "#d8576b"
             ],
             [
              0.6666666666666666,
              "#ed7953"
             ],
             [
              0.7777777777777778,
              "#fb9f3a"
             ],
             [
              0.8888888888888888,
              "#fdca26"
             ],
             [
              1,
              "#f0f921"
             ]
            ],
            "type": "histogram2d"
           }
          ],
          "histogram2dcontour": [
           {
            "colorbar": {
             "outlinewidth": 0,
             "ticks": ""
            },
            "colorscale": [
             [
              0,
              "#0d0887"
             ],
             [
              0.1111111111111111,
              "#46039f"
             ],
             [
              0.2222222222222222,
              "#7201a8"
             ],
             [
              0.3333333333333333,
              "#9c179e"
             ],
             [
              0.4444444444444444,
              "#bd3786"
             ],
             [
              0.5555555555555556,
              "#d8576b"
             ],
             [
              0.6666666666666666,
              "#ed7953"
             ],
             [
              0.7777777777777778,
              "#fb9f3a"
             ],
             [
              0.8888888888888888,
              "#fdca26"
             ],
             [
              1,
              "#f0f921"
             ]
            ],
            "type": "histogram2dcontour"
           }
          ],
          "mesh3d": [
           {
            "colorbar": {
             "outlinewidth": 0,
             "ticks": ""
            },
            "type": "mesh3d"
           }
          ],
          "parcoords": [
           {
            "line": {
             "colorbar": {
              "outlinewidth": 0,
              "ticks": ""
             }
            },
            "type": "parcoords"
           }
          ],
          "pie": [
           {
            "automargin": true,
            "type": "pie"
           }
          ],
          "scatter": [
           {
            "fillpattern": {
             "fillmode": "overlay",
             "size": 10,
             "solidity": 0.2
            },
            "type": "scatter"
           }
          ],
          "scatter3d": [
           {
            "line": {
             "colorbar": {
              "outlinewidth": 0,
              "ticks": ""
             }
            },
            "marker": {
             "colorbar": {
              "outlinewidth": 0,
              "ticks": ""
             }
            },
            "type": "scatter3d"
           }
          ],
          "scattercarpet": [
           {
            "marker": {
             "colorbar": {
              "outlinewidth": 0,
              "ticks": ""
             }
            },
            "type": "scattercarpet"
           }
          ],
          "scattergeo": [
           {
            "marker": {
             "colorbar": {
              "outlinewidth": 0,
              "ticks": ""
             }
            },
            "type": "scattergeo"
           }
          ],
          "scattergl": [
           {
            "marker": {
             "colorbar": {
              "outlinewidth": 0,
              "ticks": ""
             }
            },
            "type": "scattergl"
           }
          ],
          "scattermap": [
           {
            "marker": {
             "colorbar": {
              "outlinewidth": 0,
              "ticks": ""
             }
            },
            "type": "scattermap"
           }
          ],
          "scattermapbox": [
           {
            "marker": {
             "colorbar": {
              "outlinewidth": 0,
              "ticks": ""
             }
            },
            "type": "scattermapbox"
           }
          ],
          "scatterpolar": [
           {
            "marker": {
             "colorbar": {
              "outlinewidth": 0,
              "ticks": ""
             }
            },
            "type": "scatterpolar"
           }
          ],
          "scatterpolargl": [
           {
            "marker": {
             "colorbar": {
              "outlinewidth": 0,
              "ticks": ""
             }
            },
            "type": "scatterpolargl"
           }
          ],
          "scatterternary": [
           {
            "marker": {
             "colorbar": {
              "outlinewidth": 0,
              "ticks": ""
             }
            },
            "type": "scatterternary"
           }
          ],
          "surface": [
           {
            "colorbar": {
             "outlinewidth": 0,
             "ticks": ""
            },
            "colorscale": [
             [
              0,
              "#0d0887"
             ],
             [
              0.1111111111111111,
              "#46039f"
             ],
             [
              0.2222222222222222,
              "#7201a8"
             ],
             [
              0.3333333333333333,
              "#9c179e"
             ],
             [
              0.4444444444444444,
              "#bd3786"
             ],
             [
              0.5555555555555556,
              "#d8576b"
             ],
             [
              0.6666666666666666,
              "#ed7953"
             ],
             [
              0.7777777777777778,
              "#fb9f3a"
             ],
             [
              0.8888888888888888,
              "#fdca26"
             ],
             [
              1,
              "#f0f921"
             ]
            ],
            "type": "surface"
           }
          ],
          "table": [
           {
            "cells": {
             "fill": {
              "color": "#EBF0F8"
             },
             "line": {
              "color": "white"
             }
            },
            "header": {
             "fill": {
              "color": "#C8D4E3"
             },
             "line": {
              "color": "white"
             }
            },
            "type": "table"
           }
          ]
         },
         "layout": {
          "annotationdefaults": {
           "arrowcolor": "#2a3f5f",
           "arrowhead": 0,
           "arrowwidth": 1
          },
          "autotypenumbers": "strict",
          "coloraxis": {
           "colorbar": {
            "outlinewidth": 0,
            "ticks": ""
           }
          },
          "colorscale": {
           "diverging": [
            [
             0,
             "#8e0152"
            ],
            [
             0.1,
             "#c51b7d"
            ],
            [
             0.2,
             "#de77ae"
            ],
            [
             0.3,
             "#f1b6da"
            ],
            [
             0.4,
             "#fde0ef"
            ],
            [
             0.5,
             "#f7f7f7"
            ],
            [
             0.6,
             "#e6f5d0"
            ],
            [
             0.7,
             "#b8e186"
            ],
            [
             0.8,
             "#7fbc41"
            ],
            [
             0.9,
             "#4d9221"
            ],
            [
             1,
             "#276419"
            ]
           ],
           "sequential": [
            [
             0,
             "#0d0887"
            ],
            [
             0.1111111111111111,
             "#46039f"
            ],
            [
             0.2222222222222222,
             "#7201a8"
            ],
            [
             0.3333333333333333,
             "#9c179e"
            ],
            [
             0.4444444444444444,
             "#bd3786"
            ],
            [
             0.5555555555555556,
             "#d8576b"
            ],
            [
             0.6666666666666666,
             "#ed7953"
            ],
            [
             0.7777777777777778,
             "#fb9f3a"
            ],
            [
             0.8888888888888888,
             "#fdca26"
            ],
            [
             1,
             "#f0f921"
            ]
           ],
           "sequentialminus": [
            [
             0,
             "#0d0887"
            ],
            [
             0.1111111111111111,
             "#46039f"
            ],
            [
             0.2222222222222222,
             "#7201a8"
            ],
            [
             0.3333333333333333,
             "#9c179e"
            ],
            [
             0.4444444444444444,
             "#bd3786"
            ],
            [
             0.5555555555555556,
             "#d8576b"
            ],
            [
             0.6666666666666666,
             "#ed7953"
            ],
            [
             0.7777777777777778,
             "#fb9f3a"
            ],
            [
             0.8888888888888888,
             "#fdca26"
            ],
            [
             1,
             "#f0f921"
            ]
           ]
          },
          "colorway": [
           "#636efa",
           "#EF553B",
           "#00cc96",
           "#ab63fa",
           "#FFA15A",
           "#19d3f3",
           "#FF6692",
           "#B6E880",
           "#FF97FF",
           "#FECB52"
          ],
          "font": {
           "color": "#2a3f5f"
          },
          "geo": {
           "bgcolor": "white",
           "lakecolor": "white",
           "landcolor": "#E5ECF6",
           "showlakes": true,
           "showland": true,
           "subunitcolor": "white"
          },
          "hoverlabel": {
           "align": "left"
          },
          "hovermode": "closest",
          "mapbox": {
           "style": "light"
          },
          "paper_bgcolor": "white",
          "plot_bgcolor": "#E5ECF6",
          "polar": {
           "angularaxis": {
            "gridcolor": "white",
            "linecolor": "white",
            "ticks": ""
           },
           "bgcolor": "#E5ECF6",
           "radialaxis": {
            "gridcolor": "white",
            "linecolor": "white",
            "ticks": ""
           }
          },
          "scene": {
           "xaxis": {
            "backgroundcolor": "#E5ECF6",
            "gridcolor": "white",
            "gridwidth": 2,
            "linecolor": "white",
            "showbackground": true,
            "ticks": "",
            "zerolinecolor": "white"
           },
           "yaxis": {
            "backgroundcolor": "#E5ECF6",
            "gridcolor": "white",
            "gridwidth": 2,
            "linecolor": "white",
            "showbackground": true,
            "ticks": "",
            "zerolinecolor": "white"
           },
           "zaxis": {
            "backgroundcolor": "#E5ECF6",
            "gridcolor": "white",
            "gridwidth": 2,
            "linecolor": "white",
            "showbackground": true,
            "ticks": "",
            "zerolinecolor": "white"
           }
          },
          "shapedefaults": {
           "line": {
            "color": "#2a3f5f"
           }
          },
          "ternary": {
           "aaxis": {
            "gridcolor": "white",
            "linecolor": "white",
            "ticks": ""
           },
           "baxis": {
            "gridcolor": "white",
            "linecolor": "white",
            "ticks": ""
           },
           "bgcolor": "#E5ECF6",
           "caxis": {
            "gridcolor": "white",
            "linecolor": "white",
            "ticks": ""
           }
          },
          "title": {
           "x": 0.05
          },
          "xaxis": {
           "automargin": true,
           "gridcolor": "white",
           "linecolor": "white",
           "ticks": "",
           "title": {
            "standoff": 15
           },
           "zerolinecolor": "white",
           "zerolinewidth": 2
          },
          "yaxis": {
           "automargin": true,
           "gridcolor": "white",
           "linecolor": "white",
           "ticks": "",
           "title": {
            "standoff": 15
           },
           "zerolinecolor": "white",
           "zerolinewidth": 2
          }
         }
        },
        "title": {
         "text": "Monthly Pollution - Month 1"
        }
       }
      }
     },
     "metadata": {},
     "output_type": "display_data"
    }
   ],
   "source": [
    "import plotly.graph_objects as go\n",
    "\n",
    "months = sorted(monthly_pollution_df['month'].unique())\n",
    "fig = go.Figure()\n",
    "\n",
    "# Create traces (one for each month)\n",
    "for i, month in enumerate(months):\n",
    "    geo_df = monthly_pollution_df[monthly_pollution_df['month'] == month]\n",
    "    \n",
    "    fig.add_trace(go.Scattergeo(\n",
    "        lat=geo_df['lat'],\n",
    "        lon=geo_df['lon'],\n",
    "        text=geo_df['river_ID'],\n",
    "        mode='markers',\n",
    "        marker=dict(\n",
    "            size=12,\n",
    "            color=geo_df['monthly_pollution'],\n",
    "            colorscale='Viridis',\n",
    "            colorbar_title='Pollution',\n",
    "            cmin=monthly_pollution_df['monthly_pollution'].min(),\n",
    "            cmax=monthly_pollution_df['monthly_pollution'].max(),\n",
    "        ),\n",
    "        name=f'Month {month}',\n",
    "        visible=(i == 0)\n",
    "    ))\n",
    "\n",
    "# Add slider steps\n",
    "steps = []\n",
    "for i, month in enumerate(months):\n",
    "    step = dict(\n",
    "        method='update',\n",
    "        args=[{'visible': [j == i for j in range(len(months))]},\n",
    "              {'title': f'Monthly Pollution - Month {month}'}],\n",
    "        label=f'{month}'\n",
    "    )\n",
    "    steps.append(step)\n",
    "\n",
    "fig.update_layout(\n",
    "    title='Monthly Pollution - Month 1',\n",
    "    geo=dict(scope='asia', showland=True),\n",
    "    sliders=[dict(\n",
    "        active=0,\n",
    "        steps=steps,\n",
    "        currentvalue={\"prefix\": \"Month: \"}\n",
    "    )]\n",
    ")\n",
    "\n",
    "fig.update_geos(\n",
    "    projection_type=\"mercator\",\n",
    "    showland=True,\n",
    "    landcolor=\"rgb(240, 240, 240)\",\n",
    "    fitbounds=\"locations\",\n",
    "    lataxis_range=[-11, 25],   # SE Asia: ~Indonesia to Vietnam/China border\n",
    "    lonaxis_range=[90, 120],\n",
    ")\n",
    "\n",
    "\n",
    "fig.show()\n"
   ]
  },
  {
   "cell_type": "markdown",
   "metadata": {},
   "source": []
  },
  {
   "cell_type": "markdown",
   "metadata": {},
   "source": [
    "##### Adding in a column for normalized pollution levels"
   ]
  },
  {
   "cell_type": "code",
   "execution_count": 18,
   "metadata": {},
   "outputs": [
    {
     "data": {
      "text/html": [
       "<div>\n",
       "<style scoped>\n",
       "    .dataframe tbody tr th:only-of-type {\n",
       "        vertical-align: middle;\n",
       "    }\n",
       "\n",
       "    .dataframe tbody tr th {\n",
       "        vertical-align: top;\n",
       "    }\n",
       "\n",
       "    .dataframe thead th {\n",
       "        text-align: right;\n",
       "    }\n",
       "</style>\n",
       "<table border=\"1\" class=\"dataframe\">\n",
       "  <thead>\n",
       "    <tr style=\"text-align: right;\">\n",
       "      <th></th>\n",
       "      <th>river_ID</th>\n",
       "      <th>month</th>\n",
       "      <th>avg_monthly_rain</th>\n",
       "      <th>avg_yearly_rain</th>\n",
       "      <th>weight</th>\n",
       "      <th>country</th>\n",
       "      <th>lon</th>\n",
       "      <th>lat</th>\n",
       "      <th>pollution_volume</th>\n",
       "      <th>monthly_pollution</th>\n",
       "      <th>coordinates</th>\n",
       "      <th>rank</th>\n",
       "    </tr>\n",
       "  </thead>\n",
       "  <tbody>\n",
       "    <tr>\n",
       "      <th>0</th>\n",
       "      <td>1</td>\n",
       "      <td>1</td>\n",
       "      <td>57.581249</td>\n",
       "      <td>704.434143</td>\n",
       "      <td>0.081741</td>\n",
       "      <td>Malaysia</td>\n",
       "      <td>101.38875</td>\n",
       "      <td>3.00292</td>\n",
       "      <td>12816.00</td>\n",
       "      <td>1047.594441</td>\n",
       "      <td>POINT (101.38875 3.00292)</td>\n",
       "      <td>1</td>\n",
       "    </tr>\n",
       "    <tr>\n",
       "      <th>1</th>\n",
       "      <td>1</td>\n",
       "      <td>2</td>\n",
       "      <td>47.967915</td>\n",
       "      <td>704.434143</td>\n",
       "      <td>0.068094</td>\n",
       "      <td>Malaysia</td>\n",
       "      <td>101.38875</td>\n",
       "      <td>3.00292</td>\n",
       "      <td>12816.00</td>\n",
       "      <td>872.695953</td>\n",
       "      <td>POINT (101.38875 3.00292)</td>\n",
       "      <td>1</td>\n",
       "    </tr>\n",
       "    <tr>\n",
       "      <th>2</th>\n",
       "      <td>1</td>\n",
       "      <td>3</td>\n",
       "      <td>61.775414</td>\n",
       "      <td>704.434143</td>\n",
       "      <td>0.087695</td>\n",
       "      <td>Malaysia</td>\n",
       "      <td>101.38875</td>\n",
       "      <td>3.00292</td>\n",
       "      <td>12816.00</td>\n",
       "      <td>1123.900203</td>\n",
       "      <td>POINT (101.38875 3.00292)</td>\n",
       "      <td>1</td>\n",
       "    </tr>\n",
       "    <tr>\n",
       "      <th>3</th>\n",
       "      <td>1</td>\n",
       "      <td>4</td>\n",
       "      <td>64.261253</td>\n",
       "      <td>704.434143</td>\n",
       "      <td>0.091224</td>\n",
       "      <td>Malaysia</td>\n",
       "      <td>101.38875</td>\n",
       "      <td>3.00292</td>\n",
       "      <td>12816.00</td>\n",
       "      <td>1169.125923</td>\n",
       "      <td>POINT (101.38875 3.00292)</td>\n",
       "      <td>1</td>\n",
       "    </tr>\n",
       "    <tr>\n",
       "      <th>4</th>\n",
       "      <td>1</td>\n",
       "      <td>5</td>\n",
       "      <td>54.627918</td>\n",
       "      <td>704.434143</td>\n",
       "      <td>0.077549</td>\n",
       "      <td>Malaysia</td>\n",
       "      <td>101.38875</td>\n",
       "      <td>3.00292</td>\n",
       "      <td>12816.00</td>\n",
       "      <td>993.863535</td>\n",
       "      <td>POINT (101.38875 3.00292)</td>\n",
       "      <td>1</td>\n",
       "    </tr>\n",
       "    <tr>\n",
       "      <th>...</th>\n",
       "      <td>...</td>\n",
       "      <td>...</td>\n",
       "      <td>...</td>\n",
       "      <td>...</td>\n",
       "      <td>...</td>\n",
       "      <td>...</td>\n",
       "      <td>...</td>\n",
       "      <td>...</td>\n",
       "      <td>...</td>\n",
       "      <td>...</td>\n",
       "      <td>...</td>\n",
       "      <td>...</td>\n",
       "    </tr>\n",
       "    <tr>\n",
       "      <th>115</th>\n",
       "      <td>10</td>\n",
       "      <td>8</td>\n",
       "      <td>45.442501</td>\n",
       "      <td>704.796265</td>\n",
       "      <td>0.064476</td>\n",
       "      <td>Malaysia</td>\n",
       "      <td>103.79750</td>\n",
       "      <td>1.49625</td>\n",
       "      <td>2143.48</td>\n",
       "      <td>138.203188</td>\n",
       "      <td>POINT (103.7975 1.49625)</td>\n",
       "      <td>10</td>\n",
       "    </tr>\n",
       "    <tr>\n",
       "      <th>116</th>\n",
       "      <td>10</td>\n",
       "      <td>9</td>\n",
       "      <td>47.408749</td>\n",
       "      <td>704.796265</td>\n",
       "      <td>0.067266</td>\n",
       "      <td>Malaysia</td>\n",
       "      <td>103.79750</td>\n",
       "      <td>1.49625</td>\n",
       "      <td>2143.48</td>\n",
       "      <td>144.183091</td>\n",
       "      <td>POINT (103.7975 1.49625)</td>\n",
       "      <td>10</td>\n",
       "    </tr>\n",
       "    <tr>\n",
       "      <th>117</th>\n",
       "      <td>10</td>\n",
       "      <td>10</td>\n",
       "      <td>55.966251</td>\n",
       "      <td>704.796265</td>\n",
       "      <td>0.079408</td>\n",
       "      <td>Malaysia</td>\n",
       "      <td>103.79750</td>\n",
       "      <td>1.49625</td>\n",
       "      <td>2143.48</td>\n",
       "      <td>170.208816</td>\n",
       "      <td>POINT (103.7975 1.49625)</td>\n",
       "      <td>10</td>\n",
       "    </tr>\n",
       "    <tr>\n",
       "      <th>118</th>\n",
       "      <td>10</td>\n",
       "      <td>11</td>\n",
       "      <td>67.606247</td>\n",
       "      <td>704.796265</td>\n",
       "      <td>0.095923</td>\n",
       "      <td>Malaysia</td>\n",
       "      <td>103.79750</td>\n",
       "      <td>1.49625</td>\n",
       "      <td>2143.48</td>\n",
       "      <td>205.609254</td>\n",
       "      <td>POINT (103.7975 1.49625)</td>\n",
       "      <td>10</td>\n",
       "    </tr>\n",
       "    <tr>\n",
       "      <th>119</th>\n",
       "      <td>10</td>\n",
       "      <td>12</td>\n",
       "      <td>85.959160</td>\n",
       "      <td>704.796265</td>\n",
       "      <td>0.121963</td>\n",
       "      <td>Malaysia</td>\n",
       "      <td>103.79750</td>\n",
       "      <td>1.49625</td>\n",
       "      <td>2143.48</td>\n",
       "      <td>261.425527</td>\n",
       "      <td>POINT (103.7975 1.49625)</td>\n",
       "      <td>10</td>\n",
       "    </tr>\n",
       "  </tbody>\n",
       "</table>\n",
       "<p>120 rows × 12 columns</p>\n",
       "</div>"
      ],
      "text/plain": [
       "     river_ID  month  avg_monthly_rain  avg_yearly_rain    weight   country  \\\n",
       "0           1      1         57.581249       704.434143  0.081741  Malaysia   \n",
       "1           1      2         47.967915       704.434143  0.068094  Malaysia   \n",
       "2           1      3         61.775414       704.434143  0.087695  Malaysia   \n",
       "3           1      4         64.261253       704.434143  0.091224  Malaysia   \n",
       "4           1      5         54.627918       704.434143  0.077549  Malaysia   \n",
       "..        ...    ...               ...              ...       ...       ...   \n",
       "115        10      8         45.442501       704.796265  0.064476  Malaysia   \n",
       "116        10      9         47.408749       704.796265  0.067266  Malaysia   \n",
       "117        10     10         55.966251       704.796265  0.079408  Malaysia   \n",
       "118        10     11         67.606247       704.796265  0.095923  Malaysia   \n",
       "119        10     12         85.959160       704.796265  0.121963  Malaysia   \n",
       "\n",
       "           lon      lat  pollution_volume  monthly_pollution  \\\n",
       "0    101.38875  3.00292          12816.00        1047.594441   \n",
       "1    101.38875  3.00292          12816.00         872.695953   \n",
       "2    101.38875  3.00292          12816.00        1123.900203   \n",
       "3    101.38875  3.00292          12816.00        1169.125923   \n",
       "4    101.38875  3.00292          12816.00         993.863535   \n",
       "..         ...      ...               ...                ...   \n",
       "115  103.79750  1.49625           2143.48         138.203188   \n",
       "116  103.79750  1.49625           2143.48         144.183091   \n",
       "117  103.79750  1.49625           2143.48         170.208816   \n",
       "118  103.79750  1.49625           2143.48         205.609254   \n",
       "119  103.79750  1.49625           2143.48         261.425527   \n",
       "\n",
       "                   coordinates  rank  \n",
       "0    POINT (101.38875 3.00292)     1  \n",
       "1    POINT (101.38875 3.00292)     1  \n",
       "2    POINT (101.38875 3.00292)     1  \n",
       "3    POINT (101.38875 3.00292)     1  \n",
       "4    POINT (101.38875 3.00292)     1  \n",
       "..                         ...   ...  \n",
       "115   POINT (103.7975 1.49625)    10  \n",
       "116   POINT (103.7975 1.49625)    10  \n",
       "117   POINT (103.7975 1.49625)    10  \n",
       "118   POINT (103.7975 1.49625)    10  \n",
       "119   POINT (103.7975 1.49625)    10  \n",
       "\n",
       "[120 rows x 12 columns]"
      ]
     },
     "execution_count": 18,
     "metadata": {},
     "output_type": "execute_result"
    }
   ],
   "source": [
    "monthly_pollution_df"
   ]
  },
  {
   "cell_type": "code",
   "execution_count": 19,
   "metadata": {},
   "outputs": [],
   "source": [
    "monthly_pollution_df['monthly_pollution_norm'] = monthly_pollution_df.groupby('month')['monthly_pollution'].transform(\n",
    "    lambda x: (x - x.min()) / (x.max() - x.min())\n",
    ")"
   ]
  },
  {
   "cell_type": "code",
   "execution_count": 20,
   "metadata": {},
   "outputs": [],
   "source": [
    "monthly_pollution_df.head()\n",
    "\n",
    "# # convert monthly_pollution_df to a geo_dataframe\n",
    "# monthly_pollution_df['coordinates'] = [Point(xy) for xy in zip(monthly_pollution_df['lon'], monthly_pollution_df['lat'])]\n",
    "\n",
    "monthly_pollution_df = monthly_pollution_df.drop('coordinates', axis=1)\n",
    "monthly_pollution_gdf = gpd.GeoDataFrame(monthly_pollution_df, crs=\"EPSG:4326\", \n",
    "                                         geometry=gpd.points_from_xy(x=monthly_pollution_df.lon, y=monthly_pollution_df.lat))\n",
    "\n",
    "# monthly_pollution_gdf = gpd.GeoDataFrame(monthly_pollution_df, geometry='coordinates')\n",
    "# monthly_pollution_gdf = monthly_pollution_gdf.set_crs(epsg=4326)  # Set the coordinate reference system to WGS84"
   ]
  },
  {
   "cell_type": "code",
   "execution_count": 21,
   "metadata": {},
   "outputs": [
    {
     "name": "stdout",
     "output_type": "stream",
     "text": [
      "<class 'geopandas.geodataframe.GeoDataFrame'>\n",
      "RangeIndex: 120 entries, 0 to 119\n",
      "Data columns (total 13 columns):\n",
      " #   Column                  Non-Null Count  Dtype   \n",
      "---  ------                  --------------  -----   \n",
      " 0   river_ID                120 non-null    int64   \n",
      " 1   month                   120 non-null    int64   \n",
      " 2   avg_monthly_rain        120 non-null    float32 \n",
      " 3   avg_yearly_rain         120 non-null    float32 \n",
      " 4   weight                  120 non-null    float32 \n",
      " 5   country                 120 non-null    object  \n",
      " 6   lon                     120 non-null    float64 \n",
      " 7   lat                     120 non-null    float64 \n",
      " 8   pollution_volume        120 non-null    float64 \n",
      " 9   monthly_pollution       120 non-null    float64 \n",
      " 10  rank                    120 non-null    object  \n",
      " 11  monthly_pollution_norm  120 non-null    float64 \n",
      " 12  geometry                120 non-null    geometry\n",
      "dtypes: float32(3), float64(5), geometry(1), int64(2), object(2)\n",
      "memory usage: 10.9+ KB\n"
     ]
    }
   ],
   "source": [
    "#change the type of the rank column to a string\n",
    "monthly_pollution_gdf['rank'] = monthly_pollution_gdf['rank'].astype(str)\n",
    "\n",
    "monthly_pollution_gdf.info()\n",
    "\n"
   ]
  },
  {
   "cell_type": "code",
   "execution_count": null,
   "metadata": {},
   "outputs": [],
   "source": [
    "monthly_pollution_df.to_pickle(r'C:\\\\Users\\\\liamr\\\\OneDrive\\\\Documents\\\\Playground\\\\river_plastic_data\\\\data\\\\monthly_pollution_df.pkl')\n",
    "monthly_pollution_df.to_csv(r'C:\\\\Users\\\\liamr\\\\OneDrive\\\\Documents\\\\Playground\\\\river_plastic_data\\\\data\\\\monthly_pollution_df.csv', index=False)\n",
    "monthly_pollution_gdf.to_pickle(r'C:\\\\Users\\\\liamr\\\\OneDrive\\\\Documents\\\\Playground\\\\river_plastic_data\\\\data\\\\monthly_pollution_gdf.pkl')\n",
    "monthly_pollution_gdf.to_csv(r'C:\\\\Users\\\\liamr\\\\OneDrive\\\\Documents\\\\Playground\\\\river_plastic_data\\\\data\\\\monthly_pollution_gdf.csv', index=False)\n"
   ]
  },
  {
   "cell_type": "code",
   "execution_count": 25,
   "metadata": {},
   "outputs": [
    {
     "data": {
      "text/html": [
       "<div>\n",
       "<style scoped>\n",
       "    .dataframe tbody tr th:only-of-type {\n",
       "        vertical-align: middle;\n",
       "    }\n",
       "\n",
       "    .dataframe tbody tr th {\n",
       "        vertical-align: top;\n",
       "    }\n",
       "\n",
       "    .dataframe thead th {\n",
       "        text-align: right;\n",
       "    }\n",
       "</style>\n",
       "<table border=\"1\" class=\"dataframe\">\n",
       "  <thead>\n",
       "    <tr style=\"text-align: right;\">\n",
       "      <th></th>\n",
       "      <th>river_ID</th>\n",
       "      <th>month</th>\n",
       "      <th>avg_monthly_rain</th>\n",
       "      <th>avg_yearly_rain</th>\n",
       "      <th>weight</th>\n",
       "      <th>country</th>\n",
       "      <th>lon</th>\n",
       "      <th>lat</th>\n",
       "      <th>pollution_volume</th>\n",
       "      <th>monthly_pollution</th>\n",
       "      <th>rank</th>\n",
       "      <th>monthly_pollution_norm</th>\n",
       "      <th>geometry</th>\n",
       "    </tr>\n",
       "  </thead>\n",
       "  <tbody>\n",
       "    <tr>\n",
       "      <th>0</th>\n",
       "      <td>1</td>\n",
       "      <td>1</td>\n",
       "      <td>57.581249</td>\n",
       "      <td>704.434143</td>\n",
       "      <td>0.081741</td>\n",
       "      <td>Malaysia</td>\n",
       "      <td>101.38875</td>\n",
       "      <td>3.00292</td>\n",
       "      <td>12816.00</td>\n",
       "      <td>1047.594441</td>\n",
       "      <td>1</td>\n",
       "      <td>1.000000</td>\n",
       "      <td>POINT (101.38875 3.00292)</td>\n",
       "    </tr>\n",
       "    <tr>\n",
       "      <th>1</th>\n",
       "      <td>1</td>\n",
       "      <td>2</td>\n",
       "      <td>47.967915</td>\n",
       "      <td>704.434143</td>\n",
       "      <td>0.068094</td>\n",
       "      <td>Malaysia</td>\n",
       "      <td>101.38875</td>\n",
       "      <td>3.00292</td>\n",
       "      <td>12816.00</td>\n",
       "      <td>872.695953</td>\n",
       "      <td>1</td>\n",
       "      <td>1.000000</td>\n",
       "      <td>POINT (101.38875 3.00292)</td>\n",
       "    </tr>\n",
       "    <tr>\n",
       "      <th>2</th>\n",
       "      <td>1</td>\n",
       "      <td>3</td>\n",
       "      <td>61.775414</td>\n",
       "      <td>704.434143</td>\n",
       "      <td>0.087695</td>\n",
       "      <td>Malaysia</td>\n",
       "      <td>101.38875</td>\n",
       "      <td>3.00292</td>\n",
       "      <td>12816.00</td>\n",
       "      <td>1123.900203</td>\n",
       "      <td>1</td>\n",
       "      <td>1.000000</td>\n",
       "      <td>POINT (101.38875 3.00292)</td>\n",
       "    </tr>\n",
       "    <tr>\n",
       "      <th>3</th>\n",
       "      <td>1</td>\n",
       "      <td>4</td>\n",
       "      <td>64.261253</td>\n",
       "      <td>704.434143</td>\n",
       "      <td>0.091224</td>\n",
       "      <td>Malaysia</td>\n",
       "      <td>101.38875</td>\n",
       "      <td>3.00292</td>\n",
       "      <td>12816.00</td>\n",
       "      <td>1169.125923</td>\n",
       "      <td>1</td>\n",
       "      <td>1.000000</td>\n",
       "      <td>POINT (101.38875 3.00292)</td>\n",
       "    </tr>\n",
       "    <tr>\n",
       "      <th>4</th>\n",
       "      <td>1</td>\n",
       "      <td>5</td>\n",
       "      <td>54.627918</td>\n",
       "      <td>704.434143</td>\n",
       "      <td>0.077549</td>\n",
       "      <td>Malaysia</td>\n",
       "      <td>101.38875</td>\n",
       "      <td>3.00292</td>\n",
       "      <td>12816.00</td>\n",
       "      <td>993.863535</td>\n",
       "      <td>1</td>\n",
       "      <td>1.000000</td>\n",
       "      <td>POINT (101.38875 3.00292)</td>\n",
       "    </tr>\n",
       "    <tr>\n",
       "      <th>...</th>\n",
       "      <td>...</td>\n",
       "      <td>...</td>\n",
       "      <td>...</td>\n",
       "      <td>...</td>\n",
       "      <td>...</td>\n",
       "      <td>...</td>\n",
       "      <td>...</td>\n",
       "      <td>...</td>\n",
       "      <td>...</td>\n",
       "      <td>...</td>\n",
       "      <td>...</td>\n",
       "      <td>...</td>\n",
       "      <td>...</td>\n",
       "    </tr>\n",
       "    <tr>\n",
       "      <th>115</th>\n",
       "      <td>10</td>\n",
       "      <td>8</td>\n",
       "      <td>45.442501</td>\n",
       "      <td>704.796265</td>\n",
       "      <td>0.064476</td>\n",
       "      <td>Malaysia</td>\n",
       "      <td>103.79750</td>\n",
       "      <td>1.49625</td>\n",
       "      <td>2143.48</td>\n",
       "      <td>138.203188</td>\n",
       "      <td>10</td>\n",
       "      <td>0.000000</td>\n",
       "      <td>POINT (103.7975 1.49625)</td>\n",
       "    </tr>\n",
       "    <tr>\n",
       "      <th>116</th>\n",
       "      <td>10</td>\n",
       "      <td>9</td>\n",
       "      <td>47.408749</td>\n",
       "      <td>704.796265</td>\n",
       "      <td>0.067266</td>\n",
       "      <td>Malaysia</td>\n",
       "      <td>103.79750</td>\n",
       "      <td>1.49625</td>\n",
       "      <td>2143.48</td>\n",
       "      <td>144.183091</td>\n",
       "      <td>10</td>\n",
       "      <td>0.000000</td>\n",
       "      <td>POINT (103.7975 1.49625)</td>\n",
       "    </tr>\n",
       "    <tr>\n",
       "      <th>117</th>\n",
       "      <td>10</td>\n",
       "      <td>10</td>\n",
       "      <td>55.966251</td>\n",
       "      <td>704.796265</td>\n",
       "      <td>0.079408</td>\n",
       "      <td>Malaysia</td>\n",
       "      <td>103.79750</td>\n",
       "      <td>1.49625</td>\n",
       "      <td>2143.48</td>\n",
       "      <td>170.208816</td>\n",
       "      <td>10</td>\n",
       "      <td>0.000000</td>\n",
       "      <td>POINT (103.7975 1.49625)</td>\n",
       "    </tr>\n",
       "    <tr>\n",
       "      <th>118</th>\n",
       "      <td>10</td>\n",
       "      <td>11</td>\n",
       "      <td>67.606247</td>\n",
       "      <td>704.796265</td>\n",
       "      <td>0.095923</td>\n",
       "      <td>Malaysia</td>\n",
       "      <td>103.79750</td>\n",
       "      <td>1.49625</td>\n",
       "      <td>2143.48</td>\n",
       "      <td>205.609254</td>\n",
       "      <td>10</td>\n",
       "      <td>0.079168</td>\n",
       "      <td>POINT (103.7975 1.49625)</td>\n",
       "    </tr>\n",
       "    <tr>\n",
       "      <th>119</th>\n",
       "      <td>10</td>\n",
       "      <td>12</td>\n",
       "      <td>85.959160</td>\n",
       "      <td>704.796265</td>\n",
       "      <td>0.121963</td>\n",
       "      <td>Malaysia</td>\n",
       "      <td>103.79750</td>\n",
       "      <td>1.49625</td>\n",
       "      <td>2143.48</td>\n",
       "      <td>261.425527</td>\n",
       "      <td>10</td>\n",
       "      <td>0.145150</td>\n",
       "      <td>POINT (103.7975 1.49625)</td>\n",
       "    </tr>\n",
       "  </tbody>\n",
       "</table>\n",
       "<p>120 rows × 13 columns</p>\n",
       "</div>"
      ],
      "text/plain": [
       "     river_ID  month  avg_monthly_rain  avg_yearly_rain    weight   country  \\\n",
       "0           1      1         57.581249       704.434143  0.081741  Malaysia   \n",
       "1           1      2         47.967915       704.434143  0.068094  Malaysia   \n",
       "2           1      3         61.775414       704.434143  0.087695  Malaysia   \n",
       "3           1      4         64.261253       704.434143  0.091224  Malaysia   \n",
       "4           1      5         54.627918       704.434143  0.077549  Malaysia   \n",
       "..        ...    ...               ...              ...       ...       ...   \n",
       "115        10      8         45.442501       704.796265  0.064476  Malaysia   \n",
       "116        10      9         47.408749       704.796265  0.067266  Malaysia   \n",
       "117        10     10         55.966251       704.796265  0.079408  Malaysia   \n",
       "118        10     11         67.606247       704.796265  0.095923  Malaysia   \n",
       "119        10     12         85.959160       704.796265  0.121963  Malaysia   \n",
       "\n",
       "           lon      lat  pollution_volume  monthly_pollution rank  \\\n",
       "0    101.38875  3.00292          12816.00        1047.594441    1   \n",
       "1    101.38875  3.00292          12816.00         872.695953    1   \n",
       "2    101.38875  3.00292          12816.00        1123.900203    1   \n",
       "3    101.38875  3.00292          12816.00        1169.125923    1   \n",
       "4    101.38875  3.00292          12816.00         993.863535    1   \n",
       "..         ...      ...               ...                ...  ...   \n",
       "115  103.79750  1.49625           2143.48         138.203188   10   \n",
       "116  103.79750  1.49625           2143.48         144.183091   10   \n",
       "117  103.79750  1.49625           2143.48         170.208816   10   \n",
       "118  103.79750  1.49625           2143.48         205.609254   10   \n",
       "119  103.79750  1.49625           2143.48         261.425527   10   \n",
       "\n",
       "     monthly_pollution_norm                   geometry  \n",
       "0                  1.000000  POINT (101.38875 3.00292)  \n",
       "1                  1.000000  POINT (101.38875 3.00292)  \n",
       "2                  1.000000  POINT (101.38875 3.00292)  \n",
       "3                  1.000000  POINT (101.38875 3.00292)  \n",
       "4                  1.000000  POINT (101.38875 3.00292)  \n",
       "..                      ...                        ...  \n",
       "115                0.000000   POINT (103.7975 1.49625)  \n",
       "116                0.000000   POINT (103.7975 1.49625)  \n",
       "117                0.000000   POINT (103.7975 1.49625)  \n",
       "118                0.079168   POINT (103.7975 1.49625)  \n",
       "119                0.145150   POINT (103.7975 1.49625)  \n",
       "\n",
       "[120 rows x 13 columns]"
      ]
     },
     "execution_count": 25,
     "metadata": {},
     "output_type": "execute_result"
    }
   ],
   "source": [
    "monthly_pollution_gdf"
   ]
  },
  {
   "cell_type": "code",
   "execution_count": 26,
   "metadata": {},
   "outputs": [
    {
     "data": {
      "text/html": [
       "<div>\n",
       "<style scoped>\n",
       "    .dataframe tbody tr th:only-of-type {\n",
       "        vertical-align: middle;\n",
       "    }\n",
       "\n",
       "    .dataframe tbody tr th {\n",
       "        vertical-align: top;\n",
       "    }\n",
       "\n",
       "    .dataframe thead th {\n",
       "        text-align: right;\n",
       "    }\n",
       "</style>\n",
       "<table border=\"1\" class=\"dataframe\">\n",
       "  <thead>\n",
       "    <tr style=\"text-align: right;\">\n",
       "      <th></th>\n",
       "      <th>river_ID</th>\n",
       "      <th>month</th>\n",
       "      <th>avg_monthly_rain</th>\n",
       "      <th>avg_yearly_rain</th>\n",
       "      <th>weight</th>\n",
       "      <th>country</th>\n",
       "      <th>lon</th>\n",
       "      <th>lat</th>\n",
       "      <th>pollution_volume</th>\n",
       "      <th>monthly_pollution</th>\n",
       "      <th>rank</th>\n",
       "      <th>monthly_pollution_norm</th>\n",
       "    </tr>\n",
       "  </thead>\n",
       "  <tbody>\n",
       "    <tr>\n",
       "      <th>0</th>\n",
       "      <td>1</td>\n",
       "      <td>1</td>\n",
       "      <td>57.581249</td>\n",
       "      <td>704.434143</td>\n",
       "      <td>0.081741</td>\n",
       "      <td>Malaysia</td>\n",
       "      <td>101.38875</td>\n",
       "      <td>3.00292</td>\n",
       "      <td>12816.00</td>\n",
       "      <td>1047.594441</td>\n",
       "      <td>1</td>\n",
       "      <td>1.000000</td>\n",
       "    </tr>\n",
       "    <tr>\n",
       "      <th>1</th>\n",
       "      <td>1</td>\n",
       "      <td>2</td>\n",
       "      <td>47.967915</td>\n",
       "      <td>704.434143</td>\n",
       "      <td>0.068094</td>\n",
       "      <td>Malaysia</td>\n",
       "      <td>101.38875</td>\n",
       "      <td>3.00292</td>\n",
       "      <td>12816.00</td>\n",
       "      <td>872.695953</td>\n",
       "      <td>1</td>\n",
       "      <td>1.000000</td>\n",
       "    </tr>\n",
       "    <tr>\n",
       "      <th>2</th>\n",
       "      <td>1</td>\n",
       "      <td>3</td>\n",
       "      <td>61.775414</td>\n",
       "      <td>704.434143</td>\n",
       "      <td>0.087695</td>\n",
       "      <td>Malaysia</td>\n",
       "      <td>101.38875</td>\n",
       "      <td>3.00292</td>\n",
       "      <td>12816.00</td>\n",
       "      <td>1123.900203</td>\n",
       "      <td>1</td>\n",
       "      <td>1.000000</td>\n",
       "    </tr>\n",
       "    <tr>\n",
       "      <th>3</th>\n",
       "      <td>1</td>\n",
       "      <td>4</td>\n",
       "      <td>64.261253</td>\n",
       "      <td>704.434143</td>\n",
       "      <td>0.091224</td>\n",
       "      <td>Malaysia</td>\n",
       "      <td>101.38875</td>\n",
       "      <td>3.00292</td>\n",
       "      <td>12816.00</td>\n",
       "      <td>1169.125923</td>\n",
       "      <td>1</td>\n",
       "      <td>1.000000</td>\n",
       "    </tr>\n",
       "    <tr>\n",
       "      <th>4</th>\n",
       "      <td>1</td>\n",
       "      <td>5</td>\n",
       "      <td>54.627918</td>\n",
       "      <td>704.434143</td>\n",
       "      <td>0.077549</td>\n",
       "      <td>Malaysia</td>\n",
       "      <td>101.38875</td>\n",
       "      <td>3.00292</td>\n",
       "      <td>12816.00</td>\n",
       "      <td>993.863535</td>\n",
       "      <td>1</td>\n",
       "      <td>1.000000</td>\n",
       "    </tr>\n",
       "    <tr>\n",
       "      <th>...</th>\n",
       "      <td>...</td>\n",
       "      <td>...</td>\n",
       "      <td>...</td>\n",
       "      <td>...</td>\n",
       "      <td>...</td>\n",
       "      <td>...</td>\n",
       "      <td>...</td>\n",
       "      <td>...</td>\n",
       "      <td>...</td>\n",
       "      <td>...</td>\n",
       "      <td>...</td>\n",
       "      <td>...</td>\n",
       "    </tr>\n",
       "    <tr>\n",
       "      <th>115</th>\n",
       "      <td>10</td>\n",
       "      <td>8</td>\n",
       "      <td>45.442501</td>\n",
       "      <td>704.796265</td>\n",
       "      <td>0.064476</td>\n",
       "      <td>Malaysia</td>\n",
       "      <td>103.79750</td>\n",
       "      <td>1.49625</td>\n",
       "      <td>2143.48</td>\n",
       "      <td>138.203188</td>\n",
       "      <td>10</td>\n",
       "      <td>0.000000</td>\n",
       "    </tr>\n",
       "    <tr>\n",
       "      <th>116</th>\n",
       "      <td>10</td>\n",
       "      <td>9</td>\n",
       "      <td>47.408749</td>\n",
       "      <td>704.796265</td>\n",
       "      <td>0.067266</td>\n",
       "      <td>Malaysia</td>\n",
       "      <td>103.79750</td>\n",
       "      <td>1.49625</td>\n",
       "      <td>2143.48</td>\n",
       "      <td>144.183091</td>\n",
       "      <td>10</td>\n",
       "      <td>0.000000</td>\n",
       "    </tr>\n",
       "    <tr>\n",
       "      <th>117</th>\n",
       "      <td>10</td>\n",
       "      <td>10</td>\n",
       "      <td>55.966251</td>\n",
       "      <td>704.796265</td>\n",
       "      <td>0.079408</td>\n",
       "      <td>Malaysia</td>\n",
       "      <td>103.79750</td>\n",
       "      <td>1.49625</td>\n",
       "      <td>2143.48</td>\n",
       "      <td>170.208816</td>\n",
       "      <td>10</td>\n",
       "      <td>0.000000</td>\n",
       "    </tr>\n",
       "    <tr>\n",
       "      <th>118</th>\n",
       "      <td>10</td>\n",
       "      <td>11</td>\n",
       "      <td>67.606247</td>\n",
       "      <td>704.796265</td>\n",
       "      <td>0.095923</td>\n",
       "      <td>Malaysia</td>\n",
       "      <td>103.79750</td>\n",
       "      <td>1.49625</td>\n",
       "      <td>2143.48</td>\n",
       "      <td>205.609254</td>\n",
       "      <td>10</td>\n",
       "      <td>0.079168</td>\n",
       "    </tr>\n",
       "    <tr>\n",
       "      <th>119</th>\n",
       "      <td>10</td>\n",
       "      <td>12</td>\n",
       "      <td>85.959160</td>\n",
       "      <td>704.796265</td>\n",
       "      <td>0.121963</td>\n",
       "      <td>Malaysia</td>\n",
       "      <td>103.79750</td>\n",
       "      <td>1.49625</td>\n",
       "      <td>2143.48</td>\n",
       "      <td>261.425527</td>\n",
       "      <td>10</td>\n",
       "      <td>0.145150</td>\n",
       "    </tr>\n",
       "  </tbody>\n",
       "</table>\n",
       "<p>120 rows × 12 columns</p>\n",
       "</div>"
      ],
      "text/plain": [
       "     river_ID  month  avg_monthly_rain  avg_yearly_rain    weight   country  \\\n",
       "0           1      1         57.581249       704.434143  0.081741  Malaysia   \n",
       "1           1      2         47.967915       704.434143  0.068094  Malaysia   \n",
       "2           1      3         61.775414       704.434143  0.087695  Malaysia   \n",
       "3           1      4         64.261253       704.434143  0.091224  Malaysia   \n",
       "4           1      5         54.627918       704.434143  0.077549  Malaysia   \n",
       "..        ...    ...               ...              ...       ...       ...   \n",
       "115        10      8         45.442501       704.796265  0.064476  Malaysia   \n",
       "116        10      9         47.408749       704.796265  0.067266  Malaysia   \n",
       "117        10     10         55.966251       704.796265  0.079408  Malaysia   \n",
       "118        10     11         67.606247       704.796265  0.095923  Malaysia   \n",
       "119        10     12         85.959160       704.796265  0.121963  Malaysia   \n",
       "\n",
       "           lon      lat  pollution_volume  monthly_pollution  rank  \\\n",
       "0    101.38875  3.00292          12816.00        1047.594441     1   \n",
       "1    101.38875  3.00292          12816.00         872.695953     1   \n",
       "2    101.38875  3.00292          12816.00        1123.900203     1   \n",
       "3    101.38875  3.00292          12816.00        1169.125923     1   \n",
       "4    101.38875  3.00292          12816.00         993.863535     1   \n",
       "..         ...      ...               ...                ...   ...   \n",
       "115  103.79750  1.49625           2143.48         138.203188    10   \n",
       "116  103.79750  1.49625           2143.48         144.183091    10   \n",
       "117  103.79750  1.49625           2143.48         170.208816    10   \n",
       "118  103.79750  1.49625           2143.48         205.609254    10   \n",
       "119  103.79750  1.49625           2143.48         261.425527    10   \n",
       "\n",
       "     monthly_pollution_norm  \n",
       "0                  1.000000  \n",
       "1                  1.000000  \n",
       "2                  1.000000  \n",
       "3                  1.000000  \n",
       "4                  1.000000  \n",
       "..                      ...  \n",
       "115                0.000000  \n",
       "116                0.000000  \n",
       "117                0.000000  \n",
       "118                0.079168  \n",
       "119                0.145150  \n",
       "\n",
       "[120 rows x 12 columns]"
      ]
     },
     "execution_count": 26,
     "metadata": {},
     "output_type": "execute_result"
    }
   ],
   "source": [
    "monthly_pollution_df"
   ]
  },
  {
   "cell_type": "code",
   "execution_count": 27,
   "metadata": {},
   "outputs": [],
   "source": [
    "geo_df_list = [[point.xy[1][0], point.xy[0][0]] for point in monthly_pollution_gdf.geometry]\n"
   ]
  },
  {
   "cell_type": "code",
   "execution_count": 28,
   "metadata": {},
   "outputs": [
    {
     "data": {
      "text/plain": [
       "[[3.00292, 101.38875],\n",
       " [3.00292, 101.38875],\n",
       " [3.00292, 101.38875],\n",
       " [3.00292, 101.38875],\n",
       " [3.00292, 101.38875],\n",
       " [3.00292, 101.38875],\n",
       " [3.00292, 101.38875],\n",
       " [3.00292, 101.38875],\n",
       " [3.00292, 101.38875],\n",
       " [3.00292, 101.38875],\n",
       " [3.00292, 101.38875],\n",
       " [3.00292, 101.38875],\n",
       " [10.49875, 106.74708],\n",
       " [10.49875, 106.74708],\n",
       " [10.49875, 106.74708],\n",
       " [10.49875, 106.74708],\n",
       " [10.49875, 106.74708],\n",
       " [10.49875, 106.74708],\n",
       " [10.49875, 106.74708],\n",
       " [10.49875, 106.74708],\n",
       " [10.49875, 106.74708],\n",
       " [10.49875, 106.74708],\n",
       " [10.49875, 106.74708],\n",
       " [10.49875, 106.74708],\n",
       " [13.61573, 100.55795],\n",
       " [13.61573, 100.55795],\n",
       " [13.61573, 100.55795],\n",
       " [13.61573, 100.55795],\n",
       " [13.61573, 100.55795],\n",
       " [13.61573, 100.55795],\n",
       " [13.61573, 100.55795],\n",
       " [13.61573, 100.55795],\n",
       " [13.61573, 100.55795],\n",
       " [13.61573, 100.55795],\n",
       " [13.61573, 100.55795],\n",
       " [13.61573, 100.55795],\n",
       " [16.77458, 96.19083],\n",
       " [16.77458, 96.19083],\n",
       " [16.77458, 96.19083],\n",
       " [16.77458, 96.19083],\n",
       " [16.77458, 96.19083],\n",
       " [16.77458, 96.19083],\n",
       " [16.77458, 96.19083],\n",
       " [16.77458, 96.19083],\n",
       " [16.77458, 96.19083],\n",
       " [16.77458, 96.19083],\n",
       " [16.77458, 96.19083],\n",
       " [16.77458, 96.19083],\n",
       " [1.55542, 110.39875],\n",
       " [1.55542, 110.39875],\n",
       " [1.55542, 110.39875],\n",
       " [1.55542, 110.39875],\n",
       " [1.55542, 110.39875],\n",
       " [1.55542, 110.39875],\n",
       " [1.55542, 110.39875],\n",
       " [1.55542, 110.39875],\n",
       " [1.55542, 110.39875],\n",
       " [1.55542, 110.39875],\n",
       " [1.55542, 110.39875],\n",
       " [1.55542, 110.39875],\n",
       " [2.80458, 101.41125],\n",
       " [2.80458, 101.41125],\n",
       " [2.80458, 101.41125],\n",
       " [2.80458, 101.41125],\n",
       " [2.80458, 101.41125],\n",
       " [2.80458, 101.41125],\n",
       " [2.80458, 101.41125],\n",
       " [2.80458, 101.41125],\n",
       " [2.80458, 101.41125],\n",
       " [2.80458, 101.41125],\n",
       " [2.80458, 101.41125],\n",
       " [2.80458, 101.41125],\n",
       " [16.84125, 96.10625],\n",
       " [16.84125, 96.10625],\n",
       " [16.84125, 96.10625],\n",
       " [16.84125, 96.10625],\n",
       " [16.84125, 96.10625],\n",
       " [16.84125, 96.10625],\n",
       " [16.84125, 96.10625],\n",
       " [16.84125, 96.10625],\n",
       " [16.84125, 96.10625],\n",
       " [16.84125, 96.10625],\n",
       " [16.84125, 96.10625],\n",
       " [16.84125, 96.10625],\n",
       " [6.18208, 102.24458],\n",
       " [6.18208, 102.24458],\n",
       " [6.18208, 102.24458],\n",
       " [6.18208, 102.24458],\n",
       " [6.18208, 102.24458],\n",
       " [6.18208, 102.24458],\n",
       " [6.18208, 102.24458],\n",
       " [6.18208, 102.24458],\n",
       " [6.18208, 102.24458],\n",
       " [6.18208, 102.24458],\n",
       " [6.18208, 102.24458],\n",
       " [6.18208, 102.24458],\n",
       " [3.80625, 103.34292],\n",
       " [3.80625, 103.34292],\n",
       " [3.80625, 103.34292],\n",
       " [3.80625, 103.34292],\n",
       " [3.80625, 103.34292],\n",
       " [3.80625, 103.34292],\n",
       " [3.80625, 103.34292],\n",
       " [3.80625, 103.34292],\n",
       " [3.80625, 103.34292],\n",
       " [3.80625, 103.34292],\n",
       " [3.80625, 103.34292],\n",
       " [3.80625, 103.34292],\n",
       " [1.49625, 103.7975],\n",
       " [1.49625, 103.7975],\n",
       " [1.49625, 103.7975],\n",
       " [1.49625, 103.7975],\n",
       " [1.49625, 103.7975],\n",
       " [1.49625, 103.7975],\n",
       " [1.49625, 103.7975],\n",
       " [1.49625, 103.7975],\n",
       " [1.49625, 103.7975],\n",
       " [1.49625, 103.7975],\n",
       " [1.49625, 103.7975],\n",
       " [1.49625, 103.7975]]"
      ]
     },
     "execution_count": 28,
     "metadata": {},
     "output_type": "execute_result"
    }
   ],
   "source": [
    "geo_df_list"
   ]
  }
 ],
 "metadata": {
  "kernelspec": {
   "display_name": ".venv",
   "language": "python",
   "name": "python3"
  },
  "language_info": {
   "codemirror_mode": {
    "name": "ipython",
    "version": 3
   },
   "file_extension": ".py",
   "mimetype": "text/x-python",
   "name": "python",
   "nbconvert_exporter": "python",
   "pygments_lexer": "ipython3",
   "version": "3.12.5"
  }
 },
 "nbformat": 4,
 "nbformat_minor": 2
}
